{
 "cells": [
  {
   "cell_type": "markdown",
   "id": "292aa68d-3c55-4719-816f-9cab7779478a",
   "metadata": {},
   "source": [
    "### 21068021_Phan Nguyễn Khôi Nguyên"
   ]
  },
  {
   "cell_type": "markdown",
   "id": "1037cc0f-a4a8-41d7-a042-6ba2bc0faf2e",
   "metadata": {},
   "source": [
    "### Đọc dữ liệu"
   ]
  },
  {
   "cell_type": "code",
   "execution_count": 23,
   "id": "0fc99898-b9db-438d-b2da-688160cb977e",
   "metadata": {},
   "outputs": [],
   "source": [
    "import numpy as np\n",
    "import pandas as pd\n",
    "import matplotlib.pyplot as plt\n",
    "import seaborn as sns"
   ]
  },
  {
   "cell_type": "code",
   "execution_count": 4,
   "id": "db9c15ac-114b-406f-8095-a54609491ad5",
   "metadata": {},
   "outputs": [],
   "source": [
    "data = pd.read_csv(r\"D:\\TKMT_T.Ngọc\\21068021_Phan Nguyễn Khôi Nguyên_25-2-2024\\loan_data.csv\");\n",
    "df = pd.DataFrame(data)"
   ]
  },
  {
   "cell_type": "markdown",
   "id": "2eb086d9-e19f-4f24-9590-1b7637fdc731",
   "metadata": {},
   "source": [
    "### Hiển thị 5 dòng dữ liệu đầu tiên"
   ]
  },
  {
   "cell_type": "code",
   "execution_count": 28,
   "id": "ff59b491-ec21-4b44-a3a8-4e20b4cdc326",
   "metadata": {},
   "outputs": [
    {
     "name": "stdout",
     "output_type": "stream",
     "text": [
      "Hiển thị 5 dòng dữ liệu đầu tiên \n",
      "\n"
     ]
    },
    {
     "data": {
      "text/html": [
       "<div>\n",
       "<style scoped>\n",
       "    .dataframe tbody tr th:only-of-type {\n",
       "        vertical-align: middle;\n",
       "    }\n",
       "\n",
       "    .dataframe tbody tr th {\n",
       "        vertical-align: top;\n",
       "    }\n",
       "\n",
       "    .dataframe thead th {\n",
       "        text-align: right;\n",
       "    }\n",
       "</style>\n",
       "<table border=\"1\" class=\"dataframe\">\n",
       "  <thead>\n",
       "    <tr style=\"text-align: right;\">\n",
       "      <th></th>\n",
       "      <th>Loan_ID</th>\n",
       "      <th>Gender</th>\n",
       "      <th>Married</th>\n",
       "      <th>Dependents</th>\n",
       "      <th>Education</th>\n",
       "      <th>Self_Employed</th>\n",
       "      <th>ApplicantIncome</th>\n",
       "      <th>CoapplicantIncome</th>\n",
       "      <th>LoanAmount</th>\n",
       "      <th>Loan_Amount_Term</th>\n",
       "      <th>Credit_History</th>\n",
       "      <th>Property_Area</th>\n",
       "      <th>Loan_Status</th>\n",
       "    </tr>\n",
       "  </thead>\n",
       "  <tbody>\n",
       "    <tr>\n",
       "      <th>0</th>\n",
       "      <td>LP001003</td>\n",
       "      <td>Male</td>\n",
       "      <td>Yes</td>\n",
       "      <td>1</td>\n",
       "      <td>Graduate</td>\n",
       "      <td>No</td>\n",
       "      <td>4583</td>\n",
       "      <td>1508.0</td>\n",
       "      <td>128.0</td>\n",
       "      <td>360.0</td>\n",
       "      <td>1.0</td>\n",
       "      <td>Rural</td>\n",
       "      <td>N</td>\n",
       "    </tr>\n",
       "    <tr>\n",
       "      <th>1</th>\n",
       "      <td>LP001005</td>\n",
       "      <td>Male</td>\n",
       "      <td>Yes</td>\n",
       "      <td>0</td>\n",
       "      <td>Graduate</td>\n",
       "      <td>Yes</td>\n",
       "      <td>3000</td>\n",
       "      <td>0.0</td>\n",
       "      <td>66.0</td>\n",
       "      <td>360.0</td>\n",
       "      <td>1.0</td>\n",
       "      <td>Urban</td>\n",
       "      <td>Y</td>\n",
       "    </tr>\n",
       "    <tr>\n",
       "      <th>2</th>\n",
       "      <td>LP001006</td>\n",
       "      <td>Male</td>\n",
       "      <td>Yes</td>\n",
       "      <td>0</td>\n",
       "      <td>Not Graduate</td>\n",
       "      <td>No</td>\n",
       "      <td>2583</td>\n",
       "      <td>2358.0</td>\n",
       "      <td>120.0</td>\n",
       "      <td>360.0</td>\n",
       "      <td>1.0</td>\n",
       "      <td>Urban</td>\n",
       "      <td>Y</td>\n",
       "    </tr>\n",
       "    <tr>\n",
       "      <th>3</th>\n",
       "      <td>LP001008</td>\n",
       "      <td>Male</td>\n",
       "      <td>No</td>\n",
       "      <td>0</td>\n",
       "      <td>Graduate</td>\n",
       "      <td>No</td>\n",
       "      <td>6000</td>\n",
       "      <td>0.0</td>\n",
       "      <td>141.0</td>\n",
       "      <td>360.0</td>\n",
       "      <td>1.0</td>\n",
       "      <td>Urban</td>\n",
       "      <td>Y</td>\n",
       "    </tr>\n",
       "    <tr>\n",
       "      <th>4</th>\n",
       "      <td>LP001013</td>\n",
       "      <td>Male</td>\n",
       "      <td>Yes</td>\n",
       "      <td>0</td>\n",
       "      <td>Not Graduate</td>\n",
       "      <td>No</td>\n",
       "      <td>2333</td>\n",
       "      <td>1516.0</td>\n",
       "      <td>95.0</td>\n",
       "      <td>360.0</td>\n",
       "      <td>1.0</td>\n",
       "      <td>Urban</td>\n",
       "      <td>Y</td>\n",
       "    </tr>\n",
       "    <tr>\n",
       "      <th>5</th>\n",
       "      <td>LP001024</td>\n",
       "      <td>Male</td>\n",
       "      <td>Yes</td>\n",
       "      <td>2</td>\n",
       "      <td>Graduate</td>\n",
       "      <td>No</td>\n",
       "      <td>3200</td>\n",
       "      <td>700.0</td>\n",
       "      <td>70.0</td>\n",
       "      <td>360.0</td>\n",
       "      <td>1.0</td>\n",
       "      <td>Urban</td>\n",
       "      <td>Y</td>\n",
       "    </tr>\n",
       "    <tr>\n",
       "      <th>6</th>\n",
       "      <td>LP001027</td>\n",
       "      <td>Male</td>\n",
       "      <td>Yes</td>\n",
       "      <td>2</td>\n",
       "      <td>Graduate</td>\n",
       "      <td>NaN</td>\n",
       "      <td>2500</td>\n",
       "      <td>1840.0</td>\n",
       "      <td>109.0</td>\n",
       "      <td>360.0</td>\n",
       "      <td>1.0</td>\n",
       "      <td>Urban</td>\n",
       "      <td>Y</td>\n",
       "    </tr>\n",
       "    <tr>\n",
       "      <th>7</th>\n",
       "      <td>LP001029</td>\n",
       "      <td>Male</td>\n",
       "      <td>No</td>\n",
       "      <td>0</td>\n",
       "      <td>Graduate</td>\n",
       "      <td>No</td>\n",
       "      <td>1853</td>\n",
       "      <td>2840.0</td>\n",
       "      <td>114.0</td>\n",
       "      <td>360.0</td>\n",
       "      <td>1.0</td>\n",
       "      <td>Rural</td>\n",
       "      <td>N</td>\n",
       "    </tr>\n",
       "    <tr>\n",
       "      <th>8</th>\n",
       "      <td>LP001030</td>\n",
       "      <td>Male</td>\n",
       "      <td>Yes</td>\n",
       "      <td>2</td>\n",
       "      <td>Graduate</td>\n",
       "      <td>No</td>\n",
       "      <td>1299</td>\n",
       "      <td>1086.0</td>\n",
       "      <td>17.0</td>\n",
       "      <td>120.0</td>\n",
       "      <td>1.0</td>\n",
       "      <td>Urban</td>\n",
       "      <td>Y</td>\n",
       "    </tr>\n",
       "    <tr>\n",
       "      <th>9</th>\n",
       "      <td>LP001032</td>\n",
       "      <td>Male</td>\n",
       "      <td>No</td>\n",
       "      <td>0</td>\n",
       "      <td>Graduate</td>\n",
       "      <td>No</td>\n",
       "      <td>4950</td>\n",
       "      <td>0.0</td>\n",
       "      <td>125.0</td>\n",
       "      <td>360.0</td>\n",
       "      <td>1.0</td>\n",
       "      <td>Urban</td>\n",
       "      <td>Y</td>\n",
       "    </tr>\n",
       "  </tbody>\n",
       "</table>\n",
       "</div>"
      ],
      "text/plain": [
       "    Loan_ID Gender Married Dependents     Education Self_Employed  \\\n",
       "0  LP001003   Male     Yes          1      Graduate            No   \n",
       "1  LP001005   Male     Yes          0      Graduate           Yes   \n",
       "2  LP001006   Male     Yes          0  Not Graduate            No   \n",
       "3  LP001008   Male      No          0      Graduate            No   \n",
       "4  LP001013   Male     Yes          0  Not Graduate            No   \n",
       "5  LP001024   Male     Yes          2      Graduate            No   \n",
       "6  LP001027   Male     Yes          2      Graduate           NaN   \n",
       "7  LP001029   Male      No          0      Graduate            No   \n",
       "8  LP001030   Male     Yes          2      Graduate            No   \n",
       "9  LP001032   Male      No          0      Graduate            No   \n",
       "\n",
       "   ApplicantIncome  CoapplicantIncome  LoanAmount  Loan_Amount_Term  \\\n",
       "0             4583             1508.0       128.0             360.0   \n",
       "1             3000                0.0        66.0             360.0   \n",
       "2             2583             2358.0       120.0             360.0   \n",
       "3             6000                0.0       141.0             360.0   \n",
       "4             2333             1516.0        95.0             360.0   \n",
       "5             3200              700.0        70.0             360.0   \n",
       "6             2500             1840.0       109.0             360.0   \n",
       "7             1853             2840.0       114.0             360.0   \n",
       "8             1299             1086.0        17.0             120.0   \n",
       "9             4950                0.0       125.0             360.0   \n",
       "\n",
       "   Credit_History Property_Area Loan_Status  \n",
       "0             1.0         Rural           N  \n",
       "1             1.0         Urban           Y  \n",
       "2             1.0         Urban           Y  \n",
       "3             1.0         Urban           Y  \n",
       "4             1.0         Urban           Y  \n",
       "5             1.0         Urban           Y  \n",
       "6             1.0         Urban           Y  \n",
       "7             1.0         Rural           N  \n",
       "8             1.0         Urban           Y  \n",
       "9             1.0         Urban           Y  "
      ]
     },
     "execution_count": 28,
     "metadata": {},
     "output_type": "execute_result"
    }
   ],
   "source": [
    "print(\"Hiển thị 5 dòng dữ liệu đầu tiên \\n\")\n",
    "df.head(10)"
   ]
  },
  {
   "cell_type": "markdown",
   "id": "f764c42b-8054-4531-b8fe-2dc105298870",
   "metadata": {},
   "source": [
    "### Kích thước dữ liệu"
   ]
  },
  {
   "cell_type": "code",
   "execution_count": 27,
   "id": "b582ea3f-f7b8-4a28-94ec-5bb954310edf",
   "metadata": {},
   "outputs": [
    {
     "name": "stdout",
     "output_type": "stream",
     "text": [
      "Kích thước dữ liệu\n"
     ]
    },
    {
     "data": {
      "text/plain": [
       "(381, 13)"
      ]
     },
     "execution_count": 27,
     "metadata": {},
     "output_type": "execute_result"
    }
   ],
   "source": [
    "print(\"Kích thước dữ liệu\")\n",
    "df.shape"
   ]
  },
  {
   "cell_type": "markdown",
   "id": "66efb389-291a-45ef-9cc1-91211ac29d3f",
   "metadata": {},
   "source": [
    "### Hiển thị thông tin các cột"
   ]
  },
  {
   "cell_type": "code",
   "execution_count": 26,
   "id": "003d1ed2-77b0-49d8-8c62-b88b02eabca9",
   "metadata": {},
   "outputs": [
    {
     "name": "stdout",
     "output_type": "stream",
     "text": [
      "Hiển thị thông tin các cột \n",
      "\n",
      "<class 'pandas.core.frame.DataFrame'>\n",
      "RangeIndex: 381 entries, 0 to 380\n",
      "Data columns (total 13 columns):\n",
      " #   Column             Non-Null Count  Dtype  \n",
      "---  ------             --------------  -----  \n",
      " 0   Loan_ID            381 non-null    object \n",
      " 1   Gender             376 non-null    object \n",
      " 2   Married            381 non-null    object \n",
      " 3   Dependents         373 non-null    object \n",
      " 4   Education          381 non-null    object \n",
      " 5   Self_Employed      360 non-null    object \n",
      " 6   ApplicantIncome    381 non-null    int64  \n",
      " 7   CoapplicantIncome  381 non-null    float64\n",
      " 8   LoanAmount         381 non-null    float64\n",
      " 9   Loan_Amount_Term   370 non-null    float64\n",
      " 10  Credit_History     351 non-null    float64\n",
      " 11  Property_Area      381 non-null    object \n",
      " 12  Loan_Status        381 non-null    object \n",
      "dtypes: float64(4), int64(1), object(8)\n",
      "memory usage: 38.8+ KB\n",
      "None\n"
     ]
    }
   ],
   "source": [
    "print(\"Hiển thị thông tin các cột \\n\")\n",
    "print(df.info())"
   ]
  },
  {
   "cell_type": "markdown",
   "id": "5d2ba8da-0f48-4221-a7aa-bc76249cfc1d",
   "metadata": {},
   "source": [
    "### Kiểm tra giá trị null và xử lý null"
   ]
  },
  {
   "cell_type": "code",
   "execution_count": 33,
   "id": "23fe5242-e759-46f6-9779-8fefe7b96a5b",
   "metadata": {},
   "outputs": [
    {
     "name": "stdout",
     "output_type": "stream",
     "text": [
      "Kiểm tra giá trị null\n",
      "Loan_ID              0\n",
      "Gender               0\n",
      "Married              0\n",
      "Dependents           0\n",
      "Education            0\n",
      "Self_Employed        0\n",
      "ApplicantIncome      0\n",
      "CoapplicantIncome    0\n",
      "LoanAmount           0\n",
      "Loan_Amount_Term     0\n",
      "Credit_History       0\n",
      "Property_Area        0\n",
      "Loan_Status          0\n",
      "dtype: int64\n",
      "Xử lí giá trị null\n"
     ]
    }
   ],
   "source": [
    "print(\"Kiểm tra giá trị null\")\n",
    "print(df.isnull().sum())\n",
    "print(\"Xử lí giá trị null\")\n",
    "# Điền giá trị trung bình vào các cột có dữ liệu null\n",
    "df['Gender'].fillna(df['Gender'].mode()[0], inplace=True)\n",
    "df['Dependents'].fillna(df['Dependents'].mode()[0], inplace=True)\n",
    "df['Self_Employed'].fillna(df['Self_Employed'].mode()[0], inplace=True)\n",
    "df['Loan_Amount_Term'].fillna(df['Loan_Amount_Term'].median(), inplace=True)\n",
    "df['Credit_History'].fillna(df['Credit_History'].mode()[0], inplace=True)     "
   ]
  },
  {
   "cell_type": "markdown",
   "id": "6ab1e37d-8c58-4198-beb9-4d1d0e9b8bc3",
   "metadata": {},
   "source": [
    "### Mô tả dữ liệu dùng các đại lượng thống kê mô tả"
   ]
  },
  {
   "cell_type": "code",
   "execution_count": 23,
   "id": "5c036017-0bc7-4560-a79a-af1d8f373e70",
   "metadata": {},
   "outputs": [
    {
     "name": "stdout",
     "output_type": "stream",
     "text": [
      "Mô tả dữ liệu dùng các đại lượng thống kê mô tả\n"
     ]
    },
    {
     "data": {
      "text/html": [
       "<div>\n",
       "<style scoped>\n",
       "    .dataframe tbody tr th:only-of-type {\n",
       "        vertical-align: middle;\n",
       "    }\n",
       "\n",
       "    .dataframe tbody tr th {\n",
       "        vertical-align: top;\n",
       "    }\n",
       "\n",
       "    .dataframe thead th {\n",
       "        text-align: right;\n",
       "    }\n",
       "</style>\n",
       "<table border=\"1\" class=\"dataframe\">\n",
       "  <thead>\n",
       "    <tr style=\"text-align: right;\">\n",
       "      <th></th>\n",
       "      <th>ApplicantIncome</th>\n",
       "      <th>CoapplicantIncome</th>\n",
       "      <th>LoanAmount</th>\n",
       "      <th>Loan_Amount_Term</th>\n",
       "      <th>Credit_History</th>\n",
       "    </tr>\n",
       "  </thead>\n",
       "  <tbody>\n",
       "    <tr>\n",
       "      <th>count</th>\n",
       "      <td>381.000000</td>\n",
       "      <td>381.000000</td>\n",
       "      <td>381.000000</td>\n",
       "      <td>370.000000</td>\n",
       "      <td>351.000000</td>\n",
       "    </tr>\n",
       "    <tr>\n",
       "      <th>mean</th>\n",
       "      <td>3579.845144</td>\n",
       "      <td>1277.275381</td>\n",
       "      <td>104.986877</td>\n",
       "      <td>340.864865</td>\n",
       "      <td>0.837607</td>\n",
       "    </tr>\n",
       "    <tr>\n",
       "      <th>std</th>\n",
       "      <td>1419.813818</td>\n",
       "      <td>2340.818114</td>\n",
       "      <td>28.358464</td>\n",
       "      <td>68.549257</td>\n",
       "      <td>0.369338</td>\n",
       "    </tr>\n",
       "    <tr>\n",
       "      <th>min</th>\n",
       "      <td>150.000000</td>\n",
       "      <td>0.000000</td>\n",
       "      <td>9.000000</td>\n",
       "      <td>12.000000</td>\n",
       "      <td>0.000000</td>\n",
       "    </tr>\n",
       "    <tr>\n",
       "      <th>25%</th>\n",
       "      <td>2600.000000</td>\n",
       "      <td>0.000000</td>\n",
       "      <td>90.000000</td>\n",
       "      <td>360.000000</td>\n",
       "      <td>1.000000</td>\n",
       "    </tr>\n",
       "    <tr>\n",
       "      <th>50%</th>\n",
       "      <td>3333.000000</td>\n",
       "      <td>983.000000</td>\n",
       "      <td>110.000000</td>\n",
       "      <td>360.000000</td>\n",
       "      <td>1.000000</td>\n",
       "    </tr>\n",
       "    <tr>\n",
       "      <th>75%</th>\n",
       "      <td>4288.000000</td>\n",
       "      <td>2016.000000</td>\n",
       "      <td>127.000000</td>\n",
       "      <td>360.000000</td>\n",
       "      <td>1.000000</td>\n",
       "    </tr>\n",
       "    <tr>\n",
       "      <th>max</th>\n",
       "      <td>9703.000000</td>\n",
       "      <td>33837.000000</td>\n",
       "      <td>150.000000</td>\n",
       "      <td>480.000000</td>\n",
       "      <td>1.000000</td>\n",
       "    </tr>\n",
       "  </tbody>\n",
       "</table>\n",
       "</div>"
      ],
      "text/plain": [
       "       ApplicantIncome  CoapplicantIncome  LoanAmount  Loan_Amount_Term  \\\n",
       "count       381.000000         381.000000  381.000000        370.000000   \n",
       "mean       3579.845144        1277.275381  104.986877        340.864865   \n",
       "std        1419.813818        2340.818114   28.358464         68.549257   \n",
       "min         150.000000           0.000000    9.000000         12.000000   \n",
       "25%        2600.000000           0.000000   90.000000        360.000000   \n",
       "50%        3333.000000         983.000000  110.000000        360.000000   \n",
       "75%        4288.000000        2016.000000  127.000000        360.000000   \n",
       "max        9703.000000       33837.000000  150.000000        480.000000   \n",
       "\n",
       "       Credit_History  \n",
       "count      351.000000  \n",
       "mean         0.837607  \n",
       "std          0.369338  \n",
       "min          0.000000  \n",
       "25%          1.000000  \n",
       "50%          1.000000  \n",
       "75%          1.000000  \n",
       "max          1.000000  "
      ]
     },
     "execution_count": 23,
     "metadata": {},
     "output_type": "execute_result"
    }
   ],
   "source": [
    "print(\"Mô tả dữ liệu dùng các đại lượng thống kê mô tả\")\n",
    "df.describe()"
   ]
  },
  {
   "cell_type": "markdown",
   "id": "7daae7fb-ebca-443f-9754-89ee40320885",
   "metadata": {},
   "source": [
    "## Mô tả sơ lược"
   ]
  },
  {
   "cell_type": "markdown",
   "id": "be942c0b-e086-471c-81c5-e565049abe93",
   "metadata": {},
   "source": [
    "### Biến định lượng:\n",
    "* ApplicantIncome\n",
    "* CoapplicantIncome\n",
    "* LoanAmount\n",
    "* Loan_Amount_Term\n",
    "* Credit_History\n",
    "### Biến phân loại:\n",
    "* Loan_ID\n",
    "* Gender\n",
    "* Married\n",
    "* Dependents\n",
    "* Education\n",
    "* Self_Employed\n",
    "* Property_Area\n",
    "* Loan_Status"
   ]
  },
  {
   "cell_type": "raw",
   "id": "56e6c75d-80af-4a18-8aac-7456092c5dfa",
   "metadata": {},
   "source": [
    "Bảng này được sử dụng để quản lý thông tin đăng ký vay vốn của các cá nhân. \n",
    "\n",
    "Loan_ID: Mã số duy nhất cho mỗi đơn đăng ký vay, có thể được sử dụng để xác định và theo dõi từng đơn vay riêng lẻ.\n",
    "\n",
    "Gender: Thông tin về giới tính của người đăng ký vay, có thể được sử dụng để phân tích mối quan hệ giữa giới tính và khả năng vay vốn.\n",
    "\n",
    "Married: Trạng thái hôn nhân của người đăng ký, có thể làm cơ sở cho quyết định về khả năng trả nợ và mức độ ổn định tài chính.\n",
    "\n",
    "Dependents: Số người phụ thuộc của người đăng ký, có thể ảnh hưởng đến khả năng trả nợ.\n",
    "\n",
    "Education: Trình độ học vấn của người đăng ký, một yếu tố quan trọng trong việc đánh giá khả năng trả nợ và nhu cầu vay vốn.\n",
    "\n",
    "Self_Employed: Thông tin về việc làm tự do của người đăng ký, có thể ảnh hưởng đến khả năng trả nợ và mức độ ổn định tài chính.\n",
    "\n",
    "ApplicantIncome: Thu nhập hàng tháng của người đăng ký, một chỉ số quan trọng để đánh giá khả năng trả nợ.\n",
    "\n",
    "CoapplicantIncome: Thu nhập hàng tháng của người đồng ứng cùng với người đăng ký, có thể cung cấp thêm thông tin về khả năng trả nợ của hộ gia đình.\n",
    "\n",
    "LoanAmount: Số tiền vay mong muốn.\n",
    "\n",
    "Loan_Amount_Term: Thời hạn vay mong muốn.\n",
    "\n",
    "Credit_History: Lịch sử tín dụng của người đăng ký, một yếu tố quan trọng trong quá trình duyệt vay.\n",
    "\n",
    "Property_Area: Khu vực địa lý nơi tài sản của người đăng ký đặt, có thể ảnh hưởng đến điều kiện vay vốn và mức độ rủi ro.\n",
    "\n",
    "Loan_Status: Tình trạng của đơn đăng ký vay (được chấp nhận hoặc từ chối), là kết quả quan trọng của quy trình duyệt vay.\n",
    "\n",
    "==> Bảng này cung cấp thông tin chi tiết và đa dạng về các đơn đăng ký vay, giúp ngân hàng hoặc tổ chức tài chính đánh giá và quyết định về việc cấp vay."
   ]
  },
  {
   "cell_type": "markdown",
   "id": "b1c2f307-5ad7-4507-b3fe-fd37749fc759",
   "metadata": {},
   "source": [
    "### Điếm số lượng biến định lượng và biến phân loại"
   ]
  },
  {
   "cell_type": "code",
   "execution_count": 19,
   "id": "324acb75-faa0-4d52-bcbe-db421e76f8ce",
   "metadata": {},
   "outputs": [
    {
     "name": "stdout",
     "output_type": "stream",
     "text": [
      "Số lượng biến định lượng: 5\n",
      "Số lượng biến phân loại: 8\n"
     ]
    }
   ],
   "source": [
    "# Đếm số lượng biến định lượng và biến phân loại\n",
    "numeric_vars = len(df.select_dtypes(include=['int', 'float']).columns)\n",
    "#sử dụng select_dtypes để lựa chọn các cột có kiểu dữ liệu là 'int' (số nguyên) hoặc 'float' (số thực).\n",
    "#.colunm để lựa chọn các cột và len là đếm (độ dài).\n",
    "categorical_vars = len(df.select_dtypes(include=['object', 'category']).columns)\n",
    "#lựa chọn các cột có kiểu dữ liệu là 'object' (đối tượng) hoặc 'category' (phân loại).\n",
    "print(\"Số lượng biến định lượng:\", numeric_vars)\n",
    "print(\"Số lượng biến phân loại:\", categorical_vars)\n"
   ]
  },
  {
   "cell_type": "markdown",
   "id": "189cd2b8-d569-4d89-8808-4e950d8aa7d5",
   "metadata": {},
   "source": [
    "### Vẽ biểu đồ so sánh giới tính"
   ]
  },
  {
   "cell_type": "code",
   "execution_count": 24,
   "id": "768f67cb-0ce1-4965-a0d1-8d4c6b4b0996",
   "metadata": {},
   "outputs": [
    {
     "name": "stdout",
     "output_type": "stream",
     "text": [
      "Gender\n",
      "Male      291\n",
      "Female     85\n",
      "Name: count, dtype: int64\n"
     ]
    },
    {
     "data": {
      "image/png": "[encoded data removed]",
      "text/plain": [
       "<Figure size 640x480 with 1 Axes>"
      ]
     },
     "metadata": {},
     "output_type": "display_data"
    }
   ],
   "source": [
    "# Đếm số lượng xuất hiện của mỗi giới tính\n",
    "gender_counts = df['Gender'].value_counts() #Đếm số lượng giới tính của nam và nữ\n",
    "print(gender_counts)\n",
    "# Vẽ biểu đồ\n",
    "plt.bar(gender_counts.index, gender_counts.values, color=['blue', 'orange'])\n",
    "plt.title('GIỚI TÍNH XUẤT HIỆN NHIỀU HƠN \\n')\n",
    "plt.xlabel('Gender')\n",
    "plt.ylabel('Count')\n",
    "plt.show()"
   ]
  },
  {
   "cell_type": "markdown",
   "id": "508b92f9-9235-4476-b4ad-649a00b69f25",
   "metadata": {},
   "source": [
    "### Vẽ biểu đồ boxplot dựa trên CoapplicantIncome"
   ]
  },
  {
   "cell_type": "code",
   "execution_count": 26,
   "id": "ae14a00b-51a0-4ffe-9764-63db2e752f99",
   "metadata": {},
   "outputs": [
    {
     "data": {
      "image/png": "[encoded data removed]",
      "text/plain": [
       "<Figure size 800x600 with 1 Axes>"
      ]
     },
     "metadata": {},
     "output_type": "display_data"
    }
   ],
   "source": [
    "# Vẽ biểu đồ boxplot\n",
    "plt.figure(figsize=(8, 6))\n",
    "sns.boxplot(x='CoapplicantIncome', data=df)\n",
    "plt.xlabel('CoapplicantIncome')\n",
    "plt.show()"
   ]
  },
  {
   "cell_type": "markdown",
   "id": "c7e70e56-7ae8-4b67-add1-b984f6f893a3",
   "metadata": {},
   "source": [
    "### Nhận xét: \n",
    "* Giá trị trung bình: Đường gạch ngang trong hộp box biểu thị giá trị trung bình (trung vị) của CoapplicantIncome. Nó giúp chúng ta biết được thu nhập trung bình của những người này.\n",
    "* Phần lớn dữ liệu CoapplicantIncome tập trung ở mức thu nhập thấp và trung bình.\n",
    "* Có một số trường hợp ngoại lệ ở mức thu nhập cao hơn, có thể là các trường hợp đặc biệt hoặc sai sót trong dữ liệu.\n",
    "* Biến động của thu nhập giữa các trường hợp lớn."
   ]
  },
  {
   "cell_type": "markdown",
   "id": "d03af50b-1a0c-4ca8-99a6-68ff7b81ccfb",
   "metadata": {},
   "source": [
    "### Vẽ biểu đồ  LoanAmount"
   ]
  },
  {
   "cell_type": "code",
   "execution_count": 61,
   "id": "945c4dbd-dc40-45d3-b862-5a94254fe1d2",
   "metadata": {},
   "outputs": [
    {
     "name": "stdout",
     "output_type": "stream",
     "text": [
      "0      128.0\n",
      "1       66.0\n",
      "2      120.0\n",
      "3      141.0\n",
      "4       95.0\n",
      "       ...  \n",
      "376    128.0\n",
      "377    108.0\n",
      "378     71.0\n",
      "379     40.0\n",
      "380    133.0\n",
      "Name: LoanAmount, Length: 381, dtype: float64\n"
     ]
    },
    {
     "data": {
      "image/png": "[encoded data removed]",
      "text/plain": [
       "<Figure size 640x480 with 1 Axes>"
      ]
     },
     "metadata": {},
     "output_type": "display_data"
    }
   ],
   "source": [
    "print(df[\"LoanAmount\"])\n",
    "\n",
    "plt.hist(df[\"LoanAmount\"], bins=14,edgecolor='black')\n",
    "plt.xlabel(\"LoanAmount\")\n",
    "plt.ylabel(\"Count\")\n",
    "plt.title(\"Biểu đồ LoanAMount\")\n",
    "# Đặt các giá trị trên trục y\n",
    "plt.yticks([0, 10, 20, 30, 40, 50, 60])\n",
    "plt.xticks([20,40,60,80,100,120,140])\n",
    "# Hiển thị biểu đồ\n",
    "plt.show()"
   ]
  },
  {
   "cell_type": "markdown",
   "id": "0a9599ca-d7cc-4248-98c0-bd57d53834a3",
   "metadata": {},
   "source": [
    "### Nhận xét\n",
    "* Đa số khoản vay có mức độ tập trung trong khoảng từ khoảng 80 đến 140.\r",
    "* \n",
    "Có một số khoản vay nhỏ có mức độ tập trung ở khoảng dưới 80\n",
    "* \r\n",
    "Cũng có một số ít khoản vay lớn, nhưng chúng rất hiếm."
   ]
  },
  {
   "cell_type": "markdown",
   "id": "2c4acc84-e775-4521-bc80-2cd5f0a1d0f2",
   "metadata": {},
   "source": [
    "### Vẽ biểu đồ Loan_Amount_Term"
   ]
  },
  {
   "cell_type": "code",
   "execution_count": 48,
   "id": "b327cd69-5955-4416-86d7-82db1af58b44",
   "metadata": {},
   "outputs": [
    {
     "data": {
      "image/png": "[encoded data removed]",
      "text/plain": [
       "<Figure size 640x480 with 1 Axes>"
      ]
     },
     "metadata": {},
     "output_type": "display_data"
    }
   ],
   "source": [
    "plt.hist(df[\"Loan_Amount_Term\"], bins=14,edgecolor='blue')\n",
    "plt.xlabel(\"Loan_Amount_Term\")\n",
    "plt.ylabel(\"Count\")\n",
    "plt.title(\"Biểu đồ Loan_Amount_Term\")\n",
    "# Đặt các giá trị trên trục y\n",
    "plt.yticks([0, 50, 100, 150, 200, 250, 300])\n",
    "plt.xticks([0,100,200,300,400,500])\n",
    "# Hiển thị biểu đồ\n",
    "plt.show()"
   ]
  },
  {
   "cell_type": "markdown",
   "id": "72813c28-e21e-4ee0-9ca5-300942915bd4",
   "metadata": {},
   "source": [
    "### Nhận xét\n",
    "* Đa số các khoản vay có thời hạn tập trung vào một khoảng hẹp, chủ yếu trong khoảng từ 300 đến 360 tháng.\n",
    "* \r\n",
    "Thiếu đồng đều: Có sự không đồng đều trong phân phối về thời hạn vay, với một số khoản vay có thời hạn ngắn hơn (dưới 100 tháng) và một số ít có thời hạn lớn hơn (trên 400 thánvay."
   ]
  },
  {
   "cell_type": "markdown",
   "id": "c3fbd961-ff75-4d6a-ac4a-1bbc290bb28b",
   "metadata": {},
   "source": [
    "### Vẽ biểu đồ Loan_Amount_Term"
   ]
  },
  {
   "cell_type": "code",
   "execution_count": 59,
   "id": "71f40ac6-e9b5-48af-99eb-c15295e4789c",
   "metadata": {},
   "outputs": [
    {
     "data": {
      "image/png": "[encoded data removed]",
      "text/plain": [
       "<Figure size 640x480 with 1 Axes>"
      ]
     },
     "metadata": {},
     "output_type": "display_data"
    }
   ],
   "source": [
    "# Vẽ biểu đồ KDE\n",
    "\n",
    "sns.kdeplot(df[\"Loan_Amount_Term\"], color='lightblue', fill=True)\n",
    "\n",
    "# Đặt nhãn và tiêu đề\n",
    "plt.xlabel(\"Loan Amount Term\")\n",
    "plt.ylabel(\"Density\")\n",
    "plt.title(\"Biểu đồ KDE của Loan Amount Term\")\n",
    "\n",
    "# Hiển thị biểu đồ\n",
    "plt.show()"
   ]
  },
  {
   "cell_type": "markdown",
   "id": "de1002ac-a7dc-4f6c-b3f8-44cbe94faa29",
   "metadata": {},
   "source": [
    "### Nhận xét:\n",
    "* Phân phối tập trung: Đỉnh của đường cong KDE tập trung chủ yếu ở một khoảng hẹp, chứng tỏ có một thời hạn vay phổ biến mà đa số khách hàng lựa chọn.\n",
    "* Phân phối không đồng đều: Dữ liệu không phân phối đồng đều trên toàn bộ phạm vi, có một số khoản vay có thời hạn rất ngắn hoặc rất dài, nhưng chúng khá hiếm."
   ]
  }
 ],
 "metadata": {
  "kernelspec": {
   "display_name": "Python 3 (ipykernel)",
   "language": "python",
   "name": "python3"
  },
  "language_info": {
   "codemirror_mode": {
    "name": "ipython",
    "version": 3
   },
   "file_extension": ".py",
   "mimetype": "text/x-python",
   "name": "python",
   "nbconvert_exporter": "python",
   "pygments_lexer": "ipython3",
   "version": "3.8.5"
  }
 },
 "nbformat": 4,
 "nbformat_minor": 5
}
