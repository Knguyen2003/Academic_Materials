{
 "cells": [
  {
   "cell_type": "markdown",
   "metadata": {},
   "source": [
    "# Phan Nguyễn Khôi Nguyên - 21068021 "
   ]
  },
  {
   "cell_type": "markdown",
   "metadata": {},
   "source": [
    "# List Comprehension"
   ]
  },
  {
   "cell_type": "code",
   "execution_count": 2,
   "metadata": {},
   "outputs": [
    {
     "name": "stdout",
     "output_type": "stream",
     "text": [
      "['apple', 'banana', 'mango']\n"
     ]
    }
   ],
   "source": [
    "fruits = [\"apple\", \"banana\", \"cherry\", \"kiwi\", \"mango\"] #tạo một danh sách có tên là fruits\n",
    "newlist = []  #Tạo một mảng mới có tên là newList để lưu trữ các phần tử của fruits mà có chứa ký tự \"a\".\n",
    "\n",
    "for x in fruits:#Bắt đầu vòng lặp for,biến x lần lượt nhận giá trị của từng phần tử trong danh sách fruits\n",
    "  if \"a\" in x: #Nếu ký tự a có trong x\n",
    "    newlist.append(x) #Thêm x vào mảng newList ở cuối mảng\n",
    "\n",
    "print(newlist)  #hiển thị mảng newList ra màn hình"
   ]
  },
  {
   "cell_type": "code",
   "execution_count": 3,
   "metadata": {},
   "outputs": [
    {
     "name": "stdout",
     "output_type": "stream",
     "text": [
      "['apple', 'banana', 'mango']\n"
     ]
    }
   ],
   "source": [
    "#Tương tự như trên nhưng với đoạn code đơn giản hơn\n",
    "fruits = [\"apple\", \"banana\", \"cherry\", \"kiwi\", \"mango\"]\n",
    "\n",
    "newlist = [x for x in fruits if \"a\" in x]\n",
    "#Tạo danh sách mới newlist. Biểu thức này lặp qua mỗi phần tử x trong danh \n",
    "#sách fruits và thêm x vào newlist nếu \"a\" xuất hiện trong x.\n",
    "print(newlist)  #In ra danh sách mới "
   ]
  },
  {
   "cell_type": "markdown",
   "metadata": {},
   "source": [
    "# Cú pháp :"
   ]
  },
  {
   "cell_type": "markdown",
   "metadata": {},
   "source": [
    "          newlist = [expression for item in iterable if condition == True]"
   ]
  },
  {
   "cell_type": "markdown",
   "metadata": {},
   "source": [
    "==>Giá trị trả về là một danh sách mới, giữ nguyên danh sách cũ"
   ]
  },
  {
   "cell_type": "markdown",
   "metadata": {},
   "source": [
    "expression: Biểu thức được đánh giá cho mỗi phần tử item trong iterable. Giá trị của biểu thức này sẽ được thêm vào danh sách mới."
   ]
  },
  {
   "cell_type": "markdown",
   "metadata": {},
   "source": [
    "item: Biến lặp, đại diện cho từng phần tử trong iterable."
   ]
  },
  {
   "cell_type": "markdown",
   "metadata": {},
   "source": [
    "iterable: Đối tượng có thể lặp qua, chẳng hạn như một danh sách, tuple, hoặc chuỗi."
   ]
  },
  {
   "cell_type": "markdown",
   "metadata": {},
   "source": [
    "if condition == True: (Tùy chọn) Điều kiện để lọc các phần tử. Chỉ khi điều kiện này đúng, phần tử mới sẽ được thêm vào danh sách."
   ]
  },
  {
   "cell_type": "code",
   "execution_count": 5,
   "metadata": {},
   "outputs": [
    {
     "name": "stdout",
     "output_type": "stream",
     "text": [
      "['banana', 'cherry', 'kiwi', 'mango']\n"
     ]
    }
   ],
   "source": [
    "fruits = [\"apple\", \"banana\", \"cherry\", \"kiwi\", \"mango\"]\n",
    "newlist = [x for x in fruits if x != \"apple\"] \n",
    "#Mảng newlist chỉ chấp nhận trái cây không là \"apple\"\n",
    "print(newlist)"
   ]
  },
  {
   "cell_type": "code",
   "execution_count": 2,
   "metadata": {},
   "outputs": [
    {
     "name": "stdout",
     "output_type": "stream",
     "text": [
      "['apple', 'banana', 'cherry', 'kiwi', 'mango']\n"
     ]
    }
   ],
   "source": [
    "fruits = [\"apple\", \"banana\", \"cherry\", \"kiwi\", \"mango\"]\n",
    "newlist = [x for x in fruits] \n",
    "#Mảng newlist chứa toàn bộ các phần tử của fruits\n",
    "print(newlist)"
   ]
  },
  {
   "cell_type": "markdown",
   "metadata": {},
   "source": [
    "# Iterable"
   ]
  },
  {
   "cell_type": "code",
   "execution_count": 4,
   "metadata": {},
   "outputs": [
    {
     "name": "stdout",
     "output_type": "stream",
     "text": [
      "[0, 1, 2, 3, 4, 5, 6, 7, 8, 9]\n"
     ]
    }
   ],
   "source": [
    "newlist = [x for x in range(10)]\n",
    "#range() được sử dụng để tạo ra một dãy số.\n",
    "#Hàm này có thể được sử dụng với một, hai hoặc ba tham số\n",
    "print(newlist)"
   ]
  },
  {
   "cell_type": "code",
   "execution_count": 9,
   "metadata": {},
   "outputs": [
    {
     "name": "stdout",
     "output_type": "stream",
     "text": [
      "[0, 1, 2, 3, 4]\n"
     ]
    }
   ],
   "source": [
    "newlist = [x for x in range(10) if x < 5]\n",
    "#range(5): Tạo ra một dãy số từ 0 đến 4 (không bao gồm 5). \n",
    "#Lặp qua từng phần tử trong dãy số, và chỉ những phần tử thỏa mãn điều kiện if x < 5 mới được thêm vào danh sách mới.\n",
    "print(newlist)"
   ]
  },
  {
   "cell_type": "markdown",
   "metadata": {},
   "source": [
    "# Expression"
   ]
  },
  {
   "cell_type": "code",
   "execution_count": 34,
   "metadata": {},
   "outputs": [
    {
     "name": "stdout",
     "output_type": "stream",
     "text": [
      "['APPLE', 'BANANA', 'CHERRY', 'KIWI', 'MANGO']\n"
     ]
    }
   ],
   "source": [
    "newlist = [x.upper() for x in fruits] \n",
    "#duyệt qua toàn bộ danh sách fruits và đặt giá trong danh sách mới thành chữ hoa \n",
    "print(newlist)"
   ]
  },
  {
   "cell_type": "code",
   "execution_count": 35,
   "metadata": {},
   "outputs": [
    {
     "name": "stdout",
     "output_type": "stream",
     "text": [
      "['hello', 'hello', 'hello', 'hello', 'hello']\n"
     ]
    }
   ],
   "source": [
    "newlist = ['hello' for x in fruits]\n",
    "#duyệt qua toàn bộ danh sách fruits và đặt giá trong danh sách mới là \"hello\"\n",
    "print(newlist)"
   ]
  },
  {
   "cell_type": "code",
   "execution_count": 49,
   "metadata": {},
   "outputs": [
    {
     "name": "stdout",
     "output_type": "stream",
     "text": [
      "Danh sách cũ: ['apple', 'banana', 'cherry', 'kiwi', 'mango']\n",
      "Danh sách mới: ['apple', 'orange', 'cherry', 'kiwi', 'mango']\n"
     ]
    }
   ],
   "source": [
    "fruits = [\"apple\", \"banana\", \"cherry\", \"kiwi\", \"mango\"]\n",
    "print(\"Danh sách cũ: \" + str(fruits))\n",
    "newlist = [x if x != \"banana\" else \"orange\" for x in fruits ]\n",
    "#x if x != \"banana\" else \"orange\": Đây là biểu thức điều kiện (conditional expression). \n",
    "#Nó kiểm tra xem giá trị của x có khác \"banana\" không. \n",
    "#Nếu đúng, không thực hiện gì hết, nếu sai, giá trị là \"orange\"\n",
    "print(\"Danh sách mới: \" + str(newlist))"
   ]
  },
  {
   "cell_type": "code",
   "execution_count": null,
   "metadata": {},
   "outputs": [],
   "source": []
  }
 ],
 "metadata": {
  "kernelspec": {
   "display_name": "Python 3 (ipykernel)",
   "language": "python",
   "name": "python3"
  },
  "language_info": {
   "codemirror_mode": {
    "name": "ipython",
    "version": 3
   },
   "file_extension": ".py",
   "mimetype": "text/x-python",
   "name": "python",
   "nbconvert_exporter": "python",
   "pygments_lexer": "ipython3",
   "version": "3.8.5"
  }
 },
 "nbformat": 4,
 "nbformat_minor": 4
}
