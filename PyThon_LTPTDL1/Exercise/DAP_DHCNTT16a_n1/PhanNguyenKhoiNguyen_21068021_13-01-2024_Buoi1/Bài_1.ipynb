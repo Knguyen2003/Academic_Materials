{
 "cells": [
  {
   "cell_type": "markdown",
   "metadata": {},
   "source": [
    "# Phan Nguyễn Khôi Nguyên - 21068021"
   ]
  },
  {
   "cell_type": "markdown",
   "metadata": {},
   "source": [
    " # if/elif/else\n",
    " -Lưu ý cần thụt lề ít nhất 4 lần"
   ]
  },
  {
   "cell_type": "code",
   "execution_count": 1,
   "metadata": {},
   "outputs": [
    {
     "name": "stdout",
     "output_type": "stream",
     "text": [
      "Obvious!\n"
     ]
    }
   ],
   "source": [
    "if 2**2 == 4:  #Nếu 2 mũ 2 bằng 4 in chữ Obvious\n",
    "    print('Obvious!')"
   ]
  },
  {
   "cell_type": "code",
   "execution_count": 2,
   "metadata": {},
   "outputs": [
    {
     "name": "stdout",
     "output_type": "stream",
     "text": [
      "A lot\n"
     ]
    }
   ],
   "source": [
    "a = 10        #Khai báo a bằng 10\n",
    "if a == 1:    #Nếu a =1 in 1\n",
    "    print(1)\n",
    "elif a == 2:  #Nếu a = 2 in 2\n",
    "    print(2)\n",
    "else:         #Ngược lại nếu a khác 2 trường hợp trên in \"A lot\"\n",
    "    print('A lot')"
   ]
  },
  {
   "cell_type": "markdown",
   "metadata": {},
   "source": [
    "# for/range"
   ]
  },
  {
   "cell_type": "code",
   "execution_count": 3,
   "metadata": {},
   "outputs": [
    {
     "name": "stdout",
     "output_type": "stream",
     "text": [
      "0\n",
      "1\n",
      "2\n",
      "3\n"
     ]
    }
   ],
   "source": [
    "for i in range(4):  #Tương tự như một vòng lặp ( trong đó range(4) là chạy từ 0 đến 3 )\n",
    "    print(i)"
   ]
  },
  {
   "cell_type": "code",
   "execution_count": 4,
   "metadata": {},
   "outputs": [
    {
     "name": "stdout",
     "output_type": "stream",
     "text": [
      "Python is cool\n",
      "Python is powerful\n",
      "Python is readable\n"
     ]
    }
   ],
   "source": [
    "for word in ('cool', 'powerful', 'readable'): #Dòng này khởi tạo một vòng lặp for để duyệt qua mỗi phần tử trong tuple. Biến word sẽ lần lượt nhận giá trị của các từ trong tuple.\n",
    "    print('Python is %s' % word)   # $s được thay thế bởi word"
   ]
  },
  {
   "cell_type": "markdown",
   "metadata": {},
   "source": [
    "# while/break/continue"
   ]
  },
  {
   "cell_type": "code",
   "execution_count": 8,
   "metadata": {},
   "outputs": [
    {
     "name": "stdout",
     "output_type": "stream",
     "text": [
      "(-134+352j)\n"
     ]
    }
   ],
   "source": [
    "z = 1 + 1j           #tạo biến z với j là số ảo\n",
    "while abs(z) < 100:  #lặp tới khi trị tuyệt đối của x > 100\n",
    "    z = z**2 + 1     # thực hiện z mũ hai +1 \n",
    "\n",
    "print(z)             #giá trị cuối cùng sau khi thoát vòng lặp      "
   ]
  },
  {
   "cell_type": "code",
   "execution_count": 10,
   "metadata": {},
   "outputs": [
    {
     "name": "stdout",
     "output_type": "stream",
     "text": [
      "(-134+352j)\n"
     ]
    }
   ],
   "source": [
    "z = 1 + 1j               #tạo biến z với j là số ảo\n",
    "\n",
    "while abs(z) < 100:      #lặp tới khi trị tuyệt đối của x > 100\n",
    "    if z.imag == 0:      #Nếu phần ảo của z=0 (hay z là số thực)\n",
    "        break            #Lệnh break sẽ dừng ngay lặp tức (rời vòng lặp)\n",
    "    z = z**2 + 1         #Nếu phần ảo của z khác o thì thực hiện z mũ hai +1\n",
    "    \n",
    "print(z)                 #In z sau khi kết thúc vòng lặp"
   ]
  },
  {
   "cell_type": "code",
   "execution_count": 11,
   "metadata": {},
   "outputs": [
    {
     "name": "stdout",
     "output_type": "stream",
     "text": [
      "1.0\n",
      "0.5\n",
      "0.25\n"
     ]
    }
   ],
   "source": [
    "a = [1, 0, 2, 4]       #Tạo mảng a với các phần tử tương ứng là 1, 0, 2, 4\n",
    "for element in a:      #duyệt từng phần tử của mảng a\n",
    "    if element == 0:   #Nếu phần tử nào = 0\n",
    "        continue       #Bỏ qua là thực hiện tiếp vòng lặp\n",
    "    print(1. / element)#Ngược lại nếu phần tử nào khác 0 thì in ra giá trị của phép chia 1 cho giá trị của element"
   ]
  },
  {
   "cell_type": "markdown",
   "metadata": {},
   "source": [
    "# Conditional Expressions"
   ]
  },
  {
   "cell_type": "markdown",
   "metadata": {},
   "source": [
    "if <OBJECT>: <OBJECT> được thế bằng điều kiện có thể là biểu thức, một phép so sánh hoặc giá trị có thể đánh giá là true và false.Nếu điều kiện đúng thực hiện khối mã sau dấu :"
   ]
  },
  {
   "cell_type": "markdown",
   "metadata": {},
   "source": [
    "a == b: Nếu a =b thì trả về True"
   ]
  },
  {
   "cell_type": "code",
   "execution_count": 27,
   "metadata": {},
   "outputs": [
    {
     "name": "stdout",
     "output_type": "stream",
     "text": [
      "True\n"
     ]
    }
   ],
   "source": [
    "a = 1\n",
    "b = 1\n",
    "print(a is b) #a is b :Kiểm tra trả về True nếu cả a và b đều là đối tượng"
   ]
  },
  {
   "cell_type": "code",
   "execution_count": 25,
   "metadata": {},
   "outputs": [
    {
     "name": "stdout",
     "output_type": "stream",
     "text": [
      "True\n",
      "False\n"
     ]
    }
   ],
   "source": [
    "b = [1, 2, 3]\n",
    "print(2 in b) #a in b: Nếu có a trong collection b thì sẽ trả về True.\n",
    "print(5 in b)"
   ]
  },
  {
   "cell_type": "markdown",
   "metadata": {},
   "source": [
    "# Advanced iteration"
   ]
  },
  {
   "cell_type": "code",
   "execution_count": 28,
   "metadata": {},
   "outputs": [
    {
     "name": "stdout",
     "output_type": "stream",
     "text": [
      "o\n",
      "e\n",
      "u\n"
     ]
    }
   ],
   "source": [
    "#Ngoài ra có thể duyệt từng phần tử trong chuỗi, dòng,...\n",
    "vowels = 'aeiouy'\n",
    "\n",
    "for i in 'powerful':   #Vòng lặp for : i lấy từng giá trị trong chuỗi 'powerful'\n",
    "    if i in vowels:    #Kiểm tra kí tự i có nằm trong chuỗi vowels được khai báo không\n",
    "        print(i)       #Nếu có in chữ đó ra"
   ]
  },
  {
   "cell_type": "code",
   "execution_count": 29,
   "metadata": {},
   "outputs": [
    {
     "name": "stdout",
     "output_type": "stream",
     "text": [
      "Hello\n",
      "how\n",
      "are\n",
      "you?\n"
     ]
    }
   ],
   "source": [
    "message = \"Hello how are you?\"\n",
    "message.split() # returns a list\n",
    "#Phương thức split() được sử dụng để chia một chuỗi thành một danh sách các từ (hay các phần tử)\n",
    "#Không có tham số nào được truyền vào split(), vì vậy nó sẽ mặc định sử dụng khoảng trắng làm dấu phân cách\n",
    "for word in message.split(): #Dòng này khởi tạo một vòng lặp for để duyệt qua mỗi phần tử trong message.split(). Biến word sẽ lần lượt nhận giá trị của các từ trong message.split().\n",
    "    print(word)              #In lần lượt các phần tử"
   ]
  },
  {
   "cell_type": "markdown",
   "metadata": {},
   "source": [
    "# Keeping track of enumeration number"
   ]
  },
  {
   "cell_type": "code",
   "execution_count": 30,
   "metadata": {},
   "outputs": [
    {
     "name": "stdout",
     "output_type": "stream",
     "text": [
      "(0, 'cool')\n",
      "(1, 'powerful')\n",
      "(2, 'readable')\n"
     ]
    }
   ],
   "source": [
    "words = ('cool', 'powerful', 'readable') #Khởi tạp tuple có tên là words với 3 phần tử\n",
    "for i in range(0, len(words)): #biến i lấy giá trị từ 0 đến độ dài words-1\n",
    "    print((i, words[i])) #words[i] trả về phần tử thứ i trong words .Bắt đầu từ số 0\n",
    "# In ra một tuple chứa cặp giá trị: chỉ số i và giá trị tương ứng từ tuple words   "
   ]
  },
  {
   "cell_type": "code",
   "execution_count": 31,
   "metadata": {},
   "outputs": [
    {
     "name": "stdout",
     "output_type": "stream",
     "text": [
      "(0, 'cool')\n",
      "(1, 'powerful')\n",
      "(2, 'readable')\n"
     ]
    }
   ],
   "source": [
    "#enumerate():Hàm này trả về một đối tượng enumerate, chứa các cặp chỉ số và giá trị của từng phần tử trong chuỗi\n",
    "words = ('cool', 'powerful', 'readable')\n",
    "for index, item in enumerate(words): #Bắt đầu vòng lặp for và sử dụng hàm enumerate() để lặp qua words với mỗi phần tử và chỉ số của nó\n",
    "    print((index, item)) #Biến index sẽ chứa chỉ số của phần tử, và item sẽ chứa giá trị của phần tử tương ứng."
   ]
  },
  {
   "cell_type": "markdown",
   "metadata": {},
   "source": [
    "# Looping over a dictionary"
   ]
  },
  {
   "cell_type": "code",
   "execution_count": 32,
   "metadata": {},
   "outputs": [
    {
     "name": "stdout",
     "output_type": "stream",
     "text": [
      "Key: a has value: 1\n",
      "Key: b has value: 1.2\n",
      "Key: c has value: 1j\n"
     ]
    }
   ],
   "source": [
    "d = {'a': 1, 'b':1.2, 'c':1j} # Khởi tạo một từ điển d với các cặp key-value.\n",
    "\n",
    "for key, val in sorted(d.items()): #Bắt đầu vòng lặp for, sử dụng sorted(d.items()) để lặp qua các cặp key-value của từ điển d theo thứ tự tăng dần của key\n",
    "    print('Key: %s has value: %s' % (key, val)) # sử dụng %s để chèn giá trị của key và val vào chuỗi.\n",
    "#Thứ tự của từ điển là ngẫu nhiên, do đó chúng ta sử dụng sorted() từ điển này để sắp xếp theo các khóa."
   ]
  },
  {
   "cell_type": "markdown",
   "metadata": {},
   "source": [
    "# List Comprehensions"
   ]
  },
  {
   "cell_type": "code",
   "execution_count": 33,
   "metadata": {},
   "outputs": [
    {
     "data": {
      "text/plain": [
       "[0, 1, 4, 9]"
      ]
     },
     "execution_count": 33,
     "metadata": {},
     "output_type": "execute_result"
    }
   ],
   "source": [
    "[i**2 for i in range(4)]\n",
    "#Biểu thức danh sách này tạo ra một danh sách mới bằng cách lặp qua mỗi \n",
    "#giá trị của i trong dãy từ 0 đến 3 và thêm vào danh sách bình phương \n",
    "#của giá trị đó (i**2)."
   ]
  },
  {
   "cell_type": "markdown",
   "metadata": {},
   "source": [
    "# Bài tập : tính số thập phân của Pi bằng công thức Vallis"
   ]
  },
  {
   "cell_type": "code",
   "execution_count": 7,
   "metadata": {},
   "outputs": [
    {
     "name": "stdout",
     "output_type": "stream",
     "text": [
      "Nhập vào n: 100000\n",
      "Kết quả tính số thập phân của Pi bằng công thức Wallis chạy từ 1 tới 100000 là: 3.141584799657247\n"
     ]
    }
   ],
   "source": [
    "def calculate_pi_wallis(iterations): #Tạo hàm\n",
    "    result = 2.0  #Khởi tạo result là 2 (theo công thưc)\n",
    "    for i in range(1, iterations + 1): #Bắt đầu vòng lặp for, i chạy từ 1 đến iterations +1.\n",
    "        numerator = 4 * i**2 #Mỗi lần lặp 4 nhân i mũ 2 (tử)\n",
    "        denominator = 4 * i**2 - 1    # 4 nhân i mũ 2 trừ 1 (mẫu)\n",
    "        result *= numerator / denominator\n",
    "    return result #Kết thúc vòng lặp trả về kết quả \n",
    "\n",
    "# Chọn một số lần lặp đủ lớn để có độ chính xác mong muốn\n",
    "n = int(input(\"Nhập vào n: \"))\n",
    "pi_approximation = calculate_pi_wallis(n) #Gọi hàm calculate_pi_wallis truyền vào 100000 và gán kết quả cho pi_approximation\n",
    "\n",
    "print(f\"Kết quả tính số thập phân của Pi bằng công thức Wallis chạy từ 1 tới {n} là: {pi_approximation}\")"
   ]
  },
  {
   "cell_type": "code",
   "execution_count": null,
   "metadata": {},
   "outputs": [],
   "source": []
  }
 ],
 "metadata": {
  "kernelspec": {
   "display_name": "Python 3 (ipykernel)",
   "language": "python",
   "name": "python3"
  },
  "language_info": {
   "codemirror_mode": {
    "name": "ipython",
    "version": 3
   },
   "file_extension": ".py",
   "mimetype": "text/x-python",
   "name": "python",
   "nbconvert_exporter": "python",
   "pygments_lexer": "ipython3",
   "version": "3.8.5"
  }
 },
 "nbformat": 4,
 "nbformat_minor": 4
}
