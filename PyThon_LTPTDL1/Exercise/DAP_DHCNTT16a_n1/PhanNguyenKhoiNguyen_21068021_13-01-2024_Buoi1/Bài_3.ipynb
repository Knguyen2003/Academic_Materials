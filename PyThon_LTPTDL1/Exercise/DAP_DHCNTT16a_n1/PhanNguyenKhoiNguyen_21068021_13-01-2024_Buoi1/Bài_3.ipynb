{
 "cells": [
  {
   "cell_type": "markdown",
   "id": "c8aa2894-08b0-4a0e-9788-b946e9b2bfe0",
   "metadata": {},
   "source": [
    "# Phan Nguyễn Khôi Nguyên - 21068021"
   ]
  },
  {
   "cell_type": "markdown",
   "id": "a27fceb2-1006-48eb-925b-b7d03a8cc74c",
   "metadata": {},
   "source": [
    "# Bài 1"
   ]
  },
  {
   "cell_type": "code",
   "execution_count": 2,
   "id": "fb5a3cc9-51e3-4479-9449-293a92a25baf",
   "metadata": {},
   "outputs": [
    {
     "name": "stdout",
     "output_type": "stream",
     "text": [
      "64\n"
     ]
    }
   ],
   "source": [
    "#Cách 1\n",
    "list = [10,12,20,22]\n",
    "sum = 0\n",
    "for i in list :\n",
    "    sum = sum + i\n",
    "print(sum)"
   ]
  },
  {
   "cell_type": "code",
   "execution_count": 3,
   "id": "57fe3a1f-aac5-4fd3-b666-b1bfc5785b72",
   "metadata": {},
   "outputs": [
    {
     "name": "stdout",
     "output_type": "stream",
     "text": [
      "64\n"
     ]
    }
   ],
   "source": [
    "#Cách 2\n",
    "import numpy as np\n",
    "list = [10,12,20,22]\n",
    "sum = np.sum(list)\n",
    "print(sum)"
   ]
  },
  {
   "cell_type": "markdown",
   "id": "35983a3f-059f-4ab2-89f8-8291bd6e04c5",
   "metadata": {},
   "source": [
    "# Bài 2"
   ]
  },
  {
   "cell_type": "code",
   "execution_count": 6,
   "id": "f15dc781-b671-4dc1-b43d-4fd3c1e5599a",
   "metadata": {},
   "outputs": [
    {
     "name": "stdout",
     "output_type": "stream",
     "text": [
      "18\n"
     ]
    }
   ],
   "source": [
    "#Cách 1: \n",
    "list = [3,1,2,3]\n",
    "multi = 1\n",
    "for i in list :\n",
    "    multi = multi * i\n",
    "print(multi)"
   ]
  },
  {
   "cell_type": "code",
   "execution_count": 7,
   "id": "259f1b85-4514-42bc-bf63-d43f1a2f5967",
   "metadata": {},
   "outputs": [
    {
     "name": "stdout",
     "output_type": "stream",
     "text": [
      "18\n"
     ]
    }
   ],
   "source": [
    "#Cách 2\n",
    "import numpy as np\n",
    "list = [3,1,2,3]\n",
    "multi = np.prod(list)\n",
    "print(multi)"
   ]
  },
  {
   "cell_type": "markdown",
   "id": "abf2c9c9-329d-437d-bc41-12a792028ab6",
   "metadata": {},
   "source": [
    "# Bài 3"
   ]
  },
  {
   "cell_type": "code",
   "execution_count": 1,
   "id": "246756b8-a3d2-4aba-9c5f-f4513195485b",
   "metadata": {},
   "outputs": [
    {
     "name": "stdout",
     "output_type": "stream",
     "text": [
      "[-27, 45, -12, 20, 60]\n"
     ]
    }
   ],
   "source": [
    "#Cách 1: \n",
    "# import numpy as np\n",
    "ds = [-12,20,-27,20,45,-12,60]\n",
    "newlist = list(set(ds)) #Sử dụng Set để loại bỏ các phần tử trùng lặp\n",
    "print(newlist)"
   ]
  },
  {
   "cell_type": "code",
   "execution_count": 9,
   "id": "af9eb009-276b-47d6-945c-5dbeaabea278",
   "metadata": {},
   "outputs": [
    {
     "name": "stdout",
     "output_type": "stream",
     "text": [
      "[-12, 20, -27, 45, 60]\n"
     ]
    }
   ],
   "source": [
    "#Cách 2:\n",
    "ds = [-12,20,-27,20,45,-12,60]\n",
    "newlist = []\n",
    "[newlist.append(x) for x in ds if x not in newlist]\n",
    "\n",
    "print(newlist)"
   ]
  },
  {
   "cell_type": "markdown",
   "id": "647394e2-8914-4793-bc3b-394a11a48de9",
   "metadata": {},
   "source": [
    "# Bài 4"
   ]
  },
  {
   "cell_type": "code",
   "execution_count": 30,
   "id": "d184fdc0-936e-4027-8368-2ed2a5c3be66",
   "metadata": {},
   "outputs": [
    {
     "name": "stdout",
     "output_type": "stream",
     "text": [
      "['quick', 'brown']\n"
     ]
    }
   ],
   "source": [
    "# Cách 1\n",
    "chuoi = \"The quick brown fox\"\n",
    "list = chuoi.split()\n",
    "\n",
    "newList =[]\n",
    "for i in list :\n",
    "   if len(i) > 3 :\n",
    "        newList.append(i)\n",
    "print(newList)"
   ]
  },
  {
   "cell_type": "code",
   "execution_count": 27,
   "id": "86b65043-251c-438a-bef9-ff0b2de7749a",
   "metadata": {},
   "outputs": [
    {
     "name": "stdout",
     "output_type": "stream",
     "text": [
      "['quick', 'brown']\n"
     ]
    }
   ],
   "source": [
    "# Cách 2\n",
    "chuoi = \"The quick brown fox\"\n",
    "list = chuoi.split()\n",
    "#Phương thức split() tách chuỗi dựa trên khoảng trắng (dấu cách, tab, xuống dòng)\n",
    "n = 3\n",
    "\n",
    "def kiemTra(newList, n):\n",
    "    newList = [x for x in newList if len(x) > n]\n",
    "    return  newList\n",
    "\n",
    "print(kiemTra(list, n))"
   ]
  },
  {
   "cell_type": "code",
   "execution_count": 28,
   "id": "b9112b9e-7db8-404c-9265-d179962b35d7",
   "metadata": {},
   "outputs": [
    {
     "name": "stdout",
     "output_type": "stream",
     "text": [
      "['quick', 'brown']\n"
     ]
    }
   ],
   "source": [
    "#Cách 3\n",
    "chuoi = \"The quick brown fox\"\n",
    "list = chuoi.split()\n",
    "\n",
    "newList = [x for x in list if len(x) > 3]\n",
    "print(newList)"
   ]
  },
  {
   "cell_type": "markdown",
   "id": "0175bf32-8296-4c1f-bf42-7bbe375ef1fa",
   "metadata": {},
   "source": [
    "# Bài 5"
   ]
  },
  {
   "cell_type": "code",
   "execution_count": 54,
   "id": "44e346a5-304c-4dfc-9ca2-9fe9e5dec9c1",
   "metadata": {},
   "outputs": [
    {
     "name": "stdout",
     "output_type": "stream",
     "text": [
      "False\n"
     ]
    }
   ],
   "source": [
    "list1 =[1,2,3,4,5]\n",
    "list2 = [6,6,7,8,9]\n",
    "\n",
    "def kiemTraTrung(a, b):\n",
    "    return bool(set(a).intersection(set(b)))\n",
    "    # a.intersection(b) :Trả về tập hợp chứa các phần tử trùng nhau giữa set1 và set2\n",
    "    #intersection() chỉ tồn tại trên đối tượng tập hợp, không phải trên danh sách\n",
    "print(kiemTraTrung(list1,list2))"
   ]
  },
  {
   "cell_type": "code",
   "execution_count": null,
   "id": "ce096e30-538d-45fe-b0a6-b4ba265b1bc5",
   "metadata": {},
   "outputs": [],
   "source": []
  }
 ],
 "metadata": {
  "kernelspec": {
   "display_name": "Python 3 (ipykernel)",
   "language": "python",
   "name": "python3"
  },
  "language_info": {
   "codemirror_mode": {
    "name": "ipython",
    "version": 3
   },
   "file_extension": ".py",
   "mimetype": "text/x-python",
   "name": "python",
   "nbconvert_exporter": "python",
   "pygments_lexer": "ipython3",
   "version": "3.8.5"
  }
 },
 "nbformat": 4,
 "nbformat_minor": 5
}
