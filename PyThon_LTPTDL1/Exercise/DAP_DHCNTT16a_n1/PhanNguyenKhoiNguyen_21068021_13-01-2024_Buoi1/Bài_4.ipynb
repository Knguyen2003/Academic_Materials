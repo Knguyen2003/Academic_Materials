{
 "cells": [
  {
   "cell_type": "markdown",
   "id": "6f1ef5fc-0bfe-42c5-bff9-a499fc9cc8d2",
   "metadata": {},
   "source": [
    "# Phan Nguyễn Khôi Nguyên - 21068021"
   ]
  },
  {
   "cell_type": "markdown",
   "id": "fc32d55f-13af-41ec-83b8-71e70efccb51",
   "metadata": {},
   "source": [
    "# 1.1 Khởi tạo mảng 1 chiều"
   ]
  },
  {
   "cell_type": "markdown",
   "id": "f6e38697-cb5f-4ab0-a7bd-dd34b0e00d84",
   "metadata": {},
   "source": [
    "## 1.1.1. Khai báo vector"
   ]
  },
  {
   "cell_type": "code",
   "execution_count": 3,
   "id": "ee2b9982-35a9-4f0e-b2b2-4fa15513584b",
   "metadata": {},
   "outputs": [
    {
     "data": {
      "text/plain": [
       "array([1, 2, 3])"
      ]
     },
     "execution_count": 3,
     "metadata": {},
     "output_type": "execute_result"
    }
   ],
   "source": [
    "import numpy as np\n",
    "x = np.array([1,2,3])\n",
    "x"
   ]
  },
  {
   "cell_type": "raw",
   "id": "45bf8a1a-5c81-4a1f-aeaa-fb6083f8cb24",
   "metadata": {},
   "source": [
    "Bài tập: Khởi tạo một vector x = [1, 2, 3, 4, 5, 6, 7, 8, 9, 10]."
   ]
  },
  {
   "cell_type": "code",
   "execution_count": 7,
   "id": "1892e7e6-4000-4ecb-b15c-fedf62e33af2",
   "metadata": {},
   "outputs": [
    {
     "data": {
      "text/plain": [
       "array([ 1,  2,  3,  4,  5,  6,  7,  8,  9, 10])"
      ]
     },
     "execution_count": 7,
     "metadata": {},
     "output_type": "execute_result"
    }
   ],
   "source": [
    "import numpy as np\n",
    "x = np.array([1, 2, 3, 4, 5, 6, 7, 8, 9, 10])\n",
    "x"
   ]
  },
  {
   "cell_type": "markdown",
   "id": "a5211485-9b82-480e-b977-ba855d55e304",
   "metadata": {},
   "source": [
    "# 1.2. Kiểu dữ liệu của mảng"
   ]
  },
  {
   "cell_type": "markdown",
   "id": "80c8b7d0-52ca-47ba-8957-0239dc94b546",
   "metadata": {},
   "source": [
    "## 1.2.1 Kiểu dữ liệu"
   ]
  },
  {
   "cell_type": "code",
   "execution_count": 9,
   "id": "1b956978-2d6d-4193-812a-f7b18c275795",
   "metadata": {},
   "outputs": [
    {
     "name": "stdout",
     "output_type": "stream",
     "text": [
      "<class 'numpy.int32'>\n"
     ]
    }
   ],
   "source": [
    "import numpy as np\n",
    "a = np.array([1, 2])\n",
    "print(type(a[0]))  #các phần tử trong mảng là kiểu nguyên"
   ]
  },
  {
   "cell_type": "code",
   "execution_count": 11,
   "id": "35d76bf7-9a20-4081-a60f-ccf4a29d978d",
   "metadata": {},
   "outputs": [
    {
     "name": "stdout",
     "output_type": "stream",
     "text": [
      "<class 'numpy.float64'>\n"
     ]
    }
   ],
   "source": [
    "a = np.array([1.0, 2.0]) #Tạo mảng có các phần tử là số thực\n",
    " # or np.array([1., 2.]) or np.array([1., 2])\n",
    "print(type(a[0]))  #Các phần tử trong mảng là kiểu số thực \"numpy.float64\""
   ]
  },
  {
   "cell_type": "code",
   "execution_count": 12,
   "id": "8c1bd178-f904-45e5-92be-033b3bd4fdfc",
   "metadata": {},
   "outputs": [
    {
     "name": "stdout",
     "output_type": "stream",
     "text": [
      "<class 'numpy.float64'>\n"
     ]
    }
   ],
   "source": [
    "a = np.array([1, 2], dtype = np.float64)  #dtype để ép kiểu kiểu\n",
    "print(type(a[0])) #Các phần tử trong mảng là kiểu số thực \"numpy.float64\""
   ]
  },
  {
   "cell_type": "markdown",
   "id": "0d735271-1b6e-4916-b8f0-f35b9e0691e8",
   "metadata": {},
   "source": [
    "# 1.3. Khởi tạo các mảng một chiều đặc biệt"
   ]
  },
  {
   "cell_type": "markdown",
   "id": "942705c8-e41c-4833-b27d-d4dcfe5bc206",
   "metadata": {},
   "source": [
    "## 1.3.1. Mảng toàn giá trị 0 hoặc 1"
   ]
  },
  {
   "cell_type": "code",
   "execution_count": 17,
   "id": "2da8e5ad-7074-49dc-a8f5-fb5a619d163f",
   "metadata": {},
   "outputs": [
    {
     "data": {
      "text/plain": [
       "array([0., 0., 0.])"
      ]
     },
     "execution_count": 17,
     "metadata": {},
     "output_type": "execute_result"
    }
   ],
   "source": [
    "import numpy as np \n",
    "np.zeros(3) #dùng để tạo vector 0 có số phần tử là 3, các phần tử là kiểu số thực"
   ]
  },
  {
   "cell_type": "code",
   "execution_count": 18,
   "id": "d3b226d5-0539-45df-858a-83437c287fba",
   "metadata": {},
   "outputs": [
    {
     "data": {
      "text/plain": [
       "array([1., 1., 1.])"
      ]
     },
     "execution_count": 18,
     "metadata": {},
     "output_type": "execute_result"
    }
   ],
   "source": [
    "import numpy as np \n",
    "np.ones(3) #dùng để tạo vector 1 có số phần tử là 3, các phần tử là kiểu số thực"
   ]
  },
  {
   "cell_type": "code",
   "execution_count": 20,
   "id": "ad3558af-6b3a-41b8-b9e0-65ba1bf2fb93",
   "metadata": {},
   "outputs": [
    {
     "name": "stdout",
     "output_type": "stream",
     "text": [
      "[0 0 0]\n",
      "[1 1 1]\n"
     ]
    }
   ],
   "source": [
    "x = np.array([1, 2, 3])\n",
    "zero= np.zeros_like(x) #zeros_like: Tạo mảng chứa các giá trị 0 và có số chiều như mảng đầu vào \n",
    "one= np.ones_like(x)   #ones_like: Tạo mảng chứa các giá trị 1 và có số chiều như mảng đầu vào\n",
    "print(zero)\n",
    "print(one)"
   ]
  },
  {
   "cell_type": "markdown",
   "id": "d90f80e3-9402-4127-9ff9-aa35bd080c70",
   "metadata": {},
   "source": [
    "## 1.3.2. Cấp số cộng"
   ]
  },
  {
   "cell_type": "code",
   "execution_count": 21,
   "id": "0437a5c7-da12-4031-8862-0f0d09c530e1",
   "metadata": {},
   "outputs": [
    {
     "data": {
      "text/plain": [
       "array([0, 1, 2])"
      ]
     },
     "execution_count": 21,
     "metadata": {},
     "output_type": "execute_result"
    }
   ],
   "source": [
    "np.arange(3) #Tạo mảng các số nguyên từ 0 đến n-1 (ở đây là tạo mảng từ 0 đến 2)"
   ]
  },
  {
   "cell_type": "code",
   "execution_count": 23,
   "id": "25eb59c6-971e-4ce6-8592-96e7c51a498e",
   "metadata": {},
   "outputs": [
    {
     "data": {
      "text/plain": [
       "array([3, 4, 5])"
      ]
     },
     "execution_count": 23,
     "metadata": {},
     "output_type": "execute_result"
    }
   ],
   "source": [
    " np.arange(3, 6) #Tương tự như trên nhưng ở đâu có thêm 1 giá trị đầu vào. Tức là sẽ tạo mảng từ 3 đến 6-1"
   ]
  },
  {
   "cell_type": "markdown",
   "id": "392a76d3-1756-4f37-89f3-607d38242ca6",
   "metadata": {},
   "source": [
    "Hàm np.arange(a, b, d) trong NumPy được sử dụng để tạo ra một mảng các số có giá trị từ a đến b (không bao gồm b), với bước nhảy là d. Cụ thể, giá trị đầu tiên của mảng sẽ là a, và mỗi giá trị tiếp theo sẽ tăng thêm d so với giá trị trước đó cho đến khi giá trị cuối cùng trong mảng không vượt quá hoặc bằng b."
   ]
  },
  {
   "cell_type": "code",
   "execution_count": 24,
   "id": "d8c9d6fc-cbc7-402d-8c92-d34a6ba2aa68",
   "metadata": {},
   "outputs": [
    {
     "data": {
      "text/plain": [
       "array([0. , 0.1, 0.2, 0.3, 0.4, 0.5, 0.6, 0.7, 0.8, 0.9])"
      ]
     },
     "execution_count": 24,
     "metadata": {},
     "output_type": "execute_result"
    }
   ],
   "source": [
    "np.arange(0, 1, 0.1)\n",
    "#Tạo mảng từ 0 đến nhỏ hơn 1 với bước nhảy là 0.1"
   ]
  },
  {
   "cell_type": "code",
   "execution_count": 25,
   "id": "37b67150-ace6-4b69-bdb3-e1825da828f0",
   "metadata": {},
   "outputs": [
    {
     "data": {
      "text/plain": [
       "array([5. , 4.1, 3.2, 2.3, 1.4])"
      ]
     },
     "execution_count": 25,
     "metadata": {},
     "output_type": "execute_result"
    }
   ],
   "source": [
    "np.arange(5, 1, -0.9)\n",
    "# Tạo Mảng bắt đầu từ 5, giảm đi 0.9 để đạt được giá trị tiếp theo\n",
    "# và tiếp tục như vậy cho đến khi giá trị dưới 1.0\n",
    "#Vì d (-0.9) là số âm và b (1) nhỏ hơn a (5), nên phần tử cuối cùng \n",
    "# của dãy số sẽ là phần tử nhỏ nhất của cấp số cộng, và giá trị đó là 1.4."
   ]
  },
  {
   "cell_type": "raw",
   "id": "67df9cdf-f3e9-4cd9-a2c9-e92823d51329",
   "metadata": {},
   "source": [
    "Bài tập 1: Xây dựng mảng các luỹ thừa của 2 nhỏ hơn 1025, bao gồm cả 1 = 2**0. Gợi ý: Nếu a là một mảng và b là một số thì b**a sẽ trả về một mảng cùng kích thước với a mà phần tử có chỉ số i bằng b**a[i], với ** là toán tử luỹ thừa."
   ]
  },
  {
   "cell_type": "code",
   "execution_count": 29,
   "id": "36ac0570-1822-4978-b289-6dd7eedc2ed0",
   "metadata": {},
   "outputs": [
    {
     "name": "stdout",
     "output_type": "stream",
     "text": [
      "[   1    2    4    8   16   32   64  128  256  512 1024]\n"
     ]
    }
   ],
   "source": [
    "import numpy as np\n",
    "\n",
    "# Tạo mảng các luỹ thừa của 2 nhỏ hơn 1025\n",
    "exponents = np.arange(11)  # 2^0 đến 2^10\n",
    "\n",
    "powers_of_two = 2 ** exponents\n",
    "#2 là một số và exponents là một mảng do đó powers_of_two là mảng có cùng\n",
    "#kích thước với exponents và mỗi phần tử sẽ là 2 mũ lên.\n",
    "print(powers_of_two)"
   ]
  },
  {
   "cell_type": "raw",
   "id": "c1b699dc-7173-4668-a12e-ea0fa94db709",
   "metadata": {},
   "source": [
    "Bài tập 2: Xây dựng mảng gồm 10 phần tử, trong đó 9 phần tử đầu bằng 3, phần tử cuối cùng bằng 1.5."
   ]
  },
  {
   "cell_type": "code",
   "execution_count": 30,
   "id": "eefe7d53-9118-47c0-baff-f4c97b2e9025",
   "metadata": {},
   "outputs": [
    {
     "name": "stdout",
     "output_type": "stream",
     "text": [
      "[3 3 3 3 3 3 3 3 3 1]\n"
     ]
    }
   ],
   "source": [
    "import numpy as np\n",
    "# Tạo mảng gồm 10 phần tử\n",
    "my_array = np.full(10, 3)  #np.full:Tạo mảng với 10 phần tử, mỗi phần tử có giá trị là 3\n",
    "my_array[-1] = 1.5  # Gán giá trị 1.5 cho phần tử cuối cùng của mảng\n",
    "print(my_array)"
   ]
  },
  {
   "cell_type": "markdown",
   "id": "ff4f30a5-4e45-4645-84a0-6eb1229186f6",
   "metadata": {},
   "source": [
    "# 1.4. Truy cập mảng một chiều"
   ]
  },
  {
   "cell_type": "markdown",
   "id": "d05bfc49-ac2d-4f67-861d-2a977c3feb33",
   "metadata": {},
   "source": [
    "## 1.4.1. Kích thước của mảng"
   ]
  },
  {
   "cell_type": "code",
   "execution_count": 51,
   "id": "952d2f2e-f11e-44b2-8bc0-e1f451b314b0",
   "metadata": {},
   "outputs": [
    {
     "name": "stdout",
     "output_type": "stream",
     "text": [
      "(3,)\n",
      "3\n"
     ]
    }
   ],
   "source": [
    "x = np.array([3, 4, 5])\n",
    "print(x.shape) #(3,) cho biết rằng mảng x có 3 phần tử và chỉ có một chiều.\n",
    "\n",
    "d = x.shape[0] # \n",
    "print(d) #để lấy phần tử đầu tiên và duy nhất của tuple (số phần tử của x)"
   ]
  },
  {
   "cell_type": "markdown",
   "id": "78059bab-121d-4046-bff2-e95c33365553",
   "metadata": {},
   "source": [
    "## 1.4.2. Chỉ số"
   ]
  },
  {
   "cell_type": "raw",
   "id": "d598acc9-e933-4e97-a3fb-479e1325143d",
   "metadata": {},
   "source": [
    "Mỗi thành phần trong mảng 1 chiều tương ứng với một chỉ số. Chỉ số trong numpy, cũng giống như chỉ số trong python, bắt đầu bằng 0. Nếu mảng 1 chiều có d phần tử thì các chỉ số chạy từ 0 đến d - 1"
   ]
  },
  {
   "cell_type": "markdown",
   "id": "4999cb6a-00ad-46e9-ba9e-b5414fc57c82",
   "metadata": {},
   "source": [
    "## 1.4.3. Đọc từng phần tử của vector"
   ]
  },
  {
   "cell_type": "code",
   "execution_count": 61,
   "id": "0dc1b296-4ae2-429c-b0c6-c1c1998ed962",
   "metadata": {},
   "outputs": [
    {
     "name": "stdout",
     "output_type": "stream",
     "text": [
      "[1 3 2]\n",
      "1\n"
     ]
    }
   ],
   "source": [
    "x = np.array([1, 3, 2])\n",
    "print(x)\n",
    "print(x[0]) # Phần tử đầu tiên của mảng x. Muốn lấy các phần tử tiếp theo thì tăng dần lên như x[1], x[2],..."
   ]
  },
  {
   "cell_type": "code",
   "execution_count": 62,
   "id": "bb32f791-a1c5-4a2a-b9f0-11f9982e5897",
   "metadata": {},
   "outputs": [
    {
     "name": "stdout",
     "output_type": "stream",
     "text": [
      "[[1 2 3]\n",
      " [4 5 6]\n",
      " [7 8 9]]\n"
     ]
    }
   ],
   "source": [
    "arr_2d = np.array([[1, 2, 3],\n",
    "                   [4, 5, 6],\n",
    "                   [7, 8, 9]])\n",
    "print(arr_2d)"
   ]
  },
  {
   "cell_type": "markdown",
   "id": "b1c6d44d-7965-4061-bc32-6906f54314e5",
   "metadata": {},
   "source": [
    "## 1.4.5. Thay đổi giá trị một phần tử của mảng"
   ]
  },
  {
   "cell_type": "code",
   "execution_count": 63,
   "id": "fc3170f0-6813-4edf-8e60-4e72bd152a82",
   "metadata": {},
   "outputs": [
    {
     "name": "stdout",
     "output_type": "stream",
     "text": [
      "[4 2 3]\n"
     ]
    }
   ],
   "source": [
    "a = np.array([1, 2, 3])\n",
    "a[0] = 4 #Thay đổi phần tử đầu tiên trong mảng a bằng 4\n",
    "print(a) # in mảng a để xem kết quả"
   ]
  },
  {
   "cell_type": "raw",
   "id": "db822100-9de7-408e-936b-31fbf7782859",
   "metadata": {},
   "source": [
    "Bài tập: Thay toàn bộ các phần tử của mảng bằng trung bình cộng các phần tử trong mảng đó, sử dụng vòng for. Hàm này không trả về biến nào mà chỉ thay đổi các giá trị của biến đầu vào x."
   ]
  },
  {
   "cell_type": "code",
   "execution_count": 64,
   "id": "170d57b5-c0ce-4eaf-a8f0-0415ff0eee98",
   "metadata": {},
   "outputs": [
    {
     "name": "stdout",
     "output_type": "stream",
     "text": [
      "Mảng trước khi thay đổi: [1, 2, 3, 4, 5]\n",
      "Mảng sau khi thay đổi: [3.0, 3.0, 3.0, 3.0, 3.0]\n"
     ]
    }
   ],
   "source": [
    "def replace_with_mean(arr):\n",
    "    # Tính trung bình cộng của các phần tử trong mảng\n",
    "    mean_value = sum(arr) / len(arr)\n",
    "    #sum(arr) : tính tổng các phần tử trong arr\n",
    "    #len(arr) : tổng độ dài trong arr (số phần tử của arr)\n",
    "    # Thay toàn bộ các phần tử bằng trung bình cộng\n",
    "    for i in range(len(arr)): #range(len(arr) : chạy từ 0 đến len(arr) -1\n",
    "        arr[i] = mean_value\n",
    "\n",
    "# Ví dụ sử dụng\n",
    "my_array = [1, 2, 3, 4, 5]\n",
    "print(\"Mảng trước khi thay đổi:\", my_array)\n",
    "\n",
    "replace_with_mean(my_array) #Hàm này thay đổi trực tiếp my_array mà không tạo ra mảng mới\n",
    "\n",
    "print(\"Mảng sau khi thay đổi:\", my_array)\n"
   ]
  },
  {
   "cell_type": "markdown",
   "id": "d5ef5cf2-4be1-4fb2-aeeb-07d7766e458b",
   "metadata": {},
   "source": [
    "# 1.5. Truy cập nhiều phần tử của mảng một chiều"
   ]
  },
  {
   "cell_type": "markdown",
   "id": "3b42ac86-abc7-45ee-aefe-b311597b36aa",
   "metadata": {},
   "source": [
    "## 1.5.1. Đọc"
   ]
  },
  {
   "cell_type": "code",
   "execution_count": 74,
   "id": "f3600695-5911-43e5-a218-869b8034f344",
   "metadata": {},
   "outputs": [
    {
     "name": "stdout",
     "output_type": "stream",
     "text": [
      "[0.  0.5 1.  1.5 2.  2.5 3.  3.5 4.  4.5]\n",
      "[0.5 1.5 2.  4. ]\n",
      "[0.5 1.5 2.5]\n"
     ]
    }
   ],
   "source": [
    "import numpy as np\n",
    "a = 0.5*np.arange(10) #Tạo một numpy.ndarray từ 0 đến 9 mỗi phần tử nhân với 0.5\n",
    "print(a)\n",
    "\n",
    "ids = [1, 3, 4, 8] #Tạo list với 4 phần tử\n",
    "print(a[ids]) #Trả về mảng numpy với các phần tử có chỉ số được chỉ ra trong list các chỉ số ids\n",
    "#Tương tự cũng có thể là mảng numpy chứa các số nguyên hợp lệ\n",
    "np_ids = np.arange(1, 7, 2) #1 3 5\n",
    "print(a[np_ids])"
   ]
  },
  {
   "cell_type": "code",
   "execution_count": 78,
   "id": "e9ecc581-76dd-4ea2-a56b-7efa4e04b987",
   "metadata": {},
   "outputs": [
    {
     "name": "stdout",
     "output_type": "stream",
     "text": [
      "Mảng a là:  [0.  0.5 1.  1.5 2.  2.5 3.  3.5 4.  4.5]\n",
      "[0.  0.5 1. ]\n",
      "[3.5 4.  4.5]\n",
      "[0.5 1.  1.5]\n"
     ]
    }
   ],
   "source": [
    "import numpy as np\n",
    "a = 0.5*np.arange(10) #Tạo một numpy.ndarray từ 0 đến 9 mỗi phần tử nhân với 0.5\n",
    "print(\"Mảng a là: \", a)\n",
    "print(a[:3]) # trả về mảng các phần tử của a với chỉ số từ đầu đến 3-1\n",
    "print(a[-3:]) # trả về mảng các phần tử của a với chỉ số từ dưới đếm lên 3 số đến hết\n",
    "print(a[1:4]) # trả về mảng các phần tử của a với chỉ số từ 1 đến 4-1\n"
   ]
  },
  {
   "cell_type": "markdown",
   "id": "1cfe6027-50ca-42c7-8a95-bb417d0347a1",
   "metadata": {},
   "source": [
    "## 1.5.2. Ghi"
   ]
  },
  {
   "cell_type": "code",
   "execution_count": 84,
   "id": "3db6c1d0-9139-4678-a307-22334a25471c",
   "metadata": {},
   "outputs": [
    {
     "name": "stdout",
     "output_type": "stream",
     "text": [
      "Mảng a là:  [0.  0.5 1.  1.5 2.  2.5 3.  3.5 4.  4.5]\n",
      "[0.  1.  1.  1.  2.  1.  3.  3.5 4.  4.5]\n",
      "[ 0.  1.  1.  1.  2.  1.  3.  0. -1. -2.]\n",
      "[ 0.  1.  2.  3. -1.]\n",
      "[-2. -1.  0.  3.  1.  2.  1.  1.  1.  0.]\n"
     ]
    }
   ],
   "source": [
    "import numpy as np\n",
    "a = 0.5*np.arange(10) #Tạo một numpy.ndarray từ 0 đến 9 mỗi phần tử nhân với 0.5\n",
    "print(\"Mảng a là: \", a)\n",
    "\n",
    "a[[1, 3, 5]] = 1 #Thay đổi a[1], a[3], a[5] = 1\n",
    "print(a)\n",
    "\n",
    "a[-3:] = np.array([0, -1, -2]) #Thay đổi 3 phần tử cuối của mảng a lần lượt là 0, -1, -2\n",
    "print(a)\n",
    "\n",
    "#a[::2] Được sử dụng để lấy 1 phần của mảng a với 1 bước nhảy là 2,tức là chỉ lấy các phần tử có chỉ số chắn\n",
    "print(a[::2])\n",
    "\n",
    "#a[::-1] Các phần tử được lấy từ cuối mảng đến đầu mảng, với bước là -1.Bước âm có nghĩa là di chuyển ngược\n",
    "print(a[::-1])"
   ]
  },
  {
   "cell_type": "raw",
   "id": "bc673086-8171-475b-a7cc-e90227ff0f0e",
   "metadata": {},
   "source": [
    "Bài tập: Cho trước một số tự nhiên n. Tạo một mảng có n phần tử mà các phần tử có chỉ số chẵn (bắt đầu từ 0) là một cấp số cộng bắt đầu từ 2, công sai bằng -0.5; các phần tử có chỉ số lẻ bằng -1.\n",
    "\n",
    "Ví dụ:\n",
    "\n",
    "Với n=4, kết quả trả về là mảng [ 2. -1. 1.5 -1. ]. Với n=5, kết quả trả về là mảng [ 2. -1. 1.5 -1. 1. ]."
   ]
  },
  {
   "cell_type": "code",
   "execution_count": 98,
   "id": "d9793da2-75d0-408f-9a8f-cb525261966e",
   "metadata": {},
   "outputs": [
    {
     "name": "stdout",
     "output_type": "stream",
     "text": [
      "[ 2.  -1.   1.5 -1. ]\n"
     ]
    }
   ],
   "source": [
    "import numpy as np\n",
    "n=4\n",
    "mang= np.zeros(n)\n",
    "#Cập nhật các phần tử có chỉ số chẵn\n",
    "mang[::2] = 2 + np.arange(n // 2) * -0.5\n",
    "#Cập nhật các phần tử có chỉ số lẻ\n",
    "mang[1::2] = -1\n",
    "print(mang)\n"
   ]
  },
  {
   "cell_type": "markdown",
   "id": "c9d6fa05-49c3-453f-90b8-22a4a4d89a0a",
   "metadata": {},
   "source": [
    "# 1.6. Tính toán giữa các mảng một chiều và số vô hướng"
   ]
  },
  {
   "cell_type": "markdown",
   "id": "84249762-c072-4f24-9b26-29786548f69b",
   "metadata": {},
   "source": [
    "## 1.6.1. Phép toán giữa mảng một chiều với một số vô hướng."
   ]
  },
  {
   "cell_type": "code",
   "execution_count": 101,
   "id": "ca4c69b7-9b62-484e-acfd-c44212429131",
   "metadata": {},
   "outputs": [
    {
     "data": {
      "text/plain": [
       "array([4, 5, 6])"
      ]
     },
     "execution_count": 101,
     "metadata": {},
     "output_type": "execute_result"
    }
   ],
   "source": [
    "x = np.array([1, 2, 3])\n",
    "a = 3  \n",
    "x + a #Cộng mọi phần tử (tất cả) trong mảng 1 chiều a với x \n",
    "#Tương tự với +, -, x, /, **"
   ]
  },
  {
   "cell_type": "markdown",
   "id": "21386802-11f0-4270-9fdb-56e413a98099",
   "metadata": {},
   "source": [
    "## 1.6.2. Phép toán giữa hai mảng một chiều"
   ]
  },
  {
   "cell_type": "code",
   "execution_count": 106,
   "id": "4165441d-3915-4e0c-adf4-e17fce4c42db",
   "metadata": {},
   "outputs": [
    {
     "name": "stdout",
     "output_type": "stream",
     "text": [
      "[ 4 10 18]\n",
      "[  1  32 729]\n"
     ]
    }
   ],
   "source": [
    "x = np.array([1, 2, 3])\n",
    "y = np.array([4, 5, 6])\n",
    "print(x*y) #Lấy từng cặp phần tử tương ứng của hai mảng để tính toán rồi lấy kết quả.Trả về số phần tử như nhau\n",
    "#Tương tự với +, -, x, /, **\n",
    "#Lưu ý số phần tử của 2 mảng phải như nhau\n",
    "print(x ** y)"
   ]
  },
  {
   "cell_type": "markdown",
   "id": "2cb872a3-6ddb-495a-a362-02e5d598465a",
   "metadata": {},
   "source": [
    "## 1.6.3. Các hàm toán học"
   ]
  },
  {
   "cell_type": "raw",
   "id": "6c90afda-039e-4050-b488-8dd487600b59",
   "metadata": {},
   "source": [
    "#Các hàm toán học trong numpy cũng áp dụng lên từng phần tử của mảng như:\n",
    "np.abs(x): Trả về giá trị tuyệt đối của từng phần tử trong mảng x\n",
    "np.log(x): Trả về logarithm tự nhiên (logarit cơ số e) của từng phần tử trong mảng x \n",
    "np.exp(x) : Trả về e mũ của từng phần tử trong mảng x\n",
    "np.sin, np.cos, np.tan :Trả về sin, cos, và tan của từng phần tử trong mảng x\n",
    "#Lưu ý: Lưu ý rằng np.tan(x) trả về giá trị vô hạn (inf) cho np.pi/2 vì tan(90 độ) là vô hạn.\n",
    "np.sum(x) sẽ trả về tổng các phần tử của mảng một chiều x"
   ]
  },
  {
   "cell_type": "raw",
   "id": "fb6160ff-16a7-4b30-b31a-050a3537d183",
   "metadata": {},
   "source": [
    "Bài tập: Cho một mảng 1 chiều x, tính mảng y và z sao cho y[i] = pi/2 - x[i] và z[i] = cos(x[i]) - sin(x[i]). Sau đó trả về tổng các phần tử của z"
   ]
  },
  {
   "cell_type": "code",
   "execution_count": 114,
   "id": "f806c424-a2d1-4e4c-9fd9-abddea0081b1",
   "metadata": {},
   "outputs": [
    {
     "name": "stdout",
     "output_type": "stream",
     "text": [
      "[ 0.57079633 -3.42920367 -5.42920367 -7.42920367 -4.42920367 -8.42920367]\n",
      "0.6596200563468989\n"
     ]
    }
   ],
   "source": [
    "import numpy as np\n",
    "\n",
    "def calculate_sum_z(x):\n",
    "   y= np.pi/2 - x\n",
    "   print(y)\n",
    "   z= np.cos(x) -np.sin(x)\n",
    "   print(np.sum(z))\n",
    "# Ví dụ sử dụng\n",
    "x = np.array([1,5,7,9,6,10])\n",
    "calculate_sum_z(x)"
   ]
  },
  {
   "cell_type": "markdown",
   "id": "5fc504b7-edf9-40da-877a-555e4e276b61",
   "metadata": {},
   "source": [
    "# 1.7. Norm 1"
   ]
  },
  {
   "cell_type": "raw",
   "id": "a3fe5b24-43a0-45ad-a955-871c1ef4b7b3",
   "metadata": {},
   "source": [
    "Norm 1 (còn được gọi là norm L1) của một mảng số học trong không gian vectơ là tổng giá trị tuyệt đối của từng phần tử của mảng. Đối với mảng một chiều, norm 1 được tính bằng cách cộng tất cả các giá trị tuyệt đối của các phần tử trong mảng.\n",
    "Ví dụ, giả sử có một mảng x=[2,−3,1,5], ta có:\n",
    "∥x∥1 = ∣2∣+∣−3∣+∣1∣+∣5∣=2+3+1+5=11  \n",
    "Do đó norm 1 của mảng x là 11."
   ]
  },
  {
   "cell_type": "raw",
   "id": "b745b705-b9d7-4a6d-8722-319ad1941fdf",
   "metadata": {},
   "source": [
    "Bài tập:\n",
    "\n",
    "Viết hàm số tính tổng trị tuyệt đối các phần tử của một mảng một chiều.\n",
    "\n",
    "(Gợi ý: np.abs.)"
   ]
  },
  {
   "cell_type": "code",
   "execution_count": 117,
   "id": "9e375979-42e9-4a69-80db-085871017bbc",
   "metadata": {},
   "outputs": [
    {
     "name": "stdout",
     "output_type": "stream",
     "text": [
      "38\n"
     ]
    }
   ],
   "source": [
    "import numpy as np\n",
    "x = np.array([1,5,7,9,6,10])\n",
    "x_abs= np.abs(x)\n",
    "print(np.sum(x_abs)) #In ra norm 1 của x"
   ]
  },
  {
   "cell_type": "markdown",
   "id": "cf3e3f8c-311f-4b06-9d74-86fb91e3f050",
   "metadata": {},
   "source": [
    "# 1.8. Hàm Softmax cho mảng một chiều"
   ]
  },
  {
   "cell_type": "raw",
   "id": "376cf629-d00b-43f5-889f-fc11f7cf7909",
   "metadata": {},
   "source": [
    "Hàm softmax được sử dụng để chuyển đổi một mảng số học thành một phân phối xác suất. Điều này làm cho mỗi phần tử trong mảng trở thành một giá trị xác suất, sao cho tổng của tất cả các giá trị là 1.\n",
    "\n",
    "Cho một mảng một chiều (mảng số học) z hàm softmax của mảng z được định nghĩa là từng phần tử của softmax(z) được tính là e mũ từng phần tử của z chia cho tổng của tất cả các giá trị mũ e của mảng z"
   ]
  },
  {
   "cell_type": "raw",
   "id": "2f07af27-57db-4436-93f9-0f8e52d4720e",
   "metadata": {},
   "source": [
    "Bài tập: Hãy lập trình hàm softmax.\n",
    "\n",
    "Gợi ý: Sử dụng hàm np.exp()."
   ]
  },
  {
   "cell_type": "code",
   "execution_count": 120,
   "id": "7e12447c-b8d1-45a4-88ea-8233120a359e",
   "metadata": {},
   "outputs": [
    {
     "name": "stdout",
     "output_type": "stream",
     "text": [
      "[0.01165623 0.03168492 0.08612854 0.23412166 0.63640865]\n"
     ]
    }
   ],
   "source": [
    "import numpy as np\n",
    "sm = np.array([1.0, 2.0, 3.0,4.0,5.0])\n",
    "def softmax(z):\n",
    "    exp_z = np.exp(z) #Trả về e mũ của từng phần tử trong mảng x\n",
    "    sum_exp_z = np.sum(exp_z) # Tính tổng của tất cả các giá trị mũ e\n",
    "    softmax_result = exp_z / sum_exp_z #Công thức tính softmax\n",
    "    return softmax_result\n",
    "print(softmax(sm))"
   ]
  },
  {
   "cell_type": "markdown",
   "id": "d8050443-b851-46f3-a9e1-cd7a9ec5b9f2",
   "metadata": {},
   "source": [
    "# 1.9. Tích vô hướng của hai vectors - Norm 2"
   ]
  },
  {
   "cell_type": "raw",
   "id": "d2070b69-b70b-41fb-85b0-175ef019ccbc",
   "metadata": {},
   "source": [
    "Tích vô hướng (inner product) của hai vectors x và y có cùng số phần tử được định nghĩa như là: np.sum(x*y), tức lấy x nhân với y theo element-wise rồi tính tổng các phần tử"
   ]
  },
  {
   "cell_type": "code",
   "execution_count": 123,
   "id": "785c2b53-8c97-421d-a511-0ff6dfc9a08e",
   "metadata": {},
   "outputs": [
    {
     "data": {
      "text/plain": [
       "3.0"
      ]
     },
     "execution_count": 123,
     "metadata": {},
     "output_type": "execute_result"
    }
   ],
   "source": [
    "import numpy as np \n",
    "x = np.arange(3) #Tạo mảng x có 3 phần tử từ 0 đến 2\n",
    "y = np.ones(3)  #Tạo mảng y có 3 phần tử đều là số 1.Kiểu số thực\n",
    "np.sum(x*y) #Tính tích vô hướng .Lưu ý phải dùn cho 2 vector có cùng số phần tử "
   ]
  },
  {
   "cell_type": "code",
   "execution_count": 124,
   "id": "041a4063-b63e-449f-a0d4-3f3451726e36",
   "metadata": {},
   "outputs": [
    {
     "data": {
      "text/plain": [
       "3.0"
      ]
     },
     "execution_count": 124,
     "metadata": {},
     "output_type": "execute_result"
    }
   ],
   "source": [
    "x, y = np.arange(3), np.ones(3)\n",
    "x.dot(y)  #Cách khác dùng .dot để tính tích vô hướng hoặc np.dot(x, y)\n"
   ]
  },
  {
   "cell_type": "raw",
   "id": "a480e1ef-fe5a-4b2a-ba84-980543e6935b",
   "metadata": {},
   "source": [
    "Norm 2 của một vector (hay còn được gọi là Euclidean norm hoặc L2 norm) được tính bằng căn bậc hai của tổng bình phương các phần tử trong vector"
   ]
  },
  {
   "cell_type": "raw",
   "id": "e28621be-5dba-4da1-b208-76764c41e209",
   "metadata": {},
   "source": [
    "Bài tập: Tính norm 2 của một vector - vector này được biểu diễn dưới dạng mảng numpy một chiều."
   ]
  },
  {
   "cell_type": "code",
   "execution_count": 133,
   "id": "9daaee6f-979b-4a38-98a8-88ea74acd955",
   "metadata": {},
   "outputs": [
    {
     "name": "stdout",
     "output_type": "stream",
     "text": [
      "8.602325267042627\n"
     ]
    }
   ],
   "source": [
    "#Cách 1:\n",
    "import numpy as np\n",
    "v = np.array([3, 4,7]) #Tạo mảng 1 chiều v\n",
    "def calulate_norm_2(x):\n",
    "    #tính tổng bình phương các phần tử\n",
    "    sum_binhPhuong = np.sum(x ** 2)\n",
    "    print(np.sqrt(sum_binhPhuong))\n",
    "\n",
    "calulate_norm_2(v)"
   ]
  },
  {
   "cell_type": "code",
   "execution_count": 132,
   "id": "206cde5d-9c3c-4185-b77d-f7cfc59cf4f4",
   "metadata": {},
   "outputs": [
    {
     "name": "stdout",
     "output_type": "stream",
     "text": [
      "8.602325267042627\n"
     ]
    }
   ],
   "source": [
    "#Cách 2\n",
    "import numpy as np\n",
    "v = np.array([3, 4,7]) #Tạo mảng 1 chiều v\n",
    "norm_2 = np.linalg.norm(v)\n",
    "print(norm_2)"
   ]
  },
  {
   "cell_type": "markdown",
   "id": "7f471df7-adb8-4015-bcf3-d5582f0ced87",
   "metadata": {},
   "source": [
    "# 1.10. min, max, armin, argmax của mảng một chiều"
   ]
  },
  {
   "cell_type": "markdown",
   "id": "ad73f54e-fa38-4ea6-a6c5-ef90190d0701",
   "metadata": {},
   "source": [
    "## 1.10.1. min, max"
   ]
  },
  {
   "cell_type": "raw",
   "id": "ebf37bf3-fb24-475d-84bf-0669c94ffa84",
   "metadata": {},
   "source": [
    "Để tìm giá trị lớn nhất hay nhỏ nhất của mảng một chiều, chúng ta đơn giản sử dụng hàm np.min hoặc np.max. "
   ]
  },
  {
   "cell_type": "code",
   "execution_count": 137,
   "id": "0562a711-d545-4406-a5ed-69b70c1f10f0",
   "metadata": {},
   "outputs": [
    {
     "name": "stdout",
     "output_type": "stream",
     "text": [
      "-2\n",
      "8\n"
     ]
    }
   ],
   "source": [
    "import numpy as np \n",
    "a = np.arange(10) #Tạo mảng a có 10 phần tử tử 0 đến 9\n",
    "a[-1] = -2 #Thay đổi giá trị cuối cùng của mảng a là -2\n",
    "\n",
    "print(np.min(a)) #Tìm giá trị nhỏ nhất của mảng a hoặc a.min()\n",
    "print(np.max(a)) #Tìm giá trị lớn nhất của mảng a hoặc a.max()\n"
   ]
  },
  {
   "cell_type": "markdown",
   "id": "2d65ceb9-035f-451a-ab58-498a5195c92c",
   "metadata": {},
   "source": [
    "## 1.10.2. argmin, argmax"
   ]
  },
  {
   "cell_type": "raw",
   "id": "58055705-901c-4bb2-8a8e-02754b74fd4b",
   "metadata": {},
   "source": [
    "Để tìm chỉ số mà tại đó mảng một chiều đạt giá trị nhỏ nhất hay lớn nhất, ta có thể sử dụng np.argmin, hoặc np.argmax"
   ]
  },
  {
   "cell_type": "code",
   "execution_count": 138,
   "id": "65ae6e3f-3d72-457a-9828-5f548a8c1c61",
   "metadata": {},
   "outputs": [
    {
     "name": "stdout",
     "output_type": "stream",
     "text": [
      "[ 0  1  2  3  4  5  6  7  8 -2]\n",
      "9\n",
      "8\n"
     ]
    }
   ],
   "source": [
    "#Sử dụng tiếp mảng a ở trên\n",
    "# a= [ 0  1  2  3  4  5  6  7  8 -2]\n",
    "print(np.argmin(a)) #Phần tử nhỏ nhất là -2 có chỉ số là 9  hoặc có thể dùng a.argmin()\n",
    "print( np.argmax(a)) #Phần tử lớn nhất là 8 có chỉ số là 8 hoặc có thể dùng a.argmax()"
   ]
  },
  {
   "cell_type": "raw",
   "id": "bc74a91e-ddd8-4552-bb1c-cdc0812edfc0",
   "metadata": {},
   "source": [
    "Bài tập: Trong bài toán classification, sử dụng Softmax Regression, giả sử ta đã tính được xác suất để một điểm dữ liệu thuộc vào mỗi class. Các xác suất này được lưu dưới dạng một mảng một chiều mà phần tử thứ i là xác suất để điểm dữ liệu rơi vào lớp i. Nhãn của dữ liệu được dự đoán là chỉ số của lớp mà điểm dữ liệu rơi vào với xác suất cao nhất. Hãy viết một hàm số xác định chỉ số đó.\n",
    "\n",
    "Chú ý: Mảng chứa xác suất này thường được tính bằng cách áp dụng hàm softmax vào score vector. Hàm softmax giữ nguyên thứ tự của vector đầu vào, vì vậy chỉ số của lớp có xác suất cao nhất cũng là chỉ số của lớp có score cao nhất. (Mời bạn đọc thêm bài Softmax Regression để biết thêm chi tiết)."
   ]
  },
  {
   "cell_type": "code",
   "execution_count": 139,
   "id": "4ffa150c-d901-40b9-a2a6-212efd48dfc0",
   "metadata": {},
   "outputs": [
    {
     "name": "stdout",
     "output_type": "stream",
     "text": [
      "Predicted class index: 1\n"
     ]
    }
   ],
   "source": [
    "import numpy as np\n",
    "\n",
    "def predict_class(probabilities):\n",
    "    # Sử dụng np.argmax để tìm chỉ số của phần tử có giá trị lớn nhất\n",
    "    predicted_class_index = np.argmax(probabilities)\n",
    "    return predicted_class_index\n",
    "\n",
    "\n",
    "probabilities = np.array([0.2, 0.6, 0.1, 0.1]) #Tạo 1 mảng xác xuất mẫu\n",
    "\n",
    "predicted_class = predict_class(probabilities)\n",
    "print(\"Predicted class index:\", predicted_class) #Xác xuất cao nhất là 0.6 ở vị trí số 1"
   ]
  },
  {
   "cell_type": "markdown",
   "id": "0b64ac97-9a67-416c-8dea-6f318a2bcf3d",
   "metadata": {},
   "source": [
    "# Softmax II - Phiên bản ổn định"
   ]
  },
  {
   "cell_type": "raw",
   "id": "290826f9-9545-4cdd-b169-91215445218c",
   "metadata": {},
   "source": [
    "Bài tập: Dựa vào công thức phía trên, hay viết hàm softmax_stable, lấy đầu vào là một mảng một chiều (là score vector z), trả về một mảng một chiều bao gồm toàn bộ các ai theo công thức. So sánh kết quả tìm được với kết quả của hàm softmax đã thực hiện trước đây."
   ]
  },
  {
   "cell_type": "code",
   "execution_count": 144,
   "id": "b3fb5ae1-6d2f-44e7-89b5-eede1d1f9cdb",
   "metadata": {},
   "outputs": [
    {
     "name": "stdout",
     "output_type": "stream",
     "text": [
      "Softmax Stable Result: [0.01165623 0.03168492 0.08612854 0.23412166 0.63640865]\n",
      "Original Softmax Result: [0.01165623 0.03168492 0.08612854 0.23412166 0.63640865]\n"
     ]
    }
   ],
   "source": [
    "import numpy as np\n",
    "\n",
    "def softmax_Moi(z):\n",
    "    c = np.max(z) #giá trị lớn nhất của mảng z\n",
    "    exp_z = np.exp(z - c)\n",
    "    # Tính softmax ổn định\n",
    "    softmax_result = exp_z / np.sum(exp_z)\n",
    "    return softmax_result\n",
    "    \n",
    "def softmax_Cu(z):\n",
    "    exp_z = np.exp(z) #Trả về e mũ của từng phần tử trong mảng x\n",
    "    sum_exp_z = np.sum(exp_z) # Tính tổng của tất cả các giá trị mũ e\n",
    "    softmax_result = exp_z / sum_exp_z #Công thức tính softmax\n",
    "    return softmax_result\n",
    "\n",
    "z = np.array([1.0, 2.0, 3.0, 4.0, 5.0])\n",
    "\n",
    "result_stable = softmax_Moi(z)\n",
    "print(\"Softmax Stable Result:\", result_stable)\n",
    "\n",
    "# Gọi hàm softmax và in kết quả (so sánh với hàm softmax trước đây)\n",
    "result_original = softmax_Cu(z)\n",
    "print(\"Original Softmax Result:\", result_original)"
   ]
  },
  {
   "cell_type": "code",
   "execution_count": 143,
   "id": "c45a00e8-5eb9-4384-b650-60e61f48f6c0",
   "metadata": {},
   "outputs": [
    {
     "name": "stdout",
     "output_type": "stream",
     "text": [
      "Softmax Stable Result: [0. 0. 0. 0. 1.]\n",
      "Original Softmax Result: [nan nan nan nan nan]\n"
     ]
    },
    {
     "name": "stderr",
     "output_type": "stream",
     "text": [
      "C:\\Users\\Khoi Nguyen\\AppData\\Local\\Temp\\ipykernel_4148\\992778302.py:11: RuntimeWarning: overflow encountered in exp\n",
      "  exp_z = np.exp(z) #Trả về e mũ của từng phần tử trong mảng x\n",
      "C:\\Users\\Khoi Nguyen\\AppData\\Local\\Temp\\ipykernel_4148\\992778302.py:13: RuntimeWarning: invalid value encountered in divide\n",
      "  softmax_result = exp_z / sum_exp_z #Công thức tính softmax\n"
     ]
    }
   ],
   "source": [
    "import numpy as np\n",
    "\n",
    "def softmax_Moi(z):\n",
    "    c = np.max(z) #giá trị lớn nhất của mảng z\n",
    "    exp_z = np.exp(z - c)\n",
    "    # Tính softmax ổn định\n",
    "    softmax_result = exp_z / np.sum(exp_z)\n",
    "    return softmax_result\n",
    "    \n",
    "def softmax_Cu(z):\n",
    "    exp_z = np.exp(z) #Trả về e mũ của từng phần tử trong mảng x\n",
    "    sum_exp_z = np.sum(exp_z) # Tính tổng của tất cả các giá trị mũ e\n",
    "    softmax_result = exp_z / sum_exp_z #Công thức tính softmax\n",
    "    return softmax_result\n",
    "\n",
    "z = np.array([1000.0, 2000.0, 3000.0, 4000.0, 5000.0])\n",
    "\n",
    "result_stable = softmax_Moi(z)\n",
    "print(\"Softmax Stable Result:\", result_stable)\n",
    "\n",
    "# Gọi hàm softmax và in kết quả (so sánh với hàm softmax trước đây)\n",
    "result_original = softmax_Cu(z)\n",
    "print(\"Original Softmax Result:\", result_original)\n",
    "\n",
    "#Ví dụ trên cho thấy score vector z chứa các số lớn, và bạn có thể thấy rõ sự khác biệt giữa\n",
    "#kết quả của hàm softmax và softmax_stable. Khi sử dụng hàm softmax,có thể gặp vấn đề tràn số\n",
    "#trong khi hàm softmax_stable giữ được tính ổn định"
   ]
  },
  {
   "cell_type": "code",
   "execution_count": null,
   "id": "835805d0-a7bd-4f3d-a39d-a380f54da332",
   "metadata": {},
   "outputs": [],
   "source": []
  }
 ],
 "metadata": {
  "kernelspec": {
   "display_name": "Python 3 (ipykernel)",
   "language": "python",
   "name": "python3"
  },
  "language_info": {
   "codemirror_mode": {
    "name": "ipython",
    "version": 3
   },
   "file_extension": ".py",
   "mimetype": "text/x-python",
   "name": "python",
   "nbconvert_exporter": "python",
   "pygments_lexer": "ipython3",
   "version": "3.8.5"
  }
 },
 "nbformat": 4,
 "nbformat_minor": 5
}
