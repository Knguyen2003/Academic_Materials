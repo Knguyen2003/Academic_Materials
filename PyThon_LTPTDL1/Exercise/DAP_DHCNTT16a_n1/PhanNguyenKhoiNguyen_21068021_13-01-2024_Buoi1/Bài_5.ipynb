{
 "cells": [
  {
   "cell_type": "markdown",
   "id": "a553c621-0a51-48f6-8dfd-0c30dbca56d4",
   "metadata": {},
   "source": [
    "# Phan Nguyễn Khôi Nguyên - 21068021"
   ]
  },
  {
   "cell_type": "markdown",
   "id": "7f535a87-a683-40df-8d93-3c8ca607d581",
   "metadata": {},
   "source": [
    "# 2.0. Mảng nhiều chiều"
   ]
  },
  {
   "cell_type": "raw",
   "id": "c788de82-b291-4978-94ee-747a334829b9",
   "metadata": {},
   "source": [
    "Trong Numpy, người ta thường dùng mảng numpy hai chiều để thể hiện một ma trận. Mảng hai chiều có thể coi là một mảng của các mảng một chiều. Trong đó, mỗi mảng nhỏ một chiều tương ứng với một hàng của ma trận."
   ]
  },
  {
   "cell_type": "code",
   "execution_count": 8,
   "id": "f91a45e3-0b3c-4953-91b0-5a73e9eff23f",
   "metadata": {},
   "outputs": [
    {
     "name": "stdout",
     "output_type": "stream",
     "text": [
      "[[1 2]\n",
      " [3 4]]\n"
     ]
    }
   ],
   "source": [
    "import numpy as np\n",
    "a= np.array([[1, 2],\n",
    "       [3, 4]])\n",
    "#[1, 2] và [3, 4] thể hiện các hàng của ma trận (mảng 1 chiều)\n",
    "print(a)"
   ]
  },
  {
   "cell_type": "raw",
   "id": "dba47654-276d-4d57-9131-98b3cdf9a43d",
   "metadata": {},
   "source": [
    "Lưu ý: \n",
    "Một mảng numpy hoàn toàn có thể có nhiều hơn hai chiều. Khi đó ta vẫn đi từ cặp ngoặc vuông ngoài cùng vào tới trong cùng, axis cũng đi từ 0, 1, ... theo thứ tự đó.\n",
    "\n",
    "Mỗi mảng con phải có số phần tử bằng nhau, thể hiện cho việc mỗi hàng của ma trận phải có số chiều như nhau, không có hàng nào thò ra thụt vào.\n",
    "\n",
    "Khi làm việc với các thư viện cho Machine Learning, mỗi điểm dữ liệu thường được coi là một mảng một chiều. Tập hợp các điểm dữ liệu thường được lưu trong một ma trận - tức mảng của các mảng một chiều. Trong ma trận này, mỗi hàng tương ứng với một điểm dữ liệu."
   ]
  },
  {
   "cell_type": "markdown",
   "id": "5aa70d10-27c2-4c7a-9afd-aef2b2078dc0",
   "metadata": {},
   "source": [
    "# 2.1. Khởi tạo một ma trận"
   ]
  },
  {
   "cell_type": "markdown",
   "id": "095acf79-7019-44e7-940b-508207b01d4b",
   "metadata": {},
   "source": [
    "## 2.1.1. Khởi tạo một ma trận"
   ]
  },
  {
   "cell_type": "code",
   "execution_count": 10,
   "id": "7cbeaf22-67f4-481b-82f9-3c902f10d4a8",
   "metadata": {},
   "outputs": [
    {
     "data": {
      "text/plain": [
       "array([[1, 2],\n",
       "       [3, 4]])"
      ]
     },
     "execution_count": 10,
     "metadata": {},
     "output_type": "execute_result"
    }
   ],
   "source": [
    "import numpy as np\n",
    "A = np.array([[1, 2], [3, 4]]) #Khởi tạo ma trận\n",
    "A\n",
    "#Lưu ý: nếu khai báo một mảng numpy ,nếu có ít nhất một phần tử của mảng là kiểu float thì tất \n",
    "#cả các phần tử trong mảng sẽ đều được coi là kiểu float"
   ]
  },
  {
   "cell_type": "code",
   "execution_count": 15,
   "id": "c6d51cde-ffdb-4c97-ae84-a7b19869e3d6",
   "metadata": {},
   "outputs": [
    {
     "name": "stdout",
     "output_type": "stream",
     "text": [
      "<class 'numpy.float64'>\n"
     ]
    }
   ],
   "source": [
    "import numpy as np\n",
    "B = np.array([[1, 2, 3], [4, 5, 6]], dtype = float) #dtype Chỉ định các phần tử trong mảng là kiểu float \n",
    "print(type(B[0][0]))"
   ]
  },
  {
   "cell_type": "raw",
   "id": "21fa555e-41e1-491e-8666-1e4ea6f929c9",
   "metadata": {},
   "source": [
    "Bài tập: \n",
    "Khai báo một mảng numpy hai chiều A mô tả ma trnậ"
   ]
  },
  {
   "cell_type": "code",
   "execution_count": 16,
   "id": "fbd107b8-b305-45c0-a89a-42aae57133f6",
   "metadata": {},
   "outputs": [
    {
     "name": "stdout",
     "output_type": "stream",
     "text": [
      "[[1 2 3]\n",
      " [4 5 6]\n",
      " [7 8 9]]\n"
     ]
    }
   ],
   "source": [
    "import numpy as np\n",
    "A = np.array([[1,2,3],[4,5,6],[7,8,9]])\n",
    "print(A)"
   ]
  },
  {
   "cell_type": "markdown",
   "id": "85e0be59-0f0d-4abc-9f4d-5ccf3d47919e",
   "metadata": {},
   "source": [
    "# 2.2. Ma trận đơn vị và ma trận đường chéo"
   ]
  },
  {
   "cell_type": "markdown",
   "id": "0ebe889e-4147-40d3-b48b-d65001de167f",
   "metadata": {},
   "source": [
    "## 2.2.1. Ma trận đơn vị"
   ]
  },
  {
   "cell_type": "raw",
   "id": "d9bf4e97-20d1-4753-b511-d2230921603e",
   "metadata": {},
   "source": [
    "Để tạo một ma trận đơn vị có số chiều bằng n (ma trận đơn vị là một ma trận vuông có tất cả các phần tử trên đường chéo bằng 1), chúng ta sử dụng hàm np.eye()"
   ]
  },
  {
   "cell_type": "code",
   "execution_count": 18,
   "id": "7ab84ab4-d7cd-4847-98f1-f176309939f9",
   "metadata": {},
   "outputs": [
    {
     "data": {
      "text/plain": [
       "array([[1., 0., 0.],\n",
       "       [0., 1., 0.],\n",
       "       [0., 0., 1.]])"
      ]
     },
     "execution_count": 18,
     "metadata": {},
     "output_type": "execute_result"
    }
   ],
   "source": [
    "import numpy as np \n",
    "np.eye(3) #Tạo ma trận đơn vị có số chiều bằng 3"
   ]
  },
  {
   "cell_type": "code",
   "execution_count": 21,
   "id": "a42fe935-62e5-41f7-b9be-39e0223b7673",
   "metadata": {},
   "outputs": [
    {
     "name": "stdout",
     "output_type": "stream",
     "text": [
      "[[0. 1. 0.]\n",
      " [0. 0. 1.]\n",
      " [0. 0. 0.]]\n",
      "\n",
      "\n",
      "[[0. 0. 0. 0.]\n",
      " [0. 0. 0. 0.]\n",
      " [1. 0. 0. 0.]\n",
      " [0. 1. 0. 0.]]\n"
     ]
    }
   ],
   "source": [
    "print(np.eye(3, k = 1)) #Với k=1 tạo đường chéo phụ phía trên đường chéo chính 1\n",
    "print(\"\\n\")\n",
    "print(np.eye(4, k= -2)) #Với k=-2 tạo đường chéo phụ phía dưới đường chéo chính 2\n"
   ]
  },
  {
   "cell_type": "markdown",
   "id": "4382e3c0-19df-4614-8970-63c264d59d46",
   "metadata": {},
   "source": [
    "## 2.2.2. Ma trận đường chéo"
   ]
  },
  {
   "cell_type": "code",
   "execution_count": 28,
   "id": "47f68a9d-0a67-42d8-b138-f4304682d748",
   "metadata": {},
   "outputs": [
    {
     "name": "stdout",
     "output_type": "stream",
     "text": [
      "[[1 0 0]\n",
      " [0 3 0]\n",
      " [0 0 4]]\n",
      "[1 3 4]\n"
     ]
    }
   ],
   "source": [
    "#np.diag Hàm này tạo ra một ma trận vuông có đường chéo chứa các phần tử \n",
    "#từ mảng đầu vào và các phần tử nằm ngoài đường chéo đều là 0.\n",
    "\n",
    "print(np.diag([1, 3, 4])) \n",
    "#Do đầu vào là mảng 1 chiều nên trả về mảng 2 chiều thể hiện ma trận \n",
    "#có đường chéo lần lượt là các phần tử của mảng 1 chiều\n",
    "\n",
    "print(np.diag(np.diag([1, 3, 4])))\n",
    "#Do đầu vào là một mảng 2 chiều (có thể không vuông) nên trả về mảng 1\n",
    "#chiều chứa các giá trị ở hàng thứ i\n"
   ]
  },
  {
   "cell_type": "code",
   "execution_count": 29,
   "id": "7da226a1-09f4-462a-ad9d-bd867a0b5f93",
   "metadata": {},
   "outputs": [
    {
     "name": "stdout",
     "output_type": "stream",
     "text": [
      "[[1 2 3]\n",
      " [4 5 6]\n",
      " [7 8 9]]\n"
     ]
    },
    {
     "data": {
      "text/plain": [
       "array([2, 6])"
      ]
     },
     "execution_count": 29,
     "metadata": {},
     "output_type": "execute_result"
    }
   ],
   "source": [
    "a = np.array([\n",
    "    [1, 2, 3], \n",
    "    [4, 5, 6], \n",
    "    [7, 8, 9]\n",
    "])\n",
    "print(a)\n",
    "\n",
    "np.diag(a, k = 1) #Lấy đường chéo phụ của ma trận a với k =1 là lấy trên\n",
    "# ma trận chính 1 "
   ]
  },
  {
   "cell_type": "raw",
   "id": "e8c73993-e605-461f-b8f8-54466fa07fed",
   "metadata": {},
   "source": [
    "Bài tập: Với một số tự nhiên n, hãy viết hàm trả về ma trận có dạng đường chéo phụ ngay dưới đường chéo chính nhận các giá trị từ 1 đến \n",
    "n. Các thành phần là kiểu số nguyên."
   ]
  },
  {
   "cell_type": "code",
   "execution_count": 33,
   "id": "04f46174-375f-4ae6-82f6-9c2dd4cdd913",
   "metadata": {},
   "outputs": [
    {
     "name": "stdout",
     "output_type": "stream",
     "text": [
      "[[0 0 0 0 0 0]\n",
      " [0 0 0 0 0 0]\n",
      " [0 1 0 0 0 0]\n",
      " [0 0 2 0 0 0]\n",
      " [0 0 0 3 0 0]\n",
      " [0 0 0 0 4 0]]\n"
     ]
    }
   ],
   "source": [
    "import numpy as np\n",
    "n=5\n",
    "A= np.diag(np.arange(5),k=-1) \n",
    "print(A)"
   ]
  },
  {
   "cell_type": "markdown",
   "id": "fffb024a-a44b-4c90-8092-4a26cec6990e",
   "metadata": {},
   "source": [
    "# 2.3. Kích thước của ma trận"
   ]
  },
  {
   "cell_type": "code",
   "execution_count": 34,
   "id": "fe7b064a-b217-4529-82bb-1be663b59a49",
   "metadata": {},
   "outputs": [
    {
     "name": "stdout",
     "output_type": "stream",
     "text": [
      "[[ 1  2  3  4]\n",
      " [ 5  6  7  8]\n",
      " [ 9 10 11 12]]\n",
      "(3, 4)\n"
     ]
    }
   ],
   "source": [
    "import numpy as np \n",
    "A = np.array([[1, 2, 3, 4], [5, 6, 7, 8], [9, 10, 11, 12]])\n",
    "print(A)\n",
    "print(A.shape) #Tương tự mảng 1 chiều ,tìm kích thức sử dụng .shape\n",
    "#Trả ra kết quả là (3,4) với 3 là số hàng và 4 là số cột"
   ]
  },
  {
   "cell_type": "code",
   "execution_count": 39,
   "id": "2ddedcc7-8ba8-429e-ac32-4a4637d49199",
   "metadata": {},
   "outputs": [
    {
     "name": "stdout",
     "output_type": "stream",
     "text": [
      "Số hàng 3\n",
      "Số cột 4\n"
     ]
    }
   ],
   "source": [
    "#Tiếp tục sử dụng mảng A ở trên\n",
    "print(\"Số hàng\",A.shape[0]) #Trả ra số hàng\n",
    "print(\"Số cột\",A.shape[1]) #Trả ra số cột\n"
   ]
  },
  {
   "cell_type": "markdown",
   "id": "e229f24f-0a8f-4cae-85d9-badbf2356667",
   "metadata": {},
   "source": [
    "# 2.4. Truy cập vào từng phần tử của ma trận"
   ]
  },
  {
   "cell_type": "markdown",
   "id": "8a08f9aa-2339-4b62-8f21-12b64c85bdb2",
   "metadata": {},
   "source": [
    "## 2.4.1. Truy cập vào từng phần tử"
   ]
  },
  {
   "cell_type": "raw",
   "id": "800e2e7c-d3cf-4dca-b99d-d5f8b475b598",
   "metadata": {},
   "source": [
    "Có hai cách để truy cập vào mỗi phần tử của mảng hai chiều:"
   ]
  },
  {
   "cell_type": "markdown",
   "id": "9b17ff42-132d-4205-82fc-b3ed81cf2cc2",
   "metadata": {},
   "source": [
    "### 2.4.1.1. Cách 1: giống với list"
   ]
  },
  {
   "cell_type": "code",
   "execution_count": 42,
   "id": "d0f7a4ef-4f78-4e92-bd9e-42b061ee51fc",
   "metadata": {},
   "outputs": [
    {
     "name": "stdout",
     "output_type": "stream",
     "text": [
      "6\n"
     ]
    }
   ],
   "source": [
    "import numpy as np \n",
    "A = np.array([\n",
    "    [1, 2, 3], \n",
    "    [4, 5, 6], \n",
    "    [7, 8, 9]\n",
    "])\n",
    "print(A[1][2]) #A[i][j] : trả về phần tử ở hàng i cột j của mảng A (chỉ số bắt đầu từ 0)\n",
    "\n",
    "#A[1] chính lả mảng một chiều [4, 5, 6], trong mảng này, ta lấy phần tử \n",
    "#có chỉ số là 2, phần tử đó có giá trị là 6. Vậy A[1][2] = 6."
   ]
  },
  {
   "cell_type": "markdown",
   "id": "f7be2b12-19ec-457c-b835-c47eed82a689",
   "metadata": {},
   "source": [
    "### 2.4.1.2. Cách 2: giống như Matlab"
   ]
  },
  {
   "cell_type": "code",
   "execution_count": 43,
   "id": "3f6091cc-e9d8-4ac0-83a3-95582dfc5fc6",
   "metadata": {},
   "outputs": [
    {
     "name": "stdout",
     "output_type": "stream",
     "text": [
      "8\n"
     ]
    }
   ],
   "source": [
    "import numpy as np \n",
    "A = np.array([\n",
    "    [1, 2, 3], \n",
    "    [4, 5, 6], \n",
    "    [7, 8, 9]\n",
    "])\n",
    "print(A[2, 1]) #Tương tự như trên nhưng bộ chỉ số sẽ được đặt trong dấu ngoặc vuông []\n",
    "#Trả về phần tử của mảng A ở hàng 2 cột 1 ==> 8"
   ]
  },
  {
   "cell_type": "markdown",
   "id": "8bc44e2b-7f3d-4a6f-9ace-d054b8dffa57",
   "metadata": {},
   "source": [
    "# 2.4.2. Truy cập vào hàng/cột"
   ]
  },
  {
   "cell_type": "code",
   "execution_count": 45,
   "id": "c55d2ef1-ee76-4498-8902-6210244ccb3c",
   "metadata": {},
   "outputs": [
    {
     "name": "stdout",
     "output_type": "stream",
     "text": [
      "[7 8 9]\n",
      "[1 2 3]\n"
     ]
    }
   ],
   "source": [
    "#Sử dụng lại mảng A ở bài trên\n",
    "print(A[2]) #In ra hàng thứ 2 của mảng A(cách 1)\n",
    "print(A[0,:]) #In ra hàng thứ 0 của mảng A(cách 2) "
   ]
  },
  {
   "cell_type": "code",
   "execution_count": 47,
   "id": "8f584150-b9fe-4412-a999-8552a37b00ab",
   "metadata": {},
   "outputs": [
    {
     "name": "stdout",
     "output_type": "stream",
     "text": [
      "[2 5 8]\n"
     ]
    }
   ],
   "source": [
    "#Sử dụng lại mảng A ở bài trên\n",
    "print(A[:, 1]) #In ra cột thứ 1 của mảng A"
   ]
  },
  {
   "cell_type": "raw",
   "id": "2d7f2b2c-928a-48cb-bd0d-2d9d6382a834",
   "metadata": {},
   "source": [
    "#Lưu ý:\n",
    "-Kết quả trả về của một cột hay hàng đều là 1 mảng một chiều,\n",
    "-Khi lấy 1 ma trận nhân với nó, nó vẫn được coi là 1 vector cột.\n",
    "-A[:][1] <==> A[1]  && A[:] <==> Cả ma trận A"
   ]
  },
  {
   "cell_type": "raw",
   "id": "2e480d0c-c034-44c0-975f-ebb4ede7720c",
   "metadata": {},
   "source": [
    "Bài tập: Cho một ma trận A, viết hàm myfunc tính tổng các phần tử trên các cột có chỉ số chẵn (0, 2, 4, ...) của ma trận đó."
   ]
  },
  {
   "cell_type": "code",
   "execution_count": 55,
   "id": "28ad7e10-ebe9-448a-975b-361435ded17b",
   "metadata": {},
   "outputs": [
    {
     "name": "stdout",
     "output_type": "stream",
     "text": [
      "4\n"
     ]
    }
   ],
   "source": [
    "import numpy as np\n",
    "A = np.array([\n",
    "    [1, 2], \n",
    "    [3, 4]\n",
    "])\n",
    "\n",
    "def myfunc(a):\n",
    "    maTranCot =[x for x in a[:,np.arange(0,a.shape[1],2)]]\n",
    "    print(np.sum(maTranCot))\n",
    "myfunc(A)"
   ]
  },
  {
   "cell_type": "markdown",
   "id": "08ee9738-34d7-4e69-bf43-07b190c1be6e",
   "metadata": {},
   "source": [
    "# 2.5. Truy cập vào nhiều phần tử của ma trận"
   ]
  },
  {
   "cell_type": "markdown",
   "id": "a0931b86-84d2-4703-9177-0eb6cbc6ac86",
   "metadata": {},
   "source": [
    "## 2.5.1. Nhiều phần tử trong cùng một hàng"
   ]
  },
  {
   "cell_type": "code",
   "execution_count": 56,
   "id": "660f7810-bbb5-4f98-bf94-74a35672157e",
   "metadata": {},
   "outputs": [
    {
     "name": "stdout",
     "output_type": "stream",
     "text": [
      "[[ 1  2  3  4]\n",
      " [ 5  6  7  8]\n",
      " [ 9 10 11 12]]\n"
     ]
    },
    {
     "data": {
      "text/plain": [
       "array([5, 7])"
      ]
     },
     "execution_count": 56,
     "metadata": {},
     "output_type": "execute_result"
    }
   ],
   "source": [
    "import numpy as np \n",
    "A = np.array([\n",
    "    [1, 2, 3, 4], \n",
    "    [5, 6, 7, 8], \n",
    "    [9, 10, 11, 12]\n",
    "])\n",
    "print(A)\n",
    "A[0, 2:] #Lấy hàng đầu tiên (hàng 0) và lấy từ cột thứ 2 đến hết\n",
    "A[1, range(0, A.shape[1], 2)] # in ra phần tử ở hàng 1 cột 0 và hàng 1 cột 2\n",
    "#range(0, A.shape[1], 2):Tạo mảng từ 0 đến 3 (A.shape[1] = 4) với bước nhảy là 2 ==> [0,2]\n"
   ]
  },
  {
   "cell_type": "markdown",
   "id": "6ab90975-8f8c-4297-92d3-06262114b96b",
   "metadata": {},
   "source": [
    "## 2.5.2. Nhiều phần tử trong cùng một cột"
   ]
  },
  {
   "cell_type": "code",
   "execution_count": 58,
   "id": "dc3f8806-99af-4bb0-9e24-2dc8fa4b730d",
   "metadata": {},
   "outputs": [
    {
     "data": {
      "text/plain": [
       "array([ 4, 12])"
      ]
     },
     "execution_count": 58,
     "metadata": {},
     "output_type": "execute_result"
    }
   ],
   "source": [
    "#Sử dụng lại mảng A ở bài trên\n",
    "A[[0, 2], -1] \n",
    "#In ra phẩn tử ở hàng 0 cột -1 (cột cuối)và phần tử ở hàng 2 cột -1 (cột cuối)"
   ]
  },
  {
   "cell_type": "markdown",
   "id": "b3d25b5b-546c-48a2-89a0-7420c276b4ec",
   "metadata": {},
   "source": [
    "## 2.5.3. Nhiều hàng, nhiều cột"
   ]
  },
  {
   "cell_type": "code",
   "execution_count": 63,
   "id": "33f0e893-7b08-443c-ab77-b97a79e9be12",
   "metadata": {},
   "outputs": [
    {
     "name": "stdout",
     "output_type": "stream",
     "text": [
      "[[ 1  2  3  4]\n",
      " [ 5  6  7  8]\n",
      " [ 9 10 11 12]]\n",
      "[[ 5  8]\n",
      " [ 9 12]]\n",
      "[ 5 12]\n"
     ]
    }
   ],
   "source": [
    "#Sử dụng lại mảng A ở bài trên\n",
    "print(A)\n",
    "print(A[[1, 2]][:, [0,3]])\n",
    "\n",
    "#A[[1, 2]][:, [0,3]] : đầu tiên lấy hai hàng có chỉ số 1 và 2 bằng A[[1, 2]], ta được một\n",
    "#ma trận, sau đó lấy hai cột có chỉ số 0 và 3 của ma trận mới này.\n",
    "##Khác với\n",
    "print(A[[1, 2], [0, 3]]) \n",
    "#Đầu tiên lấy 2 hàng  1 và 2 sau đó lấy cột 0 của hàng 1 rồi lấy cột 3 của hàng 2"
   ]
  },
  {
   "cell_type": "markdown",
   "id": "6f1d0291-95a8-4c3b-9cd0-8516f55cc316",
   "metadata": {},
   "source": [
    "## 2.5.4. Cặp các toạ độ"
   ]
  },
  {
   "cell_type": "code",
   "execution_count": 64,
   "id": "b5949618-9403-4fbb-8938-6b5ea4959fd0",
   "metadata": {},
   "outputs": [
    {
     "name": "stdout",
     "output_type": "stream",
     "text": [
      "[ 5 12]\n"
     ]
    }
   ],
   "source": [
    "print(A[[1, 2], [0, 3]]) "
   ]
  },
  {
   "cell_type": "code",
   "execution_count": 66,
   "id": "f22daef2-faee-4fd9-bfa0-b05066857dbf",
   "metadata": {},
   "outputs": [
    {
     "name": "stdout",
     "output_type": "stream",
     "text": [
      "[[ 1  2  3  4]\n",
      " [ 5  6  7  8]\n",
      " [ 9 10 11 12]]\n"
     ]
    },
    {
     "data": {
      "text/plain": [
       "array([5, 9])"
      ]
     },
     "execution_count": 66,
     "metadata": {},
     "output_type": "execute_result"
    }
   ],
   "source": [
    "#Sử dụng lại mảng A ở bài trên\n",
    "print(A)\n",
    "A[[1, 2], [0]] #[1, 2], [0] là list các tọa độ theo mỗi chiều\n",
    "#Do [0] là list có độ dài bằng 1 do đó nó sẽ cặp với mọi phần tử của list còn lại\n",
    "#==>Kết quả trả ra sẽ là hàng 1 cột 0 và hàng 2 cột 0"
   ]
  },
  {
   "cell_type": "raw",
   "id": "7f8d17a2-cb67-40fc-9653-ea02ccc1325d",
   "metadata": {},
   "source": [
    "Bài tập: Viết hàm myfunc tính tổng tất cả các phần tử có cả hai chỉ số đều chẵn của một ma trận A bất kỳ."
   ]
  },
  {
   "cell_type": "code",
   "execution_count": 93,
   "id": "1ec2d8d8-0380-475a-aa2f-48460936c748",
   "metadata": {},
   "outputs": [
    {
     "name": "stdout",
     "output_type": "stream",
     "text": [
      "[[ 1  2  3  4]\n",
      " [ 5  6  7  8]\n",
      " [ 9 10 11 12]]\n",
      "24\n"
     ]
    }
   ],
   "source": [
    "import numpy as np \n",
    "A = np.array([\n",
    "    [1, 2, 3, 4], \n",
    "    [5, 6, 7, 8], \n",
    "    [9, 10, 11, 12]\n",
    "])\n",
    "print(A)\n",
    "\n",
    "def myfunc(a):\n",
    "    tong = 0\n",
    "    for i in np.arange(0, a.shape[0], 2):\n",
    "        for j in np.arange(0, a.shape[1], 2):\n",
    "            tong += a[i][j]\n",
    "    return tong\n",
    "\n",
    "print(myfunc(A))"
   ]
  },
  {
   "cell_type": "code",
   "execution_count": 99,
   "id": "c317239e-e0f4-4a7c-8f46-e576f2c312ef",
   "metadata": {},
   "outputs": [
    {
     "name": "stdout",
     "output_type": "stream",
     "text": [
      "[[ 1  2  3  4]\n",
      " [ 5  6  7  8]\n",
      " [ 9 10 11 12]]\n",
      "[0 2]\n",
      "[0 2]\n",
      "24\n"
     ]
    }
   ],
   "source": [
    "#Cách 2\n",
    "import numpy as np \n",
    "A = np.array([\n",
    "    [1, 2, 3, 4], \n",
    "    [5, 6, 7, 8], \n",
    "    [9, 10, 11, 12]\n",
    "])\n",
    "print(A)\n",
    "\n",
    "def myfunc(a):\n",
    "    A= a[np.arange(0, a.shape[0], 2)][:,np.arange(0, a.shape[1], 2)]\n",
    "    print(np.sum(A))\n",
    "\n",
    "myfunc(A)"
   ]
  },
  {
   "cell_type": "markdown",
   "id": "03994d74-8f6a-4c72-8b27-32af1e64a4a9",
   "metadata": {},
   "source": [
    "# 2.6. np.sum, np.min, np.max, np.mean cho mảng nhiều chiều"
   ]
  },
  {
   "cell_type": "raw",
   "id": "e91d28af-9ff2-461f-b5dc-72eb4fa52da6",
   "metadata": {},
   "source": [
    "axis = 0 là tính theo chiều từ trên xuống dưới, nghĩa là phương của nó cùng với phương của các cột. Tương tự axis = 1 sẽ có phương cùng với phương của các hàng."
   ]
  },
  {
   "cell_type": "code",
   "execution_count": 2,
   "id": "47f9ae81-0673-4f92-b0bb-d56f791b5510",
   "metadata": {},
   "outputs": [
    {
     "name": "stdout",
     "output_type": "stream",
     "text": [
      "[[1. 2. 3. 2.]\n",
      " [4. 3. 7. 4.]\n",
      " [1. 4. 2. 3.]]\n"
     ]
    }
   ],
   "source": [
    "import numpy as np\n",
    "A = np.array([\n",
    "    [1., 2, 3, 2], #Do có 1 phần tử ở đây là kiểu float ==> tất cả các phần tử đều là kiểu float\n",
    "    [4, 3, 7, 4], \n",
    "    [1, 4, 2, 3]])\n",
    "print(A)"
   ]
  },
  {
   "cell_type": "raw",
   "id": "5375ae5f-cb77-46a7-ab2b-1099bf8239cb",
   "metadata": {},
   "source": [
    "==>Tác động lên A theo axis = 0 (tức các cột của A)\n",
    "np.sum() :Tính tổng\n",
    "np.min() :Tính giá trị nhỏ nhất\n",
    "np.max() :Tính giá trị lớn nhất\n",
    "np.mean():Tính giá trị trung bình"
   ]
  },
  {
   "cell_type": "code",
   "execution_count": 10,
   "id": "0d6b9506-aa80-4e41-af7c-983a59b2b254",
   "metadata": {},
   "outputs": [
    {
     "name": "stdout",
     "output_type": "stream",
     "text": [
      "[[1. 2. 3. 2.]\n",
      " [4. 3. 7. 4.]\n",
      " [1. 4. 2. 3.]]\n",
      "Mảng chứa tổng của từng cột trong A là:  [ 6.  9. 12.  9.]\n",
      "Mảng chứa giá trị nhỏ nhất của từng cột trong A là:  [1. 2. 2. 2.]\n",
      "Mảng chứa giá trị lớn nhất của từng cột trong A là:  [4. 4. 7. 4.]\n",
      "Mảng chứa giá trị trung bình của từng cột trong A là:  [2. 3. 4. 3.]\n"
     ]
    }
   ],
   "source": [
    "print(A)\n",
    "print(\"Mảng chứa tổng của từng cột trong A là: \",np.sum(A, axis = 0))\n",
    "#Kết quả trả về là 1 mảng ,với mỗi phần tử là tổng từng cột của A\n",
    "\n",
    "print(\"Mảng chứa giá trị nhỏ nhất của từng cột trong A là: \", np.min(A, axis = 0))\n",
    "#Kết quả trả về là 1 mảng ,với mỗi phần tử là giá trị nhỏ nhất từng cột của A\n",
    "\n",
    "print(\"Mảng chứa giá trị lớn nhất của từng cột trong A là: \",np.max(A, axis = 0))\n",
    "#Kết quả trả về là 1 mảng ,với mỗi phần tử là giá trị lớn nhất từng cột của A\n",
    "\n",
    "print(\"Mảng chứa giá trị trung bình của từng cột trong A là: \",np.mean(A, axis = 0))\n",
    "#Kết quả trả về là 1 mảng ,với mỗi phần tử là giá trị trung bình từng cột của A"
   ]
  },
  {
   "cell_type": "code",
   "execution_count": 11,
   "id": "66afb2b6-9872-4d02-9eb8-763f43a150f9",
   "metadata": {},
   "outputs": [
    {
     "name": "stdout",
     "output_type": "stream",
     "text": [
      "Mảng chứa tổng của từng hàng trong A là:  [ 8. 18. 10.]\n",
      "Mảng chứa giá trị nhỏ nhất của từng hàng trong A là:  [1. 3. 1.]\n",
      "Mảng chứa giá trị lớn nhất của từng hàng trong A là:  [3. 7. 4.]\n",
      "Mảng chứa giá trị trung bình của từng hàng trong A là:  [2.  4.5 2.5]\n"
     ]
    }
   ],
   "source": [
    "#Tương tự như thế khi thay axis = 1, kết quả trả về được tính theo hàng\n",
    "\n",
    "print(\"Mảng chứa tổng của từng hàng trong A là: \",np.sum(A, axis = 1))\n",
    "#Kết quả trả về là 1 mảng ,với mỗi phần tử là tổng từng hàng của A\n",
    "\n",
    "print(\"Mảng chứa giá trị nhỏ nhất của từng hàng trong A là: \", np.min(A, axis = 1))\n",
    "#Kết quả trả về là 1 mảng ,với mỗi phần tử là giá trị nhỏ nhất từng hàng của A\n",
    "\n",
    "print(\"Mảng chứa giá trị lớn nhất của từng hàng trong A là: \",np.max(A, axis = 1))\n",
    "#Kết quả trả về là 1 mảng ,với mỗi phần tử là giá trị lớn nhất từng hàng của A\n",
    "\n",
    "print(\"Mảng chứa giá trị trung bình của từng hàng trong A là: \",np.mean(A, axis = 1))\n",
    "#Kết quả trả về là 1 mảng ,với mỗi phần tử là giá trị trung bình từng hàng của A\n"
   ]
  },
  {
   "cell_type": "code",
   "execution_count": 13,
   "id": "2c5df89d-1f87-458d-b0b8-5a7445acfa85",
   "metadata": {},
   "outputs": [
    {
     "name": "stdout",
     "output_type": "stream",
     "text": [
      "Tổng của ma trận A là:  36.0\n",
      "Gía trị nhỏ nhất của ma trận A là:  1.0\n",
      "Gía trị lớn nhất của ma trận A là:  7.0\n",
      "Gía trị trung bình của ma trận A là:  3.0\n"
     ]
    }
   ],
   "source": [
    "#Nếu không truyền vô axis thì kết quả sẽ được tính trên toàn bộ ma trận\n",
    "\n",
    "print(\"Tổng của ma trận A là: \",np.sum(A))\n",
    "\n",
    "print(\"Gía trị nhỏ nhất của ma trận A là: \", np.min(A))\n",
    "\n",
    "print(\"Gía trị lớn nhất của ma trận A là: \",np.max(A))\n",
    "\n",
    "print(\"Gía trị trung bình của ma trận A là: \",np.mean(A))"
   ]
  },
  {
   "cell_type": "markdown",
   "id": "8e34527d-02d5-4ed6-871b-ddd242dc0ab0",
   "metadata": {},
   "source": [
    "### keepdims = True"
   ]
  },
  {
   "cell_type": "raw",
   "id": "5c41ed53-4cac-461f-af6d-eea483a60516",
   "metadata": {},
   "source": [
    "Khi keepdims = True, nếu sử dụng axis = 0, kết quả sẽ là một mảng hai chiều có chiều thứ nhất bằng 1 (coi như ma trận một hàng). Tương tự, nếu sử dụng axis = 1, kết quả sẽ là một mảng hai chiều có chiều thứ hai bằng 1 (một ma trận có số cột bằng 1)"
   ]
  },
  {
   "cell_type": "code",
   "execution_count": 16,
   "id": "f1fa135b-048d-43b1-b887-fdd62ae552ca",
   "metadata": {},
   "outputs": [
    {
     "name": "stdout",
     "output_type": "stream",
     "text": [
      "[[ 6.  9. 12.  9.]]\n",
      "\n",
      "\n",
      "[[2. ]\n",
      " [4.5]\n",
      " [2.5]]\n"
     ]
    }
   ],
   "source": [
    "print(np.sum(A, axis = 0, keepdims = True)) #keepdims=True: Giữ chiều của kết quả.\n",
    "print(\"\\n\")\n",
    "print(np.mean(A, axis = 1, keepdims = True)) #keepdims=True: Giữ chiều của kết quả."
   ]
  },
  {
   "cell_type": "raw",
   "id": "1264480b-fa6b-4d23-8170-18bbe18f10e1",
   "metadata": {},
   "source": [
    "Bài tập: Cho một ma trận A bất kỳ. Trong mỗi hàng, ta định nghĩa độ biến động của nó là sự khác nhau giữa giá trị lớn nhất và nhỏ nhất của các phần tử trong hàng đó. Hãy viết hàm myfunc trả về tổng độ biến động của tất cả các hàng trong ma trận đó.\n",
    "\n",
    "Ví dụ với ma trận A trong bài học, độ biến động của mỗi hàng lần lượt là 2.0, 4.0, 3.0. Vậy myfunc(A) = 9.0."
   ]
  },
  {
   "cell_type": "code",
   "execution_count": 17,
   "id": "9f264258-aac8-4aa2-9e3d-6a8ad4e77c23",
   "metadata": {},
   "outputs": [
    {
     "name": "stdout",
     "output_type": "stream",
     "text": [
      "[[1. 2. 3. 2.]\n",
      " [4. 3. 7. 4.]\n",
      " [1. 4. 2. 3.]]\n",
      "9.0\n"
     ]
    }
   ],
   "source": [
    "import numpy as np\n",
    "A = np.array([\n",
    "    [1., 2, 3, 2],\n",
    "    [4, 3, 7, 4], \n",
    "    [1, 4, 2, 3]])\n",
    "print(A)\n",
    "\n",
    "def myfunc(a):\n",
    "    min_arr = np.min(a, axis = 1)\n",
    "    max_arr = np.max(a, axis = 1)\n",
    "    biendong= max_arr - min_arr\n",
    "    print(np.sum(biendong))\n",
    "myfunc(A)"
   ]
  },
  {
   "cell_type": "markdown",
   "id": "8255acf4-3f2f-483f-a269-de9a282a66d7",
   "metadata": {},
   "source": [
    "# 2.7. Các phép toán tác động đến mọi phần tử của ma trận"
   ]
  },
  {
   "cell_type": "markdown",
   "id": "c5af9744-b595-42d9-94a2-9dcb5cb31533",
   "metadata": {},
   "source": [
    "## 2.7.1. Tính toán giữa một mảng hai chiều và một số vô hướng"
   ]
  },
  {
   "cell_type": "code",
   "execution_count": 20,
   "id": "9b5f4e6c-cd74-4362-930c-8239ba5b6588",
   "metadata": {},
   "outputs": [
    {
     "name": "stdout",
     "output_type": "stream",
     "text": [
      "[[1 3]\n",
      " [2 5]]\n",
      "[[3 5]\n",
      " [4 7]]\n",
      "[[ 2  6]\n",
      " [ 4 10]]\n",
      "[[ 2  8]\n",
      " [ 4 32]]\n"
     ]
    }
   ],
   "source": [
    "import numpy as np \n",
    "A = np.array([[1, 3], [2, 5]])\n",
    "print(A)\n",
    "\n",
    "print(A + 2)\n",
    "\n",
    "print(A*2)\n",
    "\n",
    "print(2**A)\n",
    "#Từng phần tử của mảng sẽ được kết hợp với số vô hướng bằng các phép toán tương ứng để tạo \n",
    "#ra một mảng mới cùng kích thước"
   ]
  },
  {
   "cell_type": "markdown",
   "id": "48b17311-da55-43fa-b04b-72b6ce0c08a7",
   "metadata": {},
   "source": [
    "## 2.7.2. np.abs, np.sin, np.exp, …"
   ]
  },
  {
   "cell_type": "markdown",
   "id": "3cdc1446-d352-46fd-bdfe-56ad3d2f18d4",
   "metadata": {},
   "source": [
    "A = np.random.randn(2, 3) # create a random numpy array with shape = (2, 3)\n",
    "print(A)\n",
    "\n",
    "np.abs(A) #tính trị tuyệt đối của numpy A\n"
   ]
  },
  {
   "cell_type": "raw",
   "id": "3a4556a5-f537-4ea3-8871-54906c4704ba",
   "metadata": {},
   "source": [
    "Bài tập: Frobenious norm\n",
    "\n",
    "Frobenius norm của một ma trận được định nghĩa là căn bậc hai của tổng bình phương các phần tử của ma trận. Frobenius norm được sử dụng rất nhiều trong các thuật toán Machine Learning vì các tính chất toán học đẹp của nó, trong đó quan trọng nhất là việc đạo hàm của bình phương của nó rất đơn giản. Frobenius norm của một ma trận \n",
    "A được ký hiệu là ||A||F\n",
    "Numpy có sẵn hàm tính toán norm này, tuy nhiên, chúng ta nên học cách tự tính nó trước. Viết hàm norm_fro(A) tính Frobenius norm của một ma trận bất kỳ."
   ]
  },
  {
   "cell_type": "code",
   "execution_count": 32,
   "id": "da042cf2-37dc-49cd-af74-6db2c1bfe1c1",
   "metadata": {},
   "outputs": [
    {
     "name": "stdout",
     "output_type": "stream",
     "text": [
      "[[1 3]\n",
      " [2 5]]\n",
      "6.244997998398398\n"
     ]
    }
   ],
   "source": [
    "A = np.array([\n",
    "    [1, 3], \n",
    "    [2, 5]]\n",
    ")\n",
    "print(A)\n",
    "\n",
    "def norm_fro(A):\n",
    "    a= A ** 2 #Từng phần tử bình phương\n",
    "    print(np.sqrt(np.sum(a))) #Căn tất cả\n",
    "    \n",
    "norm_fro(A)"
   ]
  },
  {
   "cell_type": "markdown",
   "id": "c67fb82a-5619-49e1-a1d6-7cae52e789f4",
   "metadata": {},
   "source": [
    "# 2.8. Các phép toán giữa hai ma trận I"
   ]
  },
  {
   "cell_type": "code",
   "execution_count": 35,
   "id": "2f5273f8-8758-4234-923e-6df9e44b42f9",
   "metadata": {},
   "outputs": [
    {
     "name": "stdout",
     "output_type": "stream",
     "text": [
      "[[ 5. 40.]\n",
      " [14.  9.]]\n",
      "[[1.00000e+00 3.90625e+05]\n",
      " [1.28000e+02 2.70000e+01]]\n"
     ]
    }
   ],
   "source": [
    "import numpy as np \n",
    "A = np.array([[1., 5], [2, 3]])\n",
    "B = np.array([[5., 8], [7, 3]])\n",
    "print(A*B) #Nhân theo từng cặp cùng chỉ số\n",
    "\n",
    "print(A**B) #Mũ theo từng cặp cùng chỉ số"
   ]
  },
  {
   "cell_type": "raw",
   "id": "85f62253-252f-402d-8ce6-96f53e42f7e2",
   "metadata": {},
   "source": [
    "Trong khi làm việc với Machine Learning, chúng ta thường xuyên phải so sánh hai ma trận. Xem xem liệu chúng có gần giống nhau không. Một cách phổ biến để làm việc này là tính bình phương của Frobineous norm của hiệu hai ma trận đó. \n",
    "Cho hai mảng hai chiều có cùng kích thước A và B. Viết hàm dist_fro tính bình phương Frobenious norm của hiệu hai ma trận được mô tả bởi hai mảng đó."
   ]
  },
  {
   "cell_type": "code",
   "execution_count": 9,
   "id": "0d0e5b1e-9249-41be-b7a1-5efc501ee386",
   "metadata": {},
   "outputs": [
    {
     "name": "stdout",
     "output_type": "stream",
     "text": [
      "50.00000000000001\n"
     ]
    }
   ],
   "source": [
    "#Tính bình phương Frobenious norm của hiệu hai ma trận\n",
    "import numpy as np \n",
    "A = np.array([[1., 5], [2, 3]])\n",
    "B = np.array([[5., 8], [7, 3]])\n",
    "\n",
    "def norm_fro(A):\n",
    "    a= A ** 2 #Từng phần tử bình phương\n",
    "    fn= np.sqrt(np.sum(a)) #Căn tất cả\n",
    "    return fn\n",
    "    \n",
    "def dist_fro(A,B):\n",
    "    diff = A -B\n",
    "    print(norm_fro(diff)**2)\n",
    "    \n",
    "dist_fro(A,B)"
   ]
  },
  {
   "cell_type": "markdown",
   "id": "ca4dafb6-66fb-43e6-b09f-9455eacb4b13",
   "metadata": {},
   "source": [
    "# 2.9. Chuyện vị ma trận, Reshape ma trận"
   ]
  },
  {
   "cell_type": "markdown",
   "id": "21d10b7b-7fd5-4357-89e0-2df89de69261",
   "metadata": {},
   "source": [
    "## 2.9.1 Chuyển vị ma trận"
   ]
  },
  {
   "cell_type": "raw",
   "id": "7666cf02-5058-4c44-a758-641bd6b0c657",
   "metadata": {},
   "source": [
    "Có hai cách để lấy chuyển vị của một ma trận: dùng thuộc tính .T hoặc dùng hàm np.transpose:"
   ]
  },
  {
   "cell_type": "code",
   "execution_count": 11,
   "id": "9e135412-ff05-4b55-b19a-00748bb2755e",
   "metadata": {},
   "outputs": [
    {
     "name": "stdout",
     "output_type": "stream",
     "text": [
      "Ma trận gốc [[1 2 3]\n",
      " [4 5 6]]\n",
      "Ma trận chuyển vị [[1 4]\n",
      " [2 5]\n",
      " [3 6]]\n",
      "Ma trận chuyển vị [[1 4]\n",
      " [2 5]\n",
      " [3 6]]\n"
     ]
    }
   ],
   "source": [
    "import numpy as np \n",
    "A = np.array([[1, 2, 3],[4, 5, 6]])\n",
    "print(\"Ma trận gốc\",A)\n",
    "\n",
    "print(\"Ma trận chuyển vị\", A.T) #Cách 1\n",
    "\n",
    "print(\"Ma trận chuyển vị\",np.transpose(A)) #Cách 2"
   ]
  },
  {
   "cell_type": "markdown",
   "id": "39d26686-d444-4ecb-8611-b92290143440",
   "metadata": {},
   "source": [
    "## 2.9.2. Reshape"
   ]
  },
  {
   "cell_type": "raw",
   "id": "b8475e03-ecb7-4ff1-88db-7621e3209735",
   "metadata": {},
   "source": [
    "Phép biến đổi kích thước của ma trận : .reshape hoặc hàm np.reshape"
   ]
  },
  {
   "cell_type": "code",
   "execution_count": 15,
   "id": "9898059f-d7c7-440a-86c0-d3b2c9b6f2c4",
   "metadata": {},
   "outputs": [
    {
     "name": "stdout",
     "output_type": "stream",
     "text": [
      "[[1 2 3]\n",
      " [4 5 6]]\n",
      "[[1 2]\n",
      " [3 4]\n",
      " [5 6]]\n",
      "[[1 2]\n",
      " [3 4]\n",
      " [5 6]]\n"
     ]
    }
   ],
   "source": [
    "print(A)\n",
    "print(np.reshape(A, (3, 2)))\n",
    "\n",
    "print(A.reshape(3, 2))\n"
   ]
  },
  {
   "cell_type": "code",
   "execution_count": 20,
   "id": "b703ed4e-da9c-4d12-8607-dce6c720cd53",
   "metadata": {},
   "outputs": [
    {
     "name": "stdout",
     "output_type": "stream",
     "text": [
      "[[1 2 3]\n",
      " [4 5 6]]\n",
      "[1 2 3 4 5 6]\n",
      "[[[1 2]]\n",
      "\n",
      " [[3 4]]\n",
      "\n",
      " [[5 6]]]\n"
     ]
    }
   ],
   "source": [
    "print(A)\n",
    "\n",
    "print(np.reshape(A, 6)) #Thay đổi mảng A thành  mảng 1 chiều\n",
    "\n",
    "print(A.reshape(3, 1, 2)) #Thay đổi mảng A thành mảng 3 chiều\n",
    "#Tạo 3 khối mỗi khối chứa 1 dòng và có 2 cột"
   ]
  },
  {
   "cell_type": "code",
   "execution_count": 22,
   "id": "58dbf0a8-dcc3-4af3-8d32-a7c387ca83b4",
   "metadata": {},
   "outputs": [
    {
     "name": "stdout",
     "output_type": "stream",
     "text": [
      "[1 2 3 4 5 6]\n",
      "[[1]\n",
      " [2]\n",
      " [3]\n",
      " [4]\n",
      " [5]\n",
      " [6]]\n"
     ]
    }
   ],
   "source": [
    "print(A.reshape(-1)) #-1 python sẽ tự tìm ra kích thước phù hợp để tạo mảng 1 chiều\n",
    "\n",
    "print(np.reshape(A, (6, -1))) #-1 là kích thước do python tự tìm ra giúp mik\n",
    "\n",
    "#Tương tự nếu với mảng 3 chiều thì phải cho biết trước 2 số và số còn lại python sẽ tự tính"
   ]
  },
  {
   "cell_type": "markdown",
   "id": "982a4a95-63fd-4203-82ec-0b0b765cc2df",
   "metadata": {},
   "source": [
    "## 2.9.3. Thứ tự của phép toán reshape"
   ]
  },
  {
   "cell_type": "code",
   "execution_count": 25,
   "id": "085b9508-7111-4c7e-a03d-3fd619805b41",
   "metadata": {},
   "outputs": [
    {
     "name": "stdout",
     "output_type": "stream",
     "text": [
      "[[1 2 3]\n",
      " [4 5 6]]\n"
     ]
    },
    {
     "data": {
      "text/plain": [
       "array([[1, 2],\n",
       "       [3, 4],\n",
       "       [5, 6]])"
      ]
     },
     "execution_count": 25,
     "metadata": {},
     "output_type": "execute_result"
    }
   ],
   "source": [
    "print(A)\n",
    "\n",
    "A.reshape(3, -1, order = 'F')  #Nếu order là F thì đi từ cột rồi tới dòng.Thay đổi kích thước là 3 dòng và cột do python tính"
   ]
  },
  {
   "cell_type": "raw",
   "id": "67361959-f00f-4f4d-a19d-0bfdb9271de6",
   "metadata": {},
   "source": [
    "Bài tập: Hãy tạo ma trận A sau một cách nhanh nhất, không dùng cách thủ công ghi từng phần tử ra."
   ]
  },
  {
   "cell_type": "code",
   "execution_count": 74,
   "id": "f10428ee-8acc-4260-8e08-d889bcbaa4f6",
   "metadata": {},
   "outputs": [
    {
     "name": "stdout",
     "output_type": "stream",
     "text": [
      "[[ 1  5  9  2]\n",
      " [ 6 10  3  7]\n",
      " [11  4  8 12]]\n"
     ]
    }
   ],
   "source": [
    "import numpy as np \n",
    "A = np.arange(1, 13).reshape(3,4).reshape(4,-1,order='F')\n",
    "print(A.T)\n"
   ]
  },
  {
   "cell_type": "markdown",
   "id": "11a7df2a-74b3-4b5c-9361-ee6614bcf34e",
   "metadata": {},
   "source": [
    "# 2.10. Các phép toán giữa ma trận và vector"
   ]
  },
  {
   "cell_type": "code",
   "execution_count": 78,
   "id": "b188f523-026d-4371-84d5-4de7f85c95a1",
   "metadata": {},
   "outputs": [
    {
     "name": "stdout",
     "output_type": "stream",
     "text": [
      "[[ 0  1  2  3]\n",
      " [ 4  5  6  7]\n",
      " [ 8  9 10 11]]\n",
      "[1. 2. 3. 5.]\n",
      "[[ 1.  3.  5.  8.]\n",
      " [ 5.  7.  9. 12.]\n",
      " [ 9. 11. 13. 16.]]\n",
      "[[ 0.  2.  6. 15.]\n",
      " [ 4. 10. 18. 35.]\n",
      " [ 8. 18. 30. 55.]]\n"
     ]
    }
   ],
   "source": [
    "import numpy as np \n",
    "A = np.arange(12).reshape(3, -1) #Tạo mảng có 3 dòng và cột do python tính (mảng 2 chiều)\n",
    "print(A)\n",
    "\n",
    "b = np.array([1., 2, 3, 5]) #Tạo mảng 1 chiều b\n",
    "print(b)\n",
    "\n",
    "print(A + b) #Thực hiện phép tính giữa mảng 2 chiều và 1 chiều\n",
    "#Kết quả thu được bằng cách lấy từng hàng của A cộng cho b\n",
    "\n",
    "print(A*b)  #Thực hiện phép tính giữa mảng 2 chiều và 1 chiều\n",
    "#Kết quả thu được bằng cách lấy từng hàng của A nhân cho b"
   ]
  },
  {
   "cell_type": "code",
   "execution_count": 79,
   "id": "49cc50d5-bfc4-45e1-a2bb-4b647f25f130",
   "metadata": {},
   "outputs": [
    {
     "data": {
      "text/plain": [
       "array([[  0,   1,   2,   9],\n",
       "       [  4,  25,   6,  49],\n",
       "       [  8,  81,  10, 121]])"
      ]
     },
     "execution_count": 79,
     "metadata": {},
     "output_type": "execute_result"
    }
   ],
   "source": [
    "c = np.array([1, 2, 1,2])\n",
    "A**c\n",
    "#Cách thực hiện cũng tương tự với phép mũ"
   ]
  },
  {
   "cell_type": "raw",
   "id": "335230db-9108-4ec3-b47e-5fd26d9612f4",
   "metadata": {},
   "source": [
    "Bài tập\n",
    "\n",
    "Giả sử tập dữ liệu bao gồm nhiều điểm dữ liệu có cùng chiều, được sắp xếp thành một mảng hai chiều mô tả một ma trận - được gọi là ma trận dữ liệu. Mỗi hàng của ma trận này là một điểm dữ liệu. Một trong các kỹ thuật quan trọng trước khi áp dụng các thuật toán Machine Learning lên dữ liệu là chuẩn hoá dữ liệu. Trong các phương pháp chuẩn hoá dữ liệu, một phương pháp thường được sử dụng là đưa dữ liệu về dạng zero-mean, tức trung bình cộng của toàn bộ dữ liệu là một vector có toàn bộ các thành phần bằng 0.\n",
    "\n",
    "Cách chuẩn hoá này có thể được thực hiện bằng cách trước tiên tính vector trung bình của toàn bộ dữ liệu (ở đây là vector trung bình của toàn bộ các hàng), sau đó lấy từng điểm dữ liệu trừ đi vector trung bình. Khi đó, ma trận mới sẽ có trung bình cộng các hàng bằng vector 0, và ta nói rằng ma trận dữ liệu mới này là zero-mean.\n",
    "\n",
    "Cho một mảng hai chiều X mô tả dữ liệu, trong đó X[i] là một mảng một chiều mô tả dữ liệu có chỉ số i. Hãy viết hàm zero_mean trả về ma trận dữ liệu đã chuẩn hoá theo zero-mean."
   ]
  },
  {
   "cell_type": "code",
   "execution_count": 84,
   "id": "0b1ce7c7-c340-46d0-b309-b9257e5c5988",
   "metadata": {},
   "outputs": [
    {
     "name": "stdout",
     "output_type": "stream",
     "text": [
      "[[-1.  0.  1.]\n",
      " [-1.  0.  1.]\n",
      " [-1.  0.  1.]]\n"
     ]
    }
   ],
   "source": [
    "import numpy as np\n",
    "\n",
    "def zero_mean(X):\n",
    "    tb_Row = np.mean(X, axis= 1,keepdims=True)\n",
    "    result = X - tb_Row\n",
    "    return result\n",
    "\n",
    "X = np.array([[1, 2, 3],\n",
    "              [4, 5, 6],\n",
    "              [7, 8, 9]])\n",
    "print(zero_mean(X))\n",
    "\n",
    "#chuẩn hoá zero-mean, tức là giá trị trung bình của mỗi hàng là 0."
   ]
  },
  {
   "cell_type": "markdown",
   "id": "2ef1e0d3-9815-4ebc-a44e-168116d2fd6e",
   "metadata": {},
   "source": [
    "# 2.11. Tích giữa hai ma trận, tích giữa ma trận và vector"
   ]
  },
  {
   "cell_type": "markdown",
   "id": "ab17e46c-5b54-456b-8b05-5a1f93fb7ddb",
   "metadata": {},
   "source": [
    "## 2.11.1. Tích giữa hai ma trận"
   ]
  },
  {
   "cell_type": "raw",
   "id": "bc8aae3a-f923-482e-b905-edd66f7fdfb7",
   "metadata": {},
   "source": [
    "Để phép nhân thực hiện được, số cột của ma trận thứ nhất phải bằng với số hàng của ma trận thứ hai\n",
    "Và phép nhân ma trận không có tính chất giao hoán, nhưng có tính chất kết hợp"
   ]
  },
  {
   "cell_type": "code",
   "execution_count": 88,
   "id": "82a1a87c-19fb-4b8d-93ab-3ad44c9948e8",
   "metadata": {},
   "outputs": [
    {
     "name": "stdout",
     "output_type": "stream",
     "text": [
      "[[ 0  1  2]\n",
      " [ 3  4  5]\n",
      " [ 6  7  8]\n",
      " [ 9 10 11]]\n",
      "[[-5 -4 -3 -2]\n",
      " [-1  0  1  2]\n",
      " [ 3  4  5  6]]\n",
      "Tích của 2 ma trận là : [[  5   8  11  14]\n",
      " [ -4   8  20  32]\n",
      " [-13   8  29  50]\n",
      " [-22   8  38  68]]\n",
      "Tích của 2 ma trận là : [[  5   8  11  14]\n",
      " [ -4   8  20  32]\n",
      " [-13   8  29  50]\n",
      " [-22   8  38  68]]\n"
     ]
    }
   ],
   "source": [
    "import numpy as np \n",
    "A = np.arange(12).reshape(4, 3)\n",
    "print(A)\n",
    "\n",
    "B = np.arange(-5, 7).reshape(3,-1)\n",
    "print(B)\n",
    "\n",
    "print(\"Tích của 2 ma trận là :\",A.dot(B))  #Tích của 2 ma trận A và B\n",
    "# Khác với A*B vì * dùng cho 2 ma trận có cùng kích thước (nhân theo từng cặp phần tử)\n",
    "\n",
    "print(\"Tích của 2 ma trận là :\",np.dot(A, B)) #Một cách khác khi tính tích của 2 ma trận A và B\n",
    "\n",
    "#Tích của hai ma trận được tính bằng cách nhân từng phần tử của hàng trong ma trận thứ nhất với từng \n",
    "#phần tử của cột trong ma trận thứ hai và sau đó cộng các tích này lại với nhau."
   ]
  },
  {
   "cell_type": "markdown",
   "id": "74f305b7-0510-4979-a237-98f76e705e9e",
   "metadata": {},
   "source": [
    "## 2.11.2. Tích giữa một ma trận và một vector"
   ]
  },
  {
   "cell_type": "raw",
   "id": "9844ff5d-827b-49d5-bf81-9d7750165136",
   "metadata": {},
   "source": [
    "Tích giữa một ma trận và một vector cột được coi là một trường hợp đặc biệt của tích giữa một ma trận và một ma trận có số cột bằng một"
   ]
  },
  {
   "cell_type": "code",
   "execution_count": 97,
   "id": "21ffa3e5-69b0-4309-8867-ba96fa34a931",
   "metadata": {},
   "outputs": [
    {
     "name": "stdout",
     "output_type": "stream",
     "text": [
      "[[ 0  1  2]\n",
      " [ 3  4  5]\n",
      " [ 6  7  8]\n",
      " [ 9 10 11]]\n",
      "[1 3 4]\n",
      "[11 35 59 83]\n",
      "[[ 0  3  8]\n",
      " [ 3 12 20]\n",
      " [ 6 21 32]\n",
      " [ 9 30 44]]\n"
     ]
    }
   ],
   "source": [
    "print(A)\n",
    "b = np.array([1, 3, 4])\n",
    "print(b)\n",
    "\n",
    "print(A.dot(b)) #Kết quả trả về là một mảng một chiều có shape[0] == 4\n",
    "\n",
    "print(A*b) # = b*A\n",
    "\n"
   ]
  },
  {
   "cell_type": "code",
   "execution_count": null,
   "id": "ff024733-e28a-4a70-a8ec-8b30ea3057dd",
   "metadata": {},
   "outputs": [],
   "source": [
    "b.dot(A) #Bị lỗi do xung đột chiều (vì b được koi mà vector hàng)\n",
    "\n",
    "c = np.array([1, 2, 3, 4])\n",
    "c.dot(A)  #Thực hiện được (vì c được koi là vector hàng)\n"
   ]
  },
  {
   "cell_type": "raw",
   "id": "8aa11055-2851-4b0e-bee5-8842cd780931",
   "metadata": {},
   "source": [
    "Nếu mảng một chiều được nhân vào sau một mảng hai chiều, nó được coi như một vector cột. \n",
    "Nếu nó được nhân vào trước một mảng hai chiều, nó lại được coi là một vector hàng. \n",
    "Dù sao thì nó vẫn là một vector, và vẫn được lưu bởi một mảng một chiều "
   ]
  },
  {
   "cell_type": "raw",
   "id": "1cd84051-da47-46ef-a8bb-f49437f612f8",
   "metadata": {},
   "source": [
    "Bài tập :Cho một mảng hai chiều A, hãy viết hàm fro_trace tính bình phương của Frobineus norm của ma trận này dựa vào công thức trên."
   ]
  },
  {
   "cell_type": "code",
   "execution_count": 100,
   "id": "f1d15551-ff04-4391-accb-9f5cc86fcfc7",
   "metadata": {},
   "outputs": [
    {
     "name": "stdout",
     "output_type": "stream",
     "text": [
      "39\n"
     ]
    }
   ],
   "source": [
    "import numpy as np\n",
    "\n",
    "def fro_trace(X):\n",
    "    tich = X.dot(X.T)\n",
    "    return np.trace(tich)\n",
    "\n",
    "A = np.array([\n",
    "    [1, 3], \n",
    "    [2, 5]]\n",
    ")\n",
    "print(fro_trace(A))"
   ]
  },
  {
   "cell_type": "markdown",
   "id": "f05a454a-dc57-4dd1-bf5a-3ea5cebd4eb2",
   "metadata": {},
   "source": [
    "# 2.12. Softmax III - Phiên bản tổng quát"
   ]
  },
  {
   "cell_type": "code",
   "execution_count": 104,
   "id": "33113ed3-4593-4321-bf9d-019685e6e053",
   "metadata": {},
   "outputs": [
    {
     "name": "stdout",
     "output_type": "stream",
     "text": [
      "[[ 0  1  2]\n",
      " [ 3  4  5]\n",
      " [ 6  7  8]\n",
      " [ 9 10 11]]\n",
      "[[0.02250764 0.06118212 0.16631024]\n",
      " [0.02250764 0.06118212 0.16631024]\n",
      " [0.02250764 0.06118212 0.16631024]\n",
      " [0.02250764 0.06118212 0.16631024]]\n"
     ]
    }
   ],
   "source": [
    "import numpy as np \n",
    "A = np.arange(12).reshape(4, 3)\n",
    "print(A)\n",
    "def softmax(A):\n",
    "    return np.exp(A - np.reshape(np.max(A, axis=1),(A.shape[0],-1))) / np.sum(np.exp(A - np.reshape(np.max(A, axis=1),(A.shape[0],-1))))\n",
    "\n",
    "result = softmax(A)\n",
    "print(result)"
   ]
  },
  {
   "cell_type": "code",
   "execution_count": null,
   "id": "133e336b-aa46-4bff-bccb-9fef0081c252",
   "metadata": {},
   "outputs": [],
   "source": []
  }
 ],
 "metadata": {
  "kernelspec": {
   "display_name": "Python 3 (ipykernel)",
   "language": "python",
   "name": "python3"
  },
  "language_info": {
   "codemirror_mode": {
    "name": "ipython",
    "version": 3
   },
   "file_extension": ".py",
   "mimetype": "text/x-python",
   "name": "python",
   "nbconvert_exporter": "python",
   "pygments_lexer": "ipython3",
   "version": "3.8.5"
  }
 },
 "nbformat": 4,
 "nbformat_minor": 5
}
