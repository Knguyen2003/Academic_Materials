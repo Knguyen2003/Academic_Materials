{
 "cells": [
  {
   "cell_type": "markdown",
   "id": "a10af2f8-af0d-468c-ac5f-8612950e77dc",
   "metadata": {},
   "source": [
    "### 7. Write a Pandas program to create a dataframe and set a title or name of the index column."
   ]
  },
  {
   "cell_type": "code",
   "execution_count": 2,
   "id": "0be7c5c8-7505-475d-80a5-96a9ece66b09",
   "metadata": {},
   "outputs": [
    {
     "name": "stdout",
     "output_type": "stream",
     "text": [
      "Default Index:\n",
      "  school_code class            name date_Of_Birth  weight  address t_id\n",
      "0        s001     V  Alberto Franco    15/05/2002      35  street1   t1\n",
      "1        s002     V    Gino Mcneill    17/05/2002      32  street2   t2\n",
      "2        s003    VI     Ryan Parkes    16/02/1999      33  street3   t3\n",
      "3        s001    VI    Eesha Hinton    25/09/1998      30  street1   t4\n",
      "4        s002     V    Gino Mcneill    11/05/2002      31  street2   t5\n",
      "5        s004    VI    David Parkes    15/09/1997      32  street4   t6\n",
      "\n",
      "School_code as new Index:\n",
      "\n",
      "            class            name date_Of_Birth  weight  address t_id\n",
      "school_code                                                          \n",
      "s001            V  Alberto Franco    15/05/2002      35  street1   t1\n",
      "s002            V    Gino Mcneill    17/05/2002      32  street2   t2\n",
      "s003           VI     Ryan Parkes    16/02/1999      33  street3   t3\n",
      "s001           VI    Eesha Hinton    25/09/1998      30  street1   t4\n",
      "s002            V    Gino Mcneill    11/05/2002      31  street2   t5\n",
      "s004           VI    David Parkes    15/09/1997      32  street4   t6\n",
      "\n",
      "t_id as new Index:\n",
      "     school_code class            name date_Of_Birth  weight  address\n",
      "t_id                                                                 \n",
      "t1          s001     V  Alberto Franco    15/05/2002      35  street1\n",
      "t2          s002     V    Gino Mcneill    17/05/2002      32  street2\n",
      "t3          s003    VI     Ryan Parkes    16/02/1999      33  street3\n",
      "t4          s001    VI    Eesha Hinton    25/09/1998      30  street1\n",
      "t5          s002     V    Gino Mcneill    11/05/2002      31  street2\n",
      "t6          s004    VI    David Parkes    15/09/1997      32  street4\n"
     ]
    }
   ],
   "source": [
    "import pandas as pd # import thư viện pandas và đặt tên viết tắt là pd\n",
    "df = pd.DataFrame({ #Tạo dataFrame 'df' bằng cách sử dụng hàm pd.DataFrame\n",
    "    'school_code': ['s001','s002','s003','s001','s002','s004'],\n",
    "    'class': ['V', 'V', 'VI', 'VI', 'V', 'VI'],\n",
    "    'name': ['Alberto Franco','Gino Mcneill','Ryan Parkes', 'Eesha Hinton', 'Gino Mcneill', 'David Parkes'],\n",
    "    'date_Of_Birth': ['15/05/2002','17/05/2002','16/02/1999','25/09/1998','11/05/2002','15/09/1997'],\n",
    "    'weight': [35, 32, 33, 30, 31, 32],\n",
    "    'address': ['street1', 'street2', 'street3', 'street1', 'street2', 'street4'],\n",
    "    't_id':['t1', 't2', 't3', 't4', 't5', 't6']})\n",
    "#Với các tên như school_code, class, name, ... là tên cột trong DataFrame \n",
    "print(\"Default Index:\")\n",
    "print(df.head(10)) #In ra 10 dòng đầu tiên của dataFrame 'df'\n",
    "print(\"\\nSchool_code as new Index:\\n\")\n",
    "df1 = df.set_index('school_code') #Tạo ra một bản sao của df và đặt cột 'school_code' làm chỉ số\n",
    "print(df1.head(10))\n",
    "print(\"\\nt_id as new Index:\")\n",
    "df2 = df.set_index('t_id') #Tương tự tạo ra một bản sao của df và đặt cột 't_id' làm chỉ số\n",
    "print(df2.head(10))"
   ]
  },
  {
   "cell_type": "markdown",
   "id": "272dd276-a66c-4317-b973-d6375b82c89d",
   "metadata": {},
   "source": [
    "### 8. Write a Pandas program to set value in a specific cell in a given dataframe using index."
   ]
  },
  {
   "cell_type": "code",
   "execution_count": 7,
   "id": "dcb5ff58-2004-44f2-9f06-cfd5e8018eea",
   "metadata": {},
   "outputs": [
    {
     "name": "stdout",
     "output_type": "stream",
     "text": [
      "DataFrame ban đầu:\n",
      "\n",
      "   school_code class            name date_of_birth  weight\n",
      "t1        s001     V  Alberto Franco    15/05/2002      35\n",
      "t2        s002     V    Gino Mcneill    17/05/2002      32\n",
      "t3        s003    VI     Ryan Parkes    16/02/1999      33\n",
      "t4        s001    VI    Eesha Hinton    25/09/1998      30\n",
      "t5        s002     V    Gino Mcneill    11/05/2002      31\n",
      "t6        s004    VI    David Parkes    15/09/1997      32\n",
      "\n",
      "DataFrame sau khi thay đổi giá trị thông qua chỉ mục\n",
      "\n",
      "   school_code class            name date_of_birth  weight\n",
      "t1        s001     V  Alberto Franco    16/05/2002      35\n",
      "t2        s002     V    Gino Mcneill    17/05/2002      32\n",
      "t3        s003    VI     Ryan Parkes    16/02/1999      33\n",
      "t4        s001    VI    Eesha Hinton    25/09/1998      30\n",
      "t5        s002     V    Gino Mcneill    11/05/2002      31\n",
      "t6        s005    VI    David Parkes    15/09/1997      32\n"
     ]
    }
   ],
   "source": [
    "import pandas as pd\n",
    "df = pd.DataFrame({\n",
    "    'school_code': ['s001','s002','s003','s001','s002','s004'],\n",
    "    'class': ['V', 'V', 'VI', 'VI', 'V', 'VI'],\n",
    "    'name': ['Alberto Franco','Gino Mcneill','Ryan Parkes', 'Eesha Hinton', 'Gino Mcneill', 'David Parkes'],\n",
    "    'date_of_birth': ['15/05/2002','17/05/2002','16/02/1999','25/09/1998','11/05/2002','15/09/1997'],\n",
    "    'weight': [35, 32, 33, 30, 31, 32]},\n",
    "     index = ['t1', 't2', 't3', 't4', 't5', 't6']) #Chỉ mục\n",
    "print(\"DataFrame ban đầu:\\n\")\n",
    "print(df) #Hiển thị df\n",
    "print(\"\\nDataFrame sau khi thay đổi giá trị thông qua chỉ mục\\n\")\n",
    "df.at['t6', 'school_code'] = 's005' #Thay đổi giá trị của ô ở cột 'school_code' và hàng 't6' của df thành s005\n",
    "df.at['t1', 'date_of_birth'] = '16/05/2002'\n",
    "#Tương tự thay đổi giá trị ở cột 'date_of_birth' và hàng 't1' của df thành '16/05/2002'\n",
    "print(df) #Hiển thị kết quả sau khi thay đổi"
   ]
  },
  {
   "cell_type": "markdown",
   "id": "29dc441a-80db-46bf-9fc4-cc33e1b0fd37",
   "metadata": {},
   "source": [
    "### 9. Write a Pandas program to convert index of a given dataframe into a column."
   ]
  },
  {
   "cell_type": "code",
   "execution_count": 9,
   "id": "258dbeb9-27ac-406f-bec8-06577e129609",
   "metadata": {},
   "outputs": [
    {
     "name": "stdout",
     "output_type": "stream",
     "text": [
      "DataFrame ban đầu:\n",
      "   school_code class            name date_of_birth  weight\n",
      "t1        s001     V  Alberto Franco    15/05/2002      35\n",
      "t2        s002     V    Gino Mcneill    17/05/2002      32\n",
      "t3        s003    VI     Ryan Parkes    16/02/1999      33\n",
      "t4        s001    VI    Eesha Hinton    25/09/1998      30\n",
      "t5        s002     V    Gino Mcneill    11/05/2002      31\n",
      "t6        s004    VI    David Parkes    15/09/1997      32\n",
      "\n",
      "Chuyển cột index thành một cột trong DataFrame\n",
      "\n",
      "  index school_code class            name date_of_birth  weight\n",
      "0    t1        s001     V  Alberto Franco    15/05/2002      35\n",
      "1    t2        s002     V    Gino Mcneill    17/05/2002      32\n",
      "2    t3        s003    VI     Ryan Parkes    16/02/1999      33\n",
      "3    t4        s001    VI    Eesha Hinton    25/09/1998      30\n",
      "4    t5        s002     V    Gino Mcneill    11/05/2002      31\n",
      "5    t6        s004    VI    David Parkes    15/09/1997      32\n"
     ]
    }
   ],
   "source": [
    "import pandas as pd\n",
    "df = pd.DataFrame({\n",
    "    'school_code': ['s001','s002','s003','s001','s002','s004'],\n",
    "    'class': ['V', 'V', 'VI', 'VI', 'V', 'VI'],\n",
    "    'name': ['Alberto Franco','Gino Mcneill','Ryan Parkes', 'Eesha Hinton', 'Gino Mcneill', 'David Parkes'],\n",
    "    'date_of_birth': ['15/05/2002','17/05/2002','16/02/1999','25/09/1998','11/05/2002','15/09/1997'],\n",
    "    'weight': [35, 32, 33, 30, 31, 32]},\n",
    "     index = ['t1', 't2', 't3', 't4', 't5', 't6']) #Tương tự các bài trên, tạo ra một DataFrame và có cột index\n",
    "print(\"DataFrame ban đầu:\")\n",
    "print(df)\n",
    "print(\"\\nChuyển cột index thành một cột trong DataFrame\\n\")\n",
    "df.reset_index(level=0, inplace=True) # Thực hiện chuyển thông qua hàm reset_index.Tạo cột mới là đặt tên là index\n",
    "#Trong đó: level 0 có nghĩa là chỉ mục đầu tiên (cấp độ đầu tiên sẽ được chuyển) dùng cho trường hợp có nhiều chỉ mục\n",
    "#inplace=True thay đổi trực tiếp DataFrame gốc mà không cần tạo bản sao mới.\n",
    "print(df) #Hiển thị DataFrame."
   ]
  },
  {
   "cell_type": "markdown",
   "id": "2087258b-c540-4b9b-a962-bfbf3c4ee55a",
   "metadata": {},
   "source": [
    "### 10. Write a Pandas program to convert 1st and 3rd levels in the index into columns from a multiple level of index frame of a given dataframe."
   ]
  },
  {
   "cell_type": "code",
   "execution_count": 3,
   "id": "811ea237-4ecf-4d73-968a-518c12488e13",
   "metadata": {},
   "outputs": [
    {
     "name": "stdout",
     "output_type": "stream",
     "text": [
      "Data Frame ban đầu \n",
      "\n",
      "  school_code class            name date_of_birth  weight t_id\n",
      "0        s001     V  Alberto Franco    15/05/2002      35   t1\n",
      "1        s002     V    Gino Mcneill    17/05/2002      32   t2\n",
      "2        s003    VI     Ryan Parkes    16/02/1999      33   t3\n",
      "3        s001    VI    Eesha Hinton    25/09/1998      30   t4\n",
      "4        s002     V    Gino Mcneill    11/05/2002      31   t5\n",
      "5        s004    VI    David Parkes    15/09/1997      32   t6\n",
      "\n",
      "MultiIndex using columns 't_id', ‘school_code’ and 'class': \n",
      "\n",
      "                                  name date_of_birth  weight\n",
      "t_id school_code class                                      \n",
      "t1   s001        V      Alberto Franco    15/05/2002      35\n",
      "t2   s002        V        Gino Mcneill    17/05/2002      32\n",
      "t3   s003        VI        Ryan Parkes    16/02/1999      33\n",
      "t4   s001        VI       Eesha Hinton    25/09/1998      30\n",
      "t5   s002        V        Gino Mcneill    11/05/2002      31\n",
      "t6   s004        VI       David Parkes    15/09/1997      32\n",
      "\n",
      "Convert 1st and 3rd levels in the index frame into columns: \n",
      "\n",
      "            t_id class            name date_of_birth  weight\n",
      "school_code                                                 \n",
      "s001          t1     V  Alberto Franco    15/05/2002      35\n",
      "s002          t2     V    Gino Mcneill    17/05/2002      32\n",
      "s003          t3    VI     Ryan Parkes    16/02/1999      33\n",
      "s001          t4    VI    Eesha Hinton    25/09/1998      30\n",
      "s002          t5     V    Gino Mcneill    11/05/2002      31\n",
      "s004          t6    VI    David Parkes    15/09/1997      32\n"
     ]
    }
   ],
   "source": [
    "import pandas as pd\n",
    "df = pd.DataFrame({\n",
    "    'school_code': ['s001','s002','s003','s001','s002','s004'],\n",
    "    'class': ['V', 'V', 'VI', 'VI', 'V', 'VI'],\n",
    "    'name': ['Alberto Franco','Gino Mcneill','Ryan Parkes', 'Eesha Hinton', 'Gino Mcneill', 'David Parkes'],\n",
    "    'date_of_birth': ['15/05/2002','17/05/2002','16/02/1999','25/09/1998','11/05/2002','15/09/1997'],\n",
    "    'weight': [35, 32, 33, 30, 31, 32],\n",
    "    't_id': ['t1', 't2', 't3', 't4', 't5', 't6']})\n",
    "print(\"Data Frame ban đầu \\n\")\n",
    "print(df)\n",
    "print(\"\\nMultiIndex using columns 't_id', ‘school_code’ and 'class': \\n\")\n",
    "df1 = df.set_index(['t_id', 'school_code', 'class']) #Tạo ra nhiều index là các cột 't_id', 'school_code', 'class'\n",
    "print(df1) #Hiển thị Data Frame sau khi set index\n",
    "print(\"\\nConvert 1st and 3rd levels in the index frame into columns: \\n\")\n",
    "df2 = df1.reset_index(level=['t_id', 'class'])\n",
    "#Cuối cùng, chúng ta sử dụng hàm reset_index() để đặt lại các cột trong khung chỉ mục trở lại thành các cột \n",
    "#dữ liệu. Ở đây, chúng ta chỉ định các cấp của chỉ mục mà chúng ta muốn đặt lại bằng cách sử dụng tham số \n",
    "#level=['t_id', 'class'].\n",
    "print(df2)"
   ]
  },
  {
   "cell_type": "markdown",
   "id": "9362d8b6-88e9-416d-b815-a232f3ae1c82",
   "metadata": {},
   "source": [
    "### 11. Write a Pandas program to check if a specified value exists in single and multiple column index dataframe."
   ]
  },
  {
   "cell_type": "code",
   "execution_count": 6,
   "id": "15f1f1dc-2817-4a7a-b570-3c5d6fd7bdad",
   "metadata": {},
   "outputs": [
    {
     "name": "stdout",
     "output_type": "stream",
     "text": [
      "DataFrame ban đầu với chỉ mục đơn\n",
      "\n",
      "   school_code class            name date_of_birth  weight\n",
      "t1        s001     V  Alberto Franco    15/05/2002      35\n",
      "t2        s002     V    Gino Mcneill    17/05/2002      32\n",
      "t3        s003    VI     Ryan Parkes    16/02/1999      33\n",
      "t4        s001    VI    Eesha Hinton    25/09/1998      30\n",
      "t5        s002     V    Gino Mcneill    11/05/2002      31\n",
      "t6        s004    VI    David Parkes    15/09/1997      32\n",
      "\n",
      "Kiểm tra giá trị có tồn tại trong DataFrame có chỉ mục đơn\n",
      "True\n",
      "False\n",
      "\n",
      "Tạo MultiIndex sử dụng cột't_id', ‘school_code’ và 'class':\n",
      "                                  name date_of_birth  weight\n",
      "t_id school_code class                                      \n",
      "t1   s001        V      Alberto Franco    15/05/2002      35\n",
      "t2   s002        V        Gino Mcneill    17/05/2002      32\n",
      "t3   s003        VI        Ryan Parkes    16/02/1999      33\n",
      "t4   s001        VI       Eesha Hinton    25/09/1998      30\n",
      "t5   s002        V        Gino Mcneill    11/05/2002      31\n",
      "t6   s004        VI       David Parkes    15/09/1997      32\n",
      "\n",
      "Kiểm tra giá trị có tồn tại trong DataFrame có nhiều chỉ mục\n",
      "True\n",
      "False\n",
      "False\n"
     ]
    }
   ],
   "source": [
    "import pandas as pd\n",
    "df = pd.DataFrame({\n",
    "    'school_code': ['s001','s002','s003','s001','s002','s004'],\n",
    "    'class': ['V', 'V', 'VI', 'VI', 'V', 'VI'],\n",
    "    'name': ['Alberto Franco','Gino Mcneill','Ryan Parkes', 'Eesha Hinton', 'Gino Mcneill', 'David Parkes'],\n",
    "    'date_of_birth': ['15/05/2002','17/05/2002','16/02/1999','25/09/1998','11/05/2002','15/09/1997'],\n",
    "    'weight': [35, 32, 33, 30, 31, 32]},\n",
    "     index =  ['t1', 't2', 't3', 't4', 't5', 't6']) #Tương tự , đây là cột index\n",
    "print(\"DataFrame ban đầu với chỉ mục đơn\\n\")\n",
    "print(df) #Hiển thị DataFrame ban đầu\n",
    "print(\"\\nKiểm tra giá trị có tồn tại trong DataFrame có chỉ mục đơn\")\n",
    "print('t1' in df.index) #Kiểm tra t1 có trong cột index không\n",
    "print('t11' in df.index) #Kiểm tra t11 có trong cột index không\n",
    "print(\"\\nTạo MultiIndex sử dụng cột't_id', ‘school_code’ và 'class':\")\n",
    "df = pd.DataFrame({\n",
    "    'school_code': ['s001','s002','s003','s001','s002','s004'],\n",
    "    'class': ['V', 'V', 'VI', 'VI', 'V', 'VI'],\n",
    "    'name': ['Alberto Franco','Gino Mcneill','Ryan Parkes', 'Eesha Hinton', 'Gino Mcneill', 'David Parkes'],\n",
    "    'date_of_birth': ['15/05/2002','17/05/2002','16/02/1999','25/09/1998','11/05/2002','15/09/1997'],\n",
    "    'weight': [35, 32, 33, 30, 31, 32],\n",
    "    't_id': ['t1', 't2', 't3', 't4', 't5', 't6']})\n",
    "df1 = df.set_index(['t_id', 'school_code', 'class']) #Tạo MultiIndex thông qua hàm set_index().\n",
    "print(df1) #Hiển thị Data Frame sau khi tạo MultiIndex\n",
    "print(\"\\n Kiểm tra giá trị có tồn tại trong DataFrame có nhiều chỉ mục\")\n",
    "print('t4' in df1.index.levels[0]) #Kiểm tra t4 có trong cấp đầu tiên của chỉ mục tức là kiểm tra t4 có trong cột t_id không\n",
    "print('t4' in df1.index.levels[1]) #Kiểm tra t4 có trong cấp thứ hai của chỉ mục tức là kiểm tra t4 có trong cột school_code không\n",
    "print('t4' in df1.index.levels[2]) #Kiểm tra t4 có trong cấp thứ ba của chỉ mục tức là kiểm tra t4 có trong cột class không"
   ]
  },
  {
   "cell_type": "markdown",
   "id": "42a2dd07-f4e9-42c1-961d-39b76bb0258c",
   "metadata": {},
   "source": [
    "### 12. Write a Pandas program to construct a series using the MultiIndex levels as the column and index."
   ]
  },
  {
   "cell_type": "code",
   "execution_count": 11,
   "id": "75bc785a-ad8c-482d-b249-cb7bf7aa4aa2",
   "metadata": {},
   "outputs": [
    {
     "name": "stdout",
     "output_type": "stream",
     "text": [
      "Create a MultiIndex:\n",
      "MultiIndex([('sale1', 'city1'),\n",
      "            ('sale1', 'city2'),\n",
      "            ('sale2', 'city1'),\n",
      "            ('sale2', 'city2'),\n",
      "            ('sale3', 'city1'),\n",
      "            ('sale3', 'city2'),\n",
      "            ('sale4', 'city1'),\n",
      "            ('sale4', 'city2')],\n",
      "           names=['sale', 'city'])\n",
      "\n",
      "Construct a series using the said MultiIndex levels: \n",
      "sale   city \n",
      "sale1  city1   -1.181400\n",
      "       city2   -1.330681\n",
      "sale2  city1   -0.796583\n",
      "       city2    1.186018\n",
      "sale3  city1   -0.061844\n",
      "       city2   -1.002449\n",
      "sale4  city1   -1.458963\n",
      "       city2   -0.494441\n",
      "dtype: float64\n"
     ]
    }
   ],
   "source": [
    "import pandas as pd \n",
    "import numpy as np\n",
    "sales_arrays = [['sale1', 'sale1', 'sale2', 'sale2', 'sale3', 'sale3', 'sale4', 'sale4'],\n",
    "                ['city1', 'city2', 'city1', 'city2', 'city1', 'city2', 'city1', 'city2']]\n",
    "#Tạo một danh sách sales_arrays  chứa các mảng con.\n",
    "sales_tuples = list(zip(*sales_arrays))\n",
    "#Sử dụng hàm zip(*sales_arrays) để ghép các phần tử của các mảng con trong sales_arrays thành các cặp tuples.\n",
    "#Kết quả là một danh sách sales_tuples chứa các cặp sale - city.\n",
    "print(\"Create a MultiIndex :\")\n",
    "sales_index = pd.MultiIndex.from_tuples(sales_tuples, names=['sale', 'city'])\n",
    "#Sử dụng hàm pd.MultiIndex.from_tuples() để tạo một đối tượng MultiIndex từ danh sách các cặp tuples sales_tuples.\n",
    "#names=['sale', 'city'] đặt tên cho các cấp của MultiIndex \n",
    "print(sales_index)\n",
    "print(\"\\nConstruct a series using the said MultiIndex levels: \")\n",
    "s = pd.Series(np.random.randn(8), index = sales_index)\n",
    "#Sử dụng pd.Series() để tạo một Series mới.\n",
    "#Dữ liệu của Series được sinh ngẫu nhiên từ phân phối chuẩn sử dụng np.random.randn(8).\n",
    "#Chỉ mục (index) của Series được thiết lập là MultiIndex sales_index mà chúng ta vừa tạo\n",
    "print(s)"
   ]
  },
  {
   "cell_type": "code",
   "execution_count": null,
   "id": "6dac2c1d-b0c3-466b-9574-f859c22b7da3",
   "metadata": {},
   "outputs": [],
   "source": []
  }
 ],
 "metadata": {
  "kernelspec": {
   "display_name": "Python 3 (ipykernel)",
   "language": "python",
   "name": "python3"
  },
  "language_info": {
   "codemirror_mode": {
    "name": "ipython",
    "version": 3
   },
   "file_extension": ".py",
   "mimetype": "text/x-python",
   "name": "python",
   "nbconvert_exporter": "python",
   "pygments_lexer": "ipython3",
   "version": "3.8.5"
  }
 },
 "nbformat": 4,
 "nbformat_minor": 5
}
