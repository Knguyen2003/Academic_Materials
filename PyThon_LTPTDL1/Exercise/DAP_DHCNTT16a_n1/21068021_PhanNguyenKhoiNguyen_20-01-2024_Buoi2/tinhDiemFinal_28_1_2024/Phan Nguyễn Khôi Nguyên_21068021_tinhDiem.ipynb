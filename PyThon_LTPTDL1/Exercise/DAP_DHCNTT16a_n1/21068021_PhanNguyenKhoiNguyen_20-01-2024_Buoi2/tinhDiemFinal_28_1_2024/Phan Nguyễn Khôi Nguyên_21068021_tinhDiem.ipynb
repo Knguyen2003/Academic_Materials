{
 "cells": [
  {
   "cell_type": "markdown",
   "id": "58a16c9f-df8e-4f32-bf54-8ce2f34a9660",
   "metadata": {},
   "source": [
    "## Bài code tính điểm"
   ]
  },
  {
   "cell_type": "code",
   "execution_count": 21,
   "id": "1d8e2544-60c7-4fcd-9eae-cf7b4a1c1338",
   "metadata": {},
   "outputs": [
    {
     "name": "stdout",
     "output_type": "stream",
     "text": [
      "Requirement already satisfied: pandas in c:\\users\\khoi nguyen\\appdata\\local\\programs\\python\\python38\\lib\\site-packages (2.0.3)\n",
      "Requirement already satisfied: numpy in c:\\users\\khoi nguyen\\appdata\\local\\programs\\python\\python38\\lib\\site-packages (1.24.4)\n",
      "Requirement already satisfied: python-dateutil>=2.8.2 in c:\\users\\khoi nguyen\\appdata\\local\\programs\\python\\python38\\lib\\site-packages (from pandas) (2.8.2)\n",
      "Requirement already satisfied: pytz>=2020.1 in c:\\users\\khoi nguyen\\appdata\\local\\programs\\python\\python38\\lib\\site-packages (from pandas) (2023.3.post1)\n",
      "Requirement already satisfied: tzdata>=2022.1 in c:\\users\\khoi nguyen\\appdata\\local\\programs\\python\\python38\\lib\\site-packages (from pandas) (2023.4)\n",
      "Requirement already satisfied: six>=1.5 in c:\\users\\khoi nguyen\\appdata\\local\\programs\\python\\python38\\lib\\site-packages (from python-dateutil>=2.8.2->pandas) (1.16.0)\n",
      "Note: you may need to restart the kernel to use updated packages.\n"
     ]
    }
   ],
   "source": [
    "pip install pandas numpy"
   ]
  },
  {
   "cell_type": "code",
   "execution_count": 3,
   "id": "834fab63-9c5d-489a-8267-93beb7b77bb8",
   "metadata": {},
   "outputs": [],
   "source": [
    "import pandas as pd\n",
    "\n",
    "# Đọc dữ liệu từ hai file Excel\n",
    "df_diem_1 = pd.read_excel(r\"D:\\TKMT_T.Ngọc\\Bài tập_onl\\data\\diem_1.xls\")\n",
    "df_diem_2 = pd.read_excel(r\"D:\\TKMT_T.Ngọc\\Bài tập_onl\\data\\diem_2.xls\")\n",
    "\n",
    "# Chuyển đổi kiểu dữ liệu của cột \"Mã sinh viên\" trong dataframe df_diem_1 sang float64\n",
    "df_diem_1['Mã sinh viên'] = pd.to_numeric(df_diem_1['Mã sinh viên'], errors='coerce')\n",
    "\n",
    "# Merge hai DataFrame dựa trên cột \"Mã sinh viên\" và \"MSSV\"\n",
    "df_merged = pd.merge(df_diem_1, df_diem_2, left_on='Mã sinh viên', right_on='MSSV', how='left')\n",
    "# print(df_merged.head(56))\n",
    "#Tính điểm trung bình cộng theo công thức mới\n",
    "df_merged['Điểm 1'] = df_merged['Điểm_x']\n",
    "df_merged['Điểm 2'] = df_merged['Điểm_y']\n",
    "df_merged['Điểm final'] = 0.5 * (df_merged['Điểm_x'] + df_merged['Điểm_y'] * 10 / 8)\n",
    "\n",
    "# Chọn chỉ những cột cần thiết trong DataFrame\n",
    "df_result = df_merged[['Mã sinh viên', 'Họ đệm', 'Tên','Điểm 1','Điểm 2' ,'Điểm final']]\n",
    "\n",
    "df_result = df_result.dropna(subset=['Mã sinh viên'])\n",
    "\n",
    "# Xuất DataFrame ra file Excel\n",
    "df_result.to_excel(r\"D:\\TKMT_T.Ngọc\\Bài tập_onl\\data\\diem_final.xlsx\", index=False)\n"
   ]
  },
  {
   "cell_type": "code",
   "execution_count": null,
   "id": "4614677a-4d36-40e8-9dc1-7eaad0f3135e",
   "metadata": {},
   "outputs": [],
   "source": []
  }
 ],
 "metadata": {
  "kernelspec": {
   "display_name": "Python 3 (ipykernel)",
   "language": "python",
   "name": "python3"
  },
  "language_info": {
   "codemirror_mode": {
    "name": "ipython",
    "version": 3
   },
   "file_extension": ".py",
   "mimetype": "text/x-python",
   "name": "python",
   "nbconvert_exporter": "python",
   "pygments_lexer": "ipython3",
   "version": "3.8.5"
  }
 },
 "nbformat": 4,
 "nbformat_minor": 5
}
