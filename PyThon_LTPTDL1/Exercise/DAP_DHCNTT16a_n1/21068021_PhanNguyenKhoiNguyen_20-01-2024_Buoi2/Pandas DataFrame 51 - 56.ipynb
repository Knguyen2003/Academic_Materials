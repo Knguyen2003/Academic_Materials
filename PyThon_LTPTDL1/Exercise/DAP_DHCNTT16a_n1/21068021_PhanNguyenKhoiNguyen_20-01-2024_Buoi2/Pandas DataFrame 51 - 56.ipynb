{
 "cells": [
  {
   "cell_type": "markdown",
   "metadata": {},
   "source": [
    "## Bài 51. Write a Pandas program to convert the datatype of a given column (floats to ints)."
   ]
  },
  {
   "cell_type": "markdown",
   "metadata": {},
   "source": [
    "Đề bài yêu cầu viết một chương trình Pandas để chuyển đổi kiểu dữ liệu của một cột cho trước từ kiểu float sang kiểu integer."
   ]
  },
  {
   "cell_type": "code",
   "execution_count": 2,
   "metadata": {},
   "outputs": [
    {
     "name": "stdout",
     "output_type": "stream",
     "text": [
      "Original DataFrame:\n",
      "        name  score  attempts qualify\n",
      "0  Anastasia  12.50         1     yes\n",
      "1       Dima   9.10         3      no\n",
      "2  Katherine  16.50         2     yes\n",
      "3      James  12.77         3      no\n",
      "4      Emily   9.21         2      no\n",
      "5    Michael  20.22         3     yes\n",
      "6    Matthew  14.50         1     yes\n",
      "7      Laura  11.34         1      no\n",
      "8      Kevin   8.80         2      no\n",
      "9      Jonas  19.13         1     yes\n",
      "\n",
      "Data types of the columns of the said DataFrame:\n",
      "name         object\n",
      "score       float64\n",
      "attempts      int64\n",
      "qualify      object\n",
      "dtype: object\n",
      "\n",
      "Now change the Data type of 'score' column from float to int:\n",
      "        name  score  attempts qualify\n",
      "0  Anastasia     12         1     yes\n",
      "1       Dima      9         3      no\n",
      "2  Katherine     16         2     yes\n",
      "3      James     12         3      no\n",
      "4      Emily      9         2      no\n",
      "5    Michael     20         3     yes\n",
      "6    Matthew     14         1     yes\n",
      "7      Laura     11         1      no\n",
      "8      Kevin      8         2      no\n",
      "9      Jonas     19         1     yes\n",
      "\n",
      "Data types of the columns of the DataFrame now:\n",
      "name        object\n",
      "score        int32\n",
      "attempts     int64\n",
      "qualify     object\n",
      "dtype: object\n"
     ]
    }
   ],
   "source": [
    "import pandas as pd\n",
    "import numpy as np\n",
    "exam_data = {'name': ['Anastasia', 'Dima', 'Katherine', 'James', 'Emily', 'Michael', 'Matthew', 'Laura', 'Kevin', 'Jonas'],\n",
    "        'score': [12.5, 9.1, 16.5, 12.77, 9.21, 20.22, 14.5, 11.34, 8.8, 19.13],\n",
    "        'attempts': [1, 3, 2, 3, 2, 3, 1, 1, 2, 1],\n",
    "        'qualify': ['yes', 'no', 'yes', 'no', 'no', 'yes', 'yes', 'no', 'no', 'yes']}\n",
    "\n",
    "df = pd.DataFrame(exam_data) #Tạo DataFrame từ dữ liệu là exam_data\n",
    "print(\"Original DataFrame:\")\n",
    "print(df) #In ra DataFrame gốc\n",
    "print(\"\\nData types of the columns of the said DataFrame:\")\n",
    "print(df.dtypes) #In ra kiểu dữ liệu của mỗi cột trong DataFrame\n",
    "print(\"\\nNow change the Data type of 'score' column from float to int:\")\n",
    "df.score = df.score.astype(int)\n",
    "#.astype(int) chuyển đổi kiểu dữ liệu của cột score sang int \n",
    "print(df) #In lại DataFrame sao khi chuyển \n",
    "print(\"\\nData types of the columns of the DataFrame now:\")\n",
    "print(df.dtypes) #Kiểm tra lại kiểu dữ liệu sao khi chuyển\n",
    " "
   ]
  },
  {
   "cell_type": "markdown",
   "metadata": {},
   "source": [
    "## Bài 52. Write a Pandas program to remove infinite values from a given DataFrame."
   ]
  },
  {
   "cell_type": "markdown",
   "metadata": {},
   "source": [
    "Đề bài yêu cầu viết một chương trình Pandas để loại bỏ giá trị vô cùng (infinite values) từ một DataFrame đã cho.\n",
    "\n",
    "Giá trị vô cùng thường xuất hiện khi có các phép toán như chia cho 0 trong quá trình xử lý dữ liệu. Loại bỏ các giá trị vô cùng là quan trọng để tránh gây lỗi trong các phép toán và phân tích dữ liệu."
   ]
  },
  {
   "cell_type": "code",
   "execution_count": 5,
   "metadata": {},
   "outputs": [
    {
     "name": "stdout",
     "output_type": "stream",
     "text": [
      "Original DataFrame:\n",
      "        0\n",
      "0  1000.0\n",
      "1  2000.0\n",
      "2  3000.0\n",
      "3 -4000.0\n",
      "4     inf\n",
      "5    -inf\n",
      "Removing infinite values:\n",
      "        0\n",
      "0  1000.0\n",
      "1  2000.0\n",
      "2  3000.0\n",
      "3 -4000.0\n",
      "4     NaN\n",
      "5     NaN\n"
     ]
    }
   ],
   "source": [
    "import pandas as pd\n",
    "import numpy as np\n",
    "df = pd.DataFrame([1000, 2000, 3000, -4000, np.inf, -np.inf])\n",
    "#Tạo đối tượng DataFrame 1 cột chứa các giá trị số nguyên và giá trị vô cùng\n",
    "print(\"Original DataFrame:\")\n",
    "print(df) #In ra DataFrame gốc\n",
    "print(\"Removing infinite values:\")\n",
    "df = df.replace([np.inf, -np.inf], np.nan) \n",
    "#.replace dùng để thế np.inf, -np.inf thành np.nan.Kết quả sau khi thay thế được gán ngược lại cho df\n",
    "print(df)"
   ]
  },
  {
   "cell_type": "markdown",
   "metadata": {},
   "source": [
    "## Bài 53. Write a Pandas program to insert a given column at a specific column index in a DataFrame."
   ]
  },
  {
   "cell_type": "markdown",
   "metadata": {},
   "source": [
    "Đề bài yêu cầu viết một chương trình Pandas để chèn một cột đã cho vào một chỉ mục cột cụ thể trong DataFrame."
   ]
  },
  {
   "cell_type": "code",
   "execution_count": 7,
   "metadata": {},
   "outputs": [
    {
     "name": "stdout",
     "output_type": "stream",
     "text": [
      "Original DataFrame\n",
      "   col2  col3\n",
      "0     4     7\n",
      "1     5     8\n",
      "2     6    12\n",
      "3     9     1\n",
      "4     5    11\n",
      "\n",
      "New DataFrame\n",
      "   col1  col2  col3\n",
      "0     1     4     7\n",
      "1     2     5     8\n",
      "2     3     6    12\n",
      "3     4     9     1\n",
      "4     7     5    11\n"
     ]
    }
   ],
   "source": [
    "import pandas as pd\n",
    "d = {'col2': [4, 5, 6, 9, 5], 'col3': [7, 8, 12, 1, 11]} #Tạo dữ liệu có 2 cột\n",
    "df = pd.DataFrame(data=d) #Tạo đối tượng DataFrame với dữ liệu là d được tạo ở trên\n",
    "print(\"Original DataFrame\")\n",
    "print(df) #In ra DataFrame gốc\n",
    "new_col = [1, 2, 3, 4, 7]  #Tạo một cột mới\n",
    "# insert the said column at the beginning in the DataFrame\n",
    "idx = 0\n",
    "df.insert(loc=idx, column='col1', value=new_col)\n",
    "#insert là phương thức chèn cột với loc là chỉ mục của cột cần chèn, column là tên cột mới\n",
    "#value là giá trị của cột mới\n",
    "print(\"\\nNew DataFrame\")\n",
    "print(df) #In ra dataFrame sau khi chèn"
   ]
  },
  {
   "cell_type": "markdown",
   "metadata": {},
   "source": [
    "## Bài 54. Write a Pandas program to convert a given list of lists into a Dataframe."
   ]
  },
  {
   "cell_type": "markdown",
   "metadata": {},
   "source": [
    "Đề bài yêu cầu viết một chương trình Pandas để chuyển đổi một danh sách các danh sách (list of lists) thành một DataFrame.\n",
    "\n",
    "Một DataFrame là một biểu diễn dữ liệu hai chiều, có thể được xem như một bảng, trong đó dữ liệu được tổ chức thành các hàng và cột. Mỗi danh sách con trong danh sách chính sẽ tương ứng với một hàng trong DataFrame."
   ]
  },
  {
   "cell_type": "code",
   "execution_count": 10,
   "metadata": {},
   "outputs": [
    {
     "name": "stdout",
     "output_type": "stream",
     "text": [
      "Original list of lists:\n",
      "[[2, 4], [1, 3]]\n",
      "New DataFrame\n",
      "   col1  col2\n",
      "0     2     4\n",
      "1     1     3\n"
     ]
    }
   ],
   "source": [
    "import pandas as pd\n",
    "my_lists = [['col1', 'col2'], [2, 4], [1, 3]]\n",
    "#Tạo ra một list of list\n",
    "# sets the headers as list\n",
    "headers = my_lists.pop(0)  #TÊN CỘT\n",
    "#pop(0) để loại bỏ và trả về phần tử đầu tiên của danh sách my_list và lưu vào biến headers\n",
    "print(\"Original list of lists:\")\n",
    "print(my_lists) #In ra list of list \n",
    "df = pd.DataFrame(my_lists, columns = headers)\n",
    "#Chuyển list of list thành DataFrame với tên cột là headers (columns là đặt tên cột)\n",
    "print(\"New DataFrame\")\n",
    "print(df)\n"
   ]
  },
  {
   "cell_type": "markdown",
   "metadata": {},
   "source": [
    "## Bài 55. Write a Pandas program to group by the first column and get second column as lists in rows."
   ]
  },
  {
   "cell_type": "markdown",
   "metadata": {},
   "source": [
    "Đề yêu cầu viết một chương trình Pandas để nhóm dữ liệu theo cột đầu tiên và lấy giá trị của cột thứ hai như là danh sách trong từng dòng."
   ]
  },
  {
   "cell_type": "code",
   "execution_count": 18,
   "metadata": {},
   "outputs": [
    {
     "name": "stdout",
     "output_type": "stream",
     "text": [
      "Original DataFrame\n",
      "  col1  col2\n",
      "0   C1     1\n",
      "1   C1     2\n",
      "2   C2     3\n",
      "3   C2     3\n",
      "4   C2     4\n",
      "5   C3     6\n",
      "6   C2     5\n",
      "\n",
      "Group on the col1:\n",
      "col1\n",
      "C1          [1, 2]\n",
      "C2    [3, 3, 4, 5]\n",
      "C3             [6]\n",
      "Name: col2, dtype: object\n"
     ]
    }
   ],
   "source": [
    "import pandas as pd\n",
    "df = pd.DataFrame( {'col1':['C1','C1','C2','C2','C2','C3','C2'], 'col2':[1,2,3,3,4,6,5]})\n",
    "#Tạo ra đối tượng DataFrame tên là df có 2 cột với các giá trị tương ứng\n",
    "print(\"Original DataFrame\")\n",
    "print(df) #In ra dataFrame gốc\n",
    "df = df.groupby('col1')['col2'].apply(list)\n",
    "#groupby là phương thức nhóm cột 1 theo giá trị của cột 1\n",
    "#.apply(list) chuyển giá trị của cột 2 trong mỗi nhóm thành 1 danh sách \n",
    "print(\"\\nGroup on the col1:\")\n",
    "print(df)"
   ]
  },
  {
   "cell_type": "markdown",
   "metadata": {},
   "source": [
    "## Bài 56. Write a Pandas program to get column index from column name of a given DataFrame"
   ]
  },
  {
   "cell_type": "markdown",
   "metadata": {},
   "source": [
    "Đề bài yêu cầu viết một chương trình Pandas để lấy chỉ mục (index) của cột dựa trên tên cột trong một DataFrame đã cho."
   ]
  },
  {
   "cell_type": "code",
   "execution_count": 20,
   "metadata": {},
   "outputs": [
    {
     "name": "stdout",
     "output_type": "stream",
     "text": [
      "Original DataFrame\n",
      "   col1  col2  col3\n",
      "0     1     4     7\n",
      "1     2     5     8\n",
      "2     3     6    12\n",
      "3     4     9     1\n",
      "4     7     5    11\n",
      "\n",
      "Index of 'col2'\n",
      "1\n"
     ]
    }
   ],
   "source": [
    "import pandas as pd\n",
    "d = {'col1': [1, 2, 3, 4, 7], 'col2': [4, 5, 6, 9, 5], 'col3': [7, 8, 12, 1, 11]}\n",
    "df = pd.DataFrame(data=d) #Tạo đối tượng DataFrame từ dữ liệu ở trên (d)\n",
    "print(\"Original DataFrame\")\n",
    "print(df) #In ra dataFrame gốc\n",
    "print(\"\\nIndex of 'col2'\")\n",
    "print(df.columns.get_loc(\"col2\"))\n",
    "#Phương thức columns để lấy danh sách tên cột\n",
    "#Phương thức get_loc để lấy chỉ mục của cột có tên là col2\n"
   ]
  },
  {
   "cell_type": "code",
   "execution_count": null,
   "metadata": {},
   "outputs": [],
   "source": []
  }
 ],
 "metadata": {
  "kernelspec": {
   "display_name": "Python 3",
   "language": "python",
   "name": "python3"
  },
  "language_info": {
   "codemirror_mode": {
    "name": "ipython",
    "version": 3
   },
   "file_extension": ".py",
   "mimetype": "text/x-python",
   "name": "python",
   "nbconvert_exporter": "python",
   "pygments_lexer": "ipython3",
   "version": "3.8.5"
  }
 },
 "nbformat": 4,
 "nbformat_minor": 4
}
