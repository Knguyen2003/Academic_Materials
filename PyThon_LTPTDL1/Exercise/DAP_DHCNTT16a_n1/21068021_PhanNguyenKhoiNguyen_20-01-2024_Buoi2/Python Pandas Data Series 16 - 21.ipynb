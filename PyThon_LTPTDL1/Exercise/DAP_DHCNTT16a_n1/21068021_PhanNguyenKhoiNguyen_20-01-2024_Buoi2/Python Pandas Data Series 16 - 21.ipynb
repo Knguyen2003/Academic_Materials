{
 "cells": [
  {
   "cell_type": "markdown",
   "metadata": {},
   "source": [
    "## Bài 16 :Write a Pandas program to get the items of a given series not present in another given series."
   ]
  },
  {
   "cell_type": "code",
   "execution_count": 5,
   "metadata": {},
   "outputs": [
    {
     "name": "stdout",
     "output_type": "stream",
     "text": [
      "Original Series:\n",
      "sr1:\n",
      "0    1\n",
      "1    2\n",
      "2    3\n",
      "3    4\n",
      "4    5\n",
      "dtype: int64\n",
      "sr2:\n",
      "0     2\n",
      "1     4\n",
      "2     6\n",
      "3     8\n",
      "4    10\n",
      "dtype: int64\n",
      "\n",
      "Items of sr1 not present in sr2:\n",
      "0    1\n",
      "2    3\n",
      "4    5\n",
      "dtype: int64\n"
     ]
    }
   ],
   "source": [
    "import pandas as pd\n",
    "\n",
    "#.Series dùng để tạo Pandas Series\n",
    "sr1 = pd.Series([1, 2, 3, 4, 5]) #Tạo đối tượng Series là sr1\n",
    "sr2 = pd.Series([2, 4, 6, 8, 10])#Tạo đối tượng Series là sr2\n",
    "print(\"Original Series:\")\n",
    "print(\"sr1:\")\n",
    "print(sr1)\n",
    "print(\"sr2:\")\n",
    "print(sr2)\n",
    "print(\"\\nItems of sr1 not present in sr2:\")\n",
    "\n",
    "result = sr1[~sr1.isin(sr2)] #Trả về các phần tử của sr1 không xuất hiện trong sr2\n",
    "\n",
    "# Tìm các phần tử không trùng lặp: sr1[~sr1.isin(sr2)] được sử dụng để tìm các phần tử trong sr1 mà không có trong sr2\n",
    "# . ~sr1.isin(sr2) trả về một Series Boolean, trong đó True đại diện cho các phần tử không trùng lặp. \n",
    "\n",
    "print(result) #In ra các phần tử của sr1 không có trong sr2"
   ]
  },
  {
   "cell_type": "markdown",
   "metadata": {},
   "source": [
    "## Bài 17. Write a Pandas program to get the items which are not common of two given series."
   ]
  },
  {
   "cell_type": "markdown",
   "metadata": {},
   "source": [
    "Điều này có nghĩa là chúng ta cần tìm các phần tử mà chỉ xuất hiện trong một trong hai Series, không xuất hiện trong cả hai."
   ]
  },
  {
   "cell_type": "code",
   "execution_count": 15,
   "metadata": {},
   "outputs": [
    {
     "name": "stdout",
     "output_type": "stream",
     "text": [
      "Original Series:\n",
      "sr1:\n",
      "0    1\n",
      "1    2\n",
      "2    3\n",
      "3    4\n",
      "4    5\n",
      "dtype: int64\n",
      "sr2:\n",
      "0     2\n",
      "1     4\n",
      "2     6\n",
      "3     8\n",
      "4    10\n",
      "dtype: int64\n",
      "\n",
      "Items of a given series not present in another given series:\n",
      "0     1\n",
      "2     3\n",
      "4     5\n",
      "5     6\n",
      "6     8\n",
      "7    10\n",
      "dtype: int64\n"
     ]
    }
   ],
   "source": [
    "import pandas as pd #khai báo pandas và đổi tên là pd\n",
    "import numpy as np\n",
    "sr1 = pd.Series([1, 2, 3, 4, 5]) #Tạo đối tượng Series sr1\n",
    "sr2 = pd.Series([2, 4, 6, 8, 10]) #Tạo đối tượng Series sr2\n",
    "print(\"Original Series:\")\n",
    "print(\"sr1:\")\n",
    "print(sr1) #In ra sr1 gốc\n",
    "print(\"sr2:\")\n",
    "print(sr2) #In ra sr2 gốc\n",
    "print(\"\\nItems of a given series not present in another given series:\")\n",
    "# Tạo đối tượng Series sr11 chứa tất cả các phần tử không trùng lặp của sr1 và sr2\n",
    "sr11 = pd.Series(np.union1d(sr1, sr2)) #.union1d chứa tất cả các phần tử của sr1 và sr2\n",
    "\n",
    "# Tạo đối tượng Series sr22 chứa tất cả các phần tử trùng lặp của sr1 và sr2\n",
    "sr22 = pd.Series(np.intersect1d(sr1, sr2)) #.intersect1d chứa các phần tử trùng lặp (các phần tử có ở cả 2 sr1 va sr2)\n",
    "\n",
    "# Tìm các phần tử không trùng lặp: sr11[~sr11.isin(sr22)] được sử dụng để tìm các phần tử trong sr11 mà không có trong sr22\n",
    "# . ~sr11.isin(sr22) trả về một Series Boolean, trong đó True đại diện cho các phần tử không trùng lặp.\n",
    "result = sr11[~sr11.isin(sr22)] \n",
    "print(result)"
   ]
  },
  {
   "cell_type": "markdown",
   "metadata": {},
   "source": [
    "## Bài 18. Write a Pandas program to compute the minimum, 25th percentile, median, 75th, and maximum of a given series."
   ]
  },
  {
   "cell_type": "markdown",
   "metadata": {},
   "source": [
    "Bài 18. Viết chương trình Pandas tính giá trị nhỏ nhất, phân vị thứ 25, trung vị, thứ 75 và lớn nhất của một dãy cho trước"
   ]
  },
  {
   "cell_type": "code",
   "execution_count": 20,
   "metadata": {},
   "outputs": [
    {
     "name": "stdout",
     "output_type": "stream",
     "text": [
      "Original Series:\n",
      "0      3.000938\n",
      "1     11.370722\n",
      "2     14.612143\n",
      "3      8.990256\n",
      "4     13.925283\n",
      "5     12.056875\n",
      "6     10.884719\n",
      "7      5.719827\n",
      "8      9.242017\n",
      "9     11.020006\n",
      "10     8.167892\n",
      "11    11.740654\n",
      "12     7.665620\n",
      "13    13.267388\n",
      "14    12.690883\n",
      "15     9.582355\n",
      "16     7.874878\n",
      "17    14.118931\n",
      "18     8.247458\n",
      "19     5.526727\n",
      "dtype: float64\n",
      "\n",
      "Minimum, 25th percentile, median, 75th, and maximum of a given series:\n",
      "[ 3.00093811  8.09463867 10.23353705 12.21537733 14.61214321]\n"
     ]
    }
   ],
   "source": [
    "import pandas as pd\n",
    "import numpy as np\n",
    "#Tạo đối tượng numpy. .random là tạo ngẫu nhiên.RandomState(100) đảm bảo rằng kết quả có thể được sử dụng lại (Tức là kết quả chạy ra sẽ giống nhau)\n",
    "num_state = np.random.RandomState(100)\n",
    "\n",
    "num_series = pd.Series(num_state.normal(10, 4, 20)) #Tạo series\n",
    "#Tạo series gồm 20 số ngẫu nhiên được sinh theo phân phối normal với trung bình là 10 và độ lệch chuẩn là 4 = cách num_state.normal().\n",
    "print(\"Original Series:\")\n",
    "print(num_series)\n",
    "\n",
    "result = np.percentile(num_series, q=[0, 25, 50, 75, 100])\n",
    "#result sẽ lưu giữ giá trị tối thiểu (percentile 0), percentile 25, median \n",
    "#(percentile 50),percentile 75, và giá trị tối đa (percentile 100) của num_series\n",
    "\n",
    "print(\"\\nMinimum, 25th percentile, median, 75th, and maximum of a given series:\")\n",
    "\n",
    "print(result)"
   ]
  },
  {
   "cell_type": "markdown",
   "metadata": {},
   "source": [
    "## 19. Write a Pandas program to calculate the frequency counts of each unique value of a given series."
   ]
  },
  {
   "cell_type": "markdown",
   "metadata": {},
   "source": [
    "Đề bài yêu cầu viết một chương trình Pandas để tính số lần xuất hiện của mỗi giá trị duy nhất trong một Series đã cho. Điều này thường được gọi là tính tần suất (frequency) của mỗi giá trị trong Series."
   ]
  },
  {
   "cell_type": "code",
   "execution_count": 31,
   "metadata": {},
   "outputs": [
    {
     "name": "stdout",
     "output_type": "stream",
     "text": [
      "Original Series:\n",
      "0     2\n",
      "1     8\n",
      "2     2\n",
      "3     1\n",
      "4     8\n",
      "5     1\n",
      "6     3\n",
      "7     1\n",
      "8     1\n",
      "9     8\n",
      "10    7\n",
      "11    3\n",
      "12    3\n",
      "13    5\n",
      "14    4\n",
      "15    9\n",
      "16    9\n",
      "17    1\n",
      "18    2\n",
      "19    6\n",
      "20    7\n",
      "21    7\n",
      "22    5\n",
      "23    8\n",
      "24    5\n",
      "25    3\n",
      "26    2\n",
      "27    9\n",
      "28    6\n",
      "29    4\n",
      "30    3\n",
      "31    1\n",
      "32    1\n",
      "33    8\n",
      "34    9\n",
      "35    2\n",
      "36    5\n",
      "37    3\n",
      "38    7\n",
      "39    9\n",
      "dtype: object\n",
      "Frequency of each unique value of the said series.\n",
      "1    7\n",
      "3    6\n",
      "8    5\n",
      "9    5\n",
      "2    5\n",
      "7    4\n",
      "5    4\n",
      "6    2\n",
      "4    2\n",
      "dtype: int64\n"
     ]
    }
   ],
   "source": [
    "import pandas as pd\n",
    "import numpy as np\n",
    "num_series = pd.Series(np.take(list('0123456789'), np.random.randint(10, size=40)))\n",
    "\n",
    "#Tạo đối tượng series tên là num_series. np.random.randint(10, size=40) tạo mảng\n",
    "#1 chiều chứa 40 ký tự ngẫu nhiên từ danh sách các số đã cho '0123456789' .10 là\n",
    "#phạm vi tức là số nguyên có thể lấy là từ 0 đến 9 (10-1)\n",
    "\n",
    "print(\"Original Series:\")\n",
    "print(num_series) #In ra series gốc\n",
    "print(\"Frequency of each unique value of the said series.\")\n",
    "result = num_series.value_counts()\n",
    "\n",
    "#được sử dụng để tính số lần xuất hiện của mỗi giá trị duy nhất trong Series. \n",
    "#Kết quả là một đối tượng Series mới, trong đó các giá trị là các giá trị duy \n",
    "#nhất của Series gốc, và các chỉ số là số lần xuất hiện tương ứng của chúng\n",
    "\n",
    "print(result)"
   ]
  },
  {
   "cell_type": "markdown",
   "metadata": {},
   "source": [
    "## Bài 20. Write a Pandas program to display most frequent value in a given series and replace everything else as 'Other' in the series."
   ]
  },
  {
   "cell_type": "markdown",
   "metadata": {},
   "source": [
    "Đề bài yêu cầu viết một chương trình Pandas để hiển thị giá trị xuất hiện nhiều nhất trong một Series đã cho và thay thế tất cả các giá trị khác bằng 'Other' trong Series đó"
   ]
  },
  {
   "cell_type": "code",
   "execution_count": 35,
   "metadata": {},
   "outputs": [
    {
     "name": "stdout",
     "output_type": "stream",
     "text": [
      "Original Series:\n",
      "0     3\n",
      "1     1\n",
      "2     1\n",
      "3     1\n",
      "4     3\n",
      "5     1\n",
      "6     3\n",
      "7     2\n",
      "8     1\n",
      "9     4\n",
      "10    3\n",
      "11    2\n",
      "12    1\n",
      "13    1\n",
      "14    4\n",
      "dtype: int32\n",
      "Top 2 Freq:\n",
      " 1    7\n",
      "3    4\n",
      "4    2\n",
      "2    2\n",
      "dtype: int64\n",
      "0     Other\n",
      "1         1\n",
      "2         1\n",
      "3         1\n",
      "4     Other\n",
      "5         1\n",
      "6     Other\n",
      "7     Other\n",
      "8         1\n",
      "9     Other\n",
      "10    Other\n",
      "11    Other\n",
      "12        1\n",
      "13        1\n",
      "14    Other\n",
      "dtype: object\n"
     ]
    }
   ],
   "source": [
    "import pandas as pd\n",
    "import numpy as np\n",
    "num_series = pd.Series(np.random.randint(1, 5, [15]))\n",
    "#Tạo đối tượng series chứa 15 số nguyên ngẫu nhiên từ 1 đến 5 (không bao gồm 5)\n",
    "print(\"Original Series:\")\n",
    "print(num_series) \n",
    "print(\"Top 2 Freq:\\n\", num_series.value_counts())\n",
    "#Tương tự như trên in ra số lần xuất hiện của từng phần tử trong num_series\n",
    "result = num_series[~num_series.isin(num_series.value_counts().index[:1])] = 'Other'\n",
    "#num_series.value_counts().index[:1]: Phương thức value_counts() được sử dụng \n",
    "#để đếm số lần xuất hiện của mỗi giá trị trong num_series. .index được sử dụng \n",
    "#để truy cập các giá trị duy nhất của Series, và [:1] được sử dụng để lấy giá \n",
    "#trị xuất hiện nhiều nhất (giá trị đầu tiên trong danh sách)\n",
    "#num_series[...] = 'Other': Sử dụng toán tử này để thay thế các giá trị mà không\n",
    "#nằm trong danh sách giá trị xuất hiện nhiều nhất bằng chuỗi 'Other'. Kết quả \n",
    "#được gán cho num_series.\n",
    "print(num_series)"
   ]
  },
  {
   "cell_type": "markdown",
   "metadata": {},
   "source": [
    "## Bài 21. Write a Pandas program to find the positions of numbers that are multiples of 5 of a given series."
   ]
  },
  {
   "cell_type": "markdown",
   "metadata": {},
   "source": [
    "Đề bài yêu cầu viết một chương trình Pandas để tìm vị trí (positions) của các số là bội số của 5 trong một Series đã cho."
   ]
  },
  {
   "cell_type": "code",
   "execution_count": 37,
   "metadata": {},
   "outputs": [
    {
     "name": "stdout",
     "output_type": "stream",
     "text": [
      "Original Series:\n",
      "0    1\n",
      "1    4\n",
      "2    3\n",
      "3    6\n",
      "4    2\n",
      "5    7\n",
      "6    6\n",
      "7    4\n",
      "8    2\n",
      "dtype: int32\n",
      "Positions of numbers that are multiples of 5:\n",
      "(array([], dtype=int64),)\n"
     ]
    }
   ],
   "source": [
    "import pandas as pd\n",
    "import numpy as np\n",
    "num_series = pd.Series(np.random.randint(1, 10, 9))\n",
    "#Tạo đối tượng là series chứa 9 số ngẫu nhiên từ 1 đến 9 (10-1)\n",
    "print(\"Original Series:\")\n",
    "print(num_series)\n",
    "result = np.where(num_series % 5==0)\n",
    "#np.where tạo mảng boolean kiếm tra từng giá trị trung num_series chia hết cho 5 (True)\n",
    "#được sử dụng để trả về chỉ mục của các phần tử có giá trị True\n",
    "print(\"Positions of numbers that are multiples of 5:\")\n",
    "print(result)"
   ]
  },
  {
   "cell_type": "code",
   "execution_count": null,
   "metadata": {},
   "outputs": [],
   "source": []
  }
 ],
 "metadata": {
  "kernelspec": {
   "display_name": "Python 3",
   "language": "python",
   "name": "python3"
  },
  "language_info": {
   "codemirror_mode": {
    "name": "ipython",
    "version": 3
   },
   "file_extension": ".py",
   "mimetype": "text/x-python",
   "name": "python",
   "nbconvert_exporter": "python",
   "pygments_lexer": "ipython3",
   "version": "3.8.5"
  }
 },
 "nbformat": 4,
 "nbformat_minor": 4
}
