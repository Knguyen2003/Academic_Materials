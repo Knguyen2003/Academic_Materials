{
 "cells": [
  {
   "cell_type": "code",
   "execution_count": 2,
   "id": "642bad70-7bae-4786-8c7b-e46b8f6dea66",
   "metadata": {},
   "outputs": [
    {
     "name": "stdout",
     "output_type": "stream",
     "text": [
      "   Year       WHO region                Country Beverage Types  Display Value\n",
      "0  1986  Western Pacific               Viet Nam           Wine           0.00\n",
      "1  1986         Americas                Uruguay          Other           0.50\n",
      "2  1985           Africa           Cte d'Ivoire           Wine           1.62\n",
      "3  1986         Americas               Colombia           Beer           4.27\n",
      "4  1987         Americas  Saint Kitts and Nevis           Beer           1.98\n"
     ]
    }
   ],
   "source": [
    "#Đọc file\n",
    "import pandas as pd\n",
    "file = pd.read_csv(r'D:\\TKMT_T.Ngọc\\Tuần 2\\world_alcohol.csv')\n",
    "print(file.head())"
   ]
  },
  {
   "cell_type": "markdown",
   "id": "a78ff537-91e5-4f47-9380-13126dc902a3",
   "metadata": {},
   "source": [
    "### 7. Write a Pandas program to find out the alcohol consumption details in the year '1987' or '1989' from the world alcohol consumption dataset."
   ]
  },
  {
   "cell_type": "code",
   "execution_count": 5,
   "id": "64a1b2c5-b451-4a1d-8260-606c416df734",
   "metadata": {},
   "outputs": [
    {
     "name": "stdout",
     "output_type": "stream",
     "text": [
      "\n",
      "Chi tiết về mức tiêu thụ rượu trong năm '1987' hoặc '1989'\n",
      "\n",
      "    Year       WHO region                Country Beverage Types  Display Value\n",
      "4   1987         Americas  Saint Kitts and Nevis           Beer           1.98\n",
      "5   1987         Americas              Guatemala          Other           0.00\n",
      "6   1987           Africa              Mauritius           Wine           0.13\n",
      "10  1987           Africa               Botswana           Wine           0.20\n",
      "11  1989         Americas              Guatemala           Beer           0.62\n",
      "15  1987           Africa          Guinea-Bissau           Wine           0.07\n",
      "17  1989           Africa             Seychelles           Beer           2.23\n",
      "21  1989         Americas             Costa Rica        Spirits           4.51\n",
      "28  1987  Western Pacific               Viet Nam           Beer           0.11\n",
      "32  1989           Africa              Mauritius           Beer           1.60\n"
     ]
    }
   ],
   "source": [
    "print(\"\\nChi tiết về mức tiêu thụ rượu trong năm '1987' hoặc '1989'\\n\")\n",
    "print((file[(file['Year']==1987) | (file['Year']==1989)]).head(10))\n",
    "#file['Year'] : lấy cột Year trong bảng file.\n",
    "#file['Year']==1987: Điều kiện này chọn ra các hàng trong cột 'Year' mà giá trị là 1987.Trả ra True và False\n",
    "#file['Year']==1989: Điều kiện này chọn ra các hàng trong cột 'Year' mà giá trị là 1989.\n",
    "#.head(10) hiển thị 10 đòng đầu tiên."
   ]
  },
  {
   "cell_type": "markdown",
   "id": "45d1baf6-6c2c-4395-a009-9639b6ba1108",
   "metadata": {},
   "source": [
    "### 8. Write a Pandas program to find out the alcohol consumption details by the 'Americas' in the year '1985' from the world alcohol consumption dataset."
   ]
  },
  {
   "cell_type": "code",
   "execution_count": 6,
   "id": "25ac72ce-0e1b-46b5-be70-1826e29cdea9",
   "metadata": {},
   "outputs": [
    {
     "name": "stdout",
     "output_type": "stream",
     "text": [
      "\n",
      "Chi tiết tiêu thụ rượu trên thế giới của châu Mỹ năm 1985\n",
      "\n",
      "    Year WHO region                           Country Beverage Types  \\\n",
      "11  1989   Americas                         Guatemala           Beer   \n",
      "21  1989   Americas                        Costa Rica        Spirits   \n",
      "55  1989   Americas                          Suriname           Wine   \n",
      "64  1989   Americas  Bolivia (Plurinational State of)           Beer   \n",
      "78  1989   Americas                           Jamaica          Other   \n",
      "\n",
      "    Display Value  \n",
      "11           0.62  \n",
      "21           4.51  \n",
      "55           0.04  \n",
      "64           1.26  \n",
      "78           0.00  \n"
     ]
    }
   ],
   "source": [
    "print(\"\\nChi tiết tiêu thụ rượu trên thế giới của châu Mỹ năm 1985\\n\")\n",
    "print(file[(file['Year']==1989) & (file['WHO region']=='Americas')].head(10))\n",
    "#Chọn ra các hàng có cột 'Year' là 1989 và cột 'WHO region' là Americas của bảng file\n",
    "#.head(10) tức là hiển thị 10 hàng đầu tiên của kết quả tìm được"
   ]
  },
  {
   "cell_type": "markdown",
   "id": "4676aaf5-186e-4f34-8396-ee559a6a08fa",
   "metadata": {},
   "source": [
    "### 9. Write a Pandas program to find out the alcohol consumption details in the year '1986' where WHO region is 'Western Pacific' and country is 'VietNam' from the world alcohol consumption dataset."
   ]
  },
  {
   "cell_type": "code",
   "execution_count": 8,
   "id": "515c02db-5d76-4ddb-a04e-a5a9535c8535",
   "metadata": {},
   "outputs": [
    {
     "name": "stdout",
     "output_type": "stream",
     "text": [
      "\n",
      "Chi tiết tiêu thụ rượu trên thế giới năm 1986 trong đó khu vực của WHO là Tây Thái Bình Dương và quốc gia là Việt Nam\n",
      "\n",
      "   Year       WHO region   Country Beverage Types  Display Value\n",
      "0  1986  Western Pacific  Viet Nam           Wine            0.0\n"
     ]
    }
   ],
   "source": [
    "print(\"\\nChi tiết tiêu thụ rượu trên thế giới năm 1986 trong đó khu vực của WHO là Tây Thái Bình Dương và quốc gia là Việt Nam\\n\")\n",
    "print(file[(file['Year']==1986) & (file['WHO region']=='Western Pacific') & (file['Country']=='Viet Nam')])\n",
    "#Chọn ra các hàng có cột 'Year' là 1986 và cột 'WHO region' là Western Pacific và 'Country' là Viet Nam của bảng file\n",
    "#.head(10) tức là hiển thị 10 hàng đầu tiên của kết quả tìm được"
   ]
  },
  {
   "cell_type": "markdown",
   "id": "b20f7b82-722a-455c-95e3-0871e25304a3",
   "metadata": {},
   "source": [
    "### 10. Write a Pandas program to find out the alcohol consumption details in the year '1986' or '1989' where WHO region is 'Americas' from the world alcohol consumption dataset."
   ]
  },
  {
   "cell_type": "code",
   "execution_count": 11,
   "id": "ecba3323-9503-49fe-b9bf-0c1f4c693119",
   "metadata": {},
   "outputs": [
    {
     "name": "stdout",
     "output_type": "stream",
     "text": [
      "\n",
      "Chi tiết về mức tiêu thụ rượu trong năm '1986' hoặc '1989' trong đó khu vực của WHO là 'Americas'\n",
      "\n",
      "    Year WHO region                           Country Beverage Types  \\\n",
      "1   1986   Americas                           Uruguay          Other   \n",
      "3   1986   Americas                          Colombia           Beer   \n",
      "8   1986   Americas               Antigua and Barbuda        Spirits   \n",
      "11  1989   Americas                         Guatemala           Beer   \n",
      "21  1989   Americas                        Costa Rica        Spirits   \n",
      "47  1986   Americas                            Mexico          Other   \n",
      "55  1989   Americas                          Suriname           Wine   \n",
      "64  1989   Americas  Bolivia (Plurinational State of)           Beer   \n",
      "74  1986   Americas  Bolivia (Plurinational State of)        Spirits   \n",
      "78  1989   Americas                           Jamaica          Other   \n",
      "\n",
      "    Display Value  \n",
      "1            0.50  \n",
      "3            4.27  \n",
      "8            1.55  \n",
      "11           0.62  \n",
      "21           4.51  \n",
      "47           0.04  \n",
      "55           0.04  \n",
      "64           1.26  \n",
      "74           2.06  \n",
      "78           0.00  \n"
     ]
    }
   ],
   "source": [
    "print(\"\\nChi tiết về mức tiêu thụ rượu trong năm '1986' hoặc '1989' trong đó khu vực của WHO là 'Americas'\\n\")\n",
    "print(file[((file['Year']==1986) | (file['Year']==1989))  & (file['WHO region']=='Americas')].head(10))\n",
    "# Chọn ra các hàng có cột Year trong bảng file là 1986 hoặc 1989 và kết hợp với điều kiện là\n",
    "#'WHO region' là 'Americas'\n",
    "#.head(10) hiển thị 10 dòng đầu tiên từ kết quả "
   ]
  },
  {
   "cell_type": "markdown",
   "id": "cebed0c0-40d2-4694-ba7f-143e422f4ce0",
   "metadata": {},
   "source": [
    "### 11. Write a Pandas program to find out the alcohol consumption details in the year '1986' or '1989' where WHO region is 'Americas' or 'Europe' from the world alcohol consumption dataset."
   ]
  },
  {
   "cell_type": "code",
   "execution_count": 12,
   "id": "5fc26c90-c6a9-4af9-853f-d69305708ae2",
   "metadata": {},
   "outputs": [
    {
     "name": "stdout",
     "output_type": "stream",
     "text": [
      "\n",
      "Chi tiết về mức tiêu thụ rượu trong năm '1986' hoặc '1989' trong đó khu vực của WHO là ‘Americas’  or 'Europe'\n",
      "    Year WHO region                                            Country  \\\n",
      "11  1989   Americas                                          Guatemala   \n",
      "21  1989   Americas                                         Costa Rica   \n",
      "26  1985     Europe  United Kingdom of Great Britain and Northern I...   \n",
      "35  1985   Americas                              Saint Kitts and Nevis   \n",
      "44  1985     Europe                                          Lithuania   \n",
      "50  1985     Europe                                        Switzerland   \n",
      "55  1989   Americas                                           Suriname   \n",
      "57  1989     Europe                                            Croatia   \n",
      "64  1989   Americas                   Bolivia (Plurinational State of)   \n",
      "78  1989   Americas                                            Jamaica   \n",
      "\n",
      "   Beverage Types  Display Value  \n",
      "11           Beer           0.62  \n",
      "21        Spirits           4.51  \n",
      "26           Wine           1.36  \n",
      "35        Spirits           2.24  \n",
      "44          Other            NaN  \n",
      "50          Other           0.30  \n",
      "55           Wine           0.04  \n",
      "57           Wine           5.10  \n",
      "64           Beer           1.26  \n",
      "78          Other           0.00  \n"
     ]
    }
   ],
   "source": [
    "#chi tiết về mức tiêu thụ rượu trong năm '1986' hoặc '1989' trong đó khu vực của WHO là 'Châu Mỹ' hoặc 'Châu Âu' \n",
    "print(\"\\nChi tiết về mức tiêu thụ rượu trong năm '1986' hoặc '1989' trong đó khu vực của WHO là ‘Americas’  or 'Europe'\")\n",
    "print(file[((file['Year']==1985) | (file['Year']==1989)) & ((file['WHO region']=='Americas') | (file['WHO region']=='Europe'))].head(10))\n",
    "#Chọn ra các hàng có cột Year là 1985 hoặc 1989 và cột 'WHO region' là 'Americas' hoặc 'Europe' của bảng file\n",
    "#.head(10) hiển thị 10 dòng đầu tiên từ kết quả "
   ]
  },
  {
   "cell_type": "markdown",
   "id": "02d11f6f-cca9-4efe-8898-91845799479b",
   "metadata": {},
   "source": [
    "### 12. Write a Pandas program to find out the 'WHO region, 'Country', 'Beverage Types' in the year '1986' or '1989' where WHO region is 'Americas' or 'Europe' from the world alcohol consumption dataset."
   ]
  },
  {
   "cell_type": "code",
   "execution_count": 16,
   "id": "afa0d93c-9222-470d-bf77-8062298baccf",
   "metadata": {},
   "outputs": [
    {
     "name": "stdout",
     "output_type": "stream",
     "text": [
      "\n",
      "The world alcohol consumption details ('WHO region','Country','Beverage Types') \n",
      "in the year ‘1986’ or ‘1989’ where  WHO region is ‘Americas’  or 'Europe':\n",
      "\n",
      "   WHO region                                            Country  \\\n",
      "11   Americas                                          Guatemala   \n",
      "21   Americas                                         Costa Rica   \n",
      "26     Europe  United Kingdom of Great Britain and Northern I...   \n",
      "35   Americas                              Saint Kitts and Nevis   \n",
      "44     Europe                                          Lithuania   \n",
      "50     Europe                                        Switzerland   \n",
      "55   Americas                                           Suriname   \n",
      "57     Europe                                            Croatia   \n",
      "64   Americas                   Bolivia (Plurinational State of)   \n",
      "78   Americas                                            Jamaica   \n",
      "\n",
      "   Beverage Types  \n",
      "11           Beer  \n",
      "21        Spirits  \n",
      "26           Wine  \n",
      "35        Spirits  \n",
      "44          Other  \n",
      "50          Other  \n",
      "55           Wine  \n",
      "57           Wine  \n",
      "64           Beer  \n",
      "78          Other  \n"
     ]
    }
   ],
   "source": [
    "print(\"\\nThe world alcohol consumption details ('WHO region','Country','Beverage Types') \\nin the year ‘1986’ or ‘1989’ where  WHO region is ‘Americas’  or 'Europe':\\n\")\n",
    "print(file[((file['Year']==1985) | (file['Year']==1989)) & ((file['WHO region']=='Americas') | (file['WHO region']=='Europe'))][['WHO region','Country','Beverage Types']].head(10))\n",
    "#Chọn ra các hàng có cột 'Year' là 1985 và 1989 và 'WHO region' là 'Americas' hoặc 'Europe' \n",
    "#['WHO region','Country','Beverage Types'] tức là chỉ hiển thị những cột này\n",
    "# head(10) hiển thị 10 dòng đầu tiên của kết quả nhận được."
   ]
  },
  {
   "cell_type": "code",
   "execution_count": null,
   "id": "1cb22ab5-dffd-454b-8a64-09c3b14e9f15",
   "metadata": {},
   "outputs": [],
   "source": []
  }
 ],
 "metadata": {
  "kernelspec": {
   "display_name": "Python 3 (ipykernel)",
   "language": "python",
   "name": "python3"
  },
  "language_info": {
   "codemirror_mode": {
    "name": "ipython",
    "version": 3
   },
   "file_extension": ".py",
   "mimetype": "text/x-python",
   "name": "python",
   "nbconvert_exporter": "python",
   "pygments_lexer": "ipython3",
   "version": "3.8.5"
  }
 },
 "nbformat": 4,
 "nbformat_minor": 5
}
