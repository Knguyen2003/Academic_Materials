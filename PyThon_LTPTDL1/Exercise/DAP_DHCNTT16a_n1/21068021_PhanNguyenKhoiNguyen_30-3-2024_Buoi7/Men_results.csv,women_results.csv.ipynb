{
 "cells": [
  {
   "cell_type": "markdown",
   "metadata": {},
   "source": [
    "#### Import thư viện"
   ]
  },
  {
   "cell_type": "code",
   "execution_count": 7,
   "metadata": {},
   "outputs": [],
   "source": [
    "import pandas as pd\n",
    "import numpy as np"
   ]
  },
  {
   "cell_type": "markdown",
   "metadata": {},
   "source": [
    "1. Exploratory data analysis\n",
    "- Load the data from men results.csv and women results.csv to understand its contents.\n",
    "- Determining the column names, data types, and values"
   ]
  },
  {
   "cell_type": "code",
   "execution_count": 8,
   "metadata": {},
   "outputs": [],
   "source": [
    "men_result   = pd.read_csv(r\"D:\\TKMT_T.Ngọc\\21068021_PhanNguyenKhoiNguyen_30-3-2024\\data\\men_results.csv\")\n",
    "women_result = pd.read_csv(r\"D:\\TKMT_T.Ngọc\\21068021_PhanNguyenKhoiNguyen_30-3-2024\\data\\women_results.csv\")"
   ]
  },
  {
   "cell_type": "code",
   "execution_count": 9,
   "metadata": {},
   "outputs": [
    {
     "name": "stdout",
     "output_type": "stream",
     "text": [
      "<class 'pandas.core.frame.DataFrame'>\n",
      "RangeIndex: 44353 entries, 0 to 44352\n",
      "Data columns (total 7 columns):\n",
      " #   Column      Non-Null Count  Dtype \n",
      "---  ------      --------------  ----- \n",
      " 0   Unnamed: 0  44353 non-null  int64 \n",
      " 1   date        44353 non-null  object\n",
      " 2   home_team   44353 non-null  object\n",
      " 3   away_team   44353 non-null  object\n",
      " 4   home_score  44353 non-null  int64 \n",
      " 5   away_score  44353 non-null  int64 \n",
      " 6   tournament  44353 non-null  object\n",
      "dtypes: int64(3), object(4)\n",
      "memory usage: 2.4+ MB\n"
     ]
    },
    {
     "data": {
      "text/html": [
       "<div>\n",
       "<style scoped>\n",
       "    .dataframe tbody tr th:only-of-type {\n",
       "        vertical-align: middle;\n",
       "    }\n",
       "\n",
       "    .dataframe tbody tr th {\n",
       "        vertical-align: top;\n",
       "    }\n",
       "\n",
       "    .dataframe thead th {\n",
       "        text-align: right;\n",
       "    }\n",
       "</style>\n",
       "<table border=\"1\" class=\"dataframe\">\n",
       "  <thead>\n",
       "    <tr style=\"text-align: right;\">\n",
       "      <th></th>\n",
       "      <th>Unnamed: 0</th>\n",
       "      <th>date</th>\n",
       "      <th>home_team</th>\n",
       "      <th>away_team</th>\n",
       "      <th>home_score</th>\n",
       "      <th>away_score</th>\n",
       "      <th>tournament</th>\n",
       "    </tr>\n",
       "  </thead>\n",
       "  <tbody>\n",
       "    <tr>\n",
       "      <th>0</th>\n",
       "      <td>0</td>\n",
       "      <td>1872-11-30</td>\n",
       "      <td>Scotland</td>\n",
       "      <td>England</td>\n",
       "      <td>0</td>\n",
       "      <td>0</td>\n",
       "      <td>Friendly</td>\n",
       "    </tr>\n",
       "    <tr>\n",
       "      <th>1</th>\n",
       "      <td>1</td>\n",
       "      <td>1873-03-08</td>\n",
       "      <td>England</td>\n",
       "      <td>Scotland</td>\n",
       "      <td>4</td>\n",
       "      <td>2</td>\n",
       "      <td>Friendly</td>\n",
       "    </tr>\n",
       "    <tr>\n",
       "      <th>2</th>\n",
       "      <td>2</td>\n",
       "      <td>1874-03-07</td>\n",
       "      <td>Scotland</td>\n",
       "      <td>England</td>\n",
       "      <td>2</td>\n",
       "      <td>1</td>\n",
       "      <td>Friendly</td>\n",
       "    </tr>\n",
       "    <tr>\n",
       "      <th>3</th>\n",
       "      <td>3</td>\n",
       "      <td>1875-03-06</td>\n",
       "      <td>England</td>\n",
       "      <td>Scotland</td>\n",
       "      <td>2</td>\n",
       "      <td>2</td>\n",
       "      <td>Friendly</td>\n",
       "    </tr>\n",
       "    <tr>\n",
       "      <th>4</th>\n",
       "      <td>4</td>\n",
       "      <td>1876-03-04</td>\n",
       "      <td>Scotland</td>\n",
       "      <td>England</td>\n",
       "      <td>3</td>\n",
       "      <td>0</td>\n",
       "      <td>Friendly</td>\n",
       "    </tr>\n",
       "  </tbody>\n",
       "</table>\n",
       "</div>"
      ],
      "text/plain": [
       "   Unnamed: 0        date home_team away_team  home_score  away_score  \\\n",
       "0           0  1872-11-30  Scotland   England           0           0   \n",
       "1           1  1873-03-08   England  Scotland           4           2   \n",
       "2           2  1874-03-07  Scotland   England           2           1   \n",
       "3           3  1875-03-06   England  Scotland           2           2   \n",
       "4           4  1876-03-04  Scotland   England           3           0   \n",
       "\n",
       "  tournament  \n",
       "0   Friendly  \n",
       "1   Friendly  \n",
       "2   Friendly  \n",
       "3   Friendly  \n",
       "4   Friendly  "
      ]
     },
     "execution_count": 9,
     "metadata": {},
     "output_type": "execute_result"
    }
   ],
   "source": [
    "men_result.info()\n",
    "men_result.head()"
   ]
  },
  {
   "cell_type": "code",
   "execution_count": 10,
   "metadata": {},
   "outputs": [
    {
     "name": "stdout",
     "output_type": "stream",
     "text": [
      "<class 'pandas.core.frame.DataFrame'>\n",
      "RangeIndex: 4884 entries, 0 to 4883\n",
      "Data columns (total 7 columns):\n",
      " #   Column      Non-Null Count  Dtype \n",
      "---  ------      --------------  ----- \n",
      " 0   Unnamed: 0  4884 non-null   int64 \n",
      " 1   date        4884 non-null   object\n",
      " 2   home_team   4884 non-null   object\n",
      " 3   away_team   4884 non-null   object\n",
      " 4   home_score  4884 non-null   int64 \n",
      " 5   away_score  4884 non-null   int64 \n",
      " 6   tournament  4884 non-null   object\n",
      "dtypes: int64(3), object(4)\n",
      "memory usage: 267.2+ KB\n"
     ]
    },
    {
     "data": {
      "text/html": [
       "<div>\n",
       "<style scoped>\n",
       "    .dataframe tbody tr th:only-of-type {\n",
       "        vertical-align: middle;\n",
       "    }\n",
       "\n",
       "    .dataframe tbody tr th {\n",
       "        vertical-align: top;\n",
       "    }\n",
       "\n",
       "    .dataframe thead th {\n",
       "        text-align: right;\n",
       "    }\n",
       "</style>\n",
       "<table border=\"1\" class=\"dataframe\">\n",
       "  <thead>\n",
       "    <tr style=\"text-align: right;\">\n",
       "      <th></th>\n",
       "      <th>Unnamed: 0</th>\n",
       "      <th>date</th>\n",
       "      <th>home_team</th>\n",
       "      <th>away_team</th>\n",
       "      <th>home_score</th>\n",
       "      <th>away_score</th>\n",
       "      <th>tournament</th>\n",
       "    </tr>\n",
       "  </thead>\n",
       "  <tbody>\n",
       "    <tr>\n",
       "      <th>0</th>\n",
       "      <td>0</td>\n",
       "      <td>1969-11-01</td>\n",
       "      <td>Italy</td>\n",
       "      <td>France</td>\n",
       "      <td>1</td>\n",
       "      <td>0</td>\n",
       "      <td>Euro</td>\n",
       "    </tr>\n",
       "    <tr>\n",
       "      <th>1</th>\n",
       "      <td>1</td>\n",
       "      <td>1969-11-01</td>\n",
       "      <td>Denmark</td>\n",
       "      <td>England</td>\n",
       "      <td>4</td>\n",
       "      <td>3</td>\n",
       "      <td>Euro</td>\n",
       "    </tr>\n",
       "    <tr>\n",
       "      <th>2</th>\n",
       "      <td>2</td>\n",
       "      <td>1969-11-02</td>\n",
       "      <td>England</td>\n",
       "      <td>France</td>\n",
       "      <td>2</td>\n",
       "      <td>0</td>\n",
       "      <td>Euro</td>\n",
       "    </tr>\n",
       "    <tr>\n",
       "      <th>3</th>\n",
       "      <td>3</td>\n",
       "      <td>1969-11-02</td>\n",
       "      <td>Italy</td>\n",
       "      <td>Denmark</td>\n",
       "      <td>3</td>\n",
       "      <td>1</td>\n",
       "      <td>Euro</td>\n",
       "    </tr>\n",
       "    <tr>\n",
       "      <th>4</th>\n",
       "      <td>4</td>\n",
       "      <td>1975-08-25</td>\n",
       "      <td>Thailand</td>\n",
       "      <td>Australia</td>\n",
       "      <td>3</td>\n",
       "      <td>2</td>\n",
       "      <td>AFC Championship</td>\n",
       "    </tr>\n",
       "  </tbody>\n",
       "</table>\n",
       "</div>"
      ],
      "text/plain": [
       "   Unnamed: 0        date home_team  away_team  home_score  away_score  \\\n",
       "0           0  1969-11-01     Italy     France           1           0   \n",
       "1           1  1969-11-01   Denmark    England           4           3   \n",
       "2           2  1969-11-02   England     France           2           0   \n",
       "3           3  1969-11-02     Italy    Denmark           3           1   \n",
       "4           4  1975-08-25  Thailand  Australia           3           2   \n",
       "\n",
       "         tournament  \n",
       "0              Euro  \n",
       "1              Euro  \n",
       "2              Euro  \n",
       "3              Euro  \n",
       "4  AFC Championship  "
      ]
     },
     "execution_count": 10,
     "metadata": {},
     "output_type": "execute_result"
    }
   ],
   "source": [
    "women_result.info()\n",
    "women_result.head()"
   ]
  },
  {
   "cell_type": "markdown",
   "metadata": {},
   "source": [
    "2. Filtering the data\n",
    "- Filter the data to only include official FIFA World Cup matches that took place after 2002-01-01.\n",
    "- Filtering for FIFA World Cup matches\n",
    "- Filtering for matches after 2002-01-01"
   ]
  },
  {
   "cell_type": "code",
   "execution_count": 11,
   "metadata": {},
   "outputs": [
    {
     "name": "stdout",
     "output_type": "stream",
     "text": [
      "\n",
      " Nam \n",
      "\n",
      "       Unnamed: 0       date            home_team     away_team  home_score  \\\n",
      "25164       25164 2002-05-31               France       Senegal           0   \n",
      "25165       25165 2002-06-01              Germany  Saudi Arabia           8   \n",
      "25166       25166 2002-06-01  Republic of Ireland      Cameroon           1   \n",
      "25167       25167 2002-06-01              Uruguay       Denmark           1   \n",
      "25168       25168 2002-06-02            Argentina       Nigeria           1   \n",
      "...           ...        ...                  ...           ...         ...   \n",
      "44343       44343 2022-12-10              England        France           1   \n",
      "44345       44345 2022-12-13            Argentina       Croatia           3   \n",
      "44346       44346 2022-12-14               France       Morocco           2   \n",
      "44350       44350 2022-12-17              Croatia       Morocco           2   \n",
      "44352       44352 2022-12-18            Argentina        France           3   \n",
      "\n",
      "       away_score      tournament  \n",
      "25164           1  FIFA World Cup  \n",
      "25165           0  FIFA World Cup  \n",
      "25166           1  FIFA World Cup  \n",
      "25167           2  FIFA World Cup  \n",
      "25168           0  FIFA World Cup  \n",
      "...           ...             ...  \n",
      "44343           2  FIFA World Cup  \n",
      "44345           0  FIFA World Cup  \n",
      "44346           0  FIFA World Cup  \n",
      "44350           1  FIFA World Cup  \n",
      "44352           3  FIFA World Cup  \n",
      "\n",
      "[384 rows x 7 columns]\n",
      "\n",
      " Nữ \n",
      "\n",
      "      Unnamed: 0       date      home_team      away_team  home_score  \\\n",
      "1600        1600 2003-09-20        Nigeria    North Korea           0   \n",
      "1601        1601 2003-09-20         Norway         France           2   \n",
      "1602        1602 2003-09-20        Germany         Canada           4   \n",
      "1603        1603 2003-09-20          Japan      Argentina           6   \n",
      "1604        1604 2003-09-21  United States         Sweden           3   \n",
      "...          ...        ...            ...            ...         ...   \n",
      "4465        4465 2019-06-29        Germany         Sweden           1   \n",
      "4466        4466 2019-07-02        England  United States           1   \n",
      "4467        4467 2019-07-03    Netherlands         Sweden           1   \n",
      "4468        4468 2019-07-06        England         Sweden           1   \n",
      "4469        4469 2019-07-07  United States    Netherlands           2   \n",
      "\n",
      "      away_score      tournament  \n",
      "1600           3  FIFA World Cup  \n",
      "1601           0  FIFA World Cup  \n",
      "1602           1  FIFA World Cup  \n",
      "1603           0  FIFA World Cup  \n",
      "1604           1  FIFA World Cup  \n",
      "...          ...             ...  \n",
      "4465           2  FIFA World Cup  \n",
      "4466           2  FIFA World Cup  \n",
      "4467           0  FIFA World Cup  \n",
      "4468           2  FIFA World Cup  \n",
      "4469           0  FIFA World Cup  \n",
      "\n",
      "[200 rows x 7 columns]\n"
     ]
    }
   ],
   "source": [
    "# Convert the 'date' column to datetime format if it's not already\n",
    "men_result['date'] = pd.to_datetime(men_result['date'])\n",
    "women_result['date'] = pd.to_datetime(women_result['date'])\n",
    "\n",
    "# Filter the data for FIFA World Cup matches\n",
    "fifa_world_cup_matches_men = men_result[men_result['tournament'] == 'FIFA World Cup']\n",
    "fifa_world_cup_matches_women= women_result[women_result['tournament'] == 'FIFA World Cup']\n",
    "\n",
    "# print(fifa_world_cup_matches_men)\n",
    "# print(fifa_world_cup_matches_women)\n",
    "\n",
    "# Filter the data for matches after January 1, 2002\n",
    "fifa_matches_after_2002_men = fifa_world_cup_matches_men[fifa_world_cup_matches_men['date'] > '2002-01-01']\n",
    "fifa_matches_after_2002_women = fifa_world_cup_matches_women[fifa_world_cup_matches_women['date'] > '2002-01-01']\n",
    "\n",
    "print(\"\\n Nam \\n\")\n",
    "print(fifa_matches_after_2002_men)\n",
    "print(\"\\n Nữ \\n\")\n",
    "print(fifa_matches_after_2002_women)"
   ]
  },
  {
   "cell_type": "markdown",
   "metadata": {},
   "source": [
    "3. Choosing the correct hypothesis test\n",
    "- Use EDA to determine the appropriate hypothesis test for this dataset and scenario.\n",
    "- Determining the type of hypothesis test\n",
    "- Determining if the data is normally distributed\n"
   ]
  },
  {
   "cell_type": "markdown",
   "metadata": {},
   "source": [
    "Để xác định kiểu kiểm định giả thuyết phù hợp, chúng ta cần xác định mục tiêu của nghiên cứu. Dựa vào dữ liệu, một trong những mục tiêu có thể là so sánh điểm số trung bình giữa đội chủ nhà và đội khách.\n",
    "\n",
    "Với mục tiêu này, kiểm định t-test độc lập có thể phù hợp. Kiểm định này sẽ cho phép chúng ta xác định xem có sự khác biệt đáng kể về điểm số trung bình giữa hai nhóm (đội chủ nhà và đội khách) hay không.\n",
    "\n",
    "Để đảm bảo tính phân phối chuẩn của dữ liệu, chúng ta có thể sử dụng các biểu đồ như histogram hoặc QQ plot, cũng như kiểm định Shapiro-Wilk. Nếu dữ liệu không tuân theo phân phối chuẩn, có thể cần thực hiện biến đổi dữ liệu hoặc sử dụng phương pháp thống kê khác."
   ]
  },
  {
   "cell_type": "markdown",
   "metadata": {},
   "source": [
    "4. Performing the hypothesis test\n",
    "- Once you've decided on the correct hypothesis test to perform, carry out the test to return the p-value.\n",
    "- How to perform the hypothesis test using pingouin\n",
    "- How to perform the hypothesis test using SciPy\n",
    "- Extracting the p-value using pingouin\n",
    "- Extracting the p-value using SciPy"
   ]
  },
  {
   "cell_type": "code",
   "execution_count": 12,
   "metadata": {},
   "outputs": [
    {
     "name": "stdout",
     "output_type": "stream",
     "text": [
      "Giá trị p-value sử dụng pingouin: 0.0\n"
     ]
    },
    {
     "name": "stderr",
     "output_type": "stream",
     "text": [
      "c:\\program files\\python38\\lib\\site-packages\\pingouin\\bayesian.py:152: RuntimeWarning: divide by zero encountered in scalar divide\n",
      "  bf10 = 1 / ((1 + t**2 / df) ** (-(df + 1) / 2) / integr)\n"
     ]
    }
   ],
   "source": [
    "#How to perform the hypothesis test using pingouin\n",
    "import pingouin as pg\n",
    "\n",
    "# Thực hiện kiểm định t độc lập\n",
    "t_result = pg.ttest(men_result['home_score'], men_result['away_score'], paired=False)\n",
    "\n",
    "# Trích xuất giá trị p-value\n",
    "p_value_pingouin = t_result['p-val'].values[0]\n",
    "\n",
    "print(\"Giá trị p-value sử dụng pingouin:\", p_value_pingouin)"
   ]
  },
  {
   "cell_type": "code",
   "execution_count": 13,
   "metadata": {},
   "outputs": [
    {
     "name": "stdout",
     "output_type": "stream",
     "text": [
      "Giá trị p-value sử dụng SciPy: 0.0\n"
     ]
    }
   ],
   "source": [
    "# How to perform the hypothesis test using SciPy\n",
    "from scipy.stats import ttest_ind\n",
    "\n",
    "# Thực hiện kiểm định t độc lập\n",
    "t_statistic, p_value_scipy = ttest_ind(men_result['home_score'], men_result['away_score'])\n",
    "\n",
    "print(\"Giá trị p-value sử dụng SciPy:\", p_value_scipy)"
   ]
  },
  {
   "cell_type": "markdown",
   "metadata": {},
   "source": [
    "5. Interpreting the result of the hypothesis test\n",
    "- Interpret the p-value to determine if there is statistical significance between the two groups, assuming a 10% significance level.\n",
    "- Determining the result from the p-value and significance level"
   ]
  },
  {
   "cell_type": "markdown",
   "metadata": {},
   "source": [
    "Khi đã có giá trị p-value từ kiểm định giả thuyết và mức ý nghĩa đã được xác định (trong trường hợp này là 10%), chúng ta có thể diễn giải kết quả như sau:\n",
    "\n",
    "Nếu giá trị p-value nhỏ hơn hoặc bằng mức ý nghĩa (10%), chúng ta sẽ bác bỏ giả thuyết không (null hypothesis) và kết luận rằng có sự khác biệt có ý nghĩa về mặt thống kê giữa hai nhóm.\n",
    "Ngược lại, nếu giá trị p-value lớn hơn mức ý nghĩa, chúng ta không đủ bằng chứng để bác bỏ giả thuyết không và kết luận rằng không có sự khác biệt đáng kể về mặt thống kê giữa hai nhóm.\n",
    "Trong trường hợp này, vì ta đã xác định mức ý nghĩa là 10%, nếu giá trị p-value nhỏ hơn hoặc bằng 0.1, ta sẽ bác bỏ giả thuyết không và kết luận rằng có sự khác biệt đáng kể về mặt thống kê giữa điểm số trung bình của đội chủ nhà và đội khách. Ngược lại, nếu giá trị p-value lớn hơn 0.1, ta không đủ bằng chứng để bác bỏ giả thuyết không và kết luận rằng không có sự khác biệt đáng kể về mặt thống kê giữa hai nhóm.\n",
    "\n",
    "Vì vậy, kết luận cuối cùng về sự khác biệt giữa điểm số trung bình của đội chủ nhà và đội khách sẽ phụ thuộc vào giá trị p-value mà chúng ta thu được từ kiểm định giả thuyết."
   ]
  },
  {
   "cell_type": "markdown",
   "metadata": {},
   "source": [
    "* You're working as a sports journalist at a major online sports media company, specializing in soccer analysis and reporting. You've been watching both men's and women's international soccer matches for a number of years, and your gut instinct tells you that more goals are scored in women's international football matches than men's. This would make an interesting investigative article that your subscribers are bound to love, but you'll need to perform valid statistical hypothesis test to be sure!\n",
    "* While scoping this project, you acknowledge that the sport has changed a lot over the years, and performances likely vary a lot depending on the tournament, so you decide to limit the data used in the analysis to only official FIFA World Cup matches (not including qualifiers) since 2002-01-01.\n",
    "* You create two datasets containing the results of every official men's and women's international football match since the 19th century, which you scraped from a reliable online source. This data is stored in two CSV files: women_results.csv and men_results.csv.\n",
    "- The question you are trying to determine the answer to is:\n",
    "- Are more goals scored in women's international soccer matches than men's?\n",
    "- You assume a 10% significance level, and use the following null and alternative hypotheses:\n",
    "- Ho: The mean number of goals scored in women's international soccer matches is the same as men's.\n",
    "- HA: The mean number of goals scored in women's international soccer matches is greater than men's."
   ]
  },
  {
   "cell_type": "markdown",
   "metadata": {},
   "source": [
    "#### Dịch"
   ]
  },
  {
   "cell_type": "markdown",
   "metadata": {},
   "source": [
    "* Bạn đang làm việc như một nhà báo thể thao tại một công ty truyền thông thể thao trực tuyến lớn, chuyên sâu về phân tích và báo cáo về bóng đá. Bạn đã theo dõi cả các trận đấu bóng đá quốc tế nam và nữ trong một số năm, và trực giác của bạn cho biết rằng có nhiều bàn thắng được ghi trong các trận đấu bóng đá quốc tế nữ hơn so với nam. Điều này sẽ tạo nên một bài báo điều tra thú vị mà các độc giả của bạn chắc chắn sẽ yêu thích, nhưng bạn cần thực hiện một kiểm định giả thuyết thống kê hợp lệ để đảm bảo!\n",
    "\n",
    "* Trong quá trình phát triển dự án này, bạn nhận thức rằng môn thể thao đã thay đổi rất nhiều qua các năm, và các hiệu suất có khả năng biến đổi nhiều tùy thuộc vào giải đấu, vì vậy bạn quyết định giới hạn dữ liệu được sử dụng trong phân tích chỉ vào các trận đấu bóng đá quốc tế chính thức của World Cup FIFA (không bao gồm vòng loại) từ ngày 01-01-2002.\n",
    "\n",
    "* Bạn tạo ra hai tập dữ liệu chứa kết quả của mỗi trận đấu bóng đá quốc tế chính thức của nam và nữ từ thế kỷ 19, mà bạn đã lấy từ một nguồn trực tuyến đáng tin cậy. Dữ liệu này được lưu trữ trong hai tệp CSV: women_results.csv và men_results.csv.\n",
    "\n",
    "* Câu hỏi mà bạn đang cố gắng tìm câu trả lời là: \"Có nhiều bàn thắng hơn trong các trận đấu bóng đá quốc tế nữ so với nam không?\"\n",
    "\n",
    "* Bạn giả định một mức ý nghĩa là 10%, và sử dụng các giả thuyết sau đây:\n",
    "\n",
    "* Ho: Số lượng bàn thắng trung bình được ghi trong các trận đấu bóng đá quốc tế nữ là giống như của nam.\n",
    "* HA: Số lượng bàn thắng trung bình được ghi trong các trận đấu bóng đá quốc tế nữ lớn hơn so với nam."
   ]
  },
  {
   "cell_type": "code",
   "execution_count": 15,
   "metadata": {},
   "outputs": [
    {
     "name": "stdout",
     "output_type": "stream",
     "text": [
      "Số lượng trung bình các bàn thắng được ghi trong các trận đấu bóng đá quốc tế nữ: 1.4314086814086815\n",
      "Số lượng trung bình các bàn thắng được ghi trong các trận đấu bóng đá quốc tế nam: 1.1787928663224585\n",
      "Giá trị thống kê t: 11.457518869278827\n",
      "Giá trị p: 2.3559491187415873e-30\n"
     ]
    }
   ],
   "source": [
    "from scipy.stats import ttest_ind\n",
    "# Tính số lượng trung bình các bàn thắng được ghi trong các trận đấu bóng đá quốc tế cho nữ và nam\n",
    "trung_binh_ban_thang_nu = women_result['away_score'].mean()\n",
    "trung_binh_ban_thang_nam = men_result['away_score'].mean()\n",
    "\n",
    "# Thực hiện kiểm định giả thuyết\n",
    "t_statistic, p_value = ttest_ind(women_result['away_score'], men_result['away_score'])\n",
    "\n",
    "# In kết quả\n",
    "print(\"Số lượng trung bình các bàn thắng được ghi trong các trận đấu bóng đá quốc tế nữ:\", trung_binh_ban_thang_nu)\n",
    "print(\"Số lượng trung bình các bàn thắng được ghi trong các trận đấu bóng đá quốc tế nam:\", trung_binh_ban_thang_nam)\n",
    "print(\"Giá trị thống kê t:\", t_statistic)\n",
    "print(\"Giá trị p:\", p_value)"
   ]
  },
  {
   "cell_type": "code",
   "execution_count": null,
   "metadata": {},
   "outputs": [],
   "source": []
  }
 ],
 "metadata": {
  "kernelspec": {
   "display_name": "Python 3 (ipykernel)",
   "language": "python",
   "name": "python3"
  },
  "language_info": {
   "codemirror_mode": {
    "name": "ipython",
    "version": 3
   },
   "file_extension": ".py",
   "mimetype": "text/x-python",
   "name": "python",
   "nbconvert_exporter": "python",
   "pygments_lexer": "ipython3",
   "version": "3.8.5"
  }
 },
 "nbformat": 4,
 "nbformat_minor": 4
}
