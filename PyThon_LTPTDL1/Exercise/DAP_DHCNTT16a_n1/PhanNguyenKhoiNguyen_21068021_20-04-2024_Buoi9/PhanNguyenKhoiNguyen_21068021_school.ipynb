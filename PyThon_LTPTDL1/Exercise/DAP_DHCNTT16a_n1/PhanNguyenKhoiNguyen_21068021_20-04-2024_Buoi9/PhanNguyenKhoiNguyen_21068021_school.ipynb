{
 "cells": [
  {
   "cell_type": "markdown",
   "metadata": {},
   "source": [
    "#### Phan Nguyễn Khôi Nguyên\n",
    "#### 21068021"
   ]
  },
  {
   "cell_type": "code",
   "execution_count": 2,
   "metadata": {},
   "outputs": [],
   "source": [
    "import pandas as pd"
   ]
  },
  {
   "cell_type": "code",
   "execution_count": 3,
   "metadata": {},
   "outputs": [
    {
     "data": {
      "text/html": [
       "<div>\n",
       "<style scoped>\n",
       "    .dataframe tbody tr th:only-of-type {\n",
       "        vertical-align: middle;\n",
       "    }\n",
       "\n",
       "    .dataframe tbody tr th {\n",
       "        vertical-align: top;\n",
       "    }\n",
       "\n",
       "    .dataframe thead th {\n",
       "        text-align: right;\n",
       "    }\n",
       "</style>\n",
       "<table border=\"1\" class=\"dataframe\">\n",
       "  <thead>\n",
       "    <tr style=\"text-align: right;\">\n",
       "      <th></th>\n",
       "      <th>school_name</th>\n",
       "      <th>borough</th>\n",
       "      <th>building_code</th>\n",
       "      <th>average_math</th>\n",
       "      <th>average_reading</th>\n",
       "      <th>average_writing</th>\n",
       "      <th>percent_tested</th>\n",
       "    </tr>\n",
       "  </thead>\n",
       "  <tbody>\n",
       "    <tr>\n",
       "      <th>0</th>\n",
       "      <td>New Explorations into Science, Technology and ...</td>\n",
       "      <td>Manhattan</td>\n",
       "      <td>M022</td>\n",
       "      <td>657</td>\n",
       "      <td>601</td>\n",
       "      <td>601</td>\n",
       "      <td>NaN</td>\n",
       "    </tr>\n",
       "    <tr>\n",
       "      <th>1</th>\n",
       "      <td>Essex Street Academy</td>\n",
       "      <td>Manhattan</td>\n",
       "      <td>M445</td>\n",
       "      <td>395</td>\n",
       "      <td>411</td>\n",
       "      <td>387</td>\n",
       "      <td>78.9</td>\n",
       "    </tr>\n",
       "    <tr>\n",
       "      <th>2</th>\n",
       "      <td>Lower Manhattan Arts Academy</td>\n",
       "      <td>Manhattan</td>\n",
       "      <td>M445</td>\n",
       "      <td>418</td>\n",
       "      <td>428</td>\n",
       "      <td>415</td>\n",
       "      <td>65.1</td>\n",
       "    </tr>\n",
       "    <tr>\n",
       "      <th>3</th>\n",
       "      <td>High School for Dual Language and Asian Studies</td>\n",
       "      <td>Manhattan</td>\n",
       "      <td>M445</td>\n",
       "      <td>613</td>\n",
       "      <td>453</td>\n",
       "      <td>463</td>\n",
       "      <td>95.9</td>\n",
       "    </tr>\n",
       "    <tr>\n",
       "      <th>4</th>\n",
       "      <td>Henry Street School for International Studies</td>\n",
       "      <td>Manhattan</td>\n",
       "      <td>M056</td>\n",
       "      <td>410</td>\n",
       "      <td>406</td>\n",
       "      <td>381</td>\n",
       "      <td>59.7</td>\n",
       "    </tr>\n",
       "    <tr>\n",
       "      <th>5</th>\n",
       "      <td>Bard High School Early College</td>\n",
       "      <td>Manhattan</td>\n",
       "      <td>M097</td>\n",
       "      <td>634</td>\n",
       "      <td>641</td>\n",
       "      <td>639</td>\n",
       "      <td>70.8</td>\n",
       "    </tr>\n",
       "    <tr>\n",
       "      <th>6</th>\n",
       "      <td>Urban Assembly Academy of Government and Law</td>\n",
       "      <td>Manhattan</td>\n",
       "      <td>M445</td>\n",
       "      <td>389</td>\n",
       "      <td>395</td>\n",
       "      <td>381</td>\n",
       "      <td>80.8</td>\n",
       "    </tr>\n",
       "    <tr>\n",
       "      <th>7</th>\n",
       "      <td>Marta Valle High School</td>\n",
       "      <td>Manhattan</td>\n",
       "      <td>M025</td>\n",
       "      <td>438</td>\n",
       "      <td>413</td>\n",
       "      <td>394</td>\n",
       "      <td>35.6</td>\n",
       "    </tr>\n",
       "    <tr>\n",
       "      <th>8</th>\n",
       "      <td>University Neighborhood High School</td>\n",
       "      <td>Manhattan</td>\n",
       "      <td>M446</td>\n",
       "      <td>437</td>\n",
       "      <td>355</td>\n",
       "      <td>352</td>\n",
       "      <td>69.9</td>\n",
       "    </tr>\n",
       "    <tr>\n",
       "      <th>9</th>\n",
       "      <td>New Design High School</td>\n",
       "      <td>Manhattan</td>\n",
       "      <td>M445</td>\n",
       "      <td>381</td>\n",
       "      <td>396</td>\n",
       "      <td>372</td>\n",
       "      <td>73.7</td>\n",
       "    </tr>\n",
       "  </tbody>\n",
       "</table>\n",
       "</div>"
      ],
      "text/plain": [
       "                                         school_name    borough building_code  \\\n",
       "0  New Explorations into Science, Technology and ...  Manhattan          M022   \n",
       "1                               Essex Street Academy  Manhattan          M445   \n",
       "2                       Lower Manhattan Arts Academy  Manhattan          M445   \n",
       "3    High School for Dual Language and Asian Studies  Manhattan          M445   \n",
       "4      Henry Street School for International Studies  Manhattan          M056   \n",
       "5                     Bard High School Early College  Manhattan          M097   \n",
       "6       Urban Assembly Academy of Government and Law  Manhattan          M445   \n",
       "7                            Marta Valle High School  Manhattan          M025   \n",
       "8                University Neighborhood High School  Manhattan          M446   \n",
       "9                             New Design High School  Manhattan          M445   \n",
       "\n",
       "   average_math  average_reading  average_writing  percent_tested  \n",
       "0           657              601              601             NaN  \n",
       "1           395              411              387            78.9  \n",
       "2           418              428              415            65.1  \n",
       "3           613              453              463            95.9  \n",
       "4           410              406              381            59.7  \n",
       "5           634              641              639            70.8  \n",
       "6           389              395              381            80.8  \n",
       "7           438              413              394            35.6  \n",
       "8           437              355              352            69.9  \n",
       "9           381              396              372            73.7  "
      ]
     },
     "execution_count": 3,
     "metadata": {},
     "output_type": "execute_result"
    }
   ],
   "source": [
    "# Đọc dữ liệu\n",
    "data_school = pd.read_csv(r\"T:\\PhanNguyenKhoiNguyen_21068021_20-04-2024\\schools.csv\")\n",
    "data_school.head(10)"
   ]
  },
  {
   "cell_type": "markdown",
   "metadata": {},
   "source": [
    "#### Q1: Mô tả dữ liệu"
   ]
  },
  {
   "cell_type": "code",
   "execution_count": 4,
   "metadata": {},
   "outputs": [
    {
     "name": "stdout",
     "output_type": "stream",
     "text": [
      "\n",
      "Description of the dataset:\n",
      "       average_math  average_reading  average_writing  percent_tested\n",
      "count    375.000000       375.000000       375.000000      355.000000\n",
      "mean     432.944000       424.504000       418.458667       64.976338\n",
      "std       71.952373        61.881069        64.548599       18.747634\n",
      "min      317.000000       302.000000       284.000000       18.500000\n",
      "25%      386.000000       386.000000       382.000000       50.950000\n",
      "50%      415.000000       413.000000       403.000000       64.800000\n",
      "75%      458.500000       445.000000       437.500000       79.600000\n",
      "max      754.000000       697.000000       693.000000      100.000000\n",
      "\n",
      "Data type and non-null count of columns:\n",
      "<class 'pandas.core.frame.DataFrame'>\n",
      "RangeIndex: 375 entries, 0 to 374\n",
      "Data columns (total 7 columns):\n",
      " #   Column           Non-Null Count  Dtype  \n",
      "---  ------           --------------  -----  \n",
      " 0   school_name      375 non-null    object \n",
      " 1   borough          375 non-null    object \n",
      " 2   building_code    375 non-null    object \n",
      " 3   average_math     375 non-null    int64  \n",
      " 4   average_reading  375 non-null    int64  \n",
      " 5   average_writing  375 non-null    int64  \n",
      " 6   percent_tested   355 non-null    float64\n",
      "dtypes: float64(1), int64(3), object(3)\n",
      "memory usage: 20.6+ KB\n",
      "None\n"
     ]
    }
   ],
   "source": [
    "print(\"\\nDescription of the dataset:\")\n",
    "print(data_school.describe()) \n",
    "\n",
    "print(\"\\nData type and non-null count of columns:\")\n",
    "print(data_school.info())"
   ]
  },
  {
   "cell_type": "markdown",
   "metadata": {},
   "source": [
    "#### Q2: Những trường có điểm Toán tốt nhất là trường mà điểm toán trung bình đạt 80% điểm tối đa (800 điểm). Viết đoạn code xuất ra danh sách các trường có điểm toán tốt nhất, lưu trong DataFrame tên best_math_schools ( gồm các cột \"school_name\" và  \"average_math\" , sắp xếp  \"average_math\"  theo thứ tự giảm dần."
   ]
  },
  {
   "cell_type": "code",
   "execution_count": 6,
   "metadata": {},
   "outputs": [
    {
     "name": "stdout",
     "output_type": "stream",
     "text": [
      "                                           school_name  average_math\n",
      "88                              Stuyvesant High School           754\n",
      "170                       Bronx High School of Science           714\n",
      "93                 Staten Island Technical High School           711\n",
      "365  Queens High School for the Sciences at York Co...           701\n",
      "68   High School for Mathematics, Science, and Engi...           683\n",
      "280                     Brooklyn Technical High School           682\n",
      "333                        Townsend Harris High School           680\n",
      "174  High School of American Studies at Lehman College           669\n",
      "0    New Explorations into Science, Technology and ...           657\n",
      "45                       Eleanor Roosevelt High School           641\n"
     ]
    }
   ],
   "source": [
    "import pandas as pd\n",
    "\n",
    "\n",
    "threshold_score = 800 * 0.8\n",
    "\n",
    "\n",
    "best_math_schools = data_school[data_school['average_math'] >= threshold_score]\n",
    "\n",
    "\n",
    "best_math_schools = best_math_schools[['school_name', 'average_math']]\n",
    "\n",
    "\n",
    "best_math_schools = best_math_schools.sort_values(by='average_math', ascending=False)\n",
    "\n",
    "\n",
    "print(best_math_schools)\n"
   ]
  },
  {
   "cell_type": "markdown",
   "metadata": {},
   "source": [
    "#### Q3: Top 10 các trường có điểm tổng hợp SAT cao nhất .Viết đoạn code xuất ra danh sách 10 trường có điểm SAT tổng hợp cao nhất, lưu trong pandas DataFrame có tên top_10_schools  ( chứa \"school_name\" và cột mới có tên \"total_SAT\"), sắp xếp giảm dần theo cột \"total_SAT\".\""
   ]
  },
  {
   "cell_type": "code",
   "execution_count": 12,
   "metadata": {},
   "outputs": [
    {
     "data": {
      "text/html": [
       "<div>\n",
       "<style scoped>\n",
       "    .dataframe tbody tr th:only-of-type {\n",
       "        vertical-align: middle;\n",
       "    }\n",
       "\n",
       "    .dataframe tbody tr th {\n",
       "        vertical-align: top;\n",
       "    }\n",
       "\n",
       "    .dataframe thead th {\n",
       "        text-align: right;\n",
       "    }\n",
       "</style>\n",
       "<table border=\"1\" class=\"dataframe\">\n",
       "  <thead>\n",
       "    <tr style=\"text-align: right;\">\n",
       "      <th></th>\n",
       "      <th>school_name</th>\n",
       "      <th>total_SAT</th>\n",
       "    </tr>\n",
       "  </thead>\n",
       "  <tbody>\n",
       "    <tr>\n",
       "      <th>88</th>\n",
       "      <td>Stuyvesant High School</td>\n",
       "      <td>2144</td>\n",
       "    </tr>\n",
       "    <tr>\n",
       "      <th>170</th>\n",
       "      <td>Bronx High School of Science</td>\n",
       "      <td>2041</td>\n",
       "    </tr>\n",
       "    <tr>\n",
       "      <th>93</th>\n",
       "      <td>Staten Island Technical High School</td>\n",
       "      <td>2041</td>\n",
       "    </tr>\n",
       "    <tr>\n",
       "      <th>174</th>\n",
       "      <td>High School of American Studies at Lehman College</td>\n",
       "      <td>2013</td>\n",
       "    </tr>\n",
       "    <tr>\n",
       "      <th>333</th>\n",
       "      <td>Townsend Harris High School</td>\n",
       "      <td>1981</td>\n",
       "    </tr>\n",
       "    <tr>\n",
       "      <th>365</th>\n",
       "      <td>Queens High School for the Sciences at York Co...</td>\n",
       "      <td>1947</td>\n",
       "    </tr>\n",
       "    <tr>\n",
       "      <th>5</th>\n",
       "      <td>Bard High School Early College</td>\n",
       "      <td>1914</td>\n",
       "    </tr>\n",
       "    <tr>\n",
       "      <th>280</th>\n",
       "      <td>Brooklyn Technical High School</td>\n",
       "      <td>1896</td>\n",
       "    </tr>\n",
       "    <tr>\n",
       "      <th>45</th>\n",
       "      <td>Eleanor Roosevelt High School</td>\n",
       "      <td>1889</td>\n",
       "    </tr>\n",
       "    <tr>\n",
       "      <th>68</th>\n",
       "      <td>High School for Mathematics, Science, and Engi...</td>\n",
       "      <td>1889</td>\n",
       "    </tr>\n",
       "  </tbody>\n",
       "</table>\n",
       "</div>"
      ],
      "text/plain": [
       "                                           school_name  total_SAT\n",
       "88                              Stuyvesant High School       2144\n",
       "170                       Bronx High School of Science       2041\n",
       "93                 Staten Island Technical High School       2041\n",
       "174  High School of American Studies at Lehman College       2013\n",
       "333                        Townsend Harris High School       1981\n",
       "365  Queens High School for the Sciences at York Co...       1947\n",
       "5                       Bard High School Early College       1914\n",
       "280                     Brooklyn Technical High School       1896\n",
       "45                       Eleanor Roosevelt High School       1889\n",
       "68   High School for Mathematics, Science, and Engi...       1889"
      ]
     },
     "execution_count": 12,
     "metadata": {},
     "output_type": "execute_result"
    }
   ],
   "source": [
    "# Assuming the data is in a DataFrame called 'df'\n",
    "data_school['total_SAT'] = data_school['average_math'] + data_school['average_reading'] + data_school['average_writing']\n",
    "data_school[['school_name', 'total_SAT']].sort_values('total_SAT', ascending=False).head(10)\n",
    "\n",
    "# print(top_10_schools)"
   ]
  },
  {
   "cell_type": "markdown",
   "metadata": {},
   "source": [
    "#### Q4: Quận (borough) nào có độ lệch chuẩn của điểm SAT tổng hợp lớn nhất Lưu kết quả trong pandas DataFrame tên largest_std_dev. DataFrame này chứa 1 hàng gồm các cột \"borough\", \" building_code\" , \"average_SAT\", std_SAT\" . Giá trị độ lệch chuẩn làm tròn đến 2 chữ số thập phân."
   ]
  },
  {
   "cell_type": "code",
   "execution_count": 41,
   "metadata": {},
   "outputs": [
    {
     "name": "stdout",
     "output_type": "stream",
     "text": [
      "     borough building_code  average_SAT  std_SAT\n",
      "0  Manhattan          M022      1340.13   230.29\n"
     ]
    }
   ],
   "source": [
    "# Gom nhóm cột brought \n",
    "# Sau đó tính độ lêch chuẩn của total_SAT và gán vào biến std_dev\n",
    "std_dev = data_school.groupby('borough')['total_SAT'].std()\n",
    "# print(std_dev)\n",
    "# Lấy độ lệch chuẩn cao nhất dùng phương thức idxmax và gán cho biến largest_std_dev_borough\n",
    "largest_std_dev_borough = std_dev.idxmax()\n",
    "# print(largest_std_dev_borough)\n",
    "# Lọc ra các dòng từ data và cho cột borought = largest_std_dev_borough độ lêch chuẩn lớn nhất và gán cho biến largest_std_dev\n",
    "largest_std_dev = data_school[data_school['borough'] == largest_std_dev_borough]\n",
    "# Tính trung bình của total_SAT vừa tính được ở largest_std_dev\n",
    "average_SAT = largest_std_dev['total_SAT'].mean()\n",
    "# Tạo dataFrame chứa các thông tin cột: borough, building_code, average_SAT, std_SAT\n",
    "largest_std_dev = pd.DataFrame({\n",
    "    'borough': [largest_std_dev_borough],\n",
    "    # Trả về mã số tòa nhà trường đầu tiên\n",
    "    'building_code': [largest_std_dev['building_code'].values[0]], \n",
    "    # tính trung bình và làm tròn 2 chữ số thập phân\n",
    "    'average_SAT': [round(average_SAT, 2)],\n",
    "    # Tính độ lệch chuẩn có giá trị lớn nhất và làm tròn 2 chữ số thập phân\n",
    "    'std_SAT': [round(std_dev.max(), 2)]\n",
    "})\n",
    "# In giá trị\n",
    "print(largest_std_dev)"
   ]
  },
  {
   "cell_type": "code",
   "execution_count": 38,
   "metadata": {},
   "outputs": [
    {
     "name": "stdout",
     "output_type": "stream",
     "text": [
      "     borough building_code  average_SAT  std_SAT\n",
      "2  Manhattan          M445   420.333333   230.29\n"
     ]
    }
   ],
   "source": [
    "data_school['average_SAT'] = data_school['total_SAT'] / 3\n",
    "data_school['std_SAT'] = data_school.groupby('borough')['total_SAT'].std().reset_index()['total_SAT']\n",
    "largest_std_dev = data_school[data_school['std_SAT'] == data_school['std_SAT'].max() ]  \n",
    "largest_std_dev = largest_std_dev[['borough','building_code','average_SAT','std_SAT']]\n",
    "largest_std_dev['std_SAT'] = largest_std_dev['std_SAT'].round(2)\n",
    "print(largest_std_dev)"
   ]
  },
  {
   "cell_type": "code",
   "execution_count": null,
   "metadata": {},
   "outputs": [],
   "source": []
  }
 ],
 "metadata": {
  "kernelspec": {
   "display_name": "Python 3",
   "language": "python",
   "name": "python3"
  },
  "language_info": {
   "codemirror_mode": {
    "name": "ipython",
    "version": 3
   },
   "file_extension": ".py",
   "mimetype": "text/x-python",
   "name": "python",
   "nbconvert_exporter": "python",
   "pygments_lexer": "ipython3",
   "version": "3.8.5"
  }
 },
 "nbformat": 4,
 "nbformat_minor": 4
}
