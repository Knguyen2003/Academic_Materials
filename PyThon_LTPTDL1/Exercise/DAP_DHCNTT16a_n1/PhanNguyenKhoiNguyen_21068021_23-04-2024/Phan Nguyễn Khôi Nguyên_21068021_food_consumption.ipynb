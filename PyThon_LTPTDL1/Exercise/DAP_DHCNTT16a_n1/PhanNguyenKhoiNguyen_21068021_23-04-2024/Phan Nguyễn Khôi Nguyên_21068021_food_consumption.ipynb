{
 "cells": [
  {
   "cell_type": "markdown",
   "id": "7897b17d-8cf8-4062-97ae-ee91e3b25c09",
   "metadata": {},
   "source": [
    "#### Họ và Tên: Phan Nguyễn Khôi Nguyên\n",
    "#### MSSV: 21068021"
   ]
  },
  {
   "cell_type": "markdown",
   "id": "c339d983-1edb-4ebe-9d9d-5d67e7a2b2cf",
   "metadata": {},
   "source": [
    "##### Cú Pháp đọc ảnh\n",
    "![Tên ảnh](đường_dẫn_đến_ảnh)\n",
    "\n",
    "![ptdl.jpg](img/ptdl.jpg)\n"
   ]
  },
  {
   "cell_type": "markdown",
   "id": "512cbca6-182e-46b1-857a-ef2bc4708f05",
   "metadata": {},
   "source": [
    "##### Câu 1: Tạo 1 pandas DataFrame có tên food_consumption chứa dữ liệu load từ food_consumption.csv"
   ]
  },
  {
   "cell_type": "code",
   "execution_count": 2,
   "id": "0002d889-2da5-4195-bdf8-9616b0b3dab3",
   "metadata": {},
   "outputs": [],
   "source": [
    "# Import thư viện\n",
    "import pandas as pd\n",
    "import numpy as np\n",
    "import matplotlib.pyplot as plt"
   ]
  },
  {
   "cell_type": "code",
   "execution_count": 4,
   "id": "f6d3e37a-1175-4f95-aafe-457380860b12",
   "metadata": {},
   "outputs": [
    {
     "data": {
      "text/html": [
       "<div>\n",
       "<style scoped>\n",
       "    .dataframe tbody tr th:only-of-type {\n",
       "        vertical-align: middle;\n",
       "    }\n",
       "\n",
       "    .dataframe tbody tr th {\n",
       "        vertical-align: top;\n",
       "    }\n",
       "\n",
       "    .dataframe thead th {\n",
       "        text-align: right;\n",
       "    }\n",
       "</style>\n",
       "<table border=\"1\" class=\"dataframe\">\n",
       "  <thead>\n",
       "    <tr style=\"text-align: right;\">\n",
       "      <th></th>\n",
       "      <th>Unnamed: 0</th>\n",
       "      <th>country</th>\n",
       "      <th>food_category</th>\n",
       "      <th>consumption</th>\n",
       "      <th>co2_emission</th>\n",
       "    </tr>\n",
       "  </thead>\n",
       "  <tbody>\n",
       "    <tr>\n",
       "      <th>0</th>\n",
       "      <td>1</td>\n",
       "      <td>Argentina</td>\n",
       "      <td>pork</td>\n",
       "      <td>10.51</td>\n",
       "      <td>37.20</td>\n",
       "    </tr>\n",
       "    <tr>\n",
       "      <th>1</th>\n",
       "      <td>2</td>\n",
       "      <td>Argentina</td>\n",
       "      <td>poultry</td>\n",
       "      <td>38.66</td>\n",
       "      <td>41.53</td>\n",
       "    </tr>\n",
       "    <tr>\n",
       "      <th>2</th>\n",
       "      <td>3</td>\n",
       "      <td>Argentina</td>\n",
       "      <td>beef</td>\n",
       "      <td>55.48</td>\n",
       "      <td>1712.00</td>\n",
       "    </tr>\n",
       "    <tr>\n",
       "      <th>3</th>\n",
       "      <td>4</td>\n",
       "      <td>Argentina</td>\n",
       "      <td>lamb_goat</td>\n",
       "      <td>1.56</td>\n",
       "      <td>54.63</td>\n",
       "    </tr>\n",
       "    <tr>\n",
       "      <th>4</th>\n",
       "      <td>5</td>\n",
       "      <td>Argentina</td>\n",
       "      <td>fish</td>\n",
       "      <td>4.36</td>\n",
       "      <td>6.96</td>\n",
       "    </tr>\n",
       "    <tr>\n",
       "      <th>5</th>\n",
       "      <td>6</td>\n",
       "      <td>Argentina</td>\n",
       "      <td>eggs</td>\n",
       "      <td>11.39</td>\n",
       "      <td>10.46</td>\n",
       "    </tr>\n",
       "    <tr>\n",
       "      <th>6</th>\n",
       "      <td>7</td>\n",
       "      <td>Argentina</td>\n",
       "      <td>dairy</td>\n",
       "      <td>195.08</td>\n",
       "      <td>277.87</td>\n",
       "    </tr>\n",
       "    <tr>\n",
       "      <th>7</th>\n",
       "      <td>8</td>\n",
       "      <td>Argentina</td>\n",
       "      <td>wheat</td>\n",
       "      <td>103.11</td>\n",
       "      <td>19.66</td>\n",
       "    </tr>\n",
       "    <tr>\n",
       "      <th>8</th>\n",
       "      <td>9</td>\n",
       "      <td>Argentina</td>\n",
       "      <td>rice</td>\n",
       "      <td>8.77</td>\n",
       "      <td>11.22</td>\n",
       "    </tr>\n",
       "    <tr>\n",
       "      <th>9</th>\n",
       "      <td>10</td>\n",
       "      <td>Argentina</td>\n",
       "      <td>soybeans</td>\n",
       "      <td>0.00</td>\n",
       "      <td>0.00</td>\n",
       "    </tr>\n",
       "  </tbody>\n",
       "</table>\n",
       "</div>"
      ],
      "text/plain": [
       "   Unnamed: 0    country food_category  consumption  co2_emission\n",
       "0           1  Argentina          pork        10.51         37.20\n",
       "1           2  Argentina       poultry        38.66         41.53\n",
       "2           3  Argentina          beef        55.48       1712.00\n",
       "3           4  Argentina     lamb_goat         1.56         54.63\n",
       "4           5  Argentina          fish         4.36          6.96\n",
       "5           6  Argentina          eggs        11.39         10.46\n",
       "6           7  Argentina         dairy       195.08        277.87\n",
       "7           8  Argentina         wheat       103.11         19.66\n",
       "8           9  Argentina          rice         8.77         11.22\n",
       "9          10  Argentina      soybeans         0.00          0.00"
      ]
     },
     "execution_count": 4,
     "metadata": {},
     "output_type": "execute_result"
    }
   ],
   "source": [
    "# Đọc dữ liệu từ file CSV\n",
    "data = pd.read_csv(r\"D:\\TKMT_T.Ngọc\\PhanNguyenKhoiNguyen_21068021\\data\\food_consumption.csv\")\n",
    "# Tạo DataFrame có tên \"food_consumption\"\n",
    "food_consumption = pd.DataFrame(data)\n",
    "food_consumption.head(10)"
   ]
  },
  {
   "cell_type": "markdown",
   "id": "c18d6cb9-84b0-44ac-a05d-f0a9e20aac51",
   "metadata": {},
   "source": [
    "##### Câu 2: Tạo 2 pandas DataFrame: một cho dữ liệu của nước 'Belgium' tên là \"be_consumption\" và 1 cho dữ tiệu của nước \"USA\" tên là \"usa_consumption\""
   ]
  },
  {
   "cell_type": "code",
   "execution_count": 5,
   "id": "b430ac2a-920a-477e-bebc-315720b35d37",
   "metadata": {},
   "outputs": [
    {
     "name": "stdout",
     "output_type": "stream",
     "text": [
      "5 DÒNG ĐẦU TIÊN CỦA NƯỚC BELGIUM\n",
      "     Unnamed: 0  country food_category  consumption  co2_emission\n",
      "396         397  Belgium          pork        38.65        136.80\n",
      "397         398  Belgium       poultry        12.20         13.11\n",
      "398         399  Belgium          beef        15.63        482.31\n",
      "399         400  Belgium     lamb_goat         1.32         46.23\n",
      "400         401  Belgium          fish        18.97         30.29\n",
      "5 DÒNG ĐẦU TIÊN CỦA NƯỚC USA\n",
      "    Unnamed: 0 country food_category  consumption  co2_emission\n",
      "55          56     USA          pork        27.64         97.83\n",
      "56          57     USA       poultry        50.01         53.72\n",
      "57          58     USA          beef        36.24       1118.29\n",
      "58          59     USA     lamb_goat         0.43         15.06\n",
      "59          60     USA          fish        12.35         19.72\n"
     ]
    }
   ],
   "source": [
    "# Lấy dữ liệu của nước 'Belgium' \n",
    "be_consumption = food_consumption[food_consumption[\"country\"] == \"Belgium\"]\n",
    "# Lấy dữ liệu của nước \"USA\" \n",
    "usa_consumption = food_consumption[food_consumption[\"country\"] == \"USA\"]\n",
    "print(\"5 DÒNG ĐẦU TIÊN CỦA NƯỚC BELGIUM\")\n",
    "print(be_consumption.head())\n",
    "print(\"5 DÒNG ĐẦU TIÊN CỦA NƯỚC USA\")\n",
    "print(usa_consumption.head())"
   ]
  },
  {
   "cell_type": "markdown",
   "id": "3250613c-8916-450f-b086-6bc06bb9f149",
   "metadata": {},
   "source": [
    "##### Câu 3: Tính trung bình, trung vị của lượng thức ăn (kg) tiêu thụ của mỗi người trong 2 quốc gia trên (cột \"consumption\")"
   ]
  },
  {
   "cell_type": "code",
   "execution_count": 7,
   "id": "a870211d-6f82-47cb-abea-30bbfc05c3a0",
   "metadata": {},
   "outputs": [
    {
     "name": "stdout",
     "output_type": "stream",
     "text": [
      "Trung bình lượng thức ăn tiêu thụ của Belgium:  42.13272727272727\n",
      "Trung bình lượng thức ăn tiêu thụ của USA:  44.650000000000006\n",
      "Trung vị lượng thức ăn tiêu thụ của Bỉ:  12.59\n",
      "Trung vị lượng thức ăn tiêu thụ của Mỹ:  14.58\n"
     ]
    }
   ],
   "source": [
    "# Tính trung bình\n",
    "be_consumption_mean = be_consumption[\"consumption\"].mean()  #Trung bình của quốc gia Belgium\n",
    "usa_consumption_mean = usa_consumption[\"consumption\"].mean()  #Trung bình của quốc gia USA\n",
    "\n",
    "# In kết quả\n",
    "print(\"Trung bình lượng thức ăn tiêu thụ của Belgium: \", be_consumption_mean)\n",
    "print(\"Trung bình lượng thức ăn tiêu thụ của USA: \", usa_consumption_mean)\n",
    "\n",
    "# Tính trung vị\n",
    "be_consumption_median = be_consumption[\"consumption\"].median()\n",
    "usa_consumption_median = usa_consumption[\"consumption\"].median()\n",
    "\n",
    "# In kết quả\n",
    "print(\"Trung vị lượng thức ăn tiêu thụ của Bỉ: \", be_consumption_median)\n",
    "print(\"Trung vị lượng thức ăn tiêu thụ của Mỹ: \", usa_consumption_median)"
   ]
  },
  {
   "cell_type": "markdown",
   "id": "641dd4ca-6280-4ab9-a742-0d62aa94ae9a",
   "metadata": {},
   "source": [
    "##### Câu 4: Tạo pandas DataFrame chứa dữ tiệu của cả Belgium Và Usa, đặt tên Là \"food_consumption\""
   ]
  },
  {
   "cell_type": "code",
   "execution_count": 12,
   "id": "9fb6c734-d386-429d-a51a-9453d0d22c10",
   "metadata": {},
   "outputs": [],
   "source": [
    "# Tạo DataFrame mới\n",
    "food_consumption = pd.concat([be_consumption, usa_consumption], ignore_index=True)\n",
    "#pd.concat() là một hàm của Pandas dùng để kết hợp nhiều dataframe thành một dataframe duy nhất. \n",
    "#Các dataframe được truyền vào hàm concat() sẽ được nối theo chiều dọc (axis=0) và tạo thành một dataframe mới."
   ]
  },
  {
   "cell_type": "markdown",
   "id": "df4c5450-0929-4b8b-b705-1ab12d759ee3",
   "metadata": {},
   "source": [
    "ignore_index=True được sử dụng để không lưu giữ chỉ số (index) gốc của các DataFrame cũ, mà thay vào đó sử dụng chỉ số mới bắt đầu từ 0 đến n-1, trong đó n là tổng số hàng của các DataFrame sau khi ghép nối."
   ]
  },
  {
   "cell_type": "code",
   "execution_count": 13,
   "id": "7d1f5d73-a1ed-46fb-a911-17d81c8865cd",
   "metadata": {},
   "outputs": [
    {
     "data": {
      "text/html": [
       "<div>\n",
       "<style scoped>\n",
       "    .dataframe tbody tr th:only-of-type {\n",
       "        vertical-align: middle;\n",
       "    }\n",
       "\n",
       "    .dataframe tbody tr th {\n",
       "        vertical-align: top;\n",
       "    }\n",
       "\n",
       "    .dataframe thead th {\n",
       "        text-align: right;\n",
       "    }\n",
       "</style>\n",
       "<table border=\"1\" class=\"dataframe\">\n",
       "  <thead>\n",
       "    <tr style=\"text-align: right;\">\n",
       "      <th></th>\n",
       "      <th>Unnamed: 0</th>\n",
       "      <th>country</th>\n",
       "      <th>food_category</th>\n",
       "      <th>consumption</th>\n",
       "      <th>co2_emission</th>\n",
       "    </tr>\n",
       "  </thead>\n",
       "  <tbody>\n",
       "    <tr>\n",
       "      <th>0</th>\n",
       "      <td>397</td>\n",
       "      <td>Belgium</td>\n",
       "      <td>pork</td>\n",
       "      <td>38.65</td>\n",
       "      <td>136.80</td>\n",
       "    </tr>\n",
       "    <tr>\n",
       "      <th>1</th>\n",
       "      <td>398</td>\n",
       "      <td>Belgium</td>\n",
       "      <td>poultry</td>\n",
       "      <td>12.20</td>\n",
       "      <td>13.11</td>\n",
       "    </tr>\n",
       "    <tr>\n",
       "      <th>2</th>\n",
       "      <td>399</td>\n",
       "      <td>Belgium</td>\n",
       "      <td>beef</td>\n",
       "      <td>15.63</td>\n",
       "      <td>482.31</td>\n",
       "    </tr>\n",
       "    <tr>\n",
       "      <th>3</th>\n",
       "      <td>400</td>\n",
       "      <td>Belgium</td>\n",
       "      <td>lamb_goat</td>\n",
       "      <td>1.32</td>\n",
       "      <td>46.23</td>\n",
       "    </tr>\n",
       "    <tr>\n",
       "      <th>4</th>\n",
       "      <td>401</td>\n",
       "      <td>Belgium</td>\n",
       "      <td>fish</td>\n",
       "      <td>18.97</td>\n",
       "      <td>30.29</td>\n",
       "    </tr>\n",
       "    <tr>\n",
       "      <th>5</th>\n",
       "      <td>402</td>\n",
       "      <td>Belgium</td>\n",
       "      <td>eggs</td>\n",
       "      <td>12.59</td>\n",
       "      <td>11.57</td>\n",
       "    </tr>\n",
       "    <tr>\n",
       "      <th>6</th>\n",
       "      <td>403</td>\n",
       "      <td>Belgium</td>\n",
       "      <td>dairy</td>\n",
       "      <td>236.19</td>\n",
       "      <td>336.43</td>\n",
       "    </tr>\n",
       "    <tr>\n",
       "      <th>7</th>\n",
       "      <td>404</td>\n",
       "      <td>Belgium</td>\n",
       "      <td>wheat</td>\n",
       "      <td>111.91</td>\n",
       "      <td>21.34</td>\n",
       "    </tr>\n",
       "    <tr>\n",
       "      <th>8</th>\n",
       "      <td>405</td>\n",
       "      <td>Belgium</td>\n",
       "      <td>rice</td>\n",
       "      <td>8.61</td>\n",
       "      <td>11.02</td>\n",
       "    </tr>\n",
       "    <tr>\n",
       "      <th>9</th>\n",
       "      <td>406</td>\n",
       "      <td>Belgium</td>\n",
       "      <td>soybeans</td>\n",
       "      <td>0.07</td>\n",
       "      <td>0.03</td>\n",
       "    </tr>\n",
       "    <tr>\n",
       "      <th>10</th>\n",
       "      <td>407</td>\n",
       "      <td>Belgium</td>\n",
       "      <td>nuts</td>\n",
       "      <td>7.32</td>\n",
       "      <td>12.96</td>\n",
       "    </tr>\n",
       "    <tr>\n",
       "      <th>11</th>\n",
       "      <td>56</td>\n",
       "      <td>USA</td>\n",
       "      <td>pork</td>\n",
       "      <td>27.64</td>\n",
       "      <td>97.83</td>\n",
       "    </tr>\n",
       "    <tr>\n",
       "      <th>12</th>\n",
       "      <td>57</td>\n",
       "      <td>USA</td>\n",
       "      <td>poultry</td>\n",
       "      <td>50.01</td>\n",
       "      <td>53.72</td>\n",
       "    </tr>\n",
       "    <tr>\n",
       "      <th>13</th>\n",
       "      <td>58</td>\n",
       "      <td>USA</td>\n",
       "      <td>beef</td>\n",
       "      <td>36.24</td>\n",
       "      <td>1118.29</td>\n",
       "    </tr>\n",
       "    <tr>\n",
       "      <th>14</th>\n",
       "      <td>59</td>\n",
       "      <td>USA</td>\n",
       "      <td>lamb_goat</td>\n",
       "      <td>0.43</td>\n",
       "      <td>15.06</td>\n",
       "    </tr>\n",
       "    <tr>\n",
       "      <th>15</th>\n",
       "      <td>60</td>\n",
       "      <td>USA</td>\n",
       "      <td>fish</td>\n",
       "      <td>12.35</td>\n",
       "      <td>19.72</td>\n",
       "    </tr>\n",
       "    <tr>\n",
       "      <th>16</th>\n",
       "      <td>61</td>\n",
       "      <td>USA</td>\n",
       "      <td>eggs</td>\n",
       "      <td>14.58</td>\n",
       "      <td>13.39</td>\n",
       "    </tr>\n",
       "    <tr>\n",
       "      <th>17</th>\n",
       "      <td>62</td>\n",
       "      <td>USA</td>\n",
       "      <td>dairy</td>\n",
       "      <td>254.69</td>\n",
       "      <td>362.78</td>\n",
       "    </tr>\n",
       "    <tr>\n",
       "      <th>18</th>\n",
       "      <td>63</td>\n",
       "      <td>USA</td>\n",
       "      <td>wheat</td>\n",
       "      <td>80.43</td>\n",
       "      <td>15.34</td>\n",
       "    </tr>\n",
       "    <tr>\n",
       "      <th>19</th>\n",
       "      <td>64</td>\n",
       "      <td>USA</td>\n",
       "      <td>rice</td>\n",
       "      <td>6.88</td>\n",
       "      <td>8.80</td>\n",
       "    </tr>\n",
       "  </tbody>\n",
       "</table>\n",
       "</div>"
      ],
      "text/plain": [
       "    Unnamed: 0  country food_category  consumption  co2_emission\n",
       "0          397  Belgium          pork        38.65        136.80\n",
       "1          398  Belgium       poultry        12.20         13.11\n",
       "2          399  Belgium          beef        15.63        482.31\n",
       "3          400  Belgium     lamb_goat         1.32         46.23\n",
       "4          401  Belgium          fish        18.97         30.29\n",
       "5          402  Belgium          eggs        12.59         11.57\n",
       "6          403  Belgium         dairy       236.19        336.43\n",
       "7          404  Belgium         wheat       111.91         21.34\n",
       "8          405  Belgium          rice         8.61         11.02\n",
       "9          406  Belgium      soybeans         0.07          0.03\n",
       "10         407  Belgium          nuts         7.32         12.96\n",
       "11          56      USA          pork        27.64         97.83\n",
       "12          57      USA       poultry        50.01         53.72\n",
       "13          58      USA          beef        36.24       1118.29\n",
       "14          59      USA     lamb_goat         0.43         15.06\n",
       "15          60      USA          fish        12.35         19.72\n",
       "16          61      USA          eggs        14.58         13.39\n",
       "17          62      USA         dairy       254.69        362.78\n",
       "18          63      USA         wheat        80.43         15.34\n",
       "19          64      USA          rice         6.88          8.80"
      ]
     },
     "execution_count": 13,
     "metadata": {},
     "output_type": "execute_result"
    }
   ],
   "source": [
    "# Hiển thị 20 dòng đầu\n",
    "food_consumption.head(20)"
   ]
  },
  {
   "cell_type": "markdown",
   "id": "f22775e0-0713-47f3-bdeb-85d1138b73d9",
   "metadata": {},
   "source": [
    "##### Câu 5: Tính trung bình và trung vị của Lượng thức ăn (kg) tiêu thụ của mỗi người trong 2 quốc gia trên (cột consumption) dùng groupby và agg"
   ]
  },
  {
   "cell_type": "code",
   "execution_count": 14,
   "id": "20c86830-7196-4647-99cb-7de115cc689c",
   "metadata": {},
   "outputs": [
    {
     "name": "stdout",
     "output_type": "stream",
     "text": [
      "              mean  median\n",
      "country                   \n",
      "Belgium  42.132727   12.59\n",
      "USA      44.650000   14.58\n"
     ]
    }
   ],
   "source": [
    "# Nhóm theo quốc gia\n",
    "grouped_data = food_consumption.groupby(\"country\")\n",
    "# Tính trung bình và trung vị\n",
    "grouped_data = grouped_data[\"consumption\"].agg([\"mean\", \"median\"])  \n",
    "#.agg([\"mean\", \"median\"]) là một phương thức của Pandas dùng để tính toán các hàm thống kê trên cột \"consumption\" của grouped_data. \n",
    "# được sử dụng để áp dụng một hoặc nhiều hàm tính toán cho mỗi nhóm\n",
    "\n",
    "# In kết quả\n",
    "print(grouped_data)"
   ]
  },
  {
   "cell_type": "markdown",
   "id": "00f27d7d-82c3-4ba0-9d59-4a2ad01fd9a3",
   "metadata": {},
   "source": [
    "##### Câu 6: Tạo pandas DataFrame chứa các hàng có loại thực phẩm (food_category ) là 'rice\""
   ]
  },
  {
   "cell_type": "code",
   "execution_count": 17,
   "id": "0eced5d9-f588-4609-9b29-e774a6889430",
   "metadata": {},
   "outputs": [
    {
     "data": {
      "text/html": [
       "<div>\n",
       "<style scoped>\n",
       "    .dataframe tbody tr th:only-of-type {\n",
       "        vertical-align: middle;\n",
       "    }\n",
       "\n",
       "    .dataframe tbody tr th {\n",
       "        vertical-align: top;\n",
       "    }\n",
       "\n",
       "    .dataframe thead th {\n",
       "        text-align: right;\n",
       "    }\n",
       "</style>\n",
       "<table border=\"1\" class=\"dataframe\">\n",
       "  <thead>\n",
       "    <tr style=\"text-align: right;\">\n",
       "      <th></th>\n",
       "      <th>Unnamed: 0</th>\n",
       "      <th>country</th>\n",
       "      <th>food_category</th>\n",
       "      <th>consumption</th>\n",
       "      <th>co2_emission</th>\n",
       "    </tr>\n",
       "  </thead>\n",
       "  <tbody>\n",
       "    <tr>\n",
       "      <th>8</th>\n",
       "      <td>405</td>\n",
       "      <td>Belgium</td>\n",
       "      <td>rice</td>\n",
       "      <td>8.61</td>\n",
       "      <td>11.02</td>\n",
       "    </tr>\n",
       "    <tr>\n",
       "      <th>19</th>\n",
       "      <td>64</td>\n",
       "      <td>USA</td>\n",
       "      <td>rice</td>\n",
       "      <td>6.88</td>\n",
       "      <td>8.80</td>\n",
       "    </tr>\n",
       "  </tbody>\n",
       "</table>\n",
       "</div>"
      ],
      "text/plain": [
       "    Unnamed: 0  country food_category  consumption  co2_emission\n",
       "8          405  Belgium          rice         8.61         11.02\n",
       "19          64      USA          rice         6.88          8.80"
      ]
     },
     "execution_count": 17,
     "metadata": {},
     "output_type": "execute_result"
    }
   ],
   "source": [
    "# Lọc dữ liệu\n",
    "rice_consumption = food_consumption[food_consumption[\"food_category\"] == \"rice\"]\n",
    "rice_consumption"
   ]
  },
  {
   "cell_type": "markdown",
   "id": "c49b25d0-accd-46b0-9ab1-1205b438994c",
   "metadata": {},
   "source": [
    "##### Câu 7: Tạo histogram của co2_emission cho 'rice'"
   ]
  },
  {
   "cell_type": "code",
   "execution_count": 18,
   "id": "305e100c-1c7a-48eb-8d4a-b7702345b847",
   "metadata": {},
   "outputs": [
    {
     "data": {
      "image/png": "[encoded data removed]",
      "text/plain": [
       "<Figure size 640x480 with 1 Axes>"
      ]
     },
     "metadata": {},
     "output_type": "display_data"
    }
   ],
   "source": [
    "import matplotlib.pyplot as plt\n",
    "\n",
    "plt.hist(rice_consumption[\"co2_emission\"])\n",
    "plt.xlabel(\"Lượng khí thải CO2 (kg)\")\n",
    "plt.ylabel(\"Số lượng\")\n",
    "plt.title(\"Histogram lượng khí thải CO2 của gạo\")\n",
    "plt.show()"
   ]
  },
  {
   "cell_type": "markdown",
   "id": "80005251-8239-4bd1-bb9b-9255dc10f1d7",
   "metadata": {},
   "source": [
    "Biểu đồ histogram (hist) là một dạng biểu đồ thống kê được sử dụng để biểu diễn phân phối tần suất của một biến số liên tục. Biểu đồ này chia trục số thành các khoảng dữ liệu (bins), sau đó đếm số lượng quan sát rơi vào mỗi khoảng đó và vẽ các cột dọc trên trục tung đại diện cho số lượng quan sát đó.\n",
    "\n",
    "Histogram thường được sử dụng để hiểu rõ hơn về phân phối của một biến số và phát hiện các đặc điểm như phân phối chuẩn, độ lệch, và độ nhọn của dữ liệu. Nó giúp người quan sát dễ dàng nhận biết các mẫu phân phối và điểm tập trung của dữ liệu.\n",
    "\n",
    "Một số tham số cơ bản của biểu đồ histogram bao gồm số lượng bins (khoảng dữ liệu), phân bố dữ liệu trên trục x và tần suất hoặc tỷ lệ phần trăm trên trục y."
   ]
  },
  {
   "cell_type": "markdown",
   "id": "0100efd8-6673-45ef-a244-16afb7e6d141",
   "metadata": {},
   "source": [
    "##### Câu 8: Tính tứ phân vị (quarfiles) của cột co2_emission"
   ]
  },
  {
   "cell_type": "code",
   "execution_count": 29,
   "id": "e428fa0c-5df2-4b00-852b-0aa9f23b1ead",
   "metadata": {},
   "outputs": [
    {
     "name": "stdout",
     "output_type": "stream",
     "text": [
      "Tứ phân vị thứ 1:  9.355\n",
      "Tứ phân vị thứ 2: 9.91\n",
      "Tứ phân vị thứ 3:  10.465\n"
     ]
    }
   ],
   "source": [
    "# Tính tứ phân vị\n",
    "Q1 = rice_consumption[\"co2_emission\"].quantile(0.25) #(quantile) : dùng để chia dữ liệu thành các phần phân biệt dựa trên tỷ lệ phần trăm cố định của tập dữ liệu. \n",
    "Q2 = rice_consumption[\"co2_emission\"].quantile(0.5)\n",
    "Q3 = rice_consumption[\"co2_emission\"].quantile(0.75)\n",
    "\n",
    "# In kết quả\n",
    "print(\"Tứ phân vị thứ 1: \", Q1)\n",
    "print(\"Tứ phân vị thứ 2:\", Q2)\n",
    "print(\"Tứ phân vị thứ 3: \", Q3)"
   ]
  },
  {
   "cell_type": "markdown",
   "id": "df53dab9-d61d-4b6a-b218-201caf3f1f11",
   "metadata": {},
   "source": [
    "- Phân vị là một giá trị trong tập hợp các giá trị của biến mà một phần trăm nhất định của các giá trị nhỏ hơn hoặc bằng nó.\n",
    "- Phân vị 0.25 tương ứng với phân vị thứ nhất (Q1) là giá trị mà 25% các giá trị trong dữ liệu nhỏ hơn hoặc bằng nó.\n",
    "- Phân vị 0.5 tương ứng với phân vị thứ hai (Q2), còn được gọi là median, là giá trị trung bình của dữ liệu.\n",
    "- Phân vị 0.75 tương ứng với phân vị thứ ba (Q3) là giá trị mà 75% các giá trị trong dữ liệu nhỏ hơn hoặc bằng nó.\n",
    "\n",
    "- Tính toán phân vị 25% (Q1) của cột \"co2_emission\" trong DataFrame rice_consumption. "
   ]
  },
  {
   "cell_type": "markdown",
   "id": "9cc6135b-a4cf-41d3-8bd6-4932c6ab2fcb",
   "metadata": {},
   "source": [
    "##### Câu 9: Tính ngũ phân vị (quintiles) của cột co2_emission"
   ]
  },
  {
   "cell_type": "code",
   "execution_count": 30,
   "id": "cda4462f-c49c-45c8-a709-05170046ccdf",
   "metadata": {},
   "outputs": [
    {
     "name": "stdout",
     "output_type": "stream",
     "text": [
      "Ngũ phân vị thứ 1: 9.244\n",
      "Ngũ phân vị thứ 2: 9.688\n",
      "Ngũ phân vị thứ 3: 10.132\n",
      "Ngũ phân vị thứ 4: 10.576\n"
     ]
    }
   ],
   "source": [
    "# Tính ngũ phân vị\n",
    "Q1 = rice_consumption['co2_emission'].quantile(0.2 #quantile() : Tính ngũ phân vị\n",
    "Q2 = rice_consumption['co2_emission'].quantile(0.4)\n",
    "Q3 = rice_consumption['co2_emission'].quantile(0.6)\n",
    "Q4 = rice_consumption['co2_emission'].quantile(0.8)\n",
    "\n",
    "# In kết quả\n",
    "print(\"Ngũ phân vị thứ 1:\", Q1)\n",
    "print(\"Ngũ phân vị thứ 2:\", Q2)\n",
    "print(\"Ngũ phân vị thứ 3:\", Q3)\n",
    "print(\"Ngũ phân vị thứ 4:\", Q4)"
   ]
  },
  {
   "cell_type": "markdown",
   "id": "4b9d1365-8531-4999-a609-24000c167e38",
   "metadata": {},
   "source": [
    "##### Câu 10: Tính các phân vị (quantiles) của cột co2_emission_ mà chia dữ tiệu thành 10 phần bằng nhau"
   ]
  },
  {
   "cell_type": "code",
   "execution_count": 19,
   "id": "7da0fd41-6446-4119-88e2-e9b0a09d5c3c",
   "metadata": {},
   "outputs": [
    {
     "name": "stdout",
     "output_type": "stream",
     "text": [
      "0.1     9.022\n",
      "0.2     9.244\n",
      "0.3     9.466\n",
      "0.4     9.688\n",
      "0.5     9.910\n",
      "0.6    10.132\n",
      "0.7    10.354\n",
      "0.8    10.576\n",
      "0.9    10.798\n",
      "1.0    11.020\n",
      "Name: co2_emission, dtype: float64\n"
     ]
    }
   ],
   "source": [
    "# Tính các phân vị\n",
    "quantiles = rice_consumption[\"co2_emission\"].quantile(q=np.arange(0.1, 1.1, 0.1))\n",
    "# Giai thich\n",
    "# quantile() là một phương thức của Pandas dùng để tính các phân vị (percentiles) cho một cột hoặc series.\n",
    "# q=np.arange(0.1, 1.1, 0.1) định nghĩa các phân vị (percentiles) cần tính. Trong trường hợp này, nó sẽ tính 10 phân vị, từ 10% (0.1) đến 100% (1.0), với bước nhảy là 10%.\n",
    "# In kết quả\n",
    "print(quantiles)"
   ]
  },
  {
   "cell_type": "markdown",
   "id": "df547c3b-6887-42a1-8530-9d2382286817",
   "metadata": {},
   "source": [
    "##### Câu 11: Tính phương sai ( variance) và độ lệch chuẩn (standard deviation) của co2_emission bằng groupby và .agg"
   ]
  },
  {
   "cell_type": "code",
   "execution_count": 20,
   "id": "00adb7d6-ed9e-44c4-959d-d42f988b6202",
   "metadata": {},
   "outputs": [
    {
     "name": "stdout",
     "output_type": "stream",
     "text": [
      "                  var         std\n",
      "country                          \n",
      "Belgium   25820.91564  160.688878\n",
      "USA      112735.05544  335.760414\n"
     ]
    }
   ],
   "source": [
    "# Nhóm theo quốc gia\n",
    "grouped_data = food_consumption_new.groupby(\"country\")\n",
    "# Tính phương sai và độ lệch chuẩn\n",
    "grouped_data = grouped_data[\"co2_emission\"].agg([\"var\", \"std\"])\n",
    "# In kết quả\n",
    "print(grouped_data)"
   ]
  },
  {
   "cell_type": "markdown",
   "id": "a787791c-2637-4862-9bc1-fd3bc75eb2d2",
   "metadata": {},
   "source": [
    "groupby(\"country\") : nhóm các hàng có cùng giá trị trong cột \"country\" lại với nhau\n",
    "\n",
    "agg() được sử dụng để áp dụng một hoặc nhiều hàm tính toán cho mỗi nhóm"
   ]
  },
  {
   "cell_type": "markdown",
   "id": "efcd81e6-df64-4538-b8ed-030ae1375436",
   "metadata": {},
   "source": [
    "##### Câu 12: Tạo histogram của co2_emission cho loại thực phẩm (food_category ) là beef"
   ]
  },
  {
   "cell_type": "code",
   "execution_count": 21,
   "id": "709c748d-d192-40ba-afe3-651b496066a5",
   "metadata": {},
   "outputs": [
    {
     "data": {
      "text/html": [
       "<div>\n",
       "<style scoped>\n",
       "    .dataframe tbody tr th:only-of-type {\n",
       "        vertical-align: middle;\n",
       "    }\n",
       "\n",
       "    .dataframe tbody tr th {\n",
       "        vertical-align: top;\n",
       "    }\n",
       "\n",
       "    .dataframe thead th {\n",
       "        text-align: right;\n",
       "    }\n",
       "</style>\n",
       "<table border=\"1\" class=\"dataframe\">\n",
       "  <thead>\n",
       "    <tr style=\"text-align: right;\">\n",
       "      <th></th>\n",
       "      <th>Unnamed: 0</th>\n",
       "      <th>country</th>\n",
       "      <th>food_category</th>\n",
       "      <th>consumption</th>\n",
       "      <th>co2_emission</th>\n",
       "    </tr>\n",
       "  </thead>\n",
       "  <tbody>\n",
       "    <tr>\n",
       "      <th>2</th>\n",
       "      <td>399</td>\n",
       "      <td>Belgium</td>\n",
       "      <td>beef</td>\n",
       "      <td>15.63</td>\n",
       "      <td>482.31</td>\n",
       "    </tr>\n",
       "    <tr>\n",
       "      <th>13</th>\n",
       "      <td>58</td>\n",
       "      <td>USA</td>\n",
       "      <td>beef</td>\n",
       "      <td>36.24</td>\n",
       "      <td>1118.29</td>\n",
       "    </tr>\n",
       "  </tbody>\n",
       "</table>\n",
       "</div>"
      ],
      "text/plain": [
       "    Unnamed: 0  country food_category  consumption  co2_emission\n",
       "2          399  Belgium          beef        15.63        482.31\n",
       "13          58      USA          beef        36.24       1118.29"
      ]
     },
     "execution_count": 21,
     "metadata": {},
     "output_type": "execute_result"
    }
   ],
   "source": [
    "# Lọc dữ liệu\n",
    "beef_consumption = food_consumption_new[food_consumption_new[\"food_category\"] == \"beef\"]\n",
    "beef_consumption"
   ]
  },
  {
   "cell_type": "code",
   "execution_count": 22,
   "id": "8797a7d3-d95e-474b-9352-3b850f6f2803",
   "metadata": {},
   "outputs": [
    {
     "data": {
      "image/png": "[encoded data removed]",
      "text/plain": [
       "<Figure size 640x480 with 1 Axes>"
      ]
     },
     "metadata": {},
     "output_type": "display_data"
    }
   ],
   "source": [
    "# Vẽ histogram\n",
    "plt.hist(beef_consumption[\"co2_emission\"])\n",
    "plt.xlabel(\"Lượng khí thải CO2 (kg)\")\n",
    "plt.ylabel(\"Số lượng\")\n",
    "plt.title(\"Histogram lượng khí thải CO2 của thịt bò\")\n",
    "plt.show()"
   ]
  },
  {
   "cell_type": "markdown",
   "id": "1108f76e-f657-4aa0-95d9-aa36f322ed05",
   "metadata": {},
   "source": [
    "##### Câu 13: Tạo histogram của co2_emission cho loại thực phẩm (food_category ) là beef"
   ]
  },
  {
   "cell_type": "code",
   "execution_count": 47,
   "id": "922af32b-7a29-4a2a-8455-398f6edc3e0f",
   "metadata": {},
   "outputs": [
    {
     "data": {
      "text/html": [
       "<div>\n",
       "<style scoped>\n",
       "    .dataframe tbody tr th:only-of-type {\n",
       "        vertical-align: middle;\n",
       "    }\n",
       "\n",
       "    .dataframe tbody tr th {\n",
       "        vertical-align: top;\n",
       "    }\n",
       "\n",
       "    .dataframe thead th {\n",
       "        text-align: right;\n",
       "    }\n",
       "</style>\n",
       "<table border=\"1\" class=\"dataframe\">\n",
       "  <thead>\n",
       "    <tr style=\"text-align: right;\">\n",
       "      <th></th>\n",
       "      <th>Unnamed: 0</th>\n",
       "      <th>country</th>\n",
       "      <th>food_category</th>\n",
       "      <th>consumption</th>\n",
       "      <th>co2_emission</th>\n",
       "    </tr>\n",
       "  </thead>\n",
       "  <tbody>\n",
       "    <tr>\n",
       "      <th>2</th>\n",
       "      <td>399</td>\n",
       "      <td>Belgium</td>\n",
       "      <td>beef</td>\n",
       "      <td>15.63</td>\n",
       "      <td>482.31</td>\n",
       "    </tr>\n",
       "    <tr>\n",
       "      <th>13</th>\n",
       "      <td>58</td>\n",
       "      <td>USA</td>\n",
       "      <td>beef</td>\n",
       "      <td>36.24</td>\n",
       "      <td>1118.29</td>\n",
       "    </tr>\n",
       "  </tbody>\n",
       "</table>\n",
       "</div>"
      ],
      "text/plain": [
       "    Unnamed: 0  country food_category  consumption  co2_emission\n",
       "2          399  Belgium          beef        15.63        482.31\n",
       "13          58      USA          beef        36.24       1118.29"
      ]
     },
     "execution_count": 47,
     "metadata": {},
     "output_type": "execute_result"
    }
   ],
   "source": [
    "# Lọc dữ liệu\n",
    "beef_consumption = food_consumption_new[food_consumption_new[\"food_category\"] == \"beef\"]\n",
    "beef_consumption"
   ]
  },
  {
   "cell_type": "code",
   "execution_count": 41,
   "id": "390b5549-d27c-4416-9dca-bea719f02b82",
   "metadata": {},
   "outputs": [
    {
     "data": {
      "image/png": "[encoded data removed]",
      "text/plain": [
       "<Figure size 640x480 with 1 Axes>"
      ]
     },
     "metadata": {},
     "output_type": "display_data"
    }
   ],
   "source": [
    "# Vẽ histogram\n",
    "plt.hist(beef_consumption[\"co2_emission\"])\n",
    "plt.xlabel(\"Lượng khí thải CO2 (kg)\")\n",
    "plt.ylabel(\"Số lượng\")\n",
    "plt.title(\"Histogram lượng khí thải CO2 của thịt bò\")\n",
    "plt.show()"
   ]
  },
  {
   "cell_type": "markdown",
   "id": "1b6fc3b7-3eaa-4456-bf0d-6749b17ec49f",
   "metadata": {},
   "source": [
    "Đề câu này giống ichang câu 12"
   ]
  },
  {
   "cell_type": "markdown",
   "id": "f4a2d664-659a-4494-af05-b6327894f4e7",
   "metadata": {},
   "source": [
    "##### Câu 14: Tạo histogram của co2_emission cho loại thực phẩm (food_category ) là eggs"
   ]
  },
  {
   "cell_type": "code",
   "execution_count": 48,
   "id": "3116dddf-c9b1-401a-af83-760dea7745c8",
   "metadata": {},
   "outputs": [
    {
     "data": {
      "text/html": [
       "<div>\n",
       "<style scoped>\n",
       "    .dataframe tbody tr th:only-of-type {\n",
       "        vertical-align: middle;\n",
       "    }\n",
       "\n",
       "    .dataframe tbody tr th {\n",
       "        vertical-align: top;\n",
       "    }\n",
       "\n",
       "    .dataframe thead th {\n",
       "        text-align: right;\n",
       "    }\n",
       "</style>\n",
       "<table border=\"1\" class=\"dataframe\">\n",
       "  <thead>\n",
       "    <tr style=\"text-align: right;\">\n",
       "      <th></th>\n",
       "      <th>Unnamed: 0</th>\n",
       "      <th>country</th>\n",
       "      <th>food_category</th>\n",
       "      <th>consumption</th>\n",
       "      <th>co2_emission</th>\n",
       "    </tr>\n",
       "  </thead>\n",
       "  <tbody>\n",
       "    <tr>\n",
       "      <th>5</th>\n",
       "      <td>402</td>\n",
       "      <td>Belgium</td>\n",
       "      <td>eggs</td>\n",
       "      <td>12.59</td>\n",
       "      <td>11.57</td>\n",
       "    </tr>\n",
       "    <tr>\n",
       "      <th>16</th>\n",
       "      <td>61</td>\n",
       "      <td>USA</td>\n",
       "      <td>eggs</td>\n",
       "      <td>14.58</td>\n",
       "      <td>13.39</td>\n",
       "    </tr>\n",
       "  </tbody>\n",
       "</table>\n",
       "</div>"
      ],
      "text/plain": [
       "    Unnamed: 0  country food_category  consumption  co2_emission\n",
       "5          402  Belgium          eggs        12.59         11.57\n",
       "16          61      USA          eggs        14.58         13.39"
      ]
     },
     "execution_count": 48,
     "metadata": {},
     "output_type": "execute_result"
    }
   ],
   "source": [
    "# Lọc dữ liệu\n",
    "eggs_consumption = food_consumption_new[food_consumption_new[\"food_category\"] == \"eggs\"]\n",
    "eggs_consumption"
   ]
  },
  {
   "cell_type": "code",
   "execution_count": 45,
   "id": "64b03f9c-d66f-429e-be1d-0f58916af48f",
   "metadata": {},
   "outputs": [
    {
     "data": {
      "image/png": "[encoded data removed]",
      "text/plain": [
       "<Figure size 640x480 with 1 Axes>"
      ]
     },
     "metadata": {},
     "output_type": "display_data"
    }
   ],
   "source": [
    "# Vẽ histogram\n",
    "plt.hist(eggs_consumption[\"co2_emission\"])\n",
    "plt.xlabel(\"Lượng khí thải CO2 (kg)\")\n",
    "plt.ylabel(\"Số lượng\")\n",
    "plt.title(\"Histogram lượng khí thải CO2 của trứng\")\n",
    "plt.show()"
   ]
  },
  {
   "cell_type": "markdown",
   "id": "dbb2fe31-f871-4cc0-889a-3c855cf677d0",
   "metadata": {},
   "source": [
    "##### Câu 15: Tính tổng co2_emission cho mỗi quốc gia và lưu vào pandas DataFrame có tên emissions_by_country"
   ]
  },
  {
   "cell_type": "code",
   "execution_count": 26,
   "id": "e7fa8db6-e181-4392-a288-470b84998def",
   "metadata": {},
   "outputs": [
    {
     "name": "stdout",
     "output_type": "stream",
     "text": [
      "   country  co2_emission\n",
      "0  Belgium       1102.09\n",
      "1      USA       1718.86\n"
     ]
    }
   ],
   "source": [
    "# Nhóm dữ liệu theo quốc gia và tính tổng co2_emission cho mỗi nhóm\n",
    "emissions_by_country = food_consumption.groupby(\"country\")[\"co2_emission\"].sum()\n",
    "# Chuyển kết quả thành DataFrame\n",
    "emissions_by_country = emissions_by_country.reset_index()\n",
    "# In kết quả\n",
    "print(emissions_by_country)"
   ]
  },
  {
   "cell_type": "markdown",
   "id": "0200c4a4-0d52-43e9-99de-e11917a616ad",
   "metadata": {},
   "source": [
    "##### Câu 16: Tính tứ phân vị thứ nhất và thứ 3 của emissions_by_country và lưu vào q1 và q3"
   ]
  },
  {
   "cell_type": "code",
   "execution_count": 29,
   "id": "bdf7adc7-408b-4a4d-8c4c-955a7c7ea3eb",
   "metadata": {},
   "outputs": [
    {
     "name": "stdout",
     "output_type": "stream",
     "text": [
      "Tứ phân vị thứ nhất (Q1): 1256.2824999999998\n",
      "Tứ phân vị thứ ba (Q3): 1564.6675\n"
     ]
    }
   ],
   "source": [
    "# Tính tứ phân vị thứ nhất và thứ ba của emissions_by_country\n",
    "Q1 = emissions_by_country[\"co2_emission\"].quantile(0.25)\n",
    "Q3 = emissions_by_country[\"co2_emission\"].quantile(0.75)\n",
    "# In kết quả\n",
    "print(\"Tứ phân vị thứ nhất (Q1):\", Q1)\n",
    "print(\"Tứ phân vị thứ ba (Q3):\", Q3)"
   ]
  },
  {
   "cell_type": "markdown",
   "id": "69ca07f5-4bec-41aa-9bc3-08df58c9a8e3",
   "metadata": {},
   "source": [
    "##### Câu 17: Tính điểm cắt dưới và trên (lower and upper cutoffs) cho outlier của emissions_by_country và lưu vào lower và upper"
   ]
  },
  {
   "cell_type": "code",
   "execution_count": 31,
   "id": "04451424-56b5-4477-8344-2150331c15a1",
   "metadata": {},
   "outputs": [
    {
     "name": "stdout",
     "output_type": "stream",
     "text": [
      "Điểm cắt dưới:  793.7049999999995\n",
      "Điểm cắt trên:  2027.2450000000003\n"
     ]
    }
   ],
   "source": [
    "# Tính tứ phân vị thứ nhất và thứ ba của emissions_by_country\n",
    "Q1 = emissions_by_country[\"co2_emission\"].quantile(0.25)\n",
    "Q3 = emissions_by_country[\"co2_emission\"].quantile(0.75)\n",
    "# Tính IQR\n",
    "IQR = Q3 - Q1\n",
    "# Tính điểm cắt dưới và trên cho outlier\n",
    "lower = Q1 - 1.5 * IQR\n",
    "upper = Q3 + 1.5 * IQR\n",
    "# In kết quả\n",
    "print(\"Điểm cắt dưới: \", lower)\n",
    "print(\"Điểm cắt trên: \", upper)"
   ]
  },
  {
   "cell_type": "markdown",
   "id": "35cdfbde-4dd5-49f2-89b7-cb21f270eaaf",
   "metadata": {},
   "source": [
    "##### Tính tứ phân vị thứ nhất (Q1) và thứ ba (Q3):\n",
    "Tứ phân vị thứ nhất (Q1) là giá trị mà có 25% dữ liệu nhỏ hơn hoặc bằng nó.\n",
    "Tứ phân vị thứ ba (Q3) là giá trị mà có 75% dữ liệu nhỏ hơn hoặc bằng nó.\n",
    "\n",
    "##### Tính khoảng phạm vi liên tục (Interquartile Range - IQR):\n",
    "IQR là sự khác biệt giữa Q3 và Q1, tức là IQR = Q3 - Q1. Nó biểu diễn phạm vi giữa 25% và 75% của dữ liệu.\n",
    "\n",
    "##### Tính điểm cắt dưới (lower cutoff) và điểm cắt trên (upper cutoff):\n",
    "Điểm cắt dưới được tính bằng Q1 trừ đi 1.5 lần IQR, tức là lower = Q1 - 1.5 * IQR. Nó biểu diễn ranh giới dưới của dữ liệu và được sử dụng để xác định outlier.\n",
    "Điểm cắt trên được tính bằng Q3 cộng với 1.5 lần IQR, tức là upper = Q3 + 1.5 * IQR. Nó biểu diễn ranh giới trên của dữ liệu và được sử dụng để xác định outlier."
   ]
  },
  {
   "cell_type": "markdown",
   "id": "e8011800-f01a-431a-9503-a6a744c198db",
   "metadata": {},
   "source": [
    "##### Câu 18: Xác định các outtier (có emissions_by_country < lower hoặc emissions_by_country > upper)"
   ]
  },
  {
   "cell_type": "code",
   "execution_count": 33,
   "id": "b4e8d2bf-1520-4208-8d8b-16314fcf7d41",
   "metadata": {},
   "outputs": [
    {
     "name": "stdout",
     "output_type": "stream",
     "text": [
      "Các outlier:\n",
      "Empty DataFrame\n",
      "Columns: [country, co2_emission]\n",
      "Index: []\n"
     ]
    }
   ],
   "source": [
    "# Xác định các outlier\n",
    "outliers = emissions_by_country[(emissions_by_country[\"co2_emission\"] < lower) | (emissions_by_country[\"co2_emission\"] > upper)]\n",
    "# In kết quả\n",
    "print(\"Các outlier:\")\n",
    "print(outliers)"
   ]
  },
  {
   "cell_type": "markdown",
   "id": "3ceafe6e-229e-4cda-8617-67ca75295776",
   "metadata": {},
   "source": [
    "Các outlier: Series([], Name: co2_emission, dtype: float64)\", điều đó có nghĩa là không có outlier được xác định trong DataFrame emissions_by_country dựa trên điểm cắt dưới và trên đã tính toán. \n",
    "\n",
    "Điều này có thể xảy ra khi "
   ]
  },
  {
   "cell_type": "code",
   "execution_count": 82,
   "id": "f6d8ea52-9f21-4539-b434-7b961c48ffd1",
   "metadata": {},
   "outputs": [
    {
     "data": {
      "text/plain": [
       "country\n",
       "Belgium    1102.09\n",
       "USA        1718.86\n",
       "Name: co2_emission, dtype: float64"
      ]
     },
     "execution_count": 82,
     "metadata": {},
     "output_type": "execute_result"
    }
   ],
   "source": [
    "# In giá trị\n",
    "emissions_by_country"
   ]
  },
  {
   "cell_type": "markdown",
   "id": "b4a8e7f4-8833-46bd-8bb0-b967b59a4591",
   "metadata": {},
   "source": [
    "Vì kết quả của câu 17 là:\n",
    "Điểm cắt dưới:  793.7049999999995 (lower)\n",
    "Điểm cắt trên:  2027.2450000000003 (upper)\n",
    "Nên không có giá trị nào nhỏ hơn lower hoặc lớn hơn upper trong dữ liệu."
   ]
  },
  {
   "cell_type": "markdown",
   "id": "eb74cdfc-4813-4adf-89b7-606b28e1cb80",
   "metadata": {},
   "source": [
    "###### Lý Thuyết thêm: "
   ]
  },
  {
   "cell_type": "markdown",
   "id": "9e645a4d-1a87-4057-8d54-0a72872fc91a",
   "metadata": {},
   "source": [
    "![ptdllt.jpg](img/ptdllt.jpg)"
   ]
  },
  {
   "cell_type": "markdown",
   "id": "70d5429c-2d5e-4412-8c8d-81818e3f30fa",
   "metadata": {},
   "source": [
    "##### 1.IQR là gì?"
   ]
  },
  {
   "cell_type": "markdown",
   "id": "eb13dfcd-a723-48af-891c-11e9be2886cc",
   "metadata": {},
   "source": [
    "IQR (Interquartile Range) là một thước đo độ phân tán của dữ liệu, được tính bằng cách lấy hiệu số giữa Q3 và Q1, trong đó:\n",
    "\n",
    "Q1 là giá trị chia dữ liệu thành 25% phần nhỏ và 75% phần lớn.\n",
    "\n",
    "Q3 là giá trị chia dữ liệu thành 75% phần nhỏ và 25% phần lớn."
   ]
  },
  {
   "cell_type": "markdown",
   "id": "653c1dad-5956-40c2-bc1e-f5dd6e24efb6",
   "metadata": {},
   "source": [
    "##### 2.Ưu điểm IQR"
   ]
  },
  {
   "cell_type": "markdown",
   "id": "7df0a775-ed32-4255-9052-295be080b08e",
   "metadata": {},
   "source": [
    "IQR ít bị ảnh hưởng bởi outlier hơn so với các thước đo độ phân tán khác như phương sai và độ lệch chuẩn.\n",
    "\r\n",
    "IQR dễ tính toán và dễ hiểu hơn so với các phương pháp khác."
   ]
  },
  {
   "cell_type": "markdown",
   "id": "92b83098-1500-46ed-bc89-2d3e50c347fa",
   "metadata": {},
   "source": [
    "##### 3.Cách sử dụng IQR để tìm outlier:"
   ]
  },
  {
   "cell_type": "markdown",
   "id": "9f6685e4-adae-4dca-a085-2789e9a3a0d8",
   "metadata": {},
   "source": [
    "Tính Q1 và Q3: Sử dụng hàm quantile của Pandas để tính Q1 và Q3 cho tập dữ liệu.\n",
    "\n",
    "Tính IQR: IQR = Q3 – Q1.\n",
    "    \n",
    "Tính điểm cắt:\n",
    "    \n",
    "Điểm cắt dưới = Q1 – 1.5 * IQR.\n",
    "        \n",
    "Điểm cắt trên = Q3 + 1.5 * IQR.\n",
    "        \n",
    "Xác định outlier: Các điểm dữ liệu nằm dưới điểm cắt dưới hoặc trên điểm cắt trên được coi là outlier."
   ]
  }
 ],
 "metadata": {
  "kernelspec": {
   "display_name": "Python 3 (ipykernel)",
   "language": "python",
   "name": "python3"
  },
  "language_info": {
   "codemirror_mode": {
    "name": "ipython",
    "version": 3
   },
   "file_extension": ".py",
   "mimetype": "text/x-python",
   "name": "python",
   "nbconvert_exporter": "python",
   "pygments_lexer": "ipython3",
   "version": "3.8.5"
  }
 },
 "nbformat": 4,
 "nbformat_minor": 5
}
