{
 "cells": [
  {
   "cell_type": "markdown",
   "metadata": {},
   "source": [
    "#### Import thư viện\n"
   ]
  },
  {
   "cell_type": "code",
   "execution_count": 6,
   "metadata": {},
   "outputs": [],
   "source": [
    "import pandas as pd\n",
    "import numpy as np"
   ]
  },
  {
   "cell_type": "markdown",
   "metadata": {},
   "source": [
    "#### Đọc dữ liệu "
   ]
  },
  {
   "cell_type": "code",
   "execution_count": 4,
   "metadata": {},
   "outputs": [],
   "source": [
    "nobel_laureates = pd.read_csv(r\"T:\\PhanNguyenKhoiNguyen_21068021\\nobel_laureates_data.csv\")"
   ]
  },
  {
   "cell_type": "code",
   "execution_count": 5,
   "metadata": {},
   "outputs": [
    {
     "data": {
      "text/html": [
       "<div>\n",
       "<style scoped>\n",
       "    .dataframe tbody tr th:only-of-type {\n",
       "        vertical-align: middle;\n",
       "    }\n",
       "\n",
       "    .dataframe tbody tr th {\n",
       "        vertical-align: top;\n",
       "    }\n",
       "\n",
       "    .dataframe thead th {\n",
       "        text-align: right;\n",
       "    }\n",
       "</style>\n",
       "<table border=\"1\" class=\"dataframe\">\n",
       "  <thead>\n",
       "    <tr style=\"text-align: right;\">\n",
       "      <th></th>\n",
       "      <th>year</th>\n",
       "      <th>category</th>\n",
       "      <th>motivation</th>\n",
       "      <th>prizeShare</th>\n",
       "      <th>laureateID</th>\n",
       "      <th>fullName</th>\n",
       "      <th>gender</th>\n",
       "      <th>born</th>\n",
       "      <th>bornCountry</th>\n",
       "      <th>bornCity</th>\n",
       "      <th>died</th>\n",
       "      <th>diedCountry</th>\n",
       "      <th>diedCity</th>\n",
       "      <th>organizationName</th>\n",
       "      <th>organizationCountry</th>\n",
       "      <th>organizationCity</th>\n",
       "    </tr>\n",
       "  </thead>\n",
       "  <tbody>\n",
       "    <tr>\n",
       "      <th>0</th>\n",
       "      <td>2023</td>\n",
       "      <td>medicine</td>\n",
       "      <td>for their discoveries concerning nucleoside ba...</td>\n",
       "      <td>2</td>\n",
       "      <td>1024</td>\n",
       "      <td>Katalin Kariko</td>\n",
       "      <td>female</td>\n",
       "      <td>17-01-1955</td>\n",
       "      <td>Hungary</td>\n",
       "      <td>Szolnok</td>\n",
       "      <td>0000-00-00</td>\n",
       "      <td>NaN</td>\n",
       "      <td>NaN</td>\n",
       "      <td>Szeged University</td>\n",
       "      <td>Hungary</td>\n",
       "      <td>Szeged</td>\n",
       "    </tr>\n",
       "    <tr>\n",
       "      <th>1</th>\n",
       "      <td>2023</td>\n",
       "      <td>economics</td>\n",
       "      <td>for having advanced our understanding of women...</td>\n",
       "      <td>1</td>\n",
       "      <td>1034</td>\n",
       "      <td>Claudia Goldin</td>\n",
       "      <td>female</td>\n",
       "      <td>1946-00-00</td>\n",
       "      <td>USA</td>\n",
       "      <td>New York NY</td>\n",
       "      <td>0000-00-00</td>\n",
       "      <td>NaN</td>\n",
       "      <td>NaN</td>\n",
       "      <td>Harvard University</td>\n",
       "      <td>USA</td>\n",
       "      <td>Cambridge MA</td>\n",
       "    </tr>\n",
       "    <tr>\n",
       "      <th>2</th>\n",
       "      <td>2023</td>\n",
       "      <td>peace</td>\n",
       "      <td>for her fight against the oppression of women ...</td>\n",
       "      <td>1</td>\n",
       "      <td>1033</td>\n",
       "      <td>Narges Mohammadi</td>\n",
       "      <td>female</td>\n",
       "      <td>21-04-1972</td>\n",
       "      <td>Iran</td>\n",
       "      <td>Zanjan</td>\n",
       "      <td>0000-00-00</td>\n",
       "      <td>NaN</td>\n",
       "      <td>NaN</td>\n",
       "      <td>NaN</td>\n",
       "      <td>NaN</td>\n",
       "      <td>NaN</td>\n",
       "    </tr>\n",
       "    <tr>\n",
       "      <th>3</th>\n",
       "      <td>2023</td>\n",
       "      <td>literature</td>\n",
       "      <td>for his innovative plays and prose which give ...</td>\n",
       "      <td>1</td>\n",
       "      <td>1032</td>\n",
       "      <td>Jon Fosse</td>\n",
       "      <td>male</td>\n",
       "      <td>29-09-1959</td>\n",
       "      <td>Norway</td>\n",
       "      <td>Haugesund</td>\n",
       "      <td>0000-00-00</td>\n",
       "      <td>NaN</td>\n",
       "      <td>NaN</td>\n",
       "      <td>NaN</td>\n",
       "      <td>NaN</td>\n",
       "      <td>NaN</td>\n",
       "    </tr>\n",
       "    <tr>\n",
       "      <th>4</th>\n",
       "      <td>2023</td>\n",
       "      <td>chemistry</td>\n",
       "      <td>for the discovery and synthesis of quantum dots</td>\n",
       "      <td>3</td>\n",
       "      <td>1031</td>\n",
       "      <td>Alexei Ekimov</td>\n",
       "      <td>male</td>\n",
       "      <td>1945-00-00</td>\n",
       "      <td>Russia</td>\n",
       "      <td>NaN</td>\n",
       "      <td>0000-00-00</td>\n",
       "      <td>NaN</td>\n",
       "      <td>NaN</td>\n",
       "      <td>Nanocrystals Technology Inc.</td>\n",
       "      <td>USA</td>\n",
       "      <td>New York NY</td>\n",
       "    </tr>\n",
       "    <tr>\n",
       "      <th>5</th>\n",
       "      <td>2023</td>\n",
       "      <td>chemistry</td>\n",
       "      <td>for the discovery and synthesis of quantum dots</td>\n",
       "      <td>3</td>\n",
       "      <td>1030</td>\n",
       "      <td>Louis Brus</td>\n",
       "      <td>male</td>\n",
       "      <td>1943-00-00</td>\n",
       "      <td>USA</td>\n",
       "      <td>Cleveland OH</td>\n",
       "      <td>0000-00-00</td>\n",
       "      <td>NaN</td>\n",
       "      <td>NaN</td>\n",
       "      <td>Columbia University</td>\n",
       "      <td>USA</td>\n",
       "      <td>New York NY</td>\n",
       "    </tr>\n",
       "    <tr>\n",
       "      <th>6</th>\n",
       "      <td>2023</td>\n",
       "      <td>chemistry</td>\n",
       "      <td>for the discovery and synthesis of quantum dots</td>\n",
       "      <td>3</td>\n",
       "      <td>1029</td>\n",
       "      <td>Moungi Bawendi</td>\n",
       "      <td>male</td>\n",
       "      <td>1961-00-00</td>\n",
       "      <td>France</td>\n",
       "      <td>Paris</td>\n",
       "      <td>0000-00-00</td>\n",
       "      <td>NaN</td>\n",
       "      <td>NaN</td>\n",
       "      <td>Massachusetts Institute of Technology (MIT)</td>\n",
       "      <td>USA</td>\n",
       "      <td>Cambridge MA</td>\n",
       "    </tr>\n",
       "    <tr>\n",
       "      <th>7</th>\n",
       "      <td>2023</td>\n",
       "      <td>physics</td>\n",
       "      <td>for experimental methods that generate attosec...</td>\n",
       "      <td>3</td>\n",
       "      <td>1028</td>\n",
       "      <td>Anne L Huillier</td>\n",
       "      <td>female</td>\n",
       "      <td>16-08-1958</td>\n",
       "      <td>France</td>\n",
       "      <td>Paris</td>\n",
       "      <td>0000-00-00</td>\n",
       "      <td>NaN</td>\n",
       "      <td>NaN</td>\n",
       "      <td>Lund University</td>\n",
       "      <td>Sweden</td>\n",
       "      <td>Lund</td>\n",
       "    </tr>\n",
       "    <tr>\n",
       "      <th>8</th>\n",
       "      <td>2023</td>\n",
       "      <td>physics</td>\n",
       "      <td>for experimental methods that generate attosec...</td>\n",
       "      <td>3</td>\n",
       "      <td>1027</td>\n",
       "      <td>Ferenc Krausz</td>\n",
       "      <td>male</td>\n",
       "      <td>17-05-1962</td>\n",
       "      <td>Hungary</td>\n",
       "      <td>Mor</td>\n",
       "      <td>0000-00-00</td>\n",
       "      <td>NaN</td>\n",
       "      <td>NaN</td>\n",
       "      <td>Max Planck Institute of Quantum Optics</td>\n",
       "      <td>Germany</td>\n",
       "      <td>Garching</td>\n",
       "    </tr>\n",
       "    <tr>\n",
       "      <th>9</th>\n",
       "      <td>2023</td>\n",
       "      <td>physics</td>\n",
       "      <td>for experimental methods that generate attosec...</td>\n",
       "      <td>3</td>\n",
       "      <td>1026</td>\n",
       "      <td>Pierre Agostini</td>\n",
       "      <td>male</td>\n",
       "      <td>23-07-1941</td>\n",
       "      <td>Tunisia</td>\n",
       "      <td>Tunis</td>\n",
       "      <td>0000-00-00</td>\n",
       "      <td>NaN</td>\n",
       "      <td>NaN</td>\n",
       "      <td>The Ohio State University</td>\n",
       "      <td>USA</td>\n",
       "      <td>Columbus OH</td>\n",
       "    </tr>\n",
       "  </tbody>\n",
       "</table>\n",
       "</div>"
      ],
      "text/plain": [
       "   year    category                                         motivation  \\\n",
       "0  2023    medicine  for their discoveries concerning nucleoside ba...   \n",
       "1  2023   economics  for having advanced our understanding of women...   \n",
       "2  2023       peace  for her fight against the oppression of women ...   \n",
       "3  2023  literature  for his innovative plays and prose which give ...   \n",
       "4  2023   chemistry    for the discovery and synthesis of quantum dots   \n",
       "5  2023   chemistry    for the discovery and synthesis of quantum dots   \n",
       "6  2023   chemistry    for the discovery and synthesis of quantum dots   \n",
       "7  2023     physics  for experimental methods that generate attosec...   \n",
       "8  2023     physics  for experimental methods that generate attosec...   \n",
       "9  2023     physics  for experimental methods that generate attosec...   \n",
       "\n",
       "   prizeShare  laureateID          fullName  gender        born bornCountry  \\\n",
       "0           2        1024    Katalin Kariko  female  17-01-1955     Hungary   \n",
       "1           1        1034    Claudia Goldin  female  1946-00-00         USA   \n",
       "2           1        1033  Narges Mohammadi  female  21-04-1972        Iran   \n",
       "3           1        1032         Jon Fosse    male  29-09-1959      Norway   \n",
       "4           3        1031     Alexei Ekimov    male  1945-00-00      Russia   \n",
       "5           3        1030        Louis Brus    male  1943-00-00         USA   \n",
       "6           3        1029    Moungi Bawendi    male  1961-00-00      France   \n",
       "7           3        1028   Anne L Huillier  female  16-08-1958      France   \n",
       "8           3        1027     Ferenc Krausz    male  17-05-1962     Hungary   \n",
       "9           3        1026   Pierre Agostini    male  23-07-1941     Tunisia   \n",
       "\n",
       "       bornCity        died diedCountry diedCity  \\\n",
       "0       Szolnok  0000-00-00         NaN      NaN   \n",
       "1   New York NY  0000-00-00         NaN      NaN   \n",
       "2        Zanjan  0000-00-00         NaN      NaN   \n",
       "3     Haugesund  0000-00-00         NaN      NaN   \n",
       "4           NaN  0000-00-00         NaN      NaN   \n",
       "5  Cleveland OH  0000-00-00         NaN      NaN   \n",
       "6         Paris  0000-00-00         NaN      NaN   \n",
       "7         Paris  0000-00-00         NaN      NaN   \n",
       "8           Mor  0000-00-00         NaN      NaN   \n",
       "9         Tunis  0000-00-00         NaN      NaN   \n",
       "\n",
       "                              organizationName organizationCountry  \\\n",
       "0                            Szeged University             Hungary   \n",
       "1                           Harvard University                 USA   \n",
       "2                                          NaN                 NaN   \n",
       "3                                          NaN                 NaN   \n",
       "4                 Nanocrystals Technology Inc.                 USA   \n",
       "5                          Columbia University                 USA   \n",
       "6  Massachusetts Institute of Technology (MIT)                 USA   \n",
       "7                              Lund University              Sweden   \n",
       "8       Max Planck Institute of Quantum Optics             Germany   \n",
       "9                    The Ohio State University                 USA   \n",
       "\n",
       "  organizationCity  \n",
       "0           Szeged  \n",
       "1     Cambridge MA  \n",
       "2              NaN  \n",
       "3              NaN  \n",
       "4      New York NY  \n",
       "5      New York NY  \n",
       "6     Cambridge MA  \n",
       "7             Lund  \n",
       "8         Garching  \n",
       "9      Columbus OH  "
      ]
     },
     "execution_count": 5,
     "metadata": {},
     "output_type": "execute_result"
    }
   ],
   "source": [
    "nobel_laureates.head(10)"
   ]
  },
  {
   "cell_type": "markdown",
   "metadata": {},
   "source": [
    "ex5: Load the dataset and find the most common gender and birth country\n",
    "Load the dataset into a DataFrame using pandas and then extract the top values from sex and birth_country."
   ]
  },
  {
   "cell_type": "code",
   "execution_count": 13,
   "metadata": {},
   "outputs": [
    {
     "name": "stdout",
     "output_type": "stream",
     "text": [
      "Giới tính phổ biến nhất: male\n",
      "Quốc gia sinh phổ biến nhất: USA\n"
     ]
    }
   ],
   "source": [
    "# Tìm giới tính phổ biến nhất\n",
    "most_common_gender =nobel_laureates['gender'].value_counts().idxmax() \n",
    "#Hàm .idxmax() trong pandas được sử dụng để trả về chỉ mục của giá trị lớn nhất trong Series hoặc DataFrame\n",
    "\n",
    "# Tìm quốc gia sinh phổ biến nhất\n",
    "most_common_birth_country = nobel_laureates['bornCountry'].value_counts().idxmax()\n",
    "\n",
    "# In ra kết quả\n",
    "print(\"Giới tính phổ biến nhất:\", most_common_gender)\n",
    "print(\"Quốc gia sinh phổ biến nhất:\", most_common_birth_country)"
   ]
  },
  {
   "cell_type": "markdown",
   "metadata": {},
   "source": [
    "ex6: Identify the decade with the highest proportion of US-born winners\n",
    "To calculate the proportion, first create a column that creates a flag for winners whose birth country is \"United States of America\", then create a decade column, and use both to find the proportion."
   ]
  },
  {
   "cell_type": "code",
   "execution_count": 20,
   "metadata": {},
   "outputs": [
    {
     "name": "stdout",
     "output_type": "stream",
     "text": [
      "Decade with the highest proportion of US-born winners: 2000\n"
     ]
    }
   ],
   "source": [
    "# Create a flag column for US-born winners\n",
    "nobel_laureates['US_born_flag'] = (nobel_laureates['bornCountry'] == 'USA').astype(int)\n",
    "#Có thể đánh dấu là 1 cho những người sinh ra tại Hoa Kỳ và 0 cho những người sinh ra ở các quốc gia khác.\n",
    "                  \n",
    "# Create a decade column\n",
    "nobel_laureates['decade'] = (nobel_laureates['year'] // 10) * 10\n",
    "\n",
    "#Calculate proportion for each decade\n",
    "proportion_by_decade = nobel_laureates.groupby('decade')['US_born_flag'].mean()\n",
    "#Bằng cách nhóm theo cột 'decade' và tính trung bình của cột 'US_born_flag', chúng ta có thể tính được tỷ lệ này cho mỗi thập kỷ.\n",
    "\n",
    "# Identify the decade with the highest proportion of US-born winners\n",
    "highest_proportion_decade = proportion_by_decade.idxmax()\n",
    "#sử dụng phương pháp .idxmax() để xác định thập kỷ có tỷ lệ cao nhất của những người chiến thắng sinh ra tại Hoa Kỳ.\n",
    "print(\"Decade with the highest proportion of US-born winners:\", highest_proportion_decade)"
   ]
  },
  {
   "cell_type": "markdown",
   "metadata": {},
   "source": [
    "ex7: Find the decade and category with the highest proportion of female laureates\n",
    "You can copy and modify your code from the previous tasks to create a DataFrame for the proportion of female winners, then create a dictionary called max_female_dict with the year and category pair with the most female winners."
   ]
  },
  {
   "cell_type": "code",
   "execution_count": 25,
   "metadata": {},
   "outputs": [
    {
     "name": "stdout",
     "output_type": "stream",
     "text": [
      "Decade and category with the highest proportion of female laureates: {'decade': 2020, 'category': 'literature'}\n"
     ]
    }
   ],
   "source": [
    "# Create a flag column for female laureates\n",
    "nobel_laureates['female_flag'] = (nobel_laureates['gender'] == 'female').astype(int)\n",
    "#.astype(int): Giá trị của cột \"female_flag\" sẽ là 1 nếu giới tính là 'female' và là 0 nếu không phải.\n",
    "\n",
    "# Create a decade and category column\n",
    "nobel_laureates['decade'] = (nobel_laureates['year'] // 10) * 10\n",
    "\n",
    "# Calculate proportion of female laureates for each decade and category\n",
    "proportion_female_by_decade_category = nobel_laureates.groupby(['decade', 'category'])['female_flag'].mean()\n",
    "# print(proportion_female_by_decade_category)\n",
    "# Find the decade and category with the highest proportion of female laureates\n",
    "max_female_pair = proportion_female_by_decade_category.idxmax()\n",
    "\n",
    "max_female_dict = {'decade': max_female_pair[0], 'category': max_female_pair[1]}\n",
    "\n",
    "print(\"Decade and category with the highest proportion of female laureates:\", max_female_dict)"
   ]
  },
  {
   "cell_type": "markdown",
   "metadata": {},
   "source": [
    "ex8: Find first woman to win a Nobel Prize\n",
    "Filter the DataFrame for the rows with Female winners and find the earliest year and corresponding category in this subset."
   ]
  },
  {
   "cell_type": "code",
   "execution_count": 28,
   "metadata": {},
   "outputs": [
    {
     "name": "stdout",
     "output_type": "stream",
     "text": [
      "First woman to win a Nobel Prize:\n",
      "Year: 1903\n",
      "Category: physics\n"
     ]
    }
   ],
   "source": [
    "# Lọc DataFrame để chỉ chứa các hàng với người chiến thắng là nữ\n",
    "female_winners = nobel_laureates[nobel_laureates['gender'] == 'female']\n",
    "\n",
    "# Tìm năm sớm nhất và danh mục tương ứng trong tập con này\n",
    "earliest_year = female_winners['year'].min()\n",
    "\n",
    "earliest_category = female_winners.loc[female_winners['year'] == earliest_year, 'category'].iloc[0]\n",
    "#dòng mã trên trích xuất danh mục (category) của người phụ nữ đầu tiên giành giải Nobel bằng cách:\n",
    "#truy cập cột 'category' của DataFrame female_winners\n",
    "#chỉ chọn hàng có năm là earliest_year\n",
    "#sau đó lấy giá trị đầu tiên từ danh sách các giá trị này. (.iloc[0])\n",
    "print(\"First woman to win a Nobel Prize:\")\n",
    "print(\"Year:\", earliest_year)\n",
    "print(\"Category:\", earliest_category)"
   ]
  },
  {
   "cell_type": "markdown",
   "metadata": {},
   "source": [
    "ex9: Determine repeat winners\n",
    "Count the number of times each winner has won, then select those with counts of two or more, saving the full names as a list called repeats."
   ]
  },
  {
   "cell_type": "code",
   "execution_count": 31,
   "metadata": {},
   "outputs": [
    {
     "name": "stdout",
     "output_type": "stream",
     "text": [
      "Những người chiến thắng lặp lại là: ['International Committee of the Red Cross ', 'John Bardeen', 'Linus Pauling', 'Frederick Sanger', 'Office of the United Nations High Commissioner for Refugees ', 'Marie Curie', 'Barry Sharpless']\n"
     ]
    }
   ],
   "source": [
    "# Đếm số lần mỗi người chiến thắng đã chiến thắng\n",
    "winner_counts = nobel_laureates['fullName'].value_counts()\n",
    "\n",
    "# Chọn những người chiến thắng có số lần chiến thắng là hai trở lên\n",
    "repeats = winner_counts[winner_counts >= 2].index.tolist()\n",
    "# winner_counts[winner_counts >= 2]: Chọn các giá trị từ Series winner_counts mà lớn hơn hoặc bằng 2. .\n",
    "#.index được sử dụng để truy cập các chỉ mục tương ứng. Trong trường hợp này, chỉ mục là tên đầy đủ của người chiến thắng.\n",
    "#.tolist(): Cuối cùng, chúng ta chuyển đổi các chỉ mục từ Series thành một danh sách. Điều này tạo ra danh sách repeats chứa các tên đầy đủ của các người chiến thắng lặp lại, tức là những người đã giành giải Nobel ít nhất 2 lần.\n",
    "\n",
    "print(\"Những người chiến thắng lặp lại là:\", repeats)"
   ]
  },
  {
   "cell_type": "markdown",
   "metadata": {},
   "source": [
    "#### Analyze Nobel Prizel winner data and identify patterns by answering the following questions:\n",
    "* What is the most commonly awarded gender and birth country? Storing the string answers as top_gender and top_country.\n",
    "* What decade had the highest proportion of US-born winners? Store this as an integer called max_decade_usa.\n",
    "* What decade and category pair had the highest proportion of female laureates?\n",
    "Store this as a dictionary called max_female_dict where the decade is the keyand the category is the value.\n",
    "* Who was the first woman to receive a Nobel Prize, and in what category?Save your string answers as first_woman_name and first_woman_category.\n",
    "* Which individuals or organizations have won multiple Nobel Prizes throughout the years? Store the full name in a list named repeat_list."
   ]
  },
  {
   "cell_type": "code",
   "execution_count": 34,
   "metadata": {},
   "outputs": [
    {
     "name": "stdout",
     "output_type": "stream",
     "text": [
      "Giới tính được trao giải Nodel nhiều nhất là : male\n",
      "Quốc gia sinh ra được trao giải Nodel nhiều nhất là : USA\n"
     ]
    }
   ],
   "source": [
    "# Câu 1 : Giới tính và quốc gia sinh ra được trao giải Nobel nhiều nhất là gì?\n",
    "top_gender = nobel_laureates['gender'].value_counts().idxmax()\n",
    "top_country = nobel_laureates['bornCountry'].value_counts().idxmax()\n",
    "print(\"Giới tính được trao giải Nodel nhiều nhất là :\",top_gender)\n",
    "print(\"Quốc gia sinh ra được trao giải Nodel nhiều nhất là :\",top_country)"
   ]
  },
  {
   "cell_type": "code",
   "execution_count": 35,
   "metadata": {},
   "outputs": [
    {
     "name": "stdout",
     "output_type": "stream",
     "text": [
      "Thập kỷ có tỷ lệ cao nhất của người chiến thắng sinh ra tại Hoa Kỳ:  2000\n"
     ]
    }
   ],
   "source": [
    "# Câu 2 :Thập kỷ nào có tỷ lệ cao nhất của người chiến thắng sinh ra tại Hoa Kỳ?\n",
    "proportion_usa_by_decade = nobel_laureates.groupby('decade')['US_born_flag'].mean()\n",
    "max_decade_usa = proportion_usa_by_decade.idxmax()\n",
    "print(\"Thập kỷ có tỷ lệ cao nhất của người chiến thắng sinh ra tại Hoa Kỳ: \",max_decade_usa)"
   ]
  },
  {
   "cell_type": "code",
   "execution_count": 37,
   "metadata": {},
   "outputs": [
    {
     "name": "stdout",
     "output_type": "stream",
     "text": [
      "Thập kỷ và danh mục nào có tỷ lệ cao nhất của người chiến thắng nữ : {'decade': 2020, 'category': 'literature'}\n"
     ]
    }
   ],
   "source": [
    "# Câu 3 :Thập kỷ và danh mục nào có tỷ lệ cao nhất của người chiến thắng nữ?\n",
    "proportion_female_by_decade_category = nobel_laureates.groupby(['decade', 'category'])['female_flag'].mean()\n",
    "max_female_pair = proportion_female_by_decade_category.idxmax()\n",
    "max_female_dict = {'decade': max_female_pair[0], 'category': max_female_pair[1]}\n",
    "print(\"Thập kỷ và danh mục nào có tỷ lệ cao nhất của người chiến thắng nữ :\",max_female_dict)"
   ]
  },
  {
   "cell_type": "code",
   "execution_count": 43,
   "metadata": {},
   "outputs": [
    {
     "name": "stdout",
     "output_type": "stream",
     "text": [
      "Người phụ nữ đầu tiên nhận giải Nobel là Marie Curie\n",
      "Danh mục : physics\n"
     ]
    }
   ],
   "source": [
    "# Câu 4 : Ai là người phụ nữ đầu tiên nhận giải Nobel, và trong danh mục nào? \n",
    "first_woman = nobel_laureates[nobel_laureates['gender'] == 'female'].sort_values(by='year').iloc[0]\n",
    "first_woman_name = first_woman['fullName']\n",
    "first_woman_category = first_woman['category']\n",
    "print(\"Người phụ nữ đầu tiên nhận giải Nobel là\", first_woman_name)\n",
    "print(\"Danh mục :\", first_woman_category)"
   ]
  },
  {
   "cell_type": "code",
   "execution_count": 44,
   "metadata": {},
   "outputs": [
    {
     "name": "stdout",
     "output_type": "stream",
     "text": [
      "Cá nhân hoặc tổ chức đã giành nhiều giải Nobel qua các năm là : ['International Committee of the Red Cross ', 'John Bardeen', 'Linus Pauling', 'Frederick Sanger', 'Office of the United Nations High Commissioner for Refugees ', 'Marie Curie', 'Barry Sharpless']\n"
     ]
    }
   ],
   "source": [
    "# Câu 5 :Cá nhân hoặc tổ chức nào đã giành nhiều giải Nobel qua các năm?\n",
    "repeat_winners = nobel_laureates['fullName'].value_counts()\n",
    "repeat_list = repeat_winners[repeat_winners >= 2].index.tolist()\n",
    "print(\"Cá nhân hoặc tổ chức đã giành nhiều giải Nobel qua các năm là :\", repeat_list)"
   ]
  },
  {
   "cell_type": "code",
   "execution_count": null,
   "metadata": {},
   "outputs": [],
   "source": []
  }
 ],
 "metadata": {
  "kernelspec": {
   "display_name": "Python 3",
   "language": "python",
   "name": "python3"
  },
  "language_info": {
   "codemirror_mode": {
    "name": "ipython",
    "version": 3
   },
   "file_extension": ".py",
   "mimetype": "text/x-python",
   "name": "python",
   "nbconvert_exporter": "python",
   "pygments_lexer": "ipython3",
   "version": "3.8.5"
  }
 },
 "nbformat": 4,
 "nbformat_minor": 4
}
