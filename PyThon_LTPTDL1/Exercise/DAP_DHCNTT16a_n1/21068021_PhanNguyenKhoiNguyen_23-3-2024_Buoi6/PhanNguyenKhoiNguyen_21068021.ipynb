{
 "cells": [
  {
   "cell_type": "markdown",
   "metadata": {},
   "source": [
    "#### Phan Nguyễn Khôi Nguyên - 21068021"
   ]
  },
  {
   "cell_type": "markdown",
   "metadata": {},
   "source": [
    "## Import thư viện"
   ]
  },
  {
   "cell_type": "code",
   "execution_count": 2,
   "metadata": {},
   "outputs": [],
   "source": [
    "import pandas as pd\n",
    "import numpy as np\n",
    "import matplotlib.pyplot as plt"
   ]
  },
  {
   "cell_type": "markdown",
   "metadata": {},
   "source": [
    "# 1. Creating features\n",
    "* Load data vào sales_df\n",
    "* Create x, an array of the values from the sales_df DataFrame's \"radio\" column\n",
    "* Create y, an array of the values from the sales_df DataFrame's \"sales\" column\n",
    "* Reshape x into a two-dimensional NumPy array\n",
    "* Print the shape of x and y "
   ]
  },
  {
   "cell_type": "code",
   "execution_count": 6,
   "metadata": {},
   "outputs": [
    {
     "data": {
      "text/html": [
       "<div>\n",
       "<style scoped>\n",
       "    .dataframe tbody tr th:only-of-type {\n",
       "        vertical-align: middle;\n",
       "    }\n",
       "\n",
       "    .dataframe tbody tr th {\n",
       "        vertical-align: top;\n",
       "    }\n",
       "\n",
       "    .dataframe thead th {\n",
       "        text-align: right;\n",
       "    }\n",
       "</style>\n",
       "<table border=\"1\" class=\"dataframe\">\n",
       "  <thead>\n",
       "    <tr style=\"text-align: right;\">\n",
       "      <th></th>\n",
       "      <th>tv</th>\n",
       "      <th>radio</th>\n",
       "      <th>social_media</th>\n",
       "      <th>influencer</th>\n",
       "      <th>sales</th>\n",
       "    </tr>\n",
       "  </thead>\n",
       "  <tbody>\n",
       "    <tr>\n",
       "      <th>0</th>\n",
       "      <td>16000.0</td>\n",
       "      <td>6566.23</td>\n",
       "      <td>2907.98</td>\n",
       "      <td>Mega</td>\n",
       "      <td>54732.76</td>\n",
       "    </tr>\n",
       "    <tr>\n",
       "      <th>1</th>\n",
       "      <td>13000.0</td>\n",
       "      <td>9237.76</td>\n",
       "      <td>2409.57</td>\n",
       "      <td>Mega</td>\n",
       "      <td>46677.90</td>\n",
       "    </tr>\n",
       "    <tr>\n",
       "      <th>2</th>\n",
       "      <td>41000.0</td>\n",
       "      <td>15886.45</td>\n",
       "      <td>2913.41</td>\n",
       "      <td>Mega</td>\n",
       "      <td>150177.83</td>\n",
       "    </tr>\n",
       "    <tr>\n",
       "      <th>3</th>\n",
       "      <td>83000.0</td>\n",
       "      <td>30020.03</td>\n",
       "      <td>6922.30</td>\n",
       "      <td>Mega</td>\n",
       "      <td>298246.34</td>\n",
       "    </tr>\n",
       "    <tr>\n",
       "      <th>4</th>\n",
       "      <td>15000.0</td>\n",
       "      <td>8437.41</td>\n",
       "      <td>1406.00</td>\n",
       "      <td>Micro</td>\n",
       "      <td>56594.18</td>\n",
       "    </tr>\n",
       "  </tbody>\n",
       "</table>\n",
       "</div>"
      ],
      "text/plain": [
       "        tv     radio  social_media influencer      sales\n",
       "0  16000.0   6566.23       2907.98       Mega   54732.76\n",
       "1  13000.0   9237.76       2409.57       Mega   46677.90\n",
       "2  41000.0  15886.45       2913.41       Mega  150177.83\n",
       "3  83000.0  30020.03       6922.30       Mega  298246.34\n",
       "4  15000.0   8437.41       1406.00      Micro   56594.18"
      ]
     },
     "execution_count": 6,
     "metadata": {},
     "output_type": "execute_result"
    }
   ],
   "source": [
    "# Load data vào sales_df\n",
    "sales_df = pd.read_csv(r\"T:\\21068021_PhanNguyenKhoiNguyen_23-3-2024\\data\\advertising_and_sales_clean.csv\")\n",
    "sales_df.head()"
   ]
  },
  {
   "cell_type": "code",
   "execution_count": 10,
   "metadata": {},
   "outputs": [
    {
     "data": {
      "text/plain": [
       "array([ 6566.23,  9237.76, 15886.45, ..., 19800.07, 17534.64, 15966.69])"
      ]
     },
     "execution_count": 10,
     "metadata": {},
     "output_type": "execute_result"
    }
   ],
   "source": [
    "# Create x, an array of the values from the \"radio\" column\n",
    "x = sales_df['radio'].values\n",
    "#Print x\n",
    "x"
   ]
  },
  {
   "cell_type": "code",
   "execution_count": 11,
   "metadata": {},
   "outputs": [
    {
     "data": {
      "text/plain": [
       "array([ 54732.76,  46677.9 , 150177.83, ..., 163631.46, 253610.41,\n",
       "       148202.41])"
      ]
     },
     "execution_count": 11,
     "metadata": {},
     "output_type": "execute_result"
    }
   ],
   "source": [
    "# Create y, an array of the values from the \"sales\" column\n",
    "y = sales_df['sales'].values\n",
    "# Print y\n",
    "y"
   ]
  },
  {
   "cell_type": "code",
   "execution_count": 12,
   "metadata": {},
   "outputs": [
    {
     "data": {
      "text/plain": [
       "array([[ 6566.23],\n",
       "       [ 9237.76],\n",
       "       [15886.45],\n",
       "       ...,\n",
       "       [19800.07],\n",
       "       [17534.64],\n",
       "       [15966.69]])"
      ]
     },
     "execution_count": 12,
     "metadata": {},
     "output_type": "execute_result"
    }
   ],
   "source": [
    "# Reshape x into a two-dimensional NumPy array\n",
    "x = x.reshape(-1, 1)\n",
    "# print x\n",
    "x"
   ]
  },
  {
   "cell_type": "code",
   "execution_count": 13,
   "metadata": {},
   "outputs": [
    {
     "name": "stdout",
     "output_type": "stream",
     "text": [
      "Shape of x: (4546, 1)\n",
      "Shape of y: (4546,)\n"
     ]
    }
   ],
   "source": [
    "# Print the shape of x and y\n",
    "print(\"Shape of x:\", x.shape)\n",
    "print(\"Shape of y:\", y.shape)"
   ]
  },
  {
   "cell_type": "markdown",
   "metadata": {},
   "source": [
    "## 2. Building a linear regressio model \n",
    "* Import LinearRegression\n",
    "* Instantiate a linear regression model\n",
    "* Predict sales values using x, storing as predictions"
   ]
  },
  {
   "cell_type": "code",
   "execution_count": 14,
   "metadata": {},
   "outputs": [],
   "source": [
    "# Import LinearRegression\n",
    "from sklearn.linear_model import LinearRegression"
   ]
  },
  {
   "cell_type": "code",
   "execution_count": 18,
   "metadata": {},
   "outputs": [
    {
     "name": "stdout",
     "output_type": "stream",
     "text": [
      "[ 95491.17119147 117829.51038393 173423.38071499 ... 206147.61403088\n",
      " 187204.93183873 174094.31771993]\n"
     ]
    }
   ],
   "source": [
    "# Instantiate a linear regression model\n",
    "model = LinearRegression()\n",
    "\n",
    "# Fit the model to your data\n",
    "model.fit(x, y)\n",
    "\n",
    "# Predict sales values using x, storing as predictions\n",
    "predictions = model.predict(x)\n",
    "print(predictions)"
   ]
  },
  {
   "cell_type": "markdown",
   "metadata": {},
   "source": [
    "## 3. Visualizing a linear regression model\n",
    "* Import matplotlib.pyplot as plt\n",
    "* Create a scatter plot visualizing y against x, with observations in blue\n",
    "* Draw a red line plot displaying the predictions against x\n",
    "* Display the plot"
   ]
  },
  {
   "cell_type": "code",
   "execution_count": 19,
   "metadata": {},
   "outputs": [],
   "source": [
    "# Import matplotlib.pyplot as plt\n",
    "import matplotlib.pyplot as plt"
   ]
  },
  {
   "cell_type": "code",
   "execution_count": 21,
   "metadata": {},
   "outputs": [
    {
     "data": {
      "image/png": "[encoded data removed]",
      "text/plain": [
       "<Figure size 864x432 with 1 Axes>"
      ]
     },
     "metadata": {
      "needs_background": "light"
     },
     "output_type": "display_data"
    }
   ],
   "source": [
    "plt.figure(figsize=(12,6))\n",
    "# Create a scatter plot visualizing y against x, with observations in blue\n",
    "plt.scatter(x, y, color='blue', label='Observations')\n",
    "\n",
    "# Draw a red line plot displaying the predictions against x\n",
    "plt.plot(x, predictions, color='red', label='Predictions')\n",
    "\n",
    "# Add labels and title\n",
    "plt.xlabel('Radio')\n",
    "plt.ylabel('Sales')\n",
    "plt.title('Scatter Plot with Linear Regression Line')\n",
    "\n",
    "# Add legend\n",
    "plt.legend()\n",
    "\n",
    "# Display the plot\n",
    "plt.show()"
   ]
  },
  {
   "cell_type": "markdown",
   "metadata": {},
   "source": [
    "## 4. Fit and predict for regression\n",
    "Now you have seen how linear regression works, your task is to create a multiple linear regression model using all of the features in the sales_df dataset\n",
    "* Create x. an array containing values of all features in sales_df, and y, containing all values from the 'sales' column\n",
    "* Instantiate a linear regression model\n",
    "* Fit the model to the training data (70% for train)\n",
    "* Create y pred, making predictions for sales using the test features"
   ]
  },
  {
   "cell_type": "code",
   "execution_count": 29,
   "metadata": {},
   "outputs": [
    {
     "name": "stdout",
     "output_type": "stream",
     "text": [
      "[ 53176.66154234  70996.19873235 267032.64132081 ...  53186.97417758\n",
      " 124484.96692389 138713.21477866]\n"
     ]
    }
   ],
   "source": [
    "from sklearn.model_selection import train_test_split\n",
    "\n",
    "#Create x (an array containing values of all features in sales_df)\n",
    "# X = sales_df.drop(columns=['influencer'])\n",
    "X = sales_df.drop(columns=['sales', 'influencer'])\n",
    "\n",
    "# Create y containing all values from column 'sales'\n",
    "y = sales_df['sales'].values  \n",
    "\n",
    "# Split the data into training and testing sets (70% train, 30% test)\n",
    "X_train, X_test, y_train, y_test = train_test_split(X, y, test_size=0.3, random_state=42)\n",
    "\n",
    "# Instantiate a linear regression model\n",
    "model = LinearRegression()\n",
    "\n",
    "# Fit the model to the training data\n",
    "model.fit(X_train, y_train)\n",
    "\n",
    "# Create y pred, Making predictions for sales using the test features\n",
    "y_pred = model.predict(X_test)\n",
    "print(y_pred)"
   ]
  },
  {
   "cell_type": "markdown",
   "metadata": {},
   "source": [
    "## 5. Regression performance\n",
    "Now you have fit a model, reg, using all features from sales_df, and made predictions of sales values, you can evaluate performance using some common regression metrics.\n",
    "* Import mean_squared_error\n",
    "* Calculate the model's R-squared score by passing the test feature values and the test target values to an appropriate method.\n",
    "* Calculate the model's root mean squared error using y_test and y_pred.\n",
    "* Print r_squared and rmse"
   ]
  },
  {
   "cell_type": "code",
   "execution_count": 30,
   "metadata": {},
   "outputs": [],
   "source": [
    "#Import mean_squared_error\n",
    "from sklearn.metrics import mean_squared_error\n",
    "from math import sqrt"
   ]
  },
  {
   "cell_type": "code",
   "execution_count": 31,
   "metadata": {},
   "outputs": [],
   "source": [
    "# Calculate R-squared score by passing the test feature values and the test target values to an appropriate method.\n",
    "r_squared = model.score(X_test, y_test)"
   ]
  },
  {
   "cell_type": "code",
   "execution_count": 32,
   "metadata": {},
   "outputs": [],
   "source": [
    "# Calculate the model's root mean squared error using y_test and y_pred.\n",
    "rmse = sqrt(mean_squared_error(y_test, y_pred))"
   ]
  },
  {
   "cell_type": "code",
   "execution_count": 33,
   "metadata": {},
   "outputs": [
    {
     "name": "stdout",
     "output_type": "stream",
     "text": [
      "R-squared: 0.9990152104759368\n",
      "Root Mean Squared Error (RMSE): 2944.4331996000956\n"
     ]
    }
   ],
   "source": [
    "# Print R-squared and RMSE\n",
    "print(\"R-squared:\", r_squared)\n",
    "print(\"Root Mean Squared Error (RMSE):\", rmse)"
   ]
  },
  {
   "cell_type": "markdown",
   "metadata": {},
   "source": [
    "## 6.Cross-Validation for R-squared\n",
    "Cross-Validation is a vital approach to evaluating a model.It maximizes the amount od data that is available to the model, as the model is not only trained but also tested on all of the availabel data.\n",
    "* import KFold and cross_val_score\n",
    "* Create kf by calling KFold(), setting the number of splits to six, shuffle to True, and setting a seed of 5\n",
    "* Perform cross-validation using reg on x and y, passing kf to cv\n",
    "* Print the cv_scores"
   ]
  },
  {
   "cell_type": "code",
   "execution_count": 35,
   "metadata": {},
   "outputs": [],
   "source": [
    "# Import KFold and cross_val_score\n",
    "from sklearn.model_selection import KFold, cross_val_score"
   ]
  },
  {
   "cell_type": "code",
   "execution_count": 36,
   "metadata": {},
   "outputs": [],
   "source": [
    "# Create kf by calling KFold(), setting the number of splits to six, shuffle to True, and setting a seed of 5\n",
    "kf = KFold(n_splits=6, shuffle=True, random_state=5)"
   ]
  },
  {
   "cell_type": "code",
   "execution_count": 40,
   "metadata": {},
   "outputs": [],
   "source": [
    "# Perform cross-validation using reg on X and y, passing kf to cv\n",
    "reg = LinearRegression()\n",
    "cv_scores = cross_val_score(reg, X, y, cv=kf)"
   ]
  },
  {
   "cell_type": "code",
   "execution_count": 41,
   "metadata": {},
   "outputs": [
    {
     "name": "stdout",
     "output_type": "stream",
     "text": [
      "Cross-validation scores: [0.99894062 0.99909245 0.9990103  0.99896344 0.99889153 0.99903953]\n"
     ]
    }
   ],
   "source": [
    "# Print the cv_scores\n",
    "print(\"Cross-validation scores:\", cv_scores)"
   ]
  },
  {
   "cell_type": "markdown",
   "metadata": {},
   "source": [
    "## 7. Analyzing cross-validation metrics \n",
    "Now you have performed cross-validation, it's time to analyze the results.\n",
    "You will display the mean, standard deviation , and 95% confidence interval for cv_results, which has been preloaded for you from the previous exercise.\n",
    "* Calculate and print the mean of the results\n",
    "* Calculate and print the standard deviation of cv_results\n",
    "* Display the 95% confidence interval for your results using np.quantile()."
   ]
  },
  {
   "cell_type": "code",
   "execution_count": 44,
   "metadata": {},
   "outputs": [
    {
     "name": "stdout",
     "output_type": "stream",
     "text": [
      "Kết quả trung bình cross-validation scores: 0.9989896443678249\n"
     ]
    }
   ],
   "source": [
    "# Calculate and print the mean of the results\n",
    "mean_cv_score = np.mean(cv_scores)\n",
    "print(\"Mean of the cv_scores:\", mean_cv_score)"
   ]
  },
  {
   "cell_type": "code",
   "execution_count": 52,
   "metadata": {},
   "outputs": [
    {
     "name": "stdout",
     "output_type": "stream",
     "text": [
      "Standard deviation of cv_scores:  6.608118371529651e-05\n"
     ]
    }
   ],
   "source": [
    "# Calculate and print the standard deviation of cv_results\n",
    "std_cv_score = np.std(cv_scores)\n",
    "print(\"Standard deviation of cv_scores: \", std_cv_score)"
   ]
  },
  {
   "cell_type": "code",
   "execution_count": 46,
   "metadata": {},
   "outputs": [
    {
     "name": "stdout",
     "output_type": "stream",
     "text": [
      "95% Confidence interval: [0.99889767 0.99908583]\n"
     ]
    }
   ],
   "source": [
    "# Display the 95% confidence interval for your results using np.quantile().\n",
    "confidence_interval = np.quantile(cv_scores, [0.025, 0.975])\n",
    "print(\"95% Confidence interval:\", confidence_interval)"
   ]
  },
  {
   "cell_type": "markdown",
   "metadata": {},
   "source": [
    "## 8. Regularized regression: Ridge\n",
    "Ridge regression performs regulazition by computing the squared values of the model parameters multiplied by alpla and adding them to the loss function\n",
    "In this exercise, you will fit ridge regression models over a range of different alpla values, and print there R^2 scores. You will use all of the features in the sales_df dataset to predict \"sales\". The data has been split into x_train, X_test, y_train, y_test for you\n",
    "alplas = [0.1, 1.0, 10.0, 100.0, 1000.0, 10000.0]\n",
    "* Import Ridge\n",
    "* Instantiate Ridge, setting alpla equal to alpla\n",
    "* Fit the model to training data.\n",
    "* Calculate the R^2 score for each iteration of ridge"
   ]
  },
  {
   "cell_type": "code",
   "execution_count": 49,
   "metadata": {},
   "outputs": [],
   "source": [
    "# Import Ridge\n",
    "from sklearn.linear_model import Ridge\n",
    "from sklearn.metrics import r2_score"
   ]
  },
  {
   "cell_type": "code",
   "execution_count": 51,
   "metadata": {},
   "outputs": [
    {
     "name": "stdout",
     "output_type": "stream",
     "text": [
      "Alpha: 0.1, R^2 Score: 0.9990152104759369\n",
      "Alpha: 1.0, R^2 Score: 0.9990152104759373\n",
      "Alpha: 10.0, R^2 Score: 0.9990152104759419\n",
      "Alpha: 100.0, R^2 Score: 0.9990152104759871\n",
      "Alpha: 1000.0, R^2 Score: 0.9990152104764387\n",
      "Alpha: 10000.0, R^2 Score: 0.9990152104809561\n"
     ]
    }
   ],
   "source": [
    "# Define a list of alpha values\n",
    "alphas = [0.1, 1.0, 10.0, 100.0, 1000.0, 10000.0]\n",
    "\n",
    "# Iterate over each alpha value\n",
    "for alpha in alphas:\n",
    "    # Instantiate Ridge, setting alpla equal to alpla\n",
    "    ridge_model = Ridge(alpha=alpha)\n",
    "    \n",
    "    # Fit the model to training data\n",
    "    ridge_model.fit(X_train, y_train)\n",
    "\n",
    "    y_pred = ridge_model.predict(X_test) # Make predictions on the test set\n",
    "    \n",
    "    # Calculate the R^2 score\n",
    "    r2 = r2_score(y_test, y_pred)\n",
    "    \n",
    "    # Print the alpha value and corresponding R^2 score\n",
    "    print(f\"Alpha: {alpha}, R^2 Score: {r2}\")"
   ]
  },
  {
   "cell_type": "markdown",
   "metadata": {},
   "source": [
    "## 9. Lasso regression for feature importance\n",
    "In the video, you saw how lasso regression can be used to identify important features in a dataset.\n",
    "In this exercise, you will fit a lasso regression model to the sales_df data and plot the model's coefficient\n",
    "* Import lasso from sklearn.linear_model\n",
    "* Instantiate a lasso regressor with an alpha of 0.3\n",
    "* Fit the model to the data\n",
    "* Compute the model's coefficients, storing as lasso_coef"
   ]
  },
  {
   "cell_type": "code",
   "execution_count": 63,
   "metadata": {},
   "outputs": [
    {
     "name": "stdout",
     "output_type": "stream",
     "text": [
      "[ 3.56256962 -0.00397035  0.00496385]\n"
     ]
    }
   ],
   "source": [
    "#Import lasso from sklearn.linear_model\n",
    "from sklearn.linear_model import Lasso\n",
    "\n",
    "# Instantiate a Lasso regressor with an alpha of 0.3\n",
    "lasso = Lasso(alpha=0.3)\n",
    "\n",
    "# Fit the model to the data\n",
    "lasso.fit(X, y)\n",
    "\n",
    "# Compute the model's coefficients\n",
    "lasso_coef = lasso.coef_\n",
    "print(lasso_coef)"
   ]
  },
  {
   "cell_type": "code",
   "execution_count": 62,
   "metadata": {},
   "outputs": [
    {
     "data": {
      "image/png": "[encoded data removed]",
      "text/plain": [
       "<Figure size 1008x720 with 1 Axes>"
      ]
     },
     "metadata": {
      "needs_background": "light"
     },
     "output_type": "display_data"
    }
   ],
   "source": [
    "# Plot the coefficients as a bar chart\n",
    "import matplotlib.pyplot as plt\n",
    "\n",
    "plt.figure(figsize=(14, 10))\n",
    "plt.bar(X.columns, lasso_coef)\n",
    "plt.xlabel('Features')\n",
    "plt.ylabel('Coefficient Value')\n",
    "plt.title('Lasso Regression Coefficients')\n",
    "plt.grid(True)\n",
    "plt.show()"
   ]
  },
  {
   "cell_type": "code",
   "execution_count": null,
   "metadata": {},
   "outputs": [],
   "source": []
  }
 ],
 "metadata": {
  "kernelspec": {
   "display_name": "Python 3",
   "language": "python",
   "name": "python3"
  },
  "language_info": {
   "codemirror_mode": {
    "name": "ipython",
    "version": 3
   },
   "file_extension": ".py",
   "mimetype": "text/x-python",
   "name": "python",
   "nbconvert_exporter": "python",
   "pygments_lexer": "ipython3",
   "version": "3.8.5"
  }
 },
 "nbformat": 4,
 "nbformat_minor": 4
}
