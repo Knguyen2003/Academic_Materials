{
 "cells": [
  {
   "cell_type": "markdown",
   "metadata": {},
   "source": [
    "#### Họ và tên : Phan Nguyễn Khôi Nguyên\n",
    "#### MSSSV     : 21068021"
   ]
  },
  {
   "cell_type": "code",
   "execution_count": 4,
   "metadata": {},
   "outputs": [],
   "source": [
    "#Import thư viện\n",
    "import numpy as np\n",
    "import matplotlib.pyplot as plt\n",
    "import pandas as pd"
   ]
  },
  {
   "cell_type": "markdown",
   "metadata": {},
   "source": [
    "## Đọc dữ liệu "
   ]
  },
  {
   "cell_type": "code",
   "execution_count": 5,
   "metadata": {},
   "outputs": [
    {
     "data": {
      "text/html": [
       "<div>\n",
       "<style scoped>\n",
       "    .dataframe tbody tr th:only-of-type {\n",
       "        vertical-align: middle;\n",
       "    }\n",
       "\n",
       "    .dataframe tbody tr th {\n",
       "        vertical-align: top;\n",
       "    }\n",
       "\n",
       "    .dataframe thead th {\n",
       "        text-align: right;\n",
       "    }\n",
       "</style>\n",
       "<table border=\"1\" class=\"dataframe\">\n",
       "  <thead>\n",
       "    <tr style=\"text-align: right;\">\n",
       "      <th></th>\n",
       "      <th>sepal_length</th>\n",
       "      <th>sepal_width</th>\n",
       "      <th>petal_length</th>\n",
       "      <th>petal_width</th>\n",
       "      <th>species</th>\n",
       "    </tr>\n",
       "  </thead>\n",
       "  <tbody>\n",
       "    <tr>\n",
       "      <th>0</th>\n",
       "      <td>5.1</td>\n",
       "      <td>3.5</td>\n",
       "      <td>1.4</td>\n",
       "      <td>0.2</td>\n",
       "      <td>Iris-setosa</td>\n",
       "    </tr>\n",
       "    <tr>\n",
       "      <th>1</th>\n",
       "      <td>4.9</td>\n",
       "      <td>3.0</td>\n",
       "      <td>1.4</td>\n",
       "      <td>0.2</td>\n",
       "      <td>Iris-setosa</td>\n",
       "    </tr>\n",
       "    <tr>\n",
       "      <th>2</th>\n",
       "      <td>4.7</td>\n",
       "      <td>3.2</td>\n",
       "      <td>1.3</td>\n",
       "      <td>0.2</td>\n",
       "      <td>Iris-setosa</td>\n",
       "    </tr>\n",
       "    <tr>\n",
       "      <th>3</th>\n",
       "      <td>4.6</td>\n",
       "      <td>3.1</td>\n",
       "      <td>1.5</td>\n",
       "      <td>0.2</td>\n",
       "      <td>Iris-setosa</td>\n",
       "    </tr>\n",
       "    <tr>\n",
       "      <th>4</th>\n",
       "      <td>5.0</td>\n",
       "      <td>3.6</td>\n",
       "      <td>1.4</td>\n",
       "      <td>0.2</td>\n",
       "      <td>Iris-setosa</td>\n",
       "    </tr>\n",
       "  </tbody>\n",
       "</table>\n",
       "</div>"
      ],
      "text/plain": [
       "   sepal_length  sepal_width  petal_length  petal_width      species\n",
       "0           5.1          3.5           1.4          0.2  Iris-setosa\n",
       "1           4.9          3.0           1.4          0.2  Iris-setosa\n",
       "2           4.7          3.2           1.3          0.2  Iris-setosa\n",
       "3           4.6          3.1           1.5          0.2  Iris-setosa\n",
       "4           5.0          3.6           1.4          0.2  Iris-setosa"
      ]
     },
     "execution_count": 5,
     "metadata": {},
     "output_type": "execute_result"
    }
   ],
   "source": [
    "data = pd.read_csv(r\"T:\\21068021_PhanNguyenKhoiNguyen_04-13-2024\\data\\IRIS.csv\")\n",
    "data.head()"
   ]
  },
  {
   "cell_type": "code",
   "execution_count": 9,
   "metadata": {},
   "outputs": [
    {
     "data": {
      "image/png": "[encoded data removed]",
      "text/plain": [
       "<Figure size 576x432 with 1 Axes>"
      ]
     },
     "metadata": {
      "needs_background": "light"
     },
     "output_type": "display_data"
    }
   ],
   "source": [
    "from sklearn.cluster import KMeans\n",
    "import matplotlib.pyplot as plt\n",
    "\n",
    "# Tìm inertia cho các giá trị K khác nhau\n",
    "inertia_values = []\n",
    "k_values = range(1, 11)\n",
    "for k in k_values:\n",
    "    kmeans = KMeans(n_clusters=k, random_state=42)\n",
    "    kmeans.fit(data[['sepal_length', 'sepal_width', 'petal_length', 'petal_width']])\n",
    "    inertia_values.append(kmeans.inertia_)\n",
    "\n",
    "# Vẽ đồ thị Inertia vs. Number of Clusters\n",
    "plt.figure(figsize=(8, 6))\n",
    "plt.plot(k_values, inertia_values)\n",
    "plt.title('Inertia vs. Number of Clusters')\n",
    "plt.xlabel('Number of Clusters (K)')\n",
    "plt.ylabel('Inertia')\n",
    "plt.xticks(k_values)\n",
    "plt.grid(True)\n",
    "plt.show()"
   ]
  },
  {
   "cell_type": "code",
   "execution_count": 10,
   "metadata": {},
   "outputs": [],
   "source": [
    "# Chọn k bằng 3"
   ]
  },
  {
   "cell_type": "code",
   "execution_count": 13,
   "metadata": {},
   "outputs": [
    {
     "name": "stdout",
     "output_type": "stream",
     "text": [
      "K-means Labels  0  1  2\n",
      "Actual Labels          \n",
      "0               3  0  0\n",
      "1               0  3  0\n",
      "2               0  0  2\n"
     ]
    }
   ],
   "source": [
    "# Suppose you have labels for your data (actual_labels) and K-means cluster labels (kmeans_labels) \n",
    "actual_labels = [0, 1, 1, 0, 2, 2, 0, 1]\n",
    "kmeans_labels = [0, 1, 1, 0, 2, 2, 0, 1]\n",
    "# Create a DataFrame to use crosstab\n",
    "df = pd.DataFrame({'Actual Labels': actual_labels, 'K-means Labels': kmeans_labels})\n",
    "# Calculate cross-tabulation\n",
    "ct = pd.crosstab(df ['Actual Labels'], df['K-means Labels'])\n",
    "print(ct)"
   ]
  },
  {
   "cell_type": "code",
   "execution_count": 12,
   "metadata": {},
   "outputs": [
    {
     "name": "stdout",
     "output_type": "stream",
     "text": [
      "K-means Labels    0   1   2\n",
      "Actual Labels              \n",
      "Iris-setosa       0  50   0\n",
      "Iris-versicolor   2   0  48\n",
      "Iris-virginica   36   0  14\n"
     ]
    }
   ],
   "source": [
    "from sklearn.cluster import KMeans\n",
    "\n",
    "kmeans = KMeans(n_clusters=3)\n",
    "kmeans.fit(data.drop('species', axis=1))  # Loại bỏ cột 'Species' khi fit\n",
    "\n",
    "# Dự đoán nhãn của các clusters cho dữ liệu IRIS\n",
    "kmeans_labels = kmeans.predict(data.drop('species', axis=1))  \n",
    "\n",
    "# Tạo DataFrame từ nhãn thực tế và nhãn của K-means clusters\n",
    "df_IRIS = pd.DataFrame({'Actual Labels': data['species'], 'K-means Labels': kmeans_labels})\n",
    "\n",
    "# Tính toán bảng chéo\n",
    "ct_IRIS = pd.crosstab(df_IRIS['Actual Labels'], df_IRIS['K-means Labels'])\n",
    "print(ct_IRIS)"
   ]
  },
  {
   "cell_type": "code",
   "execution_count": 16,
   "metadata": {},
   "outputs": [
    {
     "name": "stdout",
     "output_type": "stream",
     "text": [
      "K-means Labels    0   1   2\n",
      "Actual Labels              \n",
      "Iris-setosa       0  50   0\n",
      "Iris-versicolor  11   0  39\n",
      "Iris-virginica   34   0  16\n"
     ]
    }
   ],
   "source": [
    "from sklearn.preprocessing import StandardScaler\n",
    "# Chuẩn hóa dữ liệu sử dụng Z-score\n",
    "scaler = StandardScaler()\n",
    "X = scaler.fit_transform(data.drop('species', axis=1))\n",
    "y = data['species']\n",
    "\n",
    "# Áp dụng K-Means\n",
    "kmeans = KMeans(n_clusters=3)\n",
    "kmeans.fit(X)\n",
    "kmeans_labels = kmeans.predict(X)\n",
    "\n",
    "# Tạo DataFrame từ nhãn thực tế và nhãn của K-means clusters\n",
    "df_IRIS = pd.DataFrame({'Actual Labels': y, 'K-means Labels': kmeans_labels})\n",
    "\n",
    "# Tính toán bảng chéo\n",
    "ct_IRIS = pd.crosstab(df_IRIS['Actual Labels'], df_IRIS['K-means Labels'])\n",
    "print(ct_IRIS)"
   ]
  },
  {
   "cell_type": "markdown",
   "metadata": {},
   "source": [
    "Hầu hết các mẫu Iris-versicolor (48/50) được gán đúng vào cụm 2, chỉ có 2 mẫu vào cụm 0 nhưng sau khi chuẩn hóa Các mẫu Iris-versicolor bị chia làm 2 cụm (11 mẫu vào cụm 0, 39 mẫu vào cụm 2).\n",
    "\n",
    "Lúc đầu Các mẫu Iris-virginica vẫn bị chia làm 2 cụm (36 mẫu vào cụm 0, 14 mẫu vào cụm 2)nhưng sau khi chuẩn hóa Các mẫu Iris-virginica bị chia làm 2 cụm (34 mẫu vào cụm 0, 16 mẫu vào cụm 2)."
   ]
  }
 ],
 "metadata": {
  "kernelspec": {
   "display_name": "Python 3",
   "language": "python",
   "name": "python3"
  },
  "language_info": {
   "codemirror_mode": {
    "name": "ipython",
    "version": 3
   },
   "file_extension": ".py",
   "mimetype": "text/x-python",
   "name": "python",
   "nbconvert_exporter": "python",
   "pygments_lexer": "ipython3",
   "version": "3.8.5"
  }
 },
 "nbformat": 4,
 "nbformat_minor": 4
}
